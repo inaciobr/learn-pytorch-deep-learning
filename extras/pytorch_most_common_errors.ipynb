{
  "cells": [
    {
      "cell_type": "markdown",
      "metadata": {
        "colab_type": "text",
        "id": "view-in-github"
      },
      "source": [
        "<a href=\"https://colab.research.google.com/github/mrdbourke/pytorch-deep-learning/blob/main/extras/pytorch_most_common_errors.ipynb\" target=\"_parent\"><img src=\"https://colab.research.google.com/assets/colab-badge.svg\" alt=\"Open In Colab\"/></a>"
      ]
    },
    {
      "cell_type": "markdown",
      "metadata": {
        "id": "N9JVmn2OdBVE"
      },
      "source": [
        "# The Three Most Common Errors in PyTorch\n",
        "\n",
        "PyTorch is one of the largest machine learning libraries available.\n",
        "\n",
        "So it's likely you'll run into various errors when using it.\n",
        "\n",
        "Because of the various maintenance and checks performed by the creators, it's rare the error will be because of the library itself.\n",
        "\n",
        "This means the majority of the errors you run into will be user errors.\n",
        "\n",
        "More specifically, you wrote the wrong code.\n",
        "\n",
        "Don't be offended, this happens to every programmer.\n",
        "\n",
        "Of the user errors you run into, chances are they'll be one of the following:\n",
        "\n",
        "1. **Shape errors** - You're trying to perform an operation on matrices/tensors with shapes that don't line up. For example, your data's shape is `[1, 28, 28]` but your first layer takes an input of `[10]`.\n",
        "2. **Device errors** - Your model is on a different device to your data. For example your model is on the GPU (e.g. `\"cuda\"`) and your data is on the CPU (e.g. `\"cpu\"`).\n",
        "3. **Datatype errors** - Your data is one datatype (e.g. `torch.float32`), however the operation you're trying to perform requires another datatype (e.g. `torch.int64`).\n",
        "\n",
        "<img src=\"https://github.com/mrdbourke/pytorch-deep-learning/raw/main/images/misc-three-main-errors-in-pytorch.png\" width=750 alt=\"the three most common errors in PyTorch\"/>\n",
        "\n",
        "Notice the recurring theme here.\n",
        "\n",
        "There's some kind of mismatch between your shape(s), device(s) and/or datatype(s).\n",
        "\n",
        "This notebook/blog post goes through examples of each of the above errors and how to fix them.\n",
        "\n",
        "It won't prevent you from making them in the future but it will make you aware enough to perhaps reduce them and even more important, know how to solve them.\n",
        "\n",
        "> **Note:** All of the following examples have been adapted from [learnpytorch.io](https://learnpytorch.io) which is the book version of the [Zero to Mastery: PyTorch for Deep Learning](https://dbourke.link/ZTMPyTorch) video course.\n"
      ]
    },
    {
      "cell_type": "markdown",
      "metadata": {
        "id": "kW6r2yvZoehh"
      },
      "source": [
        "## 1. Shape errors in PyTorch"
      ]
    },
    {
      "cell_type": "markdown",
      "metadata": {
        "id": "iwBSdV_Ogtc0"
      },
      "source": [
        "### 1.1 Matrix multiplication shape errors\n",
        "\n",
        "PyTorch is one of the best frameworks to build neural network models with.\n",
        "\n",
        "And one of the fundamental operations of a neural network is matrix multiplication.\n",
        "\n",
        "However, matrix multiplication comes with very specific rules.\n",
        "\n",
        "If these rules aren't adhered to, you'll get an infamous shape error.\n",
        "\n",
        "```\n",
        "# Example of shape error\n",
        "RuntimeError: mat1 and mat2 shapes cannot be multiplied (3x4 and 3x4)\n",
        "```\n",
        "\n",
        "Let's start with a brief example. \n",
        "\n",
        "> **Note:** Although it's called \"matrix multiplication\" almost every form of data in PyTorch comes in the form of a tensor. Where a tensor is an n-dimensional array (n can be any number). So while I use the terminology \"matrix multiplication\", this extends to \"tensor multiplication\" as well. See [00. PyTorch Fundamentals: Introduction to Tensors](https://www.learnpytorch.io/00_pytorch_fundamentals/#introduction-to-tensors) for more on the difference between matrices and tensors."
      ]
    },
    {
      "cell_type": "code",
      "execution_count": 1,
      "metadata": {
        "colab": {
          "base_uri": "https://localhost:8080/"
        },
        "id": "Q2C89CTnc6dw",
        "outputId": "480043ff-53e3-4ad1-fedf-04d11c8eff2e"
      },
      "outputs": [
        {
          "name": "stdout",
          "output_type": "stream",
          "text": [
            "PyTorch version: 1.12.1+cu113\n"
          ]
        }
      ],
      "source": [
        "import torch\n",
        "print(f\"PyTorch version: {torch.__version__}\")"
      ]
    },
    {
      "cell_type": "code",
      "execution_count": 2,
      "metadata": {
        "colab": {
          "base_uri": "https://localhost:8080/"
        },
        "id": "ni92868gdA7i",
        "outputId": "195ac5ac-4f8e-4c20-aae9-d57e5016649c"
      },
      "outputs": [
        {
          "name": "stdout",
          "output_type": "stream",
          "text": [
            "torch.Size([3, 4])\n",
            "torch.Size([3, 4])\n"
          ]
        }
      ],
      "source": [
        "# Create two tensors\n",
        "tensor_1 = torch.rand(3, 4)\n",
        "tensor_2 = torch.rand(3, 4)\n",
        "\n",
        "# Check the shapes\n",
        "print(tensor_1.shape)\n",
        "print(tensor_2.shape)"
      ]
    },
    {
      "cell_type": "markdown",
      "metadata": {
        "id": "iXYIsMy8ib6l"
      },
      "source": [
        "Notice both tensors have the same shape.\n",
        "\n",
        "Let's try to perform a matrix multiplication on them.\n",
        "\n",
        "> **Note:** The matrix multiplication operation is different to a standard multiplication operation. \n",
        ">\n",
        "> With our current tensors, the standard multiplication operation (`*` or [`torch.mul()`](https://pytorch.org/docs/stable/generated/torch.mul.html)) will work where as the matrix multiplication operation (`@` or [`torch.matmul()`](https://pytorch.org/docs/stable/generated/torch.matmul.html)) will error. \n",
        ">\n",
        "> See [00. PyTorch Fundamentals: Matrix Multiplication](https://www.learnpytorch.io/00_pytorch_fundamentals/#matrix-multiplication-is-all-you-need) for a breakdown of what happens in matrix multiplication."
      ]
    },
    {
      "cell_type": "code",
      "execution_count": 3,
      "metadata": {
        "colab": {
          "base_uri": "https://localhost:8080/"
        },
        "id": "V4C7hDEEiSbH",
        "outputId": "bb61f6ba-8606-4a92-e60f-8111eebeef9c"
      },
      "outputs": [
        {
          "data": {
            "text/plain": [
              "tensor([[True, True, True, True],\n",
              "        [True, True, True, True],\n",
              "        [True, True, True, True]])"
            ]
          },
          "execution_count": 3,
          "metadata": {},
          "output_type": "execute_result"
        }
      ],
      "source": [
        "# Standard multiplication, the following lines perform the same operation (will work)\n",
        "tensor_3 = tensor_1 * tensor_2 # can do standard multiplication with \"*\"\n",
        "tensor_4 = torch.mul(tensor_1, tensor_2) # can also do standard multiplicaton with \"torch.mul()\" \n",
        "\n",
        "# Check for equality \n",
        "tensor_3 == tensor_4"
      ]
    },
    {
      "cell_type": "markdown",
      "metadata": {
        "id": "o0g0tC9RjkEe"
      },
      "source": [
        "Wonderful! Looks like standard multiplication works with our current tensor shapes.\n",
        "\n",
        "Let's try matrix multiplication."
      ]
    },
    {
      "cell_type": "code",
      "execution_count": 4,
      "metadata": {
        "colab": {
          "base_uri": "https://localhost:8080/",
          "height": 187
        },
        "id": "3tKriPoiirbo",
        "outputId": "b577b292-2d62-438d-b64a-66e9b2263b0a"
      },
      "outputs": [
        {
          "ename": "RuntimeError",
          "evalue": "ignored",
          "output_type": "error",
          "traceback": [
            "\u001b[0;31m---------------------------------------------------------------------------\u001b[0m",
            "\u001b[0;31mRuntimeError\u001b[0m                              Traceback (most recent call last)",
            "\u001b[0;32m<ipython-input-4-e0954df27146>\u001b[0m in \u001b[0;36m<module>\u001b[0;34m\u001b[0m\n\u001b[1;32m      1\u001b[0m \u001b[0;31m# Try matrix multiplication (won't work)\u001b[0m\u001b[0;34m\u001b[0m\u001b[0;34m\u001b[0m\u001b[0;34m\u001b[0m\u001b[0m\n\u001b[0;32m----> 2\u001b[0;31m \u001b[0mtensor_5\u001b[0m \u001b[0;34m=\u001b[0m \u001b[0mtensor_1\u001b[0m \u001b[0;34m@\u001b[0m \u001b[0mtensor_2\u001b[0m \u001b[0;31m# could also do \"torch.matmul(tensor_1, tensor_2)\"\u001b[0m\u001b[0;34m\u001b[0m\u001b[0;34m\u001b[0m\u001b[0m\n\u001b[0m",
            "\u001b[0;31mRuntimeError\u001b[0m: mat1 and mat2 shapes cannot be multiplied (3x4 and 3x4)"
          ]
        }
      ],
      "source": [
        "# Try matrix multiplication (won't work)\n",
        "tensor_5 = tensor_1 @ tensor_2 # could also do \"torch.matmul(tensor_1, tensor_2)\""
      ]
    },
    {
      "cell_type": "markdown",
      "metadata": {
        "id": "9gtQ8Jg0jxVU"
      },
      "source": [
        "Oh no!\n",
        "\n",
        "We get an error similar to the following:\n",
        "\n",
        "```\n",
        "RuntimeError                              Traceback (most recent call last)\n",
        "<ipython-input-11-2ca2c90dbb42> in <module>\n",
        "      1 # Try matrix multiplication (won't work)\n",
        "----> 2 tensor_5 = tensor_1 @ tensor_2\n",
        "\n",
        "RuntimeError: mat1 and mat2 shapes cannot be multiplied (3x4 and 3x4)\n",
        "```\n",
        "\n",
        "This is a **shape error**, our two tensors (matrices) can't be *matrix* multiplied because their shapes are incompatible.\n",
        "\n",
        "Why?\n",
        "\n",
        "This is because matrix multiplication has specific rules:\n",
        "\n",
        "1. The **inner dimensions** must match:\n",
        "* `(3, 4) @ (3, 4)` won't work \n",
        "* `(4, 3) @ (3, 4)` will work\n",
        "* `(3, 4) @ (4, 3)` will work\n",
        "2. The resulting matrix has the shape of the **outer dimensions**:\n",
        "* `(4, 3) @ (3, 4)` -> `(4, 4)`\n",
        "* `(3, 4) @ (4, 3)` -> `(3, 3)`\n",
        "\n",
        "So how do we fix it?\n",
        "\n",
        "This where either a *tranpose* or a *reshape* comes in.\n",
        "\n",
        "And in the case of neural networks, it's more generally a tranpose operation. \n",
        "\n",
        "* **Transpose** - The tranpose ([`torch.transpose()`](https://pytorch.org/docs/stable/generated/torch.transpose.html)) operation swaps the dimensions of a given tensor.\n",
        "  * **Note:** You can also use the shortcut of `tensor.T` to perform a transpose.\n",
        "* **Reshape** - The reshape ([`torch.reshape()`](https://pytorch.org/docs/stable/generated/torch.reshape.html)) operation returns a tensor with the same number of original elements but in a different specified shape.\n",
        "\n",
        "Let's see this in action."
      ]
    },
    {
      "cell_type": "code",
      "execution_count": 5,
      "metadata": {
        "colab": {
          "base_uri": "https://localhost:8080/"
        },
        "id": "MQUBgEfVjujN",
        "outputId": "641de898-b140-4614-bc4c-650705d86569"
      },
      "outputs": [
        {
          "name": "stdout",
          "output_type": "stream",
          "text": [
            "Shape of input tensors: torch.Size([4, 3]) and torch.Size([3, 4])\n",
            "Shape of output tensor: torch.Size([4, 4])\n"
          ]
        }
      ],
      "source": [
        "# Perform a transpose on tensor_1 and then perform matrix multiplication \n",
        "tensor_6 = tensor_1.T @ tensor_2\n",
        "print(f\"Shape of input tensors: {tensor_1.T.shape} and {tensor_2.shape}\")\n",
        "print(f\"Shape of output tensor: {tensor_6.shape}\")"
      ]
    },
    {
      "cell_type": "markdown",
      "metadata": {
        "id": "yoii10rHl-v8"
      },
      "source": [
        "No errors!\n",
        "\n",
        "See how the input shape of `tensor_1` changed from `(3, 4)` to `(4, 3)` thanks to the tranpose (`tensor_1.T`).\n",
        "\n",
        "And because of this, rule 1 of matrix multiplication, **the inner dimensions must match** was satisfied.\n",
        "\n",
        "Finally, the output shape satisfied rule 2 of matrix multiplication, **the resulting matrix has the shape of the outer dimensions**.\n",
        "\n",
        "In our case, `tensor_6` has a shape of `(4, 4)`.\n",
        "\n",
        "Let's do the same operation except now we'll transpose `tensor_2` instead of `tensor_1`."
      ]
    },
    {
      "cell_type": "code",
      "execution_count": 6,
      "metadata": {
        "colab": {
          "base_uri": "https://localhost:8080/"
        },
        "id": "N_AI_sAmm2tr",
        "outputId": "1abce635-72ef-45b0-d4c5-5ebcbaa07d85"
      },
      "outputs": [
        {
          "name": "stdout",
          "output_type": "stream",
          "text": [
            "Shape of input tensors: torch.Size([3, 4]) and torch.Size([4, 3])\n",
            "Shape of output tensor: torch.Size([3, 3])\n"
          ]
        }
      ],
      "source": [
        "# Perform a transpose on tensor_2 and then perform matrix multiplication\n",
        "tensor_7 = tensor_1 @ tensor_2.T\n",
        "print(f\"Shape of input tensors: {tensor_1.shape} and {tensor_2.T.shape}\")\n",
        "print(f\"Shape of output tensor: {tensor_7.shape}\")"
      ]
    },
    {
      "cell_type": "markdown",
      "metadata": {
        "id": "a2A0GwuvnP_d"
      },
      "source": [
        "Woohoo!\n",
        "\n",
        "No errors again!\n",
        "\n",
        "See how rule 1 and rule 2 of matrix multiplication were satisfied again.\n",
        "\n",
        "Except this time because we transposed `tensor_2`, the resulting output tensor shape is `(3, 3)`.\n",
        "\n",
        "The good news is most of the time, when you build neural networks with PyTorch, the library takes care of most of the matrix multiplication operations you'll need to perform for you.\n",
        "\n",
        "With that being said, let's build a neural network with PyTorch and see where shape errors might occur."
      ]
    },
    {
      "cell_type": "markdown",
      "metadata": {
        "id": "wGFlngAnndy0"
      },
      "source": [
        "### 1.2 PyTorch neural network shape errors\n",
        "\n",
        "We've seen how shape errors can occur when working with matrix multiplication (or matrix multiplying tensors).\n",
        "\n",
        "Now let's build a neural network with PyTorch and see where shape errors can occur.\n",
        "\n",
        "A shape error will occur in neural network in any of the following situations:\n",
        "* **Incorrect input shape** - your data is in a certain shape but the model's first layer expects a different shape.\n",
        "* **Incorrect input and output shapes between layers** - one of the layers of your model outputs a certain shape but the following layer expects a different shape as input.\n",
        "* **No batch size dimension in input data when trying to make a prediction** - your model was trained on samples with a batch dimension, so when you try to predict on a single sample *without* a batch dimension, an error occurs.\n",
        "\n",
        "To showcase these shape errors, let's build a simple neural network (the errors are the same regardless of the size of your network) to try and find patterns in the Fashion MNIST dataset (black and white images of 10 different classes of clothing).\n",
        "\n",
        "> **Note:** The following examples focus specifically on shape errors rather than building the *best* neural network. You can see a fully working example of this problem in [03. PyTorch Computer Vision](https://www.learnpytorch.io/03_pytorch_computer_vision/).\n",
        "\n"
      ]
    },
    {
      "cell_type": "markdown",
      "metadata": {
        "id": "rMcILCmiUak-"
      },
      "source": [
        "### 1.3 Downloading a dataset\n",
        "\n",
        "To begin, we'll get the Fashion MNIST dataset from [`torchvision.datasets`](https://pytorch.org/vision/stable/generated/torchvision.datasets.FashionMNIST.html). "
      ]
    },
    {
      "cell_type": "code",
      "execution_count": 7,
      "metadata": {
        "colab": {
          "base_uri": "https://localhost:8080/",
          "height": 430,
          "referenced_widgets": [
            "60c94110b1bc4e59a17fdd027d1ba06c",
            "87ebdf387838492e91b42d76720a8df5",
            "919a2b5f7f974e50ae772d2e295f46cb",
            "fd254aa426c9426f9470d09fde85a282",
            "1420eafbf7574d3aa2c8472eafbd7e21",
            "432b55d05228482ebc158c7fc0459166",
            "18192886cedc421bbccc1b8b70395bf6",
            "f10b0a091e0a447dab6525309919e8fc",
            "644a6f0d8412424d87699339315bf924",
            "f8f9db2e82c3431c8dc0e3a79b29217d",
            "a78ca553926445baaff2ca7ce9886273",
            "4fd13462581647b98be8beb31fb512ef",
            "bfcd95635b11405f9d1f16caab14d0e4",
            "5a71a255b8ee40d99e13e35cda60c844",
            "dcadbb355b8a41e7bf210080d802bdbf",
            "a247808dfee0486ebc5d374cefc510f0",
            "0222dafa371d4fbb9ee9d8dcf8f1ecb1",
            "cb6e908b7c764c179cdd32549ff227a4",
            "9de3074bd50d4cc7aa6f6b20a545fed8",
            "580d81f9acc2449880fe0308244ef273",
            "dcc66802a2074d0b9d135af23d741e55",
            "0198bf8ffe534a42b01ce7db45438fcd",
            "c9c00cd4467146cda1b57624e8b1a56f",
            "08ed2deb356b40cabd2ac5cf43e1a552",
            "5f2140c9249d439a93bb1928c7625896",
            "d9504f6680114c999bd272710e9dc7fb",
            "ac0bea5df0aa45d79b8bf0710258351f",
            "d54a7643c56f4800882442b44822cca3",
            "3fe702479be54d13af8bc5ae66787195",
            "c883e5d40858482fb09f50027e7327a2",
            "aee3c2fd60aa4ad29b1ab43c86a4a904",
            "6074ad5c289543d193e84326795be00c",
            "13a81d7269ae4df9934f7a7fb7b58b8d",
            "a2f9e4e05250424283780118516686b7",
            "401edf76bb8145c395e1298b9a1d141b",
            "669d19109be347d7a6803bab189fb9fb",
            "4b46a847595640119f90864736f54d57",
            "64dd57d4bb604a21833b80a13bef8146",
            "a77f2d50eaac4a33ae8e9d9606f03a73",
            "a4bd16362c2f4f6f9310cb52c78a8b8d",
            "b20dd6e28ab3469ea7ea44c57374cfb6",
            "70a813ce44684cc991279ef68b8cccb0",
            "e6df685cb194409a8bc60ce4715a8c63",
            "b4d5224c6cf54a0483cc3d5c8103f849"
          ]
        },
        "id": "EZqvTmtKoXf9",
        "outputId": "14ed5550-f81b-42e1-e912-e97999997c1d"
      },
      "outputs": [
        {
          "name": "stdout",
          "output_type": "stream",
          "text": [
            "Downloading http://fashion-mnist.s3-website.eu-central-1.amazonaws.com/train-images-idx3-ubyte.gz\n",
            "Downloading http://fashion-mnist.s3-website.eu-central-1.amazonaws.com/train-images-idx3-ubyte.gz to data/FashionMNIST/raw/train-images-idx3-ubyte.gz\n"
          ]
        },
        {
          "data": {
            "application/vnd.jupyter.widget-view+json": {
              "model_id": "60c94110b1bc4e59a17fdd027d1ba06c",
              "version_major": 2,
              "version_minor": 0
            },
            "text/plain": [
              "  0%|          | 0/26421880 [00:00<?, ?it/s]"
            ]
          },
          "metadata": {},
          "output_type": "display_data"
        },
        {
          "name": "stdout",
          "output_type": "stream",
          "text": [
            "Extracting data/FashionMNIST/raw/train-images-idx3-ubyte.gz to data/FashionMNIST/raw\n",
            "\n",
            "Downloading http://fashion-mnist.s3-website.eu-central-1.amazonaws.com/train-labels-idx1-ubyte.gz\n",
            "Downloading http://fashion-mnist.s3-website.eu-central-1.amazonaws.com/train-labels-idx1-ubyte.gz to data/FashionMNIST/raw/train-labels-idx1-ubyte.gz\n"
          ]
        },
        {
          "data": {
            "application/vnd.jupyter.widget-view+json": {
              "model_id": "4fd13462581647b98be8beb31fb512ef",
              "version_major": 2,
              "version_minor": 0
            },
            "text/plain": [
              "  0%|          | 0/29515 [00:00<?, ?it/s]"
            ]
          },
          "metadata": {},
          "output_type": "display_data"
        },
        {
          "name": "stdout",
          "output_type": "stream",
          "text": [
            "Extracting data/FashionMNIST/raw/train-labels-idx1-ubyte.gz to data/FashionMNIST/raw\n",
            "\n",
            "Downloading http://fashion-mnist.s3-website.eu-central-1.amazonaws.com/t10k-images-idx3-ubyte.gz\n",
            "Downloading http://fashion-mnist.s3-website.eu-central-1.amazonaws.com/t10k-images-idx3-ubyte.gz to data/FashionMNIST/raw/t10k-images-idx3-ubyte.gz\n"
          ]
        },
        {
          "data": {
            "application/vnd.jupyter.widget-view+json": {
              "model_id": "c9c00cd4467146cda1b57624e8b1a56f",
              "version_major": 2,
              "version_minor": 0
            },
            "text/plain": [
              "  0%|          | 0/4422102 [00:00<?, ?it/s]"
            ]
          },
          "metadata": {},
          "output_type": "display_data"
        },
        {
          "name": "stdout",
          "output_type": "stream",
          "text": [
            "Extracting data/FashionMNIST/raw/t10k-images-idx3-ubyte.gz to data/FashionMNIST/raw\n",
            "\n",
            "Downloading http://fashion-mnist.s3-website.eu-central-1.amazonaws.com/t10k-labels-idx1-ubyte.gz\n",
            "Downloading http://fashion-mnist.s3-website.eu-central-1.amazonaws.com/t10k-labels-idx1-ubyte.gz to data/FashionMNIST/raw/t10k-labels-idx1-ubyte.gz\n"
          ]
        },
        {
          "data": {
            "application/vnd.jupyter.widget-view+json": {
              "model_id": "a2f9e4e05250424283780118516686b7",
              "version_major": 2,
              "version_minor": 0
            },
            "text/plain": [
              "  0%|          | 0/5148 [00:00<?, ?it/s]"
            ]
          },
          "metadata": {},
          "output_type": "display_data"
        },
        {
          "name": "stdout",
          "output_type": "stream",
          "text": [
            "Extracting data/FashionMNIST/raw/t10k-labels-idx1-ubyte.gz to data/FashionMNIST/raw\n",
            "\n"
          ]
        }
      ],
      "source": [
        "import torchvision\n",
        "from torchvision import datasets, transforms\n",
        "\n",
        "# Setup training data\n",
        "train_data = datasets.FashionMNIST(\n",
        "    root=\"data\", # where to download data to?\n",
        "    train=True, # get training data\n",
        "    download=True, # download data if it doesn't exist on disk\n",
        "    transform=transforms.ToTensor(), # images come as PIL format, we want to turn into Torch tensors\n",
        "    target_transform=None # you can transform labels as well\n",
        ")\n",
        "\n",
        "# Setup testing data\n",
        "test_data = datasets.FashionMNIST(\n",
        "    root=\"data\",\n",
        "    train=False, # get test data\n",
        "    download=True,\n",
        "    transform=transforms.ToTensor()\n",
        ")"
      ]
    },
    {
      "cell_type": "markdown",
      "metadata": {
        "id": "nfKha0qMc-wz"
      },
      "source": [
        "Now let's get some details about the first training sample, the label as well as the class names and number of classes."
      ]
    },
    {
      "cell_type": "code",
      "execution_count": 10,
      "metadata": {
        "colab": {
          "base_uri": "https://localhost:8080/"
        },
        "id": "lkniS5WYqfOm",
        "outputId": "1576f483-4448-4e14-ef78-2d2420ed0f90"
      },
      "outputs": [
        {
          "name": "stdout",
          "output_type": "stream",
          "text": [
            "Image shape: torch.Size([1, 28, 28]) -> [batch, height, width]\n",
            "Label: 9\n"
          ]
        }
      ],
      "source": [
        "# See first training sample\n",
        "image, label = train_data[0]\n",
        "print(f\"Image shape: {image.shape} -> [batch, height, width]\") \n",
        "print(f\"Label: {label}\") # label is an int rather than a tensor (it has no shape attribute)"
      ]
    },
    {
      "cell_type": "markdown",
      "metadata": {
        "id": "FLNr6OyEgRQv"
      },
      "source": [
        "Our image has a shape of `[1, 28, 28]` or `[batch_size, height, width]`. "
      ]
    },
    {
      "cell_type": "code",
      "execution_count": 11,
      "metadata": {
        "colab": {
          "base_uri": "https://localhost:8080/"
        },
        "id": "I4CRGWgdq2E4",
        "outputId": "feccd029-d0ef-456b-a5b7-23b37225693f"
      },
      "outputs": [
        {
          "data": {
            "text/plain": [
              "(['T-shirt/top',\n",
              "  'Trouser',\n",
              "  'Pullover',\n",
              "  'Dress',\n",
              "  'Coat',\n",
              "  'Sandal',\n",
              "  'Shirt',\n",
              "  'Sneaker',\n",
              "  'Bag',\n",
              "  'Ankle boot'],\n",
              " 10)"
            ]
          },
          "execution_count": 11,
          "metadata": {},
          "output_type": "execute_result"
        }
      ],
      "source": [
        "# See class names and number of classes\n",
        "class_names = train_data.classes\n",
        "num_classes = len(class_names)\n",
        "class_names, num_classes"
      ]
    },
    {
      "cell_type": "code",
      "execution_count": 12,
      "metadata": {
        "colab": {
          "base_uri": "https://localhost:8080/",
          "height": 264
        },
        "id": "o0edWzo1dLCU",
        "outputId": "af48e47a-3a49-4870-c99c-6ff576ede8f8"
      },
      "outputs": [
        {
          "data": {
            "image/png": "[encoded data removed]",
            "text/plain": [
              "<Figure size 432x288 with 1 Axes>"
            ]
          },
          "metadata": {
            "needs_background": "light"
          },
          "output_type": "display_data"
        }
      ],
      "source": [
        "# Plot a sample\n",
        "import matplotlib.pyplot as plt\n",
        "plt.imshow(image.squeeze(), cmap=\"gray\") # plot image as grayscale\n",
        "plt.axis(False)\n",
        "plt.title(class_names[label]);"
      ]
    },
    {
      "cell_type": "markdown",
      "metadata": {
        "id": "3kiRQYli09zK"
      },
      "source": [
        "### 1.4 Building a series of neural networks with different shape errors\n",
        "\n",
        "Our problem is: build a neural network capable of finding patterns in grayscale images of clothing.\n",
        "\n",
        "This statement could go very deep since \"what neural network is the best?\" is one of the main research problems in machine learning as a whole.\n",
        "\n",
        "But let's start as simple as possible to showcase different error types.\n",
        "\n",
        "We'll build several two layer neural networks with PyTorch each to showcase a different error:\n",
        "\n",
        "| **Model number** | **Layers** | **Error showcase** | \n",
        "| ----- | ----- | ----- |\n",
        "| 0 | 2 x `nn.Linear()` with 10 hidden units | Incorrect input shape |\n",
        "| 1 | Same as model 1 + 1 x `nn.Flatten()` | Incorrect input shape (still) |\n",
        "| 2 | 1 x `nn.Flatten()`, 1 x `nn.Linear()` with correct input shape and 1 x `nn.Linear()` with 10 hidden units | None (input shape is correct) |\n",
        "| 3 | Same as model 2 but with different shapes between `nn.Linear()` layers | Incorrect shapes between layers |\n",
        "| 4 | Same as model 3 but with last layer replaced with `nn.LazyLinear()` | None (shows how `nn.LazyX()` layers can infer correct shape) |\n",
        "| 5 | Same as model 4 but with all `nn.Linear()` replaced with `nn.LazyLinear()` | None (shows how `nn.LazyX()` layers can infer correct shape)  | "
      ]
    },
    {
      "cell_type": "markdown",
      "metadata": {
        "id": "BMMMh6MpjXu4"
      },
      "source": [
        "### 1.5 Incorrct input layer shapes \n",
        "\n",
        "We'll start with a two layer network with [`nn.Linear()`](https://pytorch.org/docs/stable/generated/torch.nn.Linear.html) layers with 10 hidden units in each. \n",
        "\n",
        "> **Note:** See [01. PyTorch Workflow section 6: Putting it all together](https://www.learnpytorch.io/01_pytorch_workflow/#6-putting-it-all-together) for what happens inside `nn.Linear()`.\n",
        "\n",
        "And then we'll pass our `image` through it and see what happens."
      ]
    },
    {
      "cell_type": "code",
      "execution_count": 14,
      "metadata": {
        "colab": {
          "base_uri": "https://localhost:8080/",
          "height": 353
        },
        "id": "t96GD46Cq179",
        "outputId": "dc86f589-f2b1-4bd8-c525-1aebff4098bf"
      },
      "outputs": [
        {
          "ename": "RuntimeError",
          "evalue": "ignored",
          "output_type": "error",
          "traceback": [
            "\u001b[0;31m---------------------------------------------------------------------------\u001b[0m",
            "\u001b[0;31mRuntimeError\u001b[0m                              Traceback (most recent call last)",
            "\u001b[0;32m<ipython-input-14-08ca10b47f1c>\u001b[0m in \u001b[0;36m<module>\u001b[0;34m\u001b[0m\n\u001b[1;32m      8\u001b[0m \u001b[0;34m\u001b[0m\u001b[0m\n\u001b[1;32m      9\u001b[0m \u001b[0;31m# Pass the image through the model (this will error)\u001b[0m\u001b[0;34m\u001b[0m\u001b[0;34m\u001b[0m\u001b[0;34m\u001b[0m\u001b[0m\n\u001b[0;32m---> 10\u001b[0;31m \u001b[0mmodel_0\u001b[0m\u001b[0;34m(\u001b[0m\u001b[0mimage\u001b[0m\u001b[0;34m)\u001b[0m\u001b[0;34m\u001b[0m\u001b[0;34m\u001b[0m\u001b[0m\n\u001b[0m",
            "\u001b[0;32m/usr/local/lib/python3.7/dist-packages/torch/nn/modules/module.py\u001b[0m in \u001b[0;36m_call_impl\u001b[0;34m(self, *input, **kwargs)\u001b[0m\n\u001b[1;32m   1128\u001b[0m         if not (self._backward_hooks or self._forward_hooks or self._forward_pre_hooks or _global_backward_hooks\n\u001b[1;32m   1129\u001b[0m                 or _global_forward_hooks or _global_forward_pre_hooks):\n\u001b[0;32m-> 1130\u001b[0;31m             \u001b[0;32mreturn\u001b[0m \u001b[0mforward_call\u001b[0m\u001b[0;34m(\u001b[0m\u001b[0;34m*\u001b[0m\u001b[0minput\u001b[0m\u001b[0;34m,\u001b[0m \u001b[0;34m**\u001b[0m\u001b[0mkwargs\u001b[0m\u001b[0;34m)\u001b[0m\u001b[0;34m\u001b[0m\u001b[0;34m\u001b[0m\u001b[0m\n\u001b[0m\u001b[1;32m   1131\u001b[0m         \u001b[0;31m# Do not call functions when jit is used\u001b[0m\u001b[0;34m\u001b[0m\u001b[0;34m\u001b[0m\u001b[0;34m\u001b[0m\u001b[0m\n\u001b[1;32m   1132\u001b[0m         \u001b[0mfull_backward_hooks\u001b[0m\u001b[0;34m,\u001b[0m \u001b[0mnon_full_backward_hooks\u001b[0m \u001b[0;34m=\u001b[0m \u001b[0;34m[\u001b[0m\u001b[0;34m]\u001b[0m\u001b[0;34m,\u001b[0m \u001b[0;34m[\u001b[0m\u001b[0;34m]\u001b[0m\u001b[0;34m\u001b[0m\u001b[0;34m\u001b[0m\u001b[0m\n",
            "\u001b[0;32m/usr/local/lib/python3.7/dist-packages/torch/nn/modules/container.py\u001b[0m in \u001b[0;36mforward\u001b[0;34m(self, input)\u001b[0m\n\u001b[1;32m    137\u001b[0m     \u001b[0;32mdef\u001b[0m \u001b[0mforward\u001b[0m\u001b[0;34m(\u001b[0m\u001b[0mself\u001b[0m\u001b[0;34m,\u001b[0m \u001b[0minput\u001b[0m\u001b[0;34m)\u001b[0m\u001b[0;34m:\u001b[0m\u001b[0;34m\u001b[0m\u001b[0;34m\u001b[0m\u001b[0m\n\u001b[1;32m    138\u001b[0m         \u001b[0;32mfor\u001b[0m \u001b[0mmodule\u001b[0m \u001b[0;32min\u001b[0m \u001b[0mself\u001b[0m\u001b[0;34m:\u001b[0m\u001b[0;34m\u001b[0m\u001b[0;34m\u001b[0m\u001b[0m\n\u001b[0;32m--> 139\u001b[0;31m             \u001b[0minput\u001b[0m \u001b[0;34m=\u001b[0m \u001b[0mmodule\u001b[0m\u001b[0;34m(\u001b[0m\u001b[0minput\u001b[0m\u001b[0;34m)\u001b[0m\u001b[0;34m\u001b[0m\u001b[0;34m\u001b[0m\u001b[0m\n\u001b[0m\u001b[1;32m    140\u001b[0m         \u001b[0;32mreturn\u001b[0m \u001b[0minput\u001b[0m\u001b[0;34m\u001b[0m\u001b[0;34m\u001b[0m\u001b[0m\n\u001b[1;32m    141\u001b[0m \u001b[0;34m\u001b[0m\u001b[0m\n",
            "\u001b[0;32m/usr/local/lib/python3.7/dist-packages/torch/nn/modules/module.py\u001b[0m in \u001b[0;36m_call_impl\u001b[0;34m(self, *input, **kwargs)\u001b[0m\n\u001b[1;32m   1128\u001b[0m         if not (self._backward_hooks or self._forward_hooks or self._forward_pre_hooks or _global_backward_hooks\n\u001b[1;32m   1129\u001b[0m                 or _global_forward_hooks or _global_forward_pre_hooks):\n\u001b[0;32m-> 1130\u001b[0;31m             \u001b[0;32mreturn\u001b[0m \u001b[0mforward_call\u001b[0m\u001b[0;34m(\u001b[0m\u001b[0;34m*\u001b[0m\u001b[0minput\u001b[0m\u001b[0;34m,\u001b[0m \u001b[0;34m**\u001b[0m\u001b[0mkwargs\u001b[0m\u001b[0;34m)\u001b[0m\u001b[0;34m\u001b[0m\u001b[0;34m\u001b[0m\u001b[0m\n\u001b[0m\u001b[1;32m   1131\u001b[0m         \u001b[0;31m# Do not call functions when jit is used\u001b[0m\u001b[0;34m\u001b[0m\u001b[0;34m\u001b[0m\u001b[0;34m\u001b[0m\u001b[0m\n\u001b[1;32m   1132\u001b[0m         \u001b[0mfull_backward_hooks\u001b[0m\u001b[0;34m,\u001b[0m \u001b[0mnon_full_backward_hooks\u001b[0m \u001b[0;34m=\u001b[0m \u001b[0;34m[\u001b[0m\u001b[0;34m]\u001b[0m\u001b[0;34m,\u001b[0m \u001b[0;34m[\u001b[0m\u001b[0;34m]\u001b[0m\u001b[0;34m\u001b[0m\u001b[0;34m\u001b[0m\u001b[0m\n",
            "\u001b[0;32m/usr/local/lib/python3.7/dist-packages/torch/nn/modules/linear.py\u001b[0m in \u001b[0;36mforward\u001b[0;34m(self, input)\u001b[0m\n\u001b[1;32m    112\u001b[0m \u001b[0;34m\u001b[0m\u001b[0m\n\u001b[1;32m    113\u001b[0m     \u001b[0;32mdef\u001b[0m \u001b[0mforward\u001b[0m\u001b[0;34m(\u001b[0m\u001b[0mself\u001b[0m\u001b[0;34m,\u001b[0m \u001b[0minput\u001b[0m\u001b[0;34m:\u001b[0m \u001b[0mTensor\u001b[0m\u001b[0;34m)\u001b[0m \u001b[0;34m->\u001b[0m \u001b[0mTensor\u001b[0m\u001b[0;34m:\u001b[0m\u001b[0;34m\u001b[0m\u001b[0;34m\u001b[0m\u001b[0m\n\u001b[0;32m--> 114\u001b[0;31m         \u001b[0;32mreturn\u001b[0m \u001b[0mF\u001b[0m\u001b[0;34m.\u001b[0m\u001b[0mlinear\u001b[0m\u001b[0;34m(\u001b[0m\u001b[0minput\u001b[0m\u001b[0;34m,\u001b[0m \u001b[0mself\u001b[0m\u001b[0;34m.\u001b[0m\u001b[0mweight\u001b[0m\u001b[0;34m,\u001b[0m \u001b[0mself\u001b[0m\u001b[0;34m.\u001b[0m\u001b[0mbias\u001b[0m\u001b[0;34m)\u001b[0m\u001b[0;34m\u001b[0m\u001b[0;34m\u001b[0m\u001b[0m\n\u001b[0m\u001b[1;32m    115\u001b[0m \u001b[0;34m\u001b[0m\u001b[0m\n\u001b[1;32m    116\u001b[0m     \u001b[0;32mdef\u001b[0m \u001b[0mextra_repr\u001b[0m\u001b[0;34m(\u001b[0m\u001b[0mself\u001b[0m\u001b[0;34m)\u001b[0m \u001b[0;34m->\u001b[0m \u001b[0mstr\u001b[0m\u001b[0;34m:\u001b[0m\u001b[0;34m\u001b[0m\u001b[0;34m\u001b[0m\u001b[0m\n",
            "\u001b[0;31mRuntimeError\u001b[0m: mat1 and mat2 shapes cannot be multiplied (28x28 and 10x10)"
          ]
        }
      ],
      "source": [
        "from torch import nn\n",
        "\n",
        "# Create a two layer neural network\n",
        "model_0 = nn.Sequential(\n",
        "    nn.Linear(in_features=10, out_features=10),\n",
        "    nn.Linear(in_features=10, out_features=10)\n",
        ")\n",
        "\n",
        "# Pass the image through the model (this will error)\n",
        "model_0(image)"
      ]
    },
    {
      "cell_type": "markdown",
      "metadata": {
        "id": "_pEAb3KlfnU-"
      },
      "source": [
        "Running the above code we get another shape error! \n",
        "\n",
        "Something similar to:\n",
        "\n",
        "```\n",
        "/usr/local/lib/python3.7/dist-packages/torch/nn/modules/linear.py in forward(self, input)\n",
        "    112 \n",
        "    113     def forward(self, input: Tensor) -> Tensor:\n",
        "--> 114         return F.linear(input, self.weight, self.bias)\n",
        "    115 \n",
        "    116     def extra_repr(self) -> str:\n",
        "\n",
        "RuntimeError: mat1 and mat2 shapes cannot be multiplied (28x28 and 10x10)\n",
        "```\n",
        "\n",
        "The key is in the final line `RuntimeError: mat1 and mat2 shapes cannot be multiplied (28x28 and 10x10)`.\n",
        "\n",
        "This is telling us there's something wrong with our data shapes.\n",
        "\n",
        "Because behind the scenes, `nn.Linear()` is attempting to do a matrix multiplication.\n",
        "\n",
        "How do we fix this?\n",
        "\n",
        "There are several different options depending on what kind of layer(s) you're using.\n",
        "\n",
        "But since we're using `nn.Linear()` layers, let's focus on that.\n",
        "\n",
        "`nn.Linear()` likes to accept data as a single-dimension vector .\n",
        "\n",
        "For example, instead of an input `image` shape of `[1, 28, 28]`, it would prefer `[1, 784]` (`784 = 28*28`).\n",
        "\n",
        "In other words, it likes all of the information to be *flattened* into a single dimension.\n",
        "\n",
        "We can achieve this flattening using PyTorch's [`nn.Flatten()`](https://pytorch.org/docs/stable/generated/torch.nn.Flatten.html). \n",
        "\n",
        "Let's see it happen."
      ]
    },
    {
      "cell_type": "code",
      "execution_count": 16,
      "metadata": {
        "colab": {
          "base_uri": "https://localhost:8080/"
        },
        "id": "zkP0NsJoxTPN",
        "outputId": "54f0a89c-75b7-4102-db47-84d84757b864"
      },
      "outputs": [
        {
          "name": "stdout",
          "output_type": "stream",
          "text": [
            "Before flatten shape: torch.Size([1, 28, 28]) -> [batch, height, width]\n",
            "After flatten shape: torch.Size([1, 784]) -> [batch, height*width]\n"
          ]
        }
      ],
      "source": [
        "# Create a flatten layer\n",
        "flatten = nn.Flatten()\n",
        "\n",
        "# Pass the image through the flatten layer\n",
        "flattened_image = flatten(image)\n",
        "\n",
        "# Print out the image shape before and after \n",
        "print(f\"Before flatten shape: {image.shape} -> [batch, height, width]\")\n",
        "print(f\"After flatten shape: {flattened_image.shape} -> [batch, height*width]\")"
      ]
    },
    {
      "cell_type": "markdown",
      "metadata": {
        "id": "9faAa7ODhBb-"
      },
      "source": [
        "Wonderful, image data flattened! \n",
        "\n",
        "Now let's try adding the `nn.Flatten()` layer to our existing model."
      ]
    },
    {
      "cell_type": "code",
      "execution_count": 17,
      "metadata": {
        "colab": {
          "base_uri": "https://localhost:8080/",
          "height": 353
        },
        "id": "k5BEZGYIwFSc",
        "outputId": "cf79a39f-9a8b-476d-d996-acf191950949"
      },
      "outputs": [
        {
          "ename": "RuntimeError",
          "evalue": "ignored",
          "output_type": "error",
          "traceback": [
            "\u001b[0;31m---------------------------------------------------------------------------\u001b[0m",
            "\u001b[0;31mRuntimeError\u001b[0m                              Traceback (most recent call last)",
            "\u001b[0;32m<ipython-input-17-3dda7d2c6198>\u001b[0m in \u001b[0;36m<module>\u001b[0;34m\u001b[0m\n\u001b[1;32m      7\u001b[0m \u001b[0;34m\u001b[0m\u001b[0m\n\u001b[1;32m      8\u001b[0m \u001b[0;31m# Pass the image through the model\u001b[0m\u001b[0;34m\u001b[0m\u001b[0;34m\u001b[0m\u001b[0;34m\u001b[0m\u001b[0m\n\u001b[0;32m----> 9\u001b[0;31m \u001b[0mmodel_1\u001b[0m\u001b[0;34m(\u001b[0m\u001b[0mimage\u001b[0m\u001b[0;34m)\u001b[0m\u001b[0;34m\u001b[0m\u001b[0;34m\u001b[0m\u001b[0m\n\u001b[0m",
            "\u001b[0;32m/usr/local/lib/python3.7/dist-packages/torch/nn/modules/module.py\u001b[0m in \u001b[0;36m_call_impl\u001b[0;34m(self, *input, **kwargs)\u001b[0m\n\u001b[1;32m   1128\u001b[0m         if not (self._backward_hooks or self._forward_hooks or self._forward_pre_hooks or _global_backward_hooks\n\u001b[1;32m   1129\u001b[0m                 or _global_forward_hooks or _global_forward_pre_hooks):\n\u001b[0;32m-> 1130\u001b[0;31m             \u001b[0;32mreturn\u001b[0m \u001b[0mforward_call\u001b[0m\u001b[0;34m(\u001b[0m\u001b[0;34m*\u001b[0m\u001b[0minput\u001b[0m\u001b[0;34m,\u001b[0m \u001b[0;34m**\u001b[0m\u001b[0mkwargs\u001b[0m\u001b[0;34m)\u001b[0m\u001b[0;34m\u001b[0m\u001b[0;34m\u001b[0m\u001b[0m\n\u001b[0m\u001b[1;32m   1131\u001b[0m         \u001b[0;31m# Do not call functions when jit is used\u001b[0m\u001b[0;34m\u001b[0m\u001b[0;34m\u001b[0m\u001b[0;34m\u001b[0m\u001b[0m\n\u001b[1;32m   1132\u001b[0m         \u001b[0mfull_backward_hooks\u001b[0m\u001b[0;34m,\u001b[0m \u001b[0mnon_full_backward_hooks\u001b[0m \u001b[0;34m=\u001b[0m \u001b[0;34m[\u001b[0m\u001b[0;34m]\u001b[0m\u001b[0;34m,\u001b[0m \u001b[0;34m[\u001b[0m\u001b[0;34m]\u001b[0m\u001b[0;34m\u001b[0m\u001b[0;34m\u001b[0m\u001b[0m\n",
            "\u001b[0;32m/usr/local/lib/python3.7/dist-packages/torch/nn/modules/container.py\u001b[0m in \u001b[0;36mforward\u001b[0;34m(self, input)\u001b[0m\n\u001b[1;32m    137\u001b[0m     \u001b[0;32mdef\u001b[0m \u001b[0mforward\u001b[0m\u001b[0;34m(\u001b[0m\u001b[0mself\u001b[0m\u001b[0;34m,\u001b[0m \u001b[0minput\u001b[0m\u001b[0;34m)\u001b[0m\u001b[0;34m:\u001b[0m\u001b[0;34m\u001b[0m\u001b[0;34m\u001b[0m\u001b[0m\n\u001b[1;32m    138\u001b[0m         \u001b[0;32mfor\u001b[0m \u001b[0mmodule\u001b[0m \u001b[0;32min\u001b[0m \u001b[0mself\u001b[0m\u001b[0;34m:\u001b[0m\u001b[0;34m\u001b[0m\u001b[0;34m\u001b[0m\u001b[0m\n\u001b[0;32m--> 139\u001b[0;31m             \u001b[0minput\u001b[0m \u001b[0;34m=\u001b[0m \u001b[0mmodule\u001b[0m\u001b[0;34m(\u001b[0m\u001b[0minput\u001b[0m\u001b[0;34m)\u001b[0m\u001b[0;34m\u001b[0m\u001b[0;34m\u001b[0m\u001b[0m\n\u001b[0m\u001b[1;32m    140\u001b[0m         \u001b[0;32mreturn\u001b[0m \u001b[0minput\u001b[0m\u001b[0;34m\u001b[0m\u001b[0;34m\u001b[0m\u001b[0m\n\u001b[1;32m    141\u001b[0m \u001b[0;34m\u001b[0m\u001b[0m\n",
            "\u001b[0;32m/usr/local/lib/python3.7/dist-packages/torch/nn/modules/module.py\u001b[0m in \u001b[0;36m_call_impl\u001b[0;34m(self, *input, **kwargs)\u001b[0m\n\u001b[1;32m   1128\u001b[0m         if not (self._backward_hooks or self._forward_hooks or self._forward_pre_hooks or _global_backward_hooks\n\u001b[1;32m   1129\u001b[0m                 or _global_forward_hooks or _global_forward_pre_hooks):\n\u001b[0;32m-> 1130\u001b[0;31m             \u001b[0;32mreturn\u001b[0m \u001b[0mforward_call\u001b[0m\u001b[0;34m(\u001b[0m\u001b[0;34m*\u001b[0m\u001b[0minput\u001b[0m\u001b[0;34m,\u001b[0m \u001b[0;34m**\u001b[0m\u001b[0mkwargs\u001b[0m\u001b[0;34m)\u001b[0m\u001b[0;34m\u001b[0m\u001b[0;34m\u001b[0m\u001b[0m\n\u001b[0m\u001b[1;32m   1131\u001b[0m         \u001b[0;31m# Do not call functions when jit is used\u001b[0m\u001b[0;34m\u001b[0m\u001b[0;34m\u001b[0m\u001b[0;34m\u001b[0m\u001b[0m\n\u001b[1;32m   1132\u001b[0m         \u001b[0mfull_backward_hooks\u001b[0m\u001b[0;34m,\u001b[0m \u001b[0mnon_full_backward_hooks\u001b[0m \u001b[0;34m=\u001b[0m \u001b[0;34m[\u001b[0m\u001b[0;34m]\u001b[0m\u001b[0;34m,\u001b[0m \u001b[0;34m[\u001b[0m\u001b[0;34m]\u001b[0m\u001b[0;34m\u001b[0m\u001b[0;34m\u001b[0m\u001b[0m\n",
            "\u001b[0;32m/usr/local/lib/python3.7/dist-packages/torch/nn/modules/linear.py\u001b[0m in \u001b[0;36mforward\u001b[0;34m(self, input)\u001b[0m\n\u001b[1;32m    112\u001b[0m \u001b[0;34m\u001b[0m\u001b[0m\n\u001b[1;32m    113\u001b[0m     \u001b[0;32mdef\u001b[0m \u001b[0mforward\u001b[0m\u001b[0;34m(\u001b[0m\u001b[0mself\u001b[0m\u001b[0;34m,\u001b[0m \u001b[0minput\u001b[0m\u001b[0;34m:\u001b[0m \u001b[0mTensor\u001b[0m\u001b[0;34m)\u001b[0m \u001b[0;34m->\u001b[0m \u001b[0mTensor\u001b[0m\u001b[0;34m:\u001b[0m\u001b[0;34m\u001b[0m\u001b[0;34m\u001b[0m\u001b[0m\n\u001b[0;32m--> 114\u001b[0;31m         \u001b[0;32mreturn\u001b[0m \u001b[0mF\u001b[0m\u001b[0;34m.\u001b[0m\u001b[0mlinear\u001b[0m\u001b[0;34m(\u001b[0m\u001b[0minput\u001b[0m\u001b[0;34m,\u001b[0m \u001b[0mself\u001b[0m\u001b[0;34m.\u001b[0m\u001b[0mweight\u001b[0m\u001b[0;34m,\u001b[0m \u001b[0mself\u001b[0m\u001b[0;34m.\u001b[0m\u001b[0mbias\u001b[0m\u001b[0;34m)\u001b[0m\u001b[0;34m\u001b[0m\u001b[0;34m\u001b[0m\u001b[0m\n\u001b[0m\u001b[1;32m    115\u001b[0m \u001b[0;34m\u001b[0m\u001b[0m\n\u001b[1;32m    116\u001b[0m     \u001b[0;32mdef\u001b[0m \u001b[0mextra_repr\u001b[0m\u001b[0;34m(\u001b[0m\u001b[0mself\u001b[0m\u001b[0;34m)\u001b[0m \u001b[0;34m->\u001b[0m \u001b[0mstr\u001b[0m\u001b[0;34m:\u001b[0m\u001b[0;34m\u001b[0m\u001b[0;34m\u001b[0m\u001b[0m\n",
            "\u001b[0;31mRuntimeError\u001b[0m: mat1 and mat2 shapes cannot be multiplied (1x784 and 10x10)"
          ]
        }
      ],
      "source": [
        "# Replicate model_0 except add a nn.Flatten() layer to begin with \n",
        "model_1 = nn.Sequential(\n",
        "    nn.Flatten(), # <-- NEW: add nn.Flatten() layer\n",
        "    nn.Linear(in_features=10, out_features=10),\n",
        "    nn.Linear(in_features=10, out_features=10)\n",
        ")\n",
        "\n",
        "# Pass the image through the model\n",
        "model_1(image)"
      ]
    },
    {
      "cell_type": "markdown",
      "metadata": {
        "id": "CJXW-873hRpe"
      },
      "source": [
        "Oh no!\n",
        "\n",
        "Another error...\n",
        "\n",
        "Something like:\n",
        "\n",
        "```\n",
        "/usr/local/lib/python3.7/dist-packages/torch/nn/modules/linear.py in forward(self, input)\n",
        "    112 \n",
        "    113     def forward(self, input: Tensor) -> Tensor:\n",
        "--> 114         return F.linear(input, self.weight, self.bias)\n",
        "    115 \n",
        "    116     def extra_repr(self) -> str:\n",
        "\n",
        "RuntimeError: mat1 and mat2 shapes cannot be multiplied (1x784 and 10x10)\n",
        "```\n",
        "\n",
        "Again, the key information is in the bottom line. \n",
        "\n",
        "`RuntimeError: mat1 and mat2 shapes cannot be multiplied (1x784 and 10x10)`\n",
        "\n",
        "Hmm, we know the `(1x784)` must be coming from our input data (`image`) since we flattened it from `(1, 28, 28)` -> `(1, 784)`.\n",
        "\n",
        "How about the `(10x10)`?\n",
        "\n",
        "These values come from the parameters we set in our `nn.Linear()` layers, `in_features=10` and `out_features=10` or `nn.Linear(in_features=10, out_features=10)`.\n",
        "\n",
        "What was the first rule of matrix multiplication again?\n",
        "\n",
        "1. The **inner dimensions** must match.\n",
        "\n",
        "Right!\n",
        "\n",
        "So what happens if we change `in_features=10` to `in_features=784` in the first layer?\n",
        "\n",
        "Let's find out!"
      ]
    },
    {
      "cell_type": "code",
      "execution_count": 19,
      "metadata": {
        "colab": {
          "base_uri": "https://localhost:8080/"
        },
        "id": "CkujDj0Yw1rG",
        "outputId": "3d6d541e-a668-49c6-e136-57247890df83"
      },
      "outputs": [
        {
          "data": {
            "text/plain": [
              "tensor([[ 0.1973,  0.1827,  0.0598, -0.2477,  0.0990, -0.2474, -0.0067, -0.1186,\n",
              "          0.2797, -0.0429]], grad_fn=<AddmmBackward0>)"
            ]
          },
          "execution_count": 19,
          "metadata": {},
          "output_type": "execute_result"
        }
      ],
      "source": [
        "# Flatten the input as well as make sure the first layer can accept the flattened input shape\n",
        "model_2 = nn.Sequential(\n",
        "    nn.Flatten(),\n",
        "    nn.Linear(in_features=784, out_features=10), # <-- NEW: change in_features=10 to in_features=784\n",
        "    nn.Linear(in_features=10, out_features=10)\n",
        ")\n",
        "\n",
        "# Pass the image through the model\n",
        "model_2(image)"
      ]
    },
    {
      "cell_type": "markdown",
      "metadata": {
        "id": "TFGPZvWKiapB"
      },
      "source": [
        "It worked!\n",
        "\n",
        "We got an output from our model!\n",
        "\n",
        "The output might not mean much for now but at least we know all of the shapes line up and data can flow all the through our model.\n",
        "\n",
        "The `nn.Flatten()` layer turned our input image from `(1, 28, 28)` to `(1, 784)` and our first `nn.Linear(in_features=784, out_features=10)` layer could accept it as input.\n",
        "\n"
      ]
    },
    {
      "cell_type": "markdown",
      "metadata": {
        "id": "5BYcv9YFKgwX"
      },
      "source": [
        "### 1.6 Incorrect hidden layer input and output shapes\n",
        "\n",
        "What happens if our input layer(s) had the correct shapes but there was a mismatch between the interconnected layer(s)?\n",
        "\n",
        "As in, our first `nn.Linear()` had `out_features=10` but the next `nn.Linear()` had `in_features=5`.\n",
        "\n",
        "This is an example of **incorrect input and output shapes between layers**. \n"
      ]
    },
    {
      "cell_type": "code",
      "execution_count": 20,
      "metadata": {
        "colab": {
          "base_uri": "https://localhost:8080/",
          "height": 353
        },
        "id": "s2tSpnEtxAA3",
        "outputId": "edbff9d4-be8c-4373-ee20-fd28b1cfcdf1"
      },
      "outputs": [
        {
          "ename": "RuntimeError",
          "evalue": "ignored",
          "output_type": "error",
          "traceback": [
            "\u001b[0;31m---------------------------------------------------------------------------\u001b[0m",
            "\u001b[0;31mRuntimeError\u001b[0m                              Traceback (most recent call last)",
            "\u001b[0;32m<ipython-input-20-9fac60fda2de>\u001b[0m in \u001b[0;36m<module>\u001b[0;34m\u001b[0m\n\u001b[1;32m      7\u001b[0m \u001b[0;34m\u001b[0m\u001b[0m\n\u001b[1;32m      8\u001b[0m \u001b[0;31m# Pass the image through the model (this will error)\u001b[0m\u001b[0;34m\u001b[0m\u001b[0;34m\u001b[0m\u001b[0;34m\u001b[0m\u001b[0m\n\u001b[0;32m----> 9\u001b[0;31m \u001b[0mmodel_3\u001b[0m\u001b[0;34m(\u001b[0m\u001b[0mimage\u001b[0m\u001b[0;34m)\u001b[0m\u001b[0;34m\u001b[0m\u001b[0;34m\u001b[0m\u001b[0m\n\u001b[0m",
            "\u001b[0;32m/usr/local/lib/python3.7/dist-packages/torch/nn/modules/module.py\u001b[0m in \u001b[0;36m_call_impl\u001b[0;34m(self, *input, **kwargs)\u001b[0m\n\u001b[1;32m   1128\u001b[0m         if not (self._backward_hooks or self._forward_hooks or self._forward_pre_hooks or _global_backward_hooks\n\u001b[1;32m   1129\u001b[0m                 or _global_forward_hooks or _global_forward_pre_hooks):\n\u001b[0;32m-> 1130\u001b[0;31m             \u001b[0;32mreturn\u001b[0m \u001b[0mforward_call\u001b[0m\u001b[0;34m(\u001b[0m\u001b[0;34m*\u001b[0m\u001b[0minput\u001b[0m\u001b[0;34m,\u001b[0m \u001b[0;34m**\u001b[0m\u001b[0mkwargs\u001b[0m\u001b[0;34m)\u001b[0m\u001b[0;34m\u001b[0m\u001b[0;34m\u001b[0m\u001b[0m\n\u001b[0m\u001b[1;32m   1131\u001b[0m         \u001b[0;31m# Do not call functions when jit is used\u001b[0m\u001b[0;34m\u001b[0m\u001b[0;34m\u001b[0m\u001b[0;34m\u001b[0m\u001b[0m\n\u001b[1;32m   1132\u001b[0m         \u001b[0mfull_backward_hooks\u001b[0m\u001b[0;34m,\u001b[0m \u001b[0mnon_full_backward_hooks\u001b[0m \u001b[0;34m=\u001b[0m \u001b[0;34m[\u001b[0m\u001b[0;34m]\u001b[0m\u001b[0;34m,\u001b[0m \u001b[0;34m[\u001b[0m\u001b[0;34m]\u001b[0m\u001b[0;34m\u001b[0m\u001b[0;34m\u001b[0m\u001b[0m\n",
            "\u001b[0;32m/usr/local/lib/python3.7/dist-packages/torch/nn/modules/container.py\u001b[0m in \u001b[0;36mforward\u001b[0;34m(self, input)\u001b[0m\n\u001b[1;32m    137\u001b[0m     \u001b[0;32mdef\u001b[0m \u001b[0mforward\u001b[0m\u001b[0;34m(\u001b[0m\u001b[0mself\u001b[0m\u001b[0;34m,\u001b[0m \u001b[0minput\u001b[0m\u001b[0;34m)\u001b[0m\u001b[0;34m:\u001b[0m\u001b[0;34m\u001b[0m\u001b[0;34m\u001b[0m\u001b[0m\n\u001b[1;32m    138\u001b[0m         \u001b[0;32mfor\u001b[0m \u001b[0mmodule\u001b[0m \u001b[0;32min\u001b[0m \u001b[0mself\u001b[0m\u001b[0;34m:\u001b[0m\u001b[0;34m\u001b[0m\u001b[0;34m\u001b[0m\u001b[0m\n\u001b[0;32m--> 139\u001b[0;31m             \u001b[0minput\u001b[0m \u001b[0;34m=\u001b[0m \u001b[0mmodule\u001b[0m\u001b[0;34m(\u001b[0m\u001b[0minput\u001b[0m\u001b[0;34m)\u001b[0m\u001b[0;34m\u001b[0m\u001b[0;34m\u001b[0m\u001b[0m\n\u001b[0m\u001b[1;32m    140\u001b[0m         \u001b[0;32mreturn\u001b[0m \u001b[0minput\u001b[0m\u001b[0;34m\u001b[0m\u001b[0;34m\u001b[0m\u001b[0m\n\u001b[1;32m    141\u001b[0m \u001b[0;34m\u001b[0m\u001b[0m\n",
            "\u001b[0;32m/usr/local/lib/python3.7/dist-packages/torch/nn/modules/module.py\u001b[0m in \u001b[0;36m_call_impl\u001b[0;34m(self, *input, **kwargs)\u001b[0m\n\u001b[1;32m   1128\u001b[0m         if not (self._backward_hooks or self._forward_hooks or self._forward_pre_hooks or _global_backward_hooks\n\u001b[1;32m   1129\u001b[0m                 or _global_forward_hooks or _global_forward_pre_hooks):\n\u001b[0;32m-> 1130\u001b[0;31m             \u001b[0;32mreturn\u001b[0m \u001b[0mforward_call\u001b[0m\u001b[0;34m(\u001b[0m\u001b[0;34m*\u001b[0m\u001b[0minput\u001b[0m\u001b[0;34m,\u001b[0m \u001b[0;34m**\u001b[0m\u001b[0mkwargs\u001b[0m\u001b[0;34m)\u001b[0m\u001b[0;34m\u001b[0m\u001b[0;34m\u001b[0m\u001b[0m\n\u001b[0m\u001b[1;32m   1131\u001b[0m         \u001b[0;31m# Do not call functions when jit is used\u001b[0m\u001b[0;34m\u001b[0m\u001b[0;34m\u001b[0m\u001b[0;34m\u001b[0m\u001b[0m\n\u001b[1;32m   1132\u001b[0m         \u001b[0mfull_backward_hooks\u001b[0m\u001b[0;34m,\u001b[0m \u001b[0mnon_full_backward_hooks\u001b[0m \u001b[0;34m=\u001b[0m \u001b[0;34m[\u001b[0m\u001b[0;34m]\u001b[0m\u001b[0;34m,\u001b[0m \u001b[0;34m[\u001b[0m\u001b[0;34m]\u001b[0m\u001b[0;34m\u001b[0m\u001b[0;34m\u001b[0m\u001b[0m\n",
            "\u001b[0;32m/usr/local/lib/python3.7/dist-packages/torch/nn/modules/linear.py\u001b[0m in \u001b[0;36mforward\u001b[0;34m(self, input)\u001b[0m\n\u001b[1;32m    112\u001b[0m \u001b[0;34m\u001b[0m\u001b[0m\n\u001b[1;32m    113\u001b[0m     \u001b[0;32mdef\u001b[0m \u001b[0mforward\u001b[0m\u001b[0;34m(\u001b[0m\u001b[0mself\u001b[0m\u001b[0;34m,\u001b[0m \u001b[0minput\u001b[0m\u001b[0;34m:\u001b[0m \u001b[0mTensor\u001b[0m\u001b[0;34m)\u001b[0m \u001b[0;34m->\u001b[0m \u001b[0mTensor\u001b[0m\u001b[0;34m:\u001b[0m\u001b[0;34m\u001b[0m\u001b[0;34m\u001b[0m\u001b[0m\n\u001b[0;32m--> 114\u001b[0;31m         \u001b[0;32mreturn\u001b[0m \u001b[0mF\u001b[0m\u001b[0;34m.\u001b[0m\u001b[0mlinear\u001b[0m\u001b[0;34m(\u001b[0m\u001b[0minput\u001b[0m\u001b[0;34m,\u001b[0m \u001b[0mself\u001b[0m\u001b[0;34m.\u001b[0m\u001b[0mweight\u001b[0m\u001b[0;34m,\u001b[0m \u001b[0mself\u001b[0m\u001b[0;34m.\u001b[0m\u001b[0mbias\u001b[0m\u001b[0;34m)\u001b[0m\u001b[0;34m\u001b[0m\u001b[0;34m\u001b[0m\u001b[0m\n\u001b[0m\u001b[1;32m    115\u001b[0m \u001b[0;34m\u001b[0m\u001b[0m\n\u001b[1;32m    116\u001b[0m     \u001b[0;32mdef\u001b[0m \u001b[0mextra_repr\u001b[0m\u001b[0;34m(\u001b[0m\u001b[0mself\u001b[0m\u001b[0;34m)\u001b[0m \u001b[0;34m->\u001b[0m \u001b[0mstr\u001b[0m\u001b[0;34m:\u001b[0m\u001b[0;34m\u001b[0m\u001b[0;34m\u001b[0m\u001b[0m\n",
            "\u001b[0;31mRuntimeError\u001b[0m: mat1 and mat2 shapes cannot be multiplied (1x10 and 5x10)"
          ]
        }
      ],
      "source": [
        "# Create a model with incorrect input and output shapes between layers\n",
        "model_3 = nn.Sequential(\n",
        "    nn.Flatten(),\n",
        "    nn.Linear(in_features=784, out_features=10), # out_features=10 \n",
        "    nn.Linear(in_features=5, out_features=10) # <-- NEW: in_features does not match the out_features of the previous layer\n",
        ")\n",
        "\n",
        "# Pass the image through the model (this will error)\n",
        "model_3(image)"
      ]
    },
    {
      "cell_type": "markdown",
      "metadata": {
        "id": "fZ__DXWtkcvi"
      },
      "source": [
        "Running the model above we get the following error:\n",
        "\n",
        "```\n",
        "/usr/local/lib/python3.7/dist-packages/torch/nn/modules/linear.py in forward(self, input)\n",
        "    112 \n",
        "    113     def forward(self, input: Tensor) -> Tensor:\n",
        "--> 114         return F.linear(input, self.weight, self.bias)\n",
        "    115 \n",
        "    116     def extra_repr(self) -> str:\n",
        "\n",
        "RuntimeError: mat1 and mat2 shapes cannot be multiplied (1x10 and 5x10)\n",
        "```\n",
        "\n",
        "Once again, we've broken rule 1 of matrix multiplication, the **inner dimensions** must match.\n",
        "\n",
        "Our first `nn.Linear()` layer outputs a shape of `(1, 10)` but our second `nn.Linear()` layer is expecting a shape of `(1, 5)`.\n",
        "\n",
        "How could we fix this?\n",
        "\n",
        "Well, we could set `in_features=10` for the second `nn.Linear()` manually, or we could try one of the newer features of PyTorch, \"lazy\" layers.\n"
      ]
    },
    {
      "cell_type": "markdown",
      "metadata": {
        "id": "k7mM_i9aJgxj"
      },
      "source": [
        "### 1.7 PyTorch lazy layers (automatically infering the input shape)\n",
        "\n",
        "Lazy layers in PyTorch often come in the form of `nn.LazyX` where `X` is an existing non-lazy form of the layer.\n",
        "\n",
        "For example, the lazy equilvalent of `nn.Linear()` is [`nn.LazyLinear()`](https://pytorch.org/docs/stable/generated/torch.nn.LazyLinear.html).\n",
        "\n",
        "The main feature of a `Lazy` layer is to *infer* what the `in_features` or input shape from the previous layer should be.\n",
        "\n",
        "> **Note:** As of November 2022, `Lazy` layers in PyTorch are still experimental and subject to change, however their usage shouldn't differ too dramatically from what's below.\n",
        "\n",
        "For example, if the previous layer has `out_features=10`, the subsequent `Lazy` layer should infer that `in_features=10`.\n",
        "\n",
        "Let's test it out. "
      ]
    },
    {
      "cell_type": "code",
      "execution_count": 21,
      "metadata": {
        "colab": {
          "base_uri": "https://localhost:8080/"
        },
        "id": "oaCI_dP1x6K1",
        "outputId": "a72c8934-5c91-42c2-be97-282c15c6bca0"
      },
      "outputs": [
        {
          "name": "stderr",
          "output_type": "stream",
          "text": [
            "/usr/local/lib/python3.7/dist-packages/torch/nn/modules/lazy.py:178: UserWarning: Lazy modules are a new feature under heavy development so changes to the API or functionality can happen at any moment.\n",
            "  warnings.warn('Lazy modules are a new feature under heavy development '\n"
          ]
        },
        {
          "data": {
            "text/plain": [
              "tensor([[-0.2634, -0.5343,  0.4151,  0.0441,  0.1016, -0.0174,  0.1830, -0.1282,\n",
              "          0.0194,  0.4193]], grad_fn=<AddmmBackward0>)"
            ]
          },
          "execution_count": 21,
          "metadata": {},
          "output_type": "execute_result"
        }
      ],
      "source": [
        "# Try nn.LazyLinear() as the second layer\n",
        "model_4 = nn.Sequential(\n",
        "    nn.Flatten(),\n",
        "    nn.Linear(in_features=784, out_features=10),\n",
        "    nn.LazyLinear(out_features=10) # <-- NEW: no in_features parameter as this is inferred from the previous layer's output\n",
        ")\n",
        "\n",
        "# Pass the image through the model\n",
        "model_4(image)"
      ]
    },
    {
      "cell_type": "markdown",
      "metadata": {
        "id": "3qBxcM4lmNaO"
      },
      "source": [
        "It works (though there may be a warning depending on the version of PyTorch you're using, if so, don't worry, it's just to say the `Lazy` layers are still in development)!\n",
        "\n",
        "How about we try replacing all the `nn.Linear()` layers with `nn.LazyLinear()` layers?\n",
        "\n",
        "Then we'll only have to set the `out_features` values for each."
      ]
    },
    {
      "cell_type": "code",
      "execution_count": 23,
      "metadata": {
        "colab": {
          "base_uri": "https://localhost:8080/"
        },
        "id": "DyAxExMjySWk",
        "outputId": "8783b145-4834-48ec-8581-817433d7a7ac"
      },
      "outputs": [
        {
          "data": {
            "text/plain": [
              "tensor([[ 0.3281,  0.1542, -0.3209,  0.0141, -0.0008,  0.2368, -0.3739,  0.1751,\n",
              "          0.2002, -0.0280]], grad_fn=<AddmmBackward0>)"
            ]
          },
          "execution_count": 23,
          "metadata": {},
          "output_type": "execute_result"
        }
      ],
      "source": [
        "# Replace all nn.Linear() layers with nn.LazyLinear()\n",
        "model_5 = nn.Sequential(\n",
        "    nn.Flatten(),\n",
        "    nn.LazyLinear(out_features=10),\n",
        "    nn.LazyLinear(out_features=10) # <-- NEW \n",
        ")\n",
        "\n",
        "# Pass the image through the model\n",
        "model_5(image)"
      ]
    },
    {
      "cell_type": "markdown",
      "metadata": {
        "id": "0wmVgNTPybya"
      },
      "source": [
        "Nice!\n",
        "\n",
        "It worked again, our image was able to flow through the network without any issues.\n",
        "\n",
        "> **Note:** The above examples only deal with one type of layer in PyTorch, `nn.Linear()`, however, the principles of lining up input and output shapes with each layer is a constant throughout all neural networks and different types of data. \n",
        ">\n",
        "> Layers like [`nn.Conv2d()`](https://pytorch.org/docs/stable/generated/torch.nn.Conv2d.html), used in convolutional neural networks (CNNs) can even accept inputs without the use of `nn.Flatten()`. You can see more on this in [03. PyTorch Computer Vision section 7: Building a CNN](https://www.learnpytorch.io/03_pytorch_computer_vision/#7-model-2-building-a-convolutional-neural-network-cnn)."
      ]
    },
    {
      "cell_type": "markdown",
      "metadata": {
        "id": "Je-gilk01JPG"
      },
      "source": [
        "## 2. Device errors in PyTorch\n",
        "\n",
        "One of the main benefits of PyTorch is the in-built ability for doing computations on a GPU (graphics processing unit).\n",
        "\n",
        "GPUs can often perform operations, specifically matrix multiplications (which make up the most of neural networks) much faster than CPUs (central processing units).\n",
        "\n",
        "If you're using vanilla PyTorch (no other external libraries), PyTorch requires you to explicitly set which device you're computing on.\n",
        "\n",
        "For example, to send your model to a target `device`, you would use the [`to()`](https://pytorch.org/docs/stable/generated/torch.Tensor.to.html) method, such as `model.to(device)`.\n",
        "\n",
        "And similarly for data `some_dataset.to(device)`.\n",
        "\n",
        "**Device errors** occur when your model/data are on different devices.\n",
        "\n",
        "Such as when you've sent your model to the target GPU device but your data is still on the CPU.\n"
      ]
    },
    {
      "cell_type": "markdown",
      "metadata": {
        "id": "11by0kInSxDP"
      },
      "source": [
        "\n",
        "### 2.1 Setting the target device \n",
        "\n",
        "Let's set our current device to `\"cuda\"` if it's available.\n",
        "\n",
        "> **Note:** See [00. PyTorch Fundamentals: Running Tensors on GPUs](https://www.learnpytorch.io/00_pytorch_fundamentals/#running-tensors-on-gpus-and-making-faster-computations) for more information about how to get access to a GPU and set it up with PyTorch."
      ]
    },
    {
      "cell_type": "code",
      "execution_count": 24,
      "metadata": {
        "colab": {
          "base_uri": "https://localhost:8080/"
        },
        "id": "exUUpaso1O4x",
        "outputId": "81558d6b-e55a-4dde-b691-ed193da86271"
      },
      "outputs": [
        {
          "name": "stdout",
          "output_type": "stream",
          "text": [
            "Current device: cuda\n"
          ]
        }
      ],
      "source": [
        "import torch\n",
        "\n",
        "# Set device to \"cuda\" if it's available otherwise default to \"cpu\"\n",
        "device = \"cuda\" if torch.cuda.is_available() else \"cpu\"\n",
        "print(f\"Current device: {device}\")"
      ]
    },
    {
      "cell_type": "markdown",
      "metadata": {
        "id": "cHrhHjWGJj1t"
      },
      "source": [
        "Now let's create a model with the same layers as `model_5`.\n",
        "\n",
        "In PyTorch, models and tensors are created on the CPU by default.\n",
        "\n",
        "We can test this by checking the `device` attribute of the model we create."
      ]
    },
    {
      "cell_type": "code",
      "execution_count": 25,
      "metadata": {
        "colab": {
          "base_uri": "https://localhost:8080/"
        },
        "id": "dAgR1TuL1d9k",
        "outputId": "17321728-ae57-472c-e07b-99a8f3af4ce1"
      },
      "outputs": [
        {
          "name": "stdout",
          "output_type": "stream",
          "text": [
            "Model is on device: cpu\n"
          ]
        }
      ],
      "source": [
        "from torch import nn\n",
        "\n",
        "# Create a model (similar to model_5 above)\n",
        "model_6 = nn.Sequential(\n",
        "    nn.Flatten(),\n",
        "    nn.LazyLinear(out_features=10), \n",
        "    nn.LazyLinear(out_features=10)\n",
        ")\n",
        "\n",
        "# All models and tensors are created on the CPU by default (unless explicitly set otherwise)\n",
        "print(f\"Model is on device: {next(model_6.parameters()).device}\")"
      ]
    },
    {
      "cell_type": "markdown",
      "metadata": {
        "id": "luP1NImjK4FU"
      },
      "source": [
        "### 2.2 Preparing data for modelling\n",
        "\n",
        "To prepare our data for modelling, let's create some PyTorch `DataLoader`'s.\n",
        "\n",
        "To make things quicker, we'll use an instance of [`torch.utils.data.RandomSampler`](https://pytorch.org/docs/stable/data.html#torch.utils.data.RandomSampler) to randomly select 10% of the training and testing samples (we're not interested in the best performing model as much as we are in showcasing potential errors).\n",
        "\n",
        "We'll also setup a loss function of `torch.nn.CrossEntropyLoss()` as well as an optimizer of `torch.optim.SGD(lr=0.01)`.\n",
        "\n",
        "> **Note:** For more information on preparing data, loss functions and optimizers for training a PyTorch model, see [01. PyTorch Workflow Fundamentals section 3: Training a model](https://www.learnpytorch.io/01_pytorch_workflow/#3-train-model)."
      ]
    },
    {
      "cell_type": "code",
      "execution_count": 27,
      "metadata": {
        "colab": {
          "base_uri": "https://localhost:8080/"
        },
        "id": "s-E-r1cwLMNO",
        "outputId": "414621d6-bd9c-445a-d21d-873e70eb9aa2"
      },
      "outputs": [
        {
          "name": "stdout",
          "output_type": "stream",
          "text": [
            "Number of random training samples selected: 6000/60000\n",
            "Number of random testing samples selected: 1000/10000\n",
            "Number of batches in train_dataloader: 188 batches of size 32\n",
            "Number of batches in test_dataloader: 32 batch of size 32\n"
          ]
        }
      ],
      "source": [
        "from torch.utils.data import DataLoader, RandomSampler\n",
        "\n",
        "# Only sample 10% of the data\n",
        "train_sampler = RandomSampler(train_data, \n",
        "                              num_samples=int(0.1*len(train_data)))\n",
        "\n",
        "test_sampler = RandomSampler(test_data, \n",
        "                             num_samples=int(0.1*len(test_data)))\n",
        "\n",
        "print(f\"Number of random training samples selected: {len(train_sampler)}/{len(train_data)}\")\n",
        "print(f\"Number of random testing samples selected: {len(test_sampler)}/{len(test_data)}\")\n",
        "\n",
        "# Create DataLoaders and turn data into batches\n",
        "BATCH_SIZE = 32\n",
        "train_dataloader = DataLoader(dataset=train_data,\n",
        "                              batch_size=BATCH_SIZE,\n",
        "                              sampler=train_sampler)\n",
        "\n",
        "test_dataloader = DataLoader(dataset=test_data,\n",
        "                             batch_size=BATCH_SIZE,\n",
        "                             sampler=test_sampler)\n",
        "\n",
        "print(f\"Number of batches in train_dataloader: {len(train_dataloader)} batches of size {BATCH_SIZE}\")\n",
        "print(f\"Number of batches in test_dataloader: {len(test_dataloader)} batch of size {BATCH_SIZE}\")\n",
        "\n",
        "# Create loss function\n",
        "loss_fn = nn.CrossEntropyLoss()\n",
        "\n",
        "# Create optimizer\n",
        "optimizer = torch.optim.SGD(lr=0.01, \n",
        "                            params=model_6.parameters())"
      ]
    },
    {
      "cell_type": "markdown",
      "metadata": {
        "id": "3_HUyq0h1pW1"
      },
      "source": [
        "### 2.3 Training a model on the CPU\n",
        "\n",
        "Data ready, model ready, let's train!\n",
        "\n",
        "We'll use a standard PyTorch training loop to do five epochs of training with `model_6` going over 10% of the data.\n",
        "\n",
        "Don't worry too much here about the loss being as low as it could be as we're more focused on making sure there aren't any errors than having the lowest possible loss.\n",
        "\n",
        "<img src=\"https://github.com/mrdbourke/pytorch-deep-learning/raw/main/images/01-pytorch-training-loop-annotated.png\" alt=\"annotated pytorch training loop steps\" width=750/>\n",
        "\n",
        "> **Note:** For more information on the steps in a PyTorch training loop, see [01. PyTorch Workflow section 3: PyTorch training loop](https://www.learnpytorch.io/01_pytorch_workflow/#pytorch-training-loop)."
      ]
    },
    {
      "cell_type": "code",
      "execution_count": 28,
      "metadata": {
        "colab": {
          "base_uri": "https://localhost:8080/",
          "height": 138,
          "referenced_widgets": [
            "7eb757ec70a8423786d00fb6bc4d96c8",
            "5027e2850bcc4215b3477a520a82193b",
            "ac73c241cab24539bb8ec1bbed73e661",
            "2e15505a25104810ba6dfbffcf3be56b",
            "839d418b11a048e8ad0d4f12538db3b5",
            "25608da4b52a43a19bb2e1b61a57ea6c",
            "e2b623c814f24723a24a1feb045161e1",
            "641e8ddea9cc4500aee6d0fd2088394b",
            "1e059d77642d4b7cb0bb767845cc33fc",
            "9cd681423e59488c813d255506e442c3",
            "5986557fceeb4325be042aec2a3be0f8"
          ]
        },
        "id": "SZGlHiEZ2ia1",
        "outputId": "8825aa5d-bb71-4cbc-c864-6d4c0c3d2d49"
      },
      "outputs": [
        {
          "data": {
            "application/vnd.jupyter.widget-view+json": {
              "model_id": "7eb757ec70a8423786d00fb6bc4d96c8",
              "version_major": 2,
              "version_minor": 0
            },
            "text/plain": [
              "  0%|          | 0/5 [00:00<?, ?it/s]"
            ]
          },
          "metadata": {},
          "output_type": "display_data"
        },
        {
          "name": "stdout",
          "output_type": "stream",
          "text": [
            "Epoch: 0 | Training loss: 351.74\n",
            "Epoch: 1 | Training loss: 228.72\n",
            "Epoch: 2 | Training loss: 181.69\n",
            "Epoch: 3 | Training loss: 163.14\n",
            "Epoch: 4 | Training loss: 153.80\n"
          ]
        }
      ],
      "source": [
        "from tqdm.auto import tqdm\n",
        "\n",
        "# Set the number of epochs\n",
        "epochs = 5\n",
        "\n",
        "# Train the model\n",
        "for epoch in tqdm(range(epochs)):\n",
        "\n",
        "  # Set loss to 0 every epoch\n",
        "  train_loss = 0\n",
        "\n",
        "  # Get images (X) and labels (y)\n",
        "  for X, y in train_dataloader:\n",
        "\n",
        "    # Forward pass\n",
        "    y_pred = model_6(X)\n",
        "\n",
        "    # Calculate the loss\n",
        "    loss = loss_fn(y_pred, y)\n",
        "    train_loss += loss\n",
        "    \n",
        "    # Optimizer zero grad\n",
        "    optimizer.zero_grad()\n",
        "\n",
        "    # Loss backward\n",
        "    loss.backward()\n",
        "\n",
        "    # Optimizer step\n",
        "    optimizer.step()\n",
        "  \n",
        "  # Print loss in the epoch loop only\n",
        "  print(f\"Epoch: {epoch} | Training loss: {train_loss:.2f}\")"
      ]
    },
    {
      "cell_type": "markdown",
      "metadata": {
        "id": "TEWLvp6Z2yyW"
      },
      "source": [
        "Nice! Looks like our training loop is working!\n",
        "\n",
        "Our model's loss is going down (the lower the loss the better)."
      ]
    },
    {
      "cell_type": "markdown",
      "metadata": {
        "id": "li2qWSqxTAWN"
      },
      "source": [
        "### 2.4 Attempting to train a model on the GPU (with errors)\n",
        "\n",
        "Now let's send our `model_6` to the target `device` (in our case, this is a `\"cuda\"` GPU)."
      ]
    },
    {
      "cell_type": "code",
      "execution_count": 29,
      "metadata": {
        "colab": {
          "base_uri": "https://localhost:8080/"
        },
        "id": "gSUrDJ_L4Xgg",
        "outputId": "525b4594-ed62-4f89-b271-e47686c8b7cc"
      },
      "outputs": [
        {
          "name": "stdout",
          "output_type": "stream",
          "text": [
            "Model is on device: cuda:0\n"
          ]
        }
      ],
      "source": [
        "# Send model_6 to the target device (\"cuda\")\n",
        "model_6.to(device)\n",
        "\n",
        "# Print out what device the model is on\n",
        "print(f\"Model is on device: {next(model_6.parameters()).device}\")"
      ]
    },
    {
      "cell_type": "markdown",
      "metadata": {
        "id": "tBFLUPpsRXmn"
      },
      "source": [
        "Our `model_6` is on the `\"cuda:0\"` (where `0` is the index of the device, in case there was more than one GPU) device.\n",
        "\n",
        "Now let's run the same training loop code as above and see what happens.\n",
        "\n",
        "Can you guess?"
      ]
    },
    {
      "cell_type": "code",
      "execution_count": 30,
      "metadata": {
        "colab": {
          "base_uri": "https://localhost:8080/",
          "height": 439,
          "referenced_widgets": [
            "e4fe8b542fcb47028453a168dcbd07a7",
            "6efcee4970a74180b4523430669e9597",
            "2c33b812bb784a0fa4fb42345e2a1983",
            "896c3c1f81134de5b1e49afd0d7eb112",
            "c8d795f32bb545ce8414f57a37e7f67e",
            "4cc6d29cbdb444f4abd747426b3b9b94",
            "a0057b36eda9473796e04fc6483e23fc",
            "60462c3fd8c5499f8e4a78e1047470e4",
            "477247bb2cbc44a5b7205abcbe0ef10b",
            "9d73ae7f54dc4272b6b091b8f7bdf032",
            "473ab63c2bb14bc1902216f445f26d01"
          ]
        },
        "id": "22H3RsMU4Z-8",
        "outputId": "080eef43-3231-425c-c618-52dccf9fee68"
      },
      "outputs": [
        {
          "data": {
            "application/vnd.jupyter.widget-view+json": {
              "model_id": "e4fe8b542fcb47028453a168dcbd07a7",
              "version_major": 2,
              "version_minor": 0
            },
            "text/plain": [
              "  0%|          | 0/5 [00:00<?, ?it/s]"
            ]
          },
          "metadata": {},
          "output_type": "display_data"
        },
        {
          "ename": "RuntimeError",
          "evalue": "ignored",
          "output_type": "error",
          "traceback": [
            "\u001b[0;31m---------------------------------------------------------------------------\u001b[0m",
            "\u001b[0;31mRuntimeError\u001b[0m                              Traceback (most recent call last)",
            "\u001b[0;32m<ipython-input-30-c60a0046da7d>\u001b[0m in \u001b[0;36m<module>\u001b[0;34m\u001b[0m\n\u001b[1;32m     14\u001b[0m \u001b[0;34m\u001b[0m\u001b[0m\n\u001b[1;32m     15\u001b[0m     \u001b[0;31m# Forward pass\u001b[0m\u001b[0;34m\u001b[0m\u001b[0;34m\u001b[0m\u001b[0;34m\u001b[0m\u001b[0m\n\u001b[0;32m---> 16\u001b[0;31m     \u001b[0my_pred\u001b[0m \u001b[0;34m=\u001b[0m \u001b[0mmodel_6\u001b[0m\u001b[0;34m(\u001b[0m\u001b[0mX\u001b[0m\u001b[0;34m)\u001b[0m \u001b[0;31m# model is on GPU, data is on CPU (will error)\u001b[0m\u001b[0;34m\u001b[0m\u001b[0;34m\u001b[0m\u001b[0m\n\u001b[0m\u001b[1;32m     17\u001b[0m \u001b[0;34m\u001b[0m\u001b[0m\n\u001b[1;32m     18\u001b[0m     \u001b[0;31m# Calculate the loss\u001b[0m\u001b[0;34m\u001b[0m\u001b[0;34m\u001b[0m\u001b[0;34m\u001b[0m\u001b[0m\n",
            "\u001b[0;32m/usr/local/lib/python3.7/dist-packages/torch/nn/modules/module.py\u001b[0m in \u001b[0;36m_call_impl\u001b[0;34m(self, *input, **kwargs)\u001b[0m\n\u001b[1;32m   1128\u001b[0m         if not (self._backward_hooks or self._forward_hooks or self._forward_pre_hooks or _global_backward_hooks\n\u001b[1;32m   1129\u001b[0m                 or _global_forward_hooks or _global_forward_pre_hooks):\n\u001b[0;32m-> 1130\u001b[0;31m             \u001b[0;32mreturn\u001b[0m \u001b[0mforward_call\u001b[0m\u001b[0;34m(\u001b[0m\u001b[0;34m*\u001b[0m\u001b[0minput\u001b[0m\u001b[0;34m,\u001b[0m \u001b[0;34m**\u001b[0m\u001b[0mkwargs\u001b[0m\u001b[0;34m)\u001b[0m\u001b[0;34m\u001b[0m\u001b[0;34m\u001b[0m\u001b[0m\n\u001b[0m\u001b[1;32m   1131\u001b[0m         \u001b[0;31m# Do not call functions when jit is used\u001b[0m\u001b[0;34m\u001b[0m\u001b[0;34m\u001b[0m\u001b[0;34m\u001b[0m\u001b[0m\n\u001b[1;32m   1132\u001b[0m         \u001b[0mfull_backward_hooks\u001b[0m\u001b[0;34m,\u001b[0m \u001b[0mnon_full_backward_hooks\u001b[0m \u001b[0;34m=\u001b[0m \u001b[0;34m[\u001b[0m\u001b[0;34m]\u001b[0m\u001b[0;34m,\u001b[0m \u001b[0;34m[\u001b[0m\u001b[0;34m]\u001b[0m\u001b[0;34m\u001b[0m\u001b[0;34m\u001b[0m\u001b[0m\n",
            "\u001b[0;32m/usr/local/lib/python3.7/dist-packages/torch/nn/modules/container.py\u001b[0m in \u001b[0;36mforward\u001b[0;34m(self, input)\u001b[0m\n\u001b[1;32m    137\u001b[0m     \u001b[0;32mdef\u001b[0m \u001b[0mforward\u001b[0m\u001b[0;34m(\u001b[0m\u001b[0mself\u001b[0m\u001b[0;34m,\u001b[0m \u001b[0minput\u001b[0m\u001b[0;34m)\u001b[0m\u001b[0;34m:\u001b[0m\u001b[0;34m\u001b[0m\u001b[0;34m\u001b[0m\u001b[0m\n\u001b[1;32m    138\u001b[0m         \u001b[0;32mfor\u001b[0m \u001b[0mmodule\u001b[0m \u001b[0;32min\u001b[0m \u001b[0mself\u001b[0m\u001b[0;34m:\u001b[0m\u001b[0;34m\u001b[0m\u001b[0;34m\u001b[0m\u001b[0m\n\u001b[0;32m--> 139\u001b[0;31m             \u001b[0minput\u001b[0m \u001b[0;34m=\u001b[0m \u001b[0mmodule\u001b[0m\u001b[0;34m(\u001b[0m\u001b[0minput\u001b[0m\u001b[0;34m)\u001b[0m\u001b[0;34m\u001b[0m\u001b[0;34m\u001b[0m\u001b[0m\n\u001b[0m\u001b[1;32m    140\u001b[0m         \u001b[0;32mreturn\u001b[0m \u001b[0minput\u001b[0m\u001b[0;34m\u001b[0m\u001b[0;34m\u001b[0m\u001b[0m\n\u001b[1;32m    141\u001b[0m \u001b[0;34m\u001b[0m\u001b[0m\n",
            "\u001b[0;32m/usr/local/lib/python3.7/dist-packages/torch/nn/modules/module.py\u001b[0m in \u001b[0;36m_call_impl\u001b[0;34m(self, *input, **kwargs)\u001b[0m\n\u001b[1;32m   1128\u001b[0m         if not (self._backward_hooks or self._forward_hooks or self._forward_pre_hooks or _global_backward_hooks\n\u001b[1;32m   1129\u001b[0m                 or _global_forward_hooks or _global_forward_pre_hooks):\n\u001b[0;32m-> 1130\u001b[0;31m             \u001b[0;32mreturn\u001b[0m \u001b[0mforward_call\u001b[0m\u001b[0;34m(\u001b[0m\u001b[0;34m*\u001b[0m\u001b[0minput\u001b[0m\u001b[0;34m,\u001b[0m \u001b[0;34m**\u001b[0m\u001b[0mkwargs\u001b[0m\u001b[0;34m)\u001b[0m\u001b[0;34m\u001b[0m\u001b[0;34m\u001b[0m\u001b[0m\n\u001b[0m\u001b[1;32m   1131\u001b[0m         \u001b[0;31m# Do not call functions when jit is used\u001b[0m\u001b[0;34m\u001b[0m\u001b[0;34m\u001b[0m\u001b[0;34m\u001b[0m\u001b[0m\n\u001b[1;32m   1132\u001b[0m         \u001b[0mfull_backward_hooks\u001b[0m\u001b[0;34m,\u001b[0m \u001b[0mnon_full_backward_hooks\u001b[0m \u001b[0;34m=\u001b[0m \u001b[0;34m[\u001b[0m\u001b[0;34m]\u001b[0m\u001b[0;34m,\u001b[0m \u001b[0;34m[\u001b[0m\u001b[0;34m]\u001b[0m\u001b[0;34m\u001b[0m\u001b[0;34m\u001b[0m\u001b[0m\n",
            "\u001b[0;32m/usr/local/lib/python3.7/dist-packages/torch/nn/modules/linear.py\u001b[0m in \u001b[0;36mforward\u001b[0;34m(self, input)\u001b[0m\n\u001b[1;32m    112\u001b[0m \u001b[0;34m\u001b[0m\u001b[0m\n\u001b[1;32m    113\u001b[0m     \u001b[0;32mdef\u001b[0m \u001b[0mforward\u001b[0m\u001b[0;34m(\u001b[0m\u001b[0mself\u001b[0m\u001b[0;34m,\u001b[0m \u001b[0minput\u001b[0m\u001b[0;34m:\u001b[0m \u001b[0mTensor\u001b[0m\u001b[0;34m)\u001b[0m \u001b[0;34m->\u001b[0m \u001b[0mTensor\u001b[0m\u001b[0;34m:\u001b[0m\u001b[0;34m\u001b[0m\u001b[0;34m\u001b[0m\u001b[0m\n\u001b[0;32m--> 114\u001b[0;31m         \u001b[0;32mreturn\u001b[0m \u001b[0mF\u001b[0m\u001b[0;34m.\u001b[0m\u001b[0mlinear\u001b[0m\u001b[0;34m(\u001b[0m\u001b[0minput\u001b[0m\u001b[0;34m,\u001b[0m \u001b[0mself\u001b[0m\u001b[0;34m.\u001b[0m\u001b[0mweight\u001b[0m\u001b[0;34m,\u001b[0m \u001b[0mself\u001b[0m\u001b[0;34m.\u001b[0m\u001b[0mbias\u001b[0m\u001b[0;34m)\u001b[0m\u001b[0;34m\u001b[0m\u001b[0;34m\u001b[0m\u001b[0m\n\u001b[0m\u001b[1;32m    115\u001b[0m \u001b[0;34m\u001b[0m\u001b[0m\n\u001b[1;32m    116\u001b[0m     \u001b[0;32mdef\u001b[0m \u001b[0mextra_repr\u001b[0m\u001b[0;34m(\u001b[0m\u001b[0mself\u001b[0m\u001b[0;34m)\u001b[0m \u001b[0;34m->\u001b[0m \u001b[0mstr\u001b[0m\u001b[0;34m:\u001b[0m\u001b[0;34m\u001b[0m\u001b[0;34m\u001b[0m\u001b[0m\n",
            "\u001b[0;31mRuntimeError\u001b[0m: Expected all tensors to be on the same device, but found at least two devices, cuda:0 and cpu! (when checking argument for argument mat1 in method wrapper_addmm)"
          ]
        }
      ],
      "source": [
        "from tqdm.auto import tqdm\n",
        "\n",
        "# Set the number of epochs\n",
        "epochs = 5\n",
        "\n",
        "# Train the model\n",
        "for epoch in tqdm(range(epochs)):\n",
        "\n",
        "  # Set loss to 0 every epoch\n",
        "  train_loss = 0\n",
        "\n",
        "  # Get images (X) and labels (y)\n",
        "  for X, y in train_dataloader:\n",
        "\n",
        "    # Forward pass\n",
        "    y_pred = model_6(X) # model is on GPU, data is on CPU (will error)\n",
        "\n",
        "    # Calculate the loss\n",
        "    loss = loss_fn(y_pred, y)\n",
        "    train_loss += loss\n",
        "    \n",
        "    # Optimizer zero grad\n",
        "    optimizer.zero_grad()\n",
        "\n",
        "    # Loss backward\n",
        "    loss.backward()\n",
        "\n",
        "    # Optimizer step\n",
        "    optimizer.step()\n",
        "  \n",
        "  # Print loss in the epoch loop only\n",
        "  print(f\"Epoch: {epoch} | Training loss: {train_loss:.2f}\")"
      ]
    },
    {
      "cell_type": "markdown",
      "metadata": {
        "id": "9nn3IfXoPS_g"
      },
      "source": [
        "Whoops!\n",
        "\n",
        "Looks like we go a device error:\n",
        "\n",
        "```\n",
        "/usr/local/lib/python3.7/dist-packages/torch/nn/modules/linear.py in forward(self, input)\n",
        "    112 \n",
        "    113     def forward(self, input: Tensor) -> Tensor:\n",
        "--> 114         return F.linear(input, self.weight, self.bias)\n",
        "    115 \n",
        "    116     def extra_repr(self) -> str:\n",
        "\n",
        "RuntimeError: Expected all tensors to be on the same device, but found at least two devices, cuda:0 and cpu! (when checking argument for argument mat1 in method wrapper_addmm)\n",
        "```\n",
        "\n",
        "We can see the error states `Expected all tensors to be on the same device, but found at least two devices, cuda:0 and cpu!`.\n",
        "\n",
        "In essence, our model is on the `cuda:0` device but our data tensors (`X` and `y`) are still on the `cpu` device.\n",
        "\n",
        "But **PyTorch expects *all* tensors to be on the same device**.\n",
        "\n"
      ]
    },
    {
      "cell_type": "markdown",
      "metadata": {
        "id": "9E5yG1Z7TQLe"
      },
      "source": [
        "\n",
        "\n",
        "### 2.5 Training a model on the GPU (without errors) \n",
        "\n",
        "Let's fix this error but sending our data tensors (`X` and `y`) to the target `device` as well.\n",
        "\n",
        "We can do so using `X.to(device)` and `y.to(device)`.\n"
      ]
    },
    {
      "cell_type": "code",
      "execution_count": 31,
      "metadata": {
        "colab": {
          "base_uri": "https://localhost:8080/",
          "height": 138,
          "referenced_widgets": [
            "cd31fd86e51b4233a3c17fdb807ffe24",
            "e73aab3f3f2b4b51a81d07093204fd9f",
            "42df727e198149fb801fa15f9d95a444",
            "c69a5b8b87864833b7396732369a88dd",
            "a90885205f7e4ef7bf66942e68262741",
            "8e14f870dc98475f9af3af6438aec2a7",
            "6b199bf8e0ec4f40ae03feb28c3cfdb6",
            "4011053b313e41928157c17a6bcdd27c",
            "0d2aac68dee24237864ce2d42069c99c",
            "ecf3a4f1ba17475e81956af62ef4a58f",
            "e93f13a4875347d7be07b4bbcecccb31"
          ]
        },
        "id": "0qzE1YLI4rRZ",
        "outputId": "18acce27-23ba-43f4-84f3-4cba964ce8e5"
      },
      "outputs": [
        {
          "data": {
            "application/vnd.jupyter.widget-view+json": {
              "model_id": "cd31fd86e51b4233a3c17fdb807ffe24",
              "version_major": 2,
              "version_minor": 0
            },
            "text/plain": [
              "  0%|          | 0/5 [00:00<?, ?it/s]"
            ]
          },
          "metadata": {},
          "output_type": "display_data"
        },
        {
          "name": "stdout",
          "output_type": "stream",
          "text": [
            "Epoch: 0 | Training loss: 140.79\n",
            "Epoch: 1 | Training loss: 135.18\n",
            "Epoch: 2 | Training loss: 131.64\n",
            "Epoch: 3 | Training loss: 124.35\n",
            "Epoch: 4 | Training loss: 120.91\n"
          ]
        }
      ],
      "source": [
        "# Send the model to the target device (we don't need to do this again but we will for completeness)\n",
        "model_6.to(device)\n",
        "\n",
        "# Set the number of epochs\n",
        "epochs = 5\n",
        "\n",
        "# Train the model\n",
        "for epoch in tqdm(range(epochs)):\n",
        "\n",
        "  # Set loss to 0 every epoch\n",
        "  train_loss = 0\n",
        "\n",
        "  # Get images (X) and labels (y)\n",
        "  for X, y in train_dataloader:\n",
        "\n",
        "    # Put target data on target device  <-- NEW\n",
        "    X, y = X.to(device), y.to(device) # <-- NEW: send data to target device\n",
        "\n",
        "    # Forward pass\n",
        "    y_pred = model_6(X)\n",
        "\n",
        "    # Calculate the loss\n",
        "    loss = loss_fn(y_pred, y)\n",
        "    train_loss += loss\n",
        "    \n",
        "    # Optimizer zero grad\n",
        "    optimizer.zero_grad()\n",
        "\n",
        "    # Loss backward\n",
        "    loss.backward()\n",
        "\n",
        "    # Optimizer step\n",
        "    optimizer.step()\n",
        "  \n",
        "  # Print loss in the epoch loop only\n",
        "  print(f\"Epoch: {epoch} | Training loss: {train_loss:.2f}\")"
      ]
    },
    {
      "cell_type": "markdown",
      "metadata": {
        "id": "uiFepgjWImHZ"
      },
      "source": [
        "Excellent!\n",
        "\n",
        "Our training loop completes just as before because now both our model *and* data tensors are on the same device.\n",
        "\n",
        "> **Note:** Libraries like [HuggingFace Accelerate](https://github.com/huggingface/accelerate) are a fantastic way to train your PyTorch models with minimal explicit device setting (they discover the best device to use and set things up for you). You could also write functions to ensure your training code happens all on the same device, see [05. PyTorch Going Modular section 4: Creating training functions](https://www.learnpytorch.io/05_pytorch_going_modular/#4-creating-train_step-and-test_step-functions-and-train-to-combine-them) for more."
      ]
    },
    {
      "cell_type": "markdown",
      "metadata": {
        "id": "8BonBePz5i0c"
      },
      "source": [
        "### 2.6 Device errors when making predictions\n",
        "\n",
        "We've seen device errors whilst training but the same error can occur during testing or inference (making predictions).\n",
        "\n",
        "The whole idea of training a model on some data is to use it to make predictions on *unseen* data.\n",
        "\n",
        "Let's take our trained `model_6` and use it to make a prediction on a sample from the test dataset."
      ]
    },
    {
      "cell_type": "code",
      "execution_count": 32,
      "metadata": {
        "colab": {
          "base_uri": "https://localhost:8080/"
        },
        "id": "DWnmHN1V8uGP",
        "outputId": "cec02e66-1a62-4998-f344-f1d412b2f31f"
      },
      "outputs": [
        {
          "name": "stdout",
          "output_type": "stream",
          "text": [
            "Test image shape: torch.Size([28, 28])\n",
            "Test image label: 9\n"
          ]
        }
      ],
      "source": [
        "# Get a single sample from the test dataset\n",
        "test_image, test_label = test_data.data[0], test_data.targets[0]\n",
        "print(f\"Test image shape: {test_image.shape}\")\n",
        "print(f\"Test image label: {test_label}\")"
      ]
    },
    {
      "cell_type": "code",
      "execution_count": 33,
      "metadata": {
        "colab": {
          "base_uri": "https://localhost:8080/",
          "height": 264
        },
        "id": "lglKpnhS874e",
        "outputId": "73e9ac57-866f-4cb0-9b8d-edb03ff006ed"
      },
      "outputs": [
        {
          "data": {
            "image/png": "[encoded data removed]",
            "text/plain": [
              "<Figure size 432x288 with 1 Axes>"
            ]
          },
          "metadata": {
            "needs_background": "light"
          },
          "output_type": "display_data"
        }
      ],
      "source": [
        "# Plot test image\n",
        "import matplotlib.pyplot as plt\n",
        "plt.imshow(test_image, cmap=\"gray\")\n",
        "plt.axis(False)\n",
        "plt.title(class_names[test_label]);"
      ]
    },
    {
      "cell_type": "markdown",
      "metadata": {
        "id": "YXQsxbrGu9Vw"
      },
      "source": [
        "Looking good!\n",
        "\n",
        "Now let's try to make a prediction on it by passing it to our `model_6`."
      ]
    },
    {
      "cell_type": "code",
      "execution_count": 34,
      "metadata": {
        "colab": {
          "base_uri": "https://localhost:8080/",
          "height": 353
        },
        "id": "av2n94gl5ZIC",
        "outputId": "3a154fca-d34f-46d1-a0b9-50a19db2fb7a"
      },
      "outputs": [
        {
          "ename": "RuntimeError",
          "evalue": "ignored",
          "output_type": "error",
          "traceback": [
            "\u001b[0;31m---------------------------------------------------------------------------\u001b[0m",
            "\u001b[0;31mRuntimeError\u001b[0m                              Traceback (most recent call last)",
            "\u001b[0;32m<ipython-input-34-d7f5b6c5df4a>\u001b[0m in \u001b[0;36m<module>\u001b[0;34m\u001b[0m\n\u001b[1;32m      1\u001b[0m \u001b[0;31m# Pass the test image through model_6 to make a prediction\u001b[0m\u001b[0;34m\u001b[0m\u001b[0;34m\u001b[0m\u001b[0;34m\u001b[0m\u001b[0m\n\u001b[0;32m----> 2\u001b[0;31m \u001b[0mmodel_6\u001b[0m\u001b[0;34m(\u001b[0m\u001b[0mtest_image\u001b[0m\u001b[0;34m)\u001b[0m\u001b[0;34m\u001b[0m\u001b[0;34m\u001b[0m\u001b[0m\n\u001b[0m",
            "\u001b[0;32m/usr/local/lib/python3.7/dist-packages/torch/nn/modules/module.py\u001b[0m in \u001b[0;36m_call_impl\u001b[0;34m(self, *input, **kwargs)\u001b[0m\n\u001b[1;32m   1128\u001b[0m         if not (self._backward_hooks or self._forward_hooks or self._forward_pre_hooks or _global_backward_hooks\n\u001b[1;32m   1129\u001b[0m                 or _global_forward_hooks or _global_forward_pre_hooks):\n\u001b[0;32m-> 1130\u001b[0;31m             \u001b[0;32mreturn\u001b[0m \u001b[0mforward_call\u001b[0m\u001b[0;34m(\u001b[0m\u001b[0;34m*\u001b[0m\u001b[0minput\u001b[0m\u001b[0;34m,\u001b[0m \u001b[0;34m**\u001b[0m\u001b[0mkwargs\u001b[0m\u001b[0;34m)\u001b[0m\u001b[0;34m\u001b[0m\u001b[0;34m\u001b[0m\u001b[0m\n\u001b[0m\u001b[1;32m   1131\u001b[0m         \u001b[0;31m# Do not call functions when jit is used\u001b[0m\u001b[0;34m\u001b[0m\u001b[0;34m\u001b[0m\u001b[0;34m\u001b[0m\u001b[0m\n\u001b[1;32m   1132\u001b[0m         \u001b[0mfull_backward_hooks\u001b[0m\u001b[0;34m,\u001b[0m \u001b[0mnon_full_backward_hooks\u001b[0m \u001b[0;34m=\u001b[0m \u001b[0;34m[\u001b[0m\u001b[0;34m]\u001b[0m\u001b[0;34m,\u001b[0m \u001b[0;34m[\u001b[0m\u001b[0;34m]\u001b[0m\u001b[0;34m\u001b[0m\u001b[0;34m\u001b[0m\u001b[0m\n",
            "\u001b[0;32m/usr/local/lib/python3.7/dist-packages/torch/nn/modules/container.py\u001b[0m in \u001b[0;36mforward\u001b[0;34m(self, input)\u001b[0m\n\u001b[1;32m    137\u001b[0m     \u001b[0;32mdef\u001b[0m \u001b[0mforward\u001b[0m\u001b[0;34m(\u001b[0m\u001b[0mself\u001b[0m\u001b[0;34m,\u001b[0m \u001b[0minput\u001b[0m\u001b[0;34m)\u001b[0m\u001b[0;34m:\u001b[0m\u001b[0;34m\u001b[0m\u001b[0;34m\u001b[0m\u001b[0m\n\u001b[1;32m    138\u001b[0m         \u001b[0;32mfor\u001b[0m \u001b[0mmodule\u001b[0m \u001b[0;32min\u001b[0m \u001b[0mself\u001b[0m\u001b[0;34m:\u001b[0m\u001b[0;34m\u001b[0m\u001b[0;34m\u001b[0m\u001b[0m\n\u001b[0;32m--> 139\u001b[0;31m             \u001b[0minput\u001b[0m \u001b[0;34m=\u001b[0m \u001b[0mmodule\u001b[0m\u001b[0;34m(\u001b[0m\u001b[0minput\u001b[0m\u001b[0;34m)\u001b[0m\u001b[0;34m\u001b[0m\u001b[0;34m\u001b[0m\u001b[0m\n\u001b[0m\u001b[1;32m    140\u001b[0m         \u001b[0;32mreturn\u001b[0m \u001b[0minput\u001b[0m\u001b[0;34m\u001b[0m\u001b[0;34m\u001b[0m\u001b[0m\n\u001b[1;32m    141\u001b[0m \u001b[0;34m\u001b[0m\u001b[0m\n",
            "\u001b[0;32m/usr/local/lib/python3.7/dist-packages/torch/nn/modules/module.py\u001b[0m in \u001b[0;36m_call_impl\u001b[0;34m(self, *input, **kwargs)\u001b[0m\n\u001b[1;32m   1128\u001b[0m         if not (self._backward_hooks or self._forward_hooks or self._forward_pre_hooks or _global_backward_hooks\n\u001b[1;32m   1129\u001b[0m                 or _global_forward_hooks or _global_forward_pre_hooks):\n\u001b[0;32m-> 1130\u001b[0;31m             \u001b[0;32mreturn\u001b[0m \u001b[0mforward_call\u001b[0m\u001b[0;34m(\u001b[0m\u001b[0;34m*\u001b[0m\u001b[0minput\u001b[0m\u001b[0;34m,\u001b[0m \u001b[0;34m**\u001b[0m\u001b[0mkwargs\u001b[0m\u001b[0;34m)\u001b[0m\u001b[0;34m\u001b[0m\u001b[0;34m\u001b[0m\u001b[0m\n\u001b[0m\u001b[1;32m   1131\u001b[0m         \u001b[0;31m# Do not call functions when jit is used\u001b[0m\u001b[0;34m\u001b[0m\u001b[0;34m\u001b[0m\u001b[0;34m\u001b[0m\u001b[0m\n\u001b[1;32m   1132\u001b[0m         \u001b[0mfull_backward_hooks\u001b[0m\u001b[0;34m,\u001b[0m \u001b[0mnon_full_backward_hooks\u001b[0m \u001b[0;34m=\u001b[0m \u001b[0;34m[\u001b[0m\u001b[0;34m]\u001b[0m\u001b[0;34m,\u001b[0m \u001b[0;34m[\u001b[0m\u001b[0;34m]\u001b[0m\u001b[0;34m\u001b[0m\u001b[0;34m\u001b[0m\u001b[0m\n",
            "\u001b[0;32m/usr/local/lib/python3.7/dist-packages/torch/nn/modules/linear.py\u001b[0m in \u001b[0;36mforward\u001b[0;34m(self, input)\u001b[0m\n\u001b[1;32m    112\u001b[0m \u001b[0;34m\u001b[0m\u001b[0m\n\u001b[1;32m    113\u001b[0m     \u001b[0;32mdef\u001b[0m \u001b[0mforward\u001b[0m\u001b[0;34m(\u001b[0m\u001b[0mself\u001b[0m\u001b[0;34m,\u001b[0m \u001b[0minput\u001b[0m\u001b[0;34m:\u001b[0m \u001b[0mTensor\u001b[0m\u001b[0;34m)\u001b[0m \u001b[0;34m->\u001b[0m \u001b[0mTensor\u001b[0m\u001b[0;34m:\u001b[0m\u001b[0;34m\u001b[0m\u001b[0;34m\u001b[0m\u001b[0m\n\u001b[0;32m--> 114\u001b[0;31m         \u001b[0;32mreturn\u001b[0m \u001b[0mF\u001b[0m\u001b[0;34m.\u001b[0m\u001b[0mlinear\u001b[0m\u001b[0;34m(\u001b[0m\u001b[0minput\u001b[0m\u001b[0;34m,\u001b[0m \u001b[0mself\u001b[0m\u001b[0;34m.\u001b[0m\u001b[0mweight\u001b[0m\u001b[0;34m,\u001b[0m \u001b[0mself\u001b[0m\u001b[0;34m.\u001b[0m\u001b[0mbias\u001b[0m\u001b[0;34m)\u001b[0m\u001b[0;34m\u001b[0m\u001b[0;34m\u001b[0m\u001b[0m\n\u001b[0m\u001b[1;32m    115\u001b[0m \u001b[0;34m\u001b[0m\u001b[0m\n\u001b[1;32m    116\u001b[0m     \u001b[0;32mdef\u001b[0m \u001b[0mextra_repr\u001b[0m\u001b[0;34m(\u001b[0m\u001b[0mself\u001b[0m\u001b[0;34m)\u001b[0m \u001b[0;34m->\u001b[0m \u001b[0mstr\u001b[0m\u001b[0;34m:\u001b[0m\u001b[0;34m\u001b[0m\u001b[0;34m\u001b[0m\u001b[0m\n",
            "\u001b[0;31mRuntimeError\u001b[0m: Expected all tensors to be on the same device, but found at least two devices, cuda:0 and cpu! (when checking argument for argument mat1 in method wrapper_addmm)"
          ]
        }
      ],
      "source": [
        "# Pass the test image through model_6 to make a prediction\n",
        "model_6(test_image)"
      ]
    },
    {
      "cell_type": "markdown",
      "metadata": {
        "id": "TrLAT8HgvJ_T"
      },
      "source": [
        "Dam!\n",
        "\n",
        "We get another device error.\n",
        "\n",
        "```\n",
        "/usr/local/lib/python3.7/dist-packages/torch/nn/modules/linear.py in forward(self, input)\n",
        "    112 \n",
        "    113     def forward(self, input: Tensor) -> Tensor:\n",
        "--> 114         return F.linear(input, self.weight, self.bias)\n",
        "    115 \n",
        "    116     def extra_repr(self) -> str:\n",
        "\n",
        "RuntimeError: Expected all tensors to be on the same device, but found at least two devices, cuda:0 and cpu! (when checking argument for argument mat1 in method wrapper_addmm)\n",
        "```\n",
        "\n",
        "This is because our `model_6` is on the GPU (`\"cuda\"`), however, our `test_image` is on the CPU (in PyTorch, all tensors are on the CPU by default).\n",
        "\n",
        "Let's send the `test_image` to the target `device` and then try the prediction again."
      ]
    },
    {
      "cell_type": "code",
      "execution_count": 35,
      "metadata": {
        "colab": {
          "base_uri": "https://localhost:8080/",
          "height": 336
        },
        "id": "BGwHMOzP5nsK",
        "outputId": "2f0afc22-a066-4b5c-80cf-47d7c7534060"
      },
      "outputs": [
        {
          "ename": "RuntimeError",
          "evalue": "ignored",
          "output_type": "error",
          "traceback": [
            "\u001b[0;31m---------------------------------------------------------------------------\u001b[0m",
            "\u001b[0;31mRuntimeError\u001b[0m                              Traceback (most recent call last)",
            "\u001b[0;32m<ipython-input-35-2383a5209623>\u001b[0m in \u001b[0;36m<module>\u001b[0;34m\u001b[0m\n\u001b[1;32m      1\u001b[0m \u001b[0;31m# Send test_image to target device\u001b[0m\u001b[0;34m\u001b[0m\u001b[0;34m\u001b[0m\u001b[0;34m\u001b[0m\u001b[0m\n\u001b[0;32m----> 2\u001b[0;31m \u001b[0mmodel_6\u001b[0m\u001b[0;34m(\u001b[0m\u001b[0mtest_image\u001b[0m\u001b[0;34m.\u001b[0m\u001b[0mto\u001b[0m\u001b[0;34m(\u001b[0m\u001b[0mdevice\u001b[0m\u001b[0;34m)\u001b[0m\u001b[0;34m)\u001b[0m\u001b[0;34m\u001b[0m\u001b[0;34m\u001b[0m\u001b[0m\n\u001b[0m",
            "\u001b[0;32m/usr/local/lib/python3.7/dist-packages/torch/nn/modules/module.py\u001b[0m in \u001b[0;36m_call_impl\u001b[0;34m(self, *input, **kwargs)\u001b[0m\n\u001b[1;32m   1128\u001b[0m         if not (self._backward_hooks or self._forward_hooks or self._forward_pre_hooks or _global_backward_hooks\n\u001b[1;32m   1129\u001b[0m                 or _global_forward_hooks or _global_forward_pre_hooks):\n\u001b[0;32m-> 1130\u001b[0;31m             \u001b[0;32mreturn\u001b[0m \u001b[0mforward_call\u001b[0m\u001b[0;34m(\u001b[0m\u001b[0;34m*\u001b[0m\u001b[0minput\u001b[0m\u001b[0;34m,\u001b[0m \u001b[0;34m**\u001b[0m\u001b[0mkwargs\u001b[0m\u001b[0;34m)\u001b[0m\u001b[0;34m\u001b[0m\u001b[0;34m\u001b[0m\u001b[0m\n\u001b[0m\u001b[1;32m   1131\u001b[0m         \u001b[0;31m# Do not call functions when jit is used\u001b[0m\u001b[0;34m\u001b[0m\u001b[0;34m\u001b[0m\u001b[0;34m\u001b[0m\u001b[0m\n\u001b[1;32m   1132\u001b[0m         \u001b[0mfull_backward_hooks\u001b[0m\u001b[0;34m,\u001b[0m \u001b[0mnon_full_backward_hooks\u001b[0m \u001b[0;34m=\u001b[0m \u001b[0;34m[\u001b[0m\u001b[0;34m]\u001b[0m\u001b[0;34m,\u001b[0m \u001b[0;34m[\u001b[0m\u001b[0;34m]\u001b[0m\u001b[0;34m\u001b[0m\u001b[0;34m\u001b[0m\u001b[0m\n",
            "\u001b[0;32m/usr/local/lib/python3.7/dist-packages/torch/nn/modules/container.py\u001b[0m in \u001b[0;36mforward\u001b[0;34m(self, input)\u001b[0m\n\u001b[1;32m    137\u001b[0m     \u001b[0;32mdef\u001b[0m \u001b[0mforward\u001b[0m\u001b[0;34m(\u001b[0m\u001b[0mself\u001b[0m\u001b[0;34m,\u001b[0m \u001b[0minput\u001b[0m\u001b[0;34m)\u001b[0m\u001b[0;34m:\u001b[0m\u001b[0;34m\u001b[0m\u001b[0;34m\u001b[0m\u001b[0m\n\u001b[1;32m    138\u001b[0m         \u001b[0;32mfor\u001b[0m \u001b[0mmodule\u001b[0m \u001b[0;32min\u001b[0m \u001b[0mself\u001b[0m\u001b[0;34m:\u001b[0m\u001b[0;34m\u001b[0m\u001b[0;34m\u001b[0m\u001b[0m\n\u001b[0;32m--> 139\u001b[0;31m             \u001b[0minput\u001b[0m \u001b[0;34m=\u001b[0m \u001b[0mmodule\u001b[0m\u001b[0;34m(\u001b[0m\u001b[0minput\u001b[0m\u001b[0;34m)\u001b[0m\u001b[0;34m\u001b[0m\u001b[0;34m\u001b[0m\u001b[0m\n\u001b[0m\u001b[1;32m    140\u001b[0m         \u001b[0;32mreturn\u001b[0m \u001b[0minput\u001b[0m\u001b[0;34m\u001b[0m\u001b[0;34m\u001b[0m\u001b[0m\n\u001b[1;32m    141\u001b[0m \u001b[0;34m\u001b[0m\u001b[0m\n",
            "\u001b[0;32m/usr/local/lib/python3.7/dist-packages/torch/nn/modules/module.py\u001b[0m in \u001b[0;36m_call_impl\u001b[0;34m(self, *input, **kwargs)\u001b[0m\n\u001b[1;32m   1128\u001b[0m         if not (self._backward_hooks or self._forward_hooks or self._forward_pre_hooks or _global_backward_hooks\n\u001b[1;32m   1129\u001b[0m                 or _global_forward_hooks or _global_forward_pre_hooks):\n\u001b[0;32m-> 1130\u001b[0;31m             \u001b[0;32mreturn\u001b[0m \u001b[0mforward_call\u001b[0m\u001b[0;34m(\u001b[0m\u001b[0;34m*\u001b[0m\u001b[0minput\u001b[0m\u001b[0;34m,\u001b[0m \u001b[0;34m**\u001b[0m\u001b[0mkwargs\u001b[0m\u001b[0;34m)\u001b[0m\u001b[0;34m\u001b[0m\u001b[0;34m\u001b[0m\u001b[0m\n\u001b[0m\u001b[1;32m   1131\u001b[0m         \u001b[0;31m# Do not call functions when jit is used\u001b[0m\u001b[0;34m\u001b[0m\u001b[0;34m\u001b[0m\u001b[0;34m\u001b[0m\u001b[0m\n\u001b[1;32m   1132\u001b[0m         \u001b[0mfull_backward_hooks\u001b[0m\u001b[0;34m,\u001b[0m \u001b[0mnon_full_backward_hooks\u001b[0m \u001b[0;34m=\u001b[0m \u001b[0;34m[\u001b[0m\u001b[0;34m]\u001b[0m\u001b[0;34m,\u001b[0m \u001b[0;34m[\u001b[0m\u001b[0;34m]\u001b[0m\u001b[0;34m\u001b[0m\u001b[0;34m\u001b[0m\u001b[0m\n",
            "\u001b[0;32m/usr/local/lib/python3.7/dist-packages/torch/nn/modules/linear.py\u001b[0m in \u001b[0;36mforward\u001b[0;34m(self, input)\u001b[0m\n\u001b[1;32m    112\u001b[0m \u001b[0;34m\u001b[0m\u001b[0m\n\u001b[1;32m    113\u001b[0m     \u001b[0;32mdef\u001b[0m \u001b[0mforward\u001b[0m\u001b[0;34m(\u001b[0m\u001b[0mself\u001b[0m\u001b[0;34m,\u001b[0m \u001b[0minput\u001b[0m\u001b[0;34m:\u001b[0m \u001b[0mTensor\u001b[0m\u001b[0;34m)\u001b[0m \u001b[0;34m->\u001b[0m \u001b[0mTensor\u001b[0m\u001b[0;34m:\u001b[0m\u001b[0;34m\u001b[0m\u001b[0;34m\u001b[0m\u001b[0m\n\u001b[0;32m--> 114\u001b[0;31m         \u001b[0;32mreturn\u001b[0m \u001b[0mF\u001b[0m\u001b[0;34m.\u001b[0m\u001b[0mlinear\u001b[0m\u001b[0;34m(\u001b[0m\u001b[0minput\u001b[0m\u001b[0;34m,\u001b[0m \u001b[0mself\u001b[0m\u001b[0;34m.\u001b[0m\u001b[0mweight\u001b[0m\u001b[0;34m,\u001b[0m \u001b[0mself\u001b[0m\u001b[0;34m.\u001b[0m\u001b[0mbias\u001b[0m\u001b[0;34m)\u001b[0m\u001b[0;34m\u001b[0m\u001b[0;34m\u001b[0m\u001b[0m\n\u001b[0m\u001b[1;32m    115\u001b[0m \u001b[0;34m\u001b[0m\u001b[0m\n\u001b[1;32m    116\u001b[0m     \u001b[0;32mdef\u001b[0m \u001b[0mextra_repr\u001b[0m\u001b[0;34m(\u001b[0m\u001b[0mself\u001b[0m\u001b[0;34m)\u001b[0m \u001b[0;34m->\u001b[0m \u001b[0mstr\u001b[0m\u001b[0;34m:\u001b[0m\u001b[0;34m\u001b[0m\u001b[0;34m\u001b[0m\u001b[0m\n",
            "\u001b[0;31mRuntimeError\u001b[0m: mat1 and mat2 shapes cannot be multiplied (28x28 and 784x10)"
          ]
        }
      ],
      "source": [
        "# Send test_image to target device\n",
        "model_6(test_image.to(device))"
      ]
    },
    {
      "cell_type": "markdown",
      "metadata": {
        "id": "6T6jXr47vder"
      },
      "source": [
        "Oh no! Another error...\n",
        "\n",
        "```\n",
        "/usr/local/lib/python3.7/dist-packages/torch/nn/modules/linear.py in forward(self, input)\n",
        "    112 \n",
        "    113     def forward(self, input: Tensor) -> Tensor:\n",
        "--> 114         return F.linear(input, self.weight, self.bias)\n",
        "    115 \n",
        "    116     def extra_repr(self) -> str:\n",
        "\n",
        "RuntimeError: mat1 and mat2 shapes cannot be multiplied (28x28 and 784x10)\n",
        "```\n",
        "\n",
        "This time it's a shape error. \n",
        "\n",
        "We've seen these before.\n",
        "\n",
        "What's going on with our `test_image` shape?\n",
        "\n",
        "Perhaps it's because our model was trained on images that had a batch dimension?\n",
        "\n",
        "And our current `test_image` doesn't have a batch dimension?\n",
        "\n",
        "Here's another helpful rule of thumb to remember: **trained models like to predict on data in the same format and shape that they were trained on**.\n",
        "\n",
        "This means if our model was trained on images with a batch dimension, it'll tend to like to predict on images with a batch dimension, even if the batch dimension is only 1 (a single sample).\n",
        "\n",
        "And if our model was trained on data in the format `torch.float32` (or another format), it'll like to predict on data in that same format (we'll see this later on).\n",
        "\n",
        "We can add a single batch dimension to our `test_image` using the [`torch.unsqueeze()`](https://pytorch.org/docs/stable/generated/torch.unsqueeze.html) method."
      ]
    },
    {
      "cell_type": "code",
      "execution_count": 36,
      "metadata": {
        "colab": {
          "base_uri": "https://localhost:8080/"
        },
        "id": "mx6QFE0168yR",
        "outputId": "51e0b82c-94b7-4f4e-b757-a9e6b5ad1399"
      },
      "outputs": [
        {
          "name": "stdout",
          "output_type": "stream",
          "text": [
            "Original input data shape: torch.Size([28, 28]) -> [height, width]\n",
            "Updated input data shape (with added batch dimension): torch.Size([1, 28, 28]) -> [batch, height, width]\n"
          ]
        }
      ],
      "source": [
        "# Changing the input size to be the same as what the model was trained on\n",
        "original_input_shape = test_image.shape\n",
        "updated_input_shape = test_image.unsqueeze(dim=0).shape # adding a batch dimension on the \"0th\" dimension\n",
        "\n",
        "# Print out shapes of original tensor and updated tensor\n",
        "print(f\"Original input data shape: {original_input_shape} -> [height, width]\")\n",
        "print(f\"Updated input data shape (with added batch dimension): {updated_input_shape} -> [batch, height, width]\")"
      ]
    },
    {
      "cell_type": "markdown",
      "metadata": {
        "id": "-6j5LgADwrRd"
      },
      "source": [
        "Nice!\n",
        "\n",
        "We've found a way to add a batch dimension to our `test_image`.\n",
        "\n",
        "Let's try make a prediction on it again."
      ]
    },
    {
      "cell_type": "code",
      "execution_count": 37,
      "metadata": {
        "colab": {
          "base_uri": "https://localhost:8080/",
          "height": 336
        },
        "id": "dBmPD4b-vsXo",
        "outputId": "f06bd103-e391-4f39-f184-75b83bd7b096"
      },
      "outputs": [
        {
          "ename": "RuntimeError",
          "evalue": "ignored",
          "output_type": "error",
          "traceback": [
            "\u001b[0;31m---------------------------------------------------------------------------\u001b[0m",
            "\u001b[0;31mRuntimeError\u001b[0m                              Traceback (most recent call last)",
            "\u001b[0;32m<ipython-input-37-2f1baf09e46f>\u001b[0m in \u001b[0;36m<module>\u001b[0;34m\u001b[0m\n\u001b[1;32m      1\u001b[0m \u001b[0;31m# Make prediction on test image with additional batch size dimension and with it on the target device\u001b[0m\u001b[0;34m\u001b[0m\u001b[0;34m\u001b[0m\u001b[0;34m\u001b[0m\u001b[0m\n\u001b[0;32m----> 2\u001b[0;31m \u001b[0mmodel_6\u001b[0m\u001b[0;34m(\u001b[0m\u001b[0mtest_image\u001b[0m\u001b[0;34m.\u001b[0m\u001b[0munsqueeze\u001b[0m\u001b[0;34m(\u001b[0m\u001b[0mdim\u001b[0m\u001b[0;34m=\u001b[0m\u001b[0;36m0\u001b[0m\u001b[0;34m)\u001b[0m\u001b[0;34m.\u001b[0m\u001b[0mto\u001b[0m\u001b[0;34m(\u001b[0m\u001b[0mdevice\u001b[0m\u001b[0;34m)\u001b[0m\u001b[0;34m)\u001b[0m\u001b[0;34m\u001b[0m\u001b[0;34m\u001b[0m\u001b[0m\n\u001b[0m",
            "\u001b[0;32m/usr/local/lib/python3.7/dist-packages/torch/nn/modules/module.py\u001b[0m in \u001b[0;36m_call_impl\u001b[0;34m(self, *input, **kwargs)\u001b[0m\n\u001b[1;32m   1128\u001b[0m         if not (self._backward_hooks or self._forward_hooks or self._forward_pre_hooks or _global_backward_hooks\n\u001b[1;32m   1129\u001b[0m                 or _global_forward_hooks or _global_forward_pre_hooks):\n\u001b[0;32m-> 1130\u001b[0;31m             \u001b[0;32mreturn\u001b[0m \u001b[0mforward_call\u001b[0m\u001b[0;34m(\u001b[0m\u001b[0;34m*\u001b[0m\u001b[0minput\u001b[0m\u001b[0;34m,\u001b[0m \u001b[0;34m**\u001b[0m\u001b[0mkwargs\u001b[0m\u001b[0;34m)\u001b[0m\u001b[0;34m\u001b[0m\u001b[0;34m\u001b[0m\u001b[0m\n\u001b[0m\u001b[1;32m   1131\u001b[0m         \u001b[0;31m# Do not call functions when jit is used\u001b[0m\u001b[0;34m\u001b[0m\u001b[0;34m\u001b[0m\u001b[0;34m\u001b[0m\u001b[0m\n\u001b[1;32m   1132\u001b[0m         \u001b[0mfull_backward_hooks\u001b[0m\u001b[0;34m,\u001b[0m \u001b[0mnon_full_backward_hooks\u001b[0m \u001b[0;34m=\u001b[0m \u001b[0;34m[\u001b[0m\u001b[0;34m]\u001b[0m\u001b[0;34m,\u001b[0m \u001b[0;34m[\u001b[0m\u001b[0;34m]\u001b[0m\u001b[0;34m\u001b[0m\u001b[0;34m\u001b[0m\u001b[0m\n",
            "\u001b[0;32m/usr/local/lib/python3.7/dist-packages/torch/nn/modules/container.py\u001b[0m in \u001b[0;36mforward\u001b[0;34m(self, input)\u001b[0m\n\u001b[1;32m    137\u001b[0m     \u001b[0;32mdef\u001b[0m \u001b[0mforward\u001b[0m\u001b[0;34m(\u001b[0m\u001b[0mself\u001b[0m\u001b[0;34m,\u001b[0m \u001b[0minput\u001b[0m\u001b[0;34m)\u001b[0m\u001b[0;34m:\u001b[0m\u001b[0;34m\u001b[0m\u001b[0;34m\u001b[0m\u001b[0m\n\u001b[1;32m    138\u001b[0m         \u001b[0;32mfor\u001b[0m \u001b[0mmodule\u001b[0m \u001b[0;32min\u001b[0m \u001b[0mself\u001b[0m\u001b[0;34m:\u001b[0m\u001b[0;34m\u001b[0m\u001b[0;34m\u001b[0m\u001b[0m\n\u001b[0;32m--> 139\u001b[0;31m             \u001b[0minput\u001b[0m \u001b[0;34m=\u001b[0m \u001b[0mmodule\u001b[0m\u001b[0;34m(\u001b[0m\u001b[0minput\u001b[0m\u001b[0;34m)\u001b[0m\u001b[0;34m\u001b[0m\u001b[0;34m\u001b[0m\u001b[0m\n\u001b[0m\u001b[1;32m    140\u001b[0m         \u001b[0;32mreturn\u001b[0m \u001b[0minput\u001b[0m\u001b[0;34m\u001b[0m\u001b[0;34m\u001b[0m\u001b[0m\n\u001b[1;32m    141\u001b[0m \u001b[0;34m\u001b[0m\u001b[0m\n",
            "\u001b[0;32m/usr/local/lib/python3.7/dist-packages/torch/nn/modules/module.py\u001b[0m in \u001b[0;36m_call_impl\u001b[0;34m(self, *input, **kwargs)\u001b[0m\n\u001b[1;32m   1128\u001b[0m         if not (self._backward_hooks or self._forward_hooks or self._forward_pre_hooks or _global_backward_hooks\n\u001b[1;32m   1129\u001b[0m                 or _global_forward_hooks or _global_forward_pre_hooks):\n\u001b[0;32m-> 1130\u001b[0;31m             \u001b[0;32mreturn\u001b[0m \u001b[0mforward_call\u001b[0m\u001b[0;34m(\u001b[0m\u001b[0;34m*\u001b[0m\u001b[0minput\u001b[0m\u001b[0;34m,\u001b[0m \u001b[0;34m**\u001b[0m\u001b[0mkwargs\u001b[0m\u001b[0;34m)\u001b[0m\u001b[0;34m\u001b[0m\u001b[0;34m\u001b[0m\u001b[0m\n\u001b[0m\u001b[1;32m   1131\u001b[0m         \u001b[0;31m# Do not call functions when jit is used\u001b[0m\u001b[0;34m\u001b[0m\u001b[0;34m\u001b[0m\u001b[0;34m\u001b[0m\u001b[0m\n\u001b[1;32m   1132\u001b[0m         \u001b[0mfull_backward_hooks\u001b[0m\u001b[0;34m,\u001b[0m \u001b[0mnon_full_backward_hooks\u001b[0m \u001b[0;34m=\u001b[0m \u001b[0;34m[\u001b[0m\u001b[0;34m]\u001b[0m\u001b[0;34m,\u001b[0m \u001b[0;34m[\u001b[0m\u001b[0;34m]\u001b[0m\u001b[0;34m\u001b[0m\u001b[0;34m\u001b[0m\u001b[0m\n",
            "\u001b[0;32m/usr/local/lib/python3.7/dist-packages/torch/nn/modules/linear.py\u001b[0m in \u001b[0;36mforward\u001b[0;34m(self, input)\u001b[0m\n\u001b[1;32m    112\u001b[0m \u001b[0;34m\u001b[0m\u001b[0m\n\u001b[1;32m    113\u001b[0m     \u001b[0;32mdef\u001b[0m \u001b[0mforward\u001b[0m\u001b[0;34m(\u001b[0m\u001b[0mself\u001b[0m\u001b[0;34m,\u001b[0m \u001b[0minput\u001b[0m\u001b[0;34m:\u001b[0m \u001b[0mTensor\u001b[0m\u001b[0;34m)\u001b[0m \u001b[0;34m->\u001b[0m \u001b[0mTensor\u001b[0m\u001b[0;34m:\u001b[0m\u001b[0;34m\u001b[0m\u001b[0;34m\u001b[0m\u001b[0m\n\u001b[0;32m--> 114\u001b[0;31m         \u001b[0;32mreturn\u001b[0m \u001b[0mF\u001b[0m\u001b[0;34m.\u001b[0m\u001b[0mlinear\u001b[0m\u001b[0;34m(\u001b[0m\u001b[0minput\u001b[0m\u001b[0;34m,\u001b[0m \u001b[0mself\u001b[0m\u001b[0;34m.\u001b[0m\u001b[0mweight\u001b[0m\u001b[0;34m,\u001b[0m \u001b[0mself\u001b[0m\u001b[0;34m.\u001b[0m\u001b[0mbias\u001b[0m\u001b[0;34m)\u001b[0m\u001b[0;34m\u001b[0m\u001b[0;34m\u001b[0m\u001b[0m\n\u001b[0m\u001b[1;32m    115\u001b[0m \u001b[0;34m\u001b[0m\u001b[0m\n\u001b[1;32m    116\u001b[0m     \u001b[0;32mdef\u001b[0m \u001b[0mextra_repr\u001b[0m\u001b[0;34m(\u001b[0m\u001b[0mself\u001b[0m\u001b[0;34m)\u001b[0m \u001b[0;34m->\u001b[0m \u001b[0mstr\u001b[0m\u001b[0;34m:\u001b[0m\u001b[0;34m\u001b[0m\u001b[0;34m\u001b[0m\u001b[0m\n",
            "\u001b[0;31mRuntimeError\u001b[0m: expected scalar type Float but found Byte"
          ]
        }
      ],
      "source": [
        "# Make prediction on test image with additional batch size dimension and with it on the target device\n",
        "model_6(test_image.unsqueeze(dim=0).to(device))"
      ]
    },
    {
      "cell_type": "markdown",
      "metadata": {
        "id": "8TYcA4jh7L3C"
      },
      "source": [
        "What?\n",
        "\n",
        "Another error!\n",
        "\n",
        "This time it's a datatype error:\n",
        "\n",
        "```\n",
        "/usr/local/lib/python3.7/dist-packages/torch/nn/modules/linear.py in forward(self, input)\n",
        "    112 \n",
        "    113     def forward(self, input: Tensor) -> Tensor:\n",
        "--> 114         return F.linear(input, self.weight, self.bias)\n",
        "    115 \n",
        "    116     def extra_repr(self) -> str:\n",
        "\n",
        "RuntimeError: expected scalar type Float but found Byte\n",
        "```\n",
        "\n",
        "We've stumbled upon the third most common error in PyTorch, datatype errors.\n",
        "\n",
        "Let's figure out how to fix them in the next section."
      ]
    },
    {
      "cell_type": "markdown",
      "metadata": {
        "id": "jksS1p5X4381"
      },
      "source": [
        "## 3. Datatype errors in PyTorch\n",
        "\n",
        "Recall the rule of thumb: **trained models like to predict on data that's in the same shape and format that they were trained on**.\n",
        "\n",
        "It looks like our model expects a `Float` datatype but our `test_image` is in `Byte` datatype.\n",
        "\n",
        "We can tell this by the last line in the previous error:\n",
        "\n",
        "```\n",
        "RuntimeError: expected scalar type Float but found Byte\n",
        "```\n",
        "\n",
        "Why is this?\n",
        "\n",
        "It's because our `model_6` was trained on data samples in the format of `Float`, specifically, `torch.float32`.\n",
        "\n",
        "How do we know this?\n",
        "\n",
        "Well, `torch.float32` is the default for many tensors in PyTorch, unless explicitly set otherwise.\n",
        "\n",
        "But let's do a check to make sure.\n"
      ]
    },
    {
      "cell_type": "markdown",
      "metadata": {
        "id": "UDocVtdE3Auy"
      },
      "source": [
        "\n",
        "### 3.1 Checking the datatype of the data the model was trained on \n",
        "\n",
        "We can check the datatype of the data our model was trained on by looking at the `dtype` attribute of a sample from our `train_dataloader`."
      ]
    },
    {
      "cell_type": "code",
      "execution_count": 38,
      "metadata": {
        "colab": {
          "base_uri": "https://localhost:8080/"
        },
        "id": "b9dmrSPUyBkC",
        "outputId": "c1ce9aec-f54b-4e11-a5b7-1889358c2ba1"
      },
      "outputs": [
        {
          "name": "stdout",
          "output_type": "stream",
          "text": [
            "Datatype of training data: torch.float32\n"
          ]
        }
      ],
      "source": [
        "# Get a single sample from the train_dataloader and print the dtype\n",
        "train_image_batch, train_label_batch = next(iter(train_dataloader))\n",
        "train_image_single, train_label_single = train_image_batch[0], train_label_batch[0]\n",
        "\n",
        "# Print the datatype of the train_image_single\n",
        "print(f\"Datatype of training data: {train_image_single.dtype}\")"
      ]
    },
    {
      "cell_type": "markdown",
      "metadata": {
        "id": "xEMMyYLpyBAE"
      },
      "source": [
        "There we go! We confirmed our training data samples are in `torch.float32`.\n",
        "\n",
        "So it makes sense that our `model_6` wants to predict on this datatype.\n",
        "\n",
        "But how did our training data get in that datatype?\n",
        "\n",
        "It happened back in section 1.3 when we downloaded the Fashion MNIST dataset and used the `transform` parameter of [`torchvision.transforms.ToTensor()`](https://pytorch.org/vision/stable/generated/torchvision.transforms.ToTensor.html).\n",
        "\n",
        "This `transform` converts whatever data is passed to it into a `torch.Tensor` with the *default* datatype `torch.float32`.\n",
        "\n",
        "So another rule of thumb: **when making predictions, whatever transforms you performed on the training data, you should also perform on the testing data**.\n"
      ]
    },
    {
      "cell_type": "markdown",
      "metadata": {
        "id": "A-Ts1U5J3Hue"
      },
      "source": [
        "### 3.2 Changing the datatype of a tensor\n",
        "\n",
        "In our case, we could create a standalone transform to transform our test data but we can also change the datatype of a target tensor with `tensor.type(some_type_here)`, for example, `tensor_1.type(torch.float32)`. \n",
        "\n",
        "Let's try it out."
      ]
    },
    {
      "cell_type": "code",
      "execution_count": 39,
      "metadata": {
        "colab": {
          "base_uri": "https://localhost:8080/"
        },
        "id": "f0wM2TEx530k",
        "outputId": "eaf0ba4b-8c3b-443a-dec1-2856729caa80"
      },
      "outputs": [
        {
          "name": "stdout",
          "output_type": "stream",
          "text": [
            "Original datatype: torch.uint8\n",
            "Changing the datatype: torch.float32\n"
          ]
        }
      ],
      "source": [
        "# Print out the original datatype of test_image\n",
        "print(f\"Original datatype: {test_image.unsqueeze(dim=0).dtype}\")\n",
        "\n",
        "# Change the datatype of test_image and see the change\n",
        "print(f\"Changing the datatype: {test_image.unsqueeze(dim=0).type(torch.float32).dtype}\")"
      ]
    },
    {
      "cell_type": "markdown",
      "metadata": {
        "id": "sxT_oW070IKa"
      },
      "source": [
        "### 3.3 Making predictions on a test image and making sure it's in the right format\n",
        "\n",
        "Alright, it looks like we've got all of the pieces of the puzzle ready, shape, device and datatype, let's try and make a prediction!\n",
        "\n",
        "> **Note:** Remember a model likes to make predictions on data in the same (or similar) format to what it was trained on (shape, device and datatype)."
      ]
    },
    {
      "cell_type": "code",
      "execution_count": 40,
      "metadata": {
        "colab": {
          "base_uri": "https://localhost:8080/"
        },
        "id": "UthQPhJt51to",
        "outputId": "3116a758-9220-44c9-bed3-b5bb7764102e"
      },
      "outputs": [
        {
          "data": {
            "text/plain": [
              "tensor([[-1524.6857, -1446.1508,  -924.2405,  -738.5865,   -89.0332,  1161.8552,\n",
              "          -401.7952,  1399.7031,   778.4608,  1718.0710]], device='cuda:0',\n",
              "       grad_fn=<AddmmBackward0>)"
            ]
          },
          "execution_count": 40,
          "metadata": {},
          "output_type": "execute_result"
        }
      ],
      "source": [
        "# Make a prediction with model_6 on the transformed test_image\n",
        "pred_on_gpu = model_6(test_image.unsqueeze(dim=0) # add a batch dimension\n",
        "                      .type(torch.float32) # convert the datatype to torch.float32\n",
        "                      .to(device)) # send the tensor to the target device\n",
        "pred_on_gpu"
      ]
    },
    {
      "cell_type": "markdown",
      "metadata": {
        "id": "xVV_PZ9lPhlI"
      },
      "source": [
        "Woohoo!!!\n",
        "\n",
        "A fair few steps but our `model_6` successfully makes a prediction on `test_image`.\n",
        "\n",
        "Since `test_image` is on the CPU by default, we could also put the model back on the CPU using the [`.cpu()` method](https://pytorch.org/docs/stable/generated/torch.Tensor.cpu.html) and make the same prediction on the CPU device instead of the GPU device."
      ]
    },
    {
      "cell_type": "code",
      "execution_count": 41,
      "metadata": {
        "colab": {
          "base_uri": "https://localhost:8080/"
        },
        "id": "Ure3NooSPgtc",
        "outputId": "1dbfc6ac-a16c-4a8f-8aad-c23f85a578f2"
      },
      "outputs": [
        {
          "data": {
            "text/plain": [
              "tensor([[-1524.6855, -1446.1506,  -924.2405,  -738.5865,   -89.0332,  1161.8552,\n",
              "          -401.7951,  1399.7031,   778.4608,  1718.0712]],\n",
              "       grad_fn=<AddmmBackward0>)"
            ]
          },
          "execution_count": 41,
          "metadata": {},
          "output_type": "execute_result"
        }
      ],
      "source": [
        "# Put model back on CPU\n",
        "model_6.cpu()\n",
        " \n",
        "# Make a prediction on the CPU device (no need to put test_image on the CPU as it's already there)\n",
        "pred_on_cpu = model_6(test_image.unsqueeze(dim=0) # add a batch dimension\n",
        "                      .type(torch.float32)) # convert the datatype to torch.float32 \n",
        "pred_on_cpu"
      ]
    },
    {
      "cell_type": "markdown",
      "metadata": {
        "id": "06J4XPsZ1IoE"
      },
      "source": [
        "And again the prediction works!\n",
        "\n",
        "Is it correct?\n",
        "\n",
        "We can check by the taking the model's raw outputs and converting them from `raw logits -> prediction probabilities -> prediction label` (see [02. PyTorch Neural Network Classification section 3.1](https://www.learnpytorch.io/02_pytorch_classification/#31-going-from-raw-model-outputs-to-predicted-labels-logits-prediction-probabilities-prediction-labels) for more on this conversion)."
      ]
    },
    {
      "cell_type": "code",
      "execution_count": 42,
      "metadata": {
        "colab": {
          "base_uri": "https://localhost:8080/"
        },
        "id": "EhOwTXgHP8tw",
        "outputId": "ac1b2aba-4ee6-4aa6-f439-60596f6dcb44"
      },
      "outputs": [
        {
          "name": "stdout",
          "output_type": "stream",
          "text": [
            "Test label: 9\n",
            "Pred label: tensor([9])\n",
            "Is the prediction correct? True\n"
          ]
        }
      ],
      "source": [
        "# Convert raw logits to prediction probabilities\n",
        "pred_probs = torch.softmax(pred_on_cpu, dim=1)\n",
        "\n",
        "# Convert prediction probabilities to prediction label\n",
        "pred_label = torch.argmax(pred_probs, dim=1)\n",
        "\n",
        "# Check if it's correct\n",
        "print(f\"Test label: {test_label}\")\n",
        "print(f\"Pred label: {pred_label}\")\n",
        "print(f\"Is the prediction correct? {pred_label.item() == test_label}\")"
      ]
    },
    {
      "cell_type": "markdown",
      "metadata": {
        "id": "9Dgp25MS2LqS"
      },
      "source": [
        "There can a fair few steps involved when making predictions on a test or custom sample.\n",
        "\n",
        "So one of the ways to prevent repeating all of these steps is to turn them into a function.\n",
        "\n",
        "There's an example of this in [04. PyTorch Custom Datasets section 11.3: Building a function to predict on custom images](https://www.learnpytorch.io/04_pytorch_custom_datasets/#113-putting-custom-image-prediction-together-building-a-function). "
      ]
    },
    {
      "cell_type": "markdown",
      "metadata": {
        "id": "CWyZ68ui5Qvz"
      },
      "source": [
        "## Putting it all together \n",
        "\n",
        "We've been hands on with three of the main errors you'll come across when building neural networks with PyTorch:\n",
        "\n",
        "1. **Shape errors** - there are mismatches between the data you're working with the neural network you're building to find patterns in or there are mismatches between the connecting layers of your neural network.\n",
        "2. **Device errors** - your model and data are on different devices, PyTorch expects *all* tensors and objects to be on the *same* device.\n",
        "3. **Datatype errors** - your trying to compute on one datatype when your model expects another datatype.\n",
        "\n",
        "And we've seen how and why they occur and then how to fix them:\n",
        "\n",
        "* Your model wants to make predictions on same kind of data it was trained on (shape, device and datatype).\n",
        "* Your model and data should be on same device for training and testing.\n",
        "* You can take care of many of these issues by creating reusable functions that define `device` and datatype, such as in [04. PyTorch Going Modular section 4: Creating training and testing functions](https://www.learnpytorch.io/05_pytorch_going_modular/#4-creating-train_step-and-test_step-functions-and-train-to-combine-them).\n",
        "\n",
        "Knowing about these errors won't prevent you from making them in the future but it will give you an idea of where to go to fix them.\n",
        "\n",
        "For more in-depth examples of these errors, including making them and fixing in a hands-on manner, check out the [Zero to Mastery: PyTorch for Deep Learning course](https://dbourke.link/ZTMPyTorch)."
      ]
    }
  ],
  "metadata": {
    "accelerator": "GPU",
    "colab": {
      "authorship_tag": "ABX9TyPGofz1XPciR6insHibvqKa",
      "include_colab_link": true,
      "provenance": [],
      "toc_visible": true
    },
    "gpuClass": "standard",
    "kernelspec": {
      "display_name": "Python 3",
      "name": "python3"
    },
    "language_info": {
      "name": "python"
    },
    "widgets": {
      "application/vnd.jupyter.widget-state+json": {
        "0198bf8ffe534a42b01ce7db45438fcd": {
          "model_module": "@jupyter-widgets/controls",
          "model_module_version": "1.5.0",
          "model_name": "DescriptionStyleModel",
          "state": {
            "_model_module": "@jupyter-widgets/controls",
            "_model_module_version": "1.5.0",
            "_model_name": "DescriptionStyleModel",
            "_view_count": null,
            "_view_module": "@jupyter-widgets/base",
            "_view_module_version": "1.2.0",
            "_view_name": "StyleView",
            "description_width": ""
          }
        },
        "0222dafa371d4fbb9ee9d8dcf8f1ecb1": {
          "model_module": "@jupyter-widgets/base",
          "model_module_version": "1.2.0",
          "model_name": "LayoutModel",
          "state": {
            "_model_module": "@jupyter-widgets/base",
            "_model_module_version": "1.2.0",
            "_model_name": "LayoutModel",
            "_view_count": null,
            "_view_module": "@jupyter-widgets/base",
            "_view_module_version": "1.2.0",
            "_view_name": "LayoutView",
            "align_content": null,
            "align_items": null,
            "align_self": null,
            "border": null,
            "bottom": null,
            "display": null,
            "flex": null,
            "flex_flow": null,
            "grid_area": null,
            "grid_auto_columns": null,
            "grid_auto_flow": null,
            "grid_auto_rows": null,
            "grid_column": null,
            "grid_gap": null,
            "grid_row": null,
            "grid_template_areas": null,
            "grid_template_columns": null,
            "grid_template_rows": null,
            "height": null,
            "justify_content": null,
            "justify_items": null,
            "left": null,
            "margin": null,
            "max_height": null,
            "max_width": null,
            "min_height": null,
            "min_width": null,
            "object_fit": null,
            "object_position": null,
            "order": null,
            "overflow": null,
            "overflow_x": null,
            "overflow_y": null,
            "padding": null,
            "right": null,
            "top": null,
            "visibility": null,
            "width": null
          }
        },
        "08ed2deb356b40cabd2ac5cf43e1a552": {
          "model_module": "@jupyter-widgets/controls",
          "model_module_version": "1.5.0",
          "model_name": "HTMLModel",
          "state": {
            "_dom_classes": [],
            "_model_module": "@jupyter-widgets/controls",
            "_model_module_version": "1.5.0",
            "_model_name": "HTMLModel",
            "_view_count": null,
            "_view_module": "@jupyter-widgets/controls",
            "_view_module_version": "1.5.0",
            "_view_name": "HTMLView",
            "description": "",
            "description_tooltip": null,
            "layout": "IPY_MODEL_d54a7643c56f4800882442b44822cca3",
            "placeholder": "​",
            "style": "IPY_MODEL_3fe702479be54d13af8bc5ae66787195",
            "value": "100%"
          }
        },
        "0d2aac68dee24237864ce2d42069c99c": {
          "model_module": "@jupyter-widgets/controls",
          "model_module_version": "1.5.0",
          "model_name": "ProgressStyleModel",
          "state": {
            "_model_module": "@jupyter-widgets/controls",
            "_model_module_version": "1.5.0",
            "_model_name": "ProgressStyleModel",
            "_view_count": null,
            "_view_module": "@jupyter-widgets/base",
            "_view_module_version": "1.2.0",
            "_view_name": "StyleView",
            "bar_color": null,
            "description_width": ""
          }
        },
        "13a81d7269ae4df9934f7a7fb7b58b8d": {
          "model_module": "@jupyter-widgets/controls",
          "model_module_version": "1.5.0",
          "model_name": "DescriptionStyleModel",
          "state": {
            "_model_module": "@jupyter-widgets/controls",
            "_model_module_version": "1.5.0",
            "_model_name": "DescriptionStyleModel",
            "_view_count": null,
            "_view_module": "@jupyter-widgets/base",
            "_view_module_version": "1.2.0",
            "_view_name": "StyleView",
            "description_width": ""
          }
        },
        "1420eafbf7574d3aa2c8472eafbd7e21": {
          "model_module": "@jupyter-widgets/base",
          "model_module_version": "1.2.0",
          "model_name": "LayoutModel",
          "state": {
            "_model_module": "@jupyter-widgets/base",
            "_model_module_version": "1.2.0",
            "_model_name": "LayoutModel",
            "_view_count": null,
            "_view_module": "@jupyter-widgets/base",
            "_view_module_version": "1.2.0",
            "_view_name": "LayoutView",
            "align_content": null,
            "align_items": null,
            "align_self": null,
            "border": null,
            "bottom": null,
            "display": null,
            "flex": null,
            "flex_flow": null,
            "grid_area": null,
            "grid_auto_columns": null,
            "grid_auto_flow": null,
            "grid_auto_rows": null,
            "grid_column": null,
            "grid_gap": null,
            "grid_row": null,
            "grid_template_areas": null,
            "grid_template_columns": null,
            "grid_template_rows": null,
            "height": null,
            "justify_content": null,
            "justify_items": null,
            "left": null,
            "margin": null,
            "max_height": null,
            "max_width": null,
            "min_height": null,
            "min_width": null,
            "object_fit": null,
            "object_position": null,
            "order": null,
            "overflow": null,
            "overflow_x": null,
            "overflow_y": null,
            "padding": null,
            "right": null,
            "top": null,
            "visibility": null,
            "width": null
          }
        },
        "18192886cedc421bbccc1b8b70395bf6": {
          "model_module": "@jupyter-widgets/controls",
          "model_module_version": "1.5.0",
          "model_name": "DescriptionStyleModel",
          "state": {
            "_model_module": "@jupyter-widgets/controls",
            "_model_module_version": "1.5.0",
            "_model_name": "DescriptionStyleModel",
            "_view_count": null,
            "_view_module": "@jupyter-widgets/base",
            "_view_module_version": "1.2.0",
            "_view_name": "StyleView",
            "description_width": ""
          }
        },
        "1e059d77642d4b7cb0bb767845cc33fc": {
          "model_module": "@jupyter-widgets/controls",
          "model_module_version": "1.5.0",
          "model_name": "ProgressStyleModel",
          "state": {
            "_model_module": "@jupyter-widgets/controls",
            "_model_module_version": "1.5.0",
            "_model_name": "ProgressStyleModel",
            "_view_count": null,
            "_view_module": "@jupyter-widgets/base",
            "_view_module_version": "1.2.0",
            "_view_name": "StyleView",
            "bar_color": null,
            "description_width": ""
          }
        },
        "25608da4b52a43a19bb2e1b61a57ea6c": {
          "model_module": "@jupyter-widgets/base",
          "model_module_version": "1.2.0",
          "model_name": "LayoutModel",
          "state": {
            "_model_module": "@jupyter-widgets/base",
            "_model_module_version": "1.2.0",
            "_model_name": "LayoutModel",
            "_view_count": null,
            "_view_module": "@jupyter-widgets/base",
            "_view_module_version": "1.2.0",
            "_view_name": "LayoutView",
            "align_content": null,
            "align_items": null,
            "align_self": null,
            "border": null,
            "bottom": null,
            "display": null,
            "flex": null,
            "flex_flow": null,
            "grid_area": null,
            "grid_auto_columns": null,
            "grid_auto_flow": null,
            "grid_auto_rows": null,
            "grid_column": null,
            "grid_gap": null,
            "grid_row": null,
            "grid_template_areas": null,
            "grid_template_columns": null,
            "grid_template_rows": null,
            "height": null,
            "justify_content": null,
            "justify_items": null,
            "left": null,
            "margin": null,
            "max_height": null,
            "max_width": null,
            "min_height": null,
            "min_width": null,
            "object_fit": null,
            "object_position": null,
            "order": null,
            "overflow": null,
            "overflow_x": null,
            "overflow_y": null,
            "padding": null,
            "right": null,
            "top": null,
            "visibility": null,
            "width": null
          }
        },
        "2c33b812bb784a0fa4fb42345e2a1983": {
          "model_module": "@jupyter-widgets/controls",
          "model_module_version": "1.5.0",
          "model_name": "FloatProgressModel",
          "state": {
            "_dom_classes": [],
            "_model_module": "@jupyter-widgets/controls",
            "_model_module_version": "1.5.0",
            "_model_name": "FloatProgressModel",
            "_view_count": null,
            "_view_module": "@jupyter-widgets/controls",
            "_view_module_version": "1.5.0",
            "_view_name": "ProgressView",
            "bar_style": "danger",
            "description": "",
            "description_tooltip": null,
            "layout": "IPY_MODEL_60462c3fd8c5499f8e4a78e1047470e4",
            "max": 5,
            "min": 0,
            "orientation": "horizontal",
            "style": "IPY_MODEL_477247bb2cbc44a5b7205abcbe0ef10b",
            "value": 0
          }
        },
        "2e15505a25104810ba6dfbffcf3be56b": {
          "model_module": "@jupyter-widgets/controls",
          "model_module_version": "1.5.0",
          "model_name": "HTMLModel",
          "state": {
            "_dom_classes": [],
            "_model_module": "@jupyter-widgets/controls",
            "_model_module_version": "1.5.0",
            "_model_name": "HTMLModel",
            "_view_count": null,
            "_view_module": "@jupyter-widgets/controls",
            "_view_module_version": "1.5.0",
            "_view_name": "HTMLView",
            "description": "",
            "description_tooltip": null,
            "layout": "IPY_MODEL_9cd681423e59488c813d255506e442c3",
            "placeholder": "​",
            "style": "IPY_MODEL_5986557fceeb4325be042aec2a3be0f8",
            "value": " 5/5 [00:03&lt;00:00,  1.64it/s]"
          }
        },
        "3fe702479be54d13af8bc5ae66787195": {
          "model_module": "@jupyter-widgets/controls",
          "model_module_version": "1.5.0",
          "model_name": "DescriptionStyleModel",
          "state": {
            "_model_module": "@jupyter-widgets/controls",
            "_model_module_version": "1.5.0",
            "_model_name": "DescriptionStyleModel",
            "_view_count": null,
            "_view_module": "@jupyter-widgets/base",
            "_view_module_version": "1.2.0",
            "_view_name": "StyleView",
            "description_width": ""
          }
        },
        "4011053b313e41928157c17a6bcdd27c": {
          "model_module": "@jupyter-widgets/base",
          "model_module_version": "1.2.0",
          "model_name": "LayoutModel",
          "state": {
            "_model_module": "@jupyter-widgets/base",
            "_model_module_version": "1.2.0",
            "_model_name": "LayoutModel",
            "_view_count": null,
            "_view_module": "@jupyter-widgets/base",
            "_view_module_version": "1.2.0",
            "_view_name": "LayoutView",
            "align_content": null,
            "align_items": null,
            "align_self": null,
            "border": null,
            "bottom": null,
            "display": null,
            "flex": null,
            "flex_flow": null,
            "grid_area": null,
            "grid_auto_columns": null,
            "grid_auto_flow": null,
            "grid_auto_rows": null,
            "grid_column": null,
            "grid_gap": null,
            "grid_row": null,
            "grid_template_areas": null,
            "grid_template_columns": null,
            "grid_template_rows": null,
            "height": null,
            "justify_content": null,
            "justify_items": null,
            "left": null,
            "margin": null,
            "max_height": null,
            "max_width": null,
            "min_height": null,
            "min_width": null,
            "object_fit": null,
            "object_position": null,
            "order": null,
            "overflow": null,
            "overflow_x": null,
            "overflow_y": null,
            "padding": null,
            "right": null,
            "top": null,
            "visibility": null,
            "width": null
          }
        },
        "401edf76bb8145c395e1298b9a1d141b": {
          "model_module": "@jupyter-widgets/controls",
          "model_module_version": "1.5.0",
          "model_name": "HTMLModel",
          "state": {
            "_dom_classes": [],
            "_model_module": "@jupyter-widgets/controls",
            "_model_module_version": "1.5.0",
            "_model_name": "HTMLModel",
            "_view_count": null,
            "_view_module": "@jupyter-widgets/controls",
            "_view_module_version": "1.5.0",
            "_view_name": "HTMLView",
            "description": "",
            "description_tooltip": null,
            "layout": "IPY_MODEL_a77f2d50eaac4a33ae8e9d9606f03a73",
            "placeholder": "​",
            "style": "IPY_MODEL_a4bd16362c2f4f6f9310cb52c78a8b8d",
            "value": "100%"
          }
        },
        "42df727e198149fb801fa15f9d95a444": {
          "model_module": "@jupyter-widgets/controls",
          "model_module_version": "1.5.0",
          "model_name": "FloatProgressModel",
          "state": {
            "_dom_classes": [],
            "_model_module": "@jupyter-widgets/controls",
            "_model_module_version": "1.5.0",
            "_model_name": "FloatProgressModel",
            "_view_count": null,
            "_view_module": "@jupyter-widgets/controls",
            "_view_module_version": "1.5.0",
            "_view_name": "ProgressView",
            "bar_style": "success",
            "description": "",
            "description_tooltip": null,
            "layout": "IPY_MODEL_4011053b313e41928157c17a6bcdd27c",
            "max": 5,
            "min": 0,
            "orientation": "horizontal",
            "style": "IPY_MODEL_0d2aac68dee24237864ce2d42069c99c",
            "value": 5
          }
        },
        "432b55d05228482ebc158c7fc0459166": {
          "model_module": "@jupyter-widgets/base",
          "model_module_version": "1.2.0",
          "model_name": "LayoutModel",
          "state": {
            "_model_module": "@jupyter-widgets/base",
            "_model_module_version": "1.2.0",
            "_model_name": "LayoutModel",
            "_view_count": null,
            "_view_module": "@jupyter-widgets/base",
            "_view_module_version": "1.2.0",
            "_view_name": "LayoutView",
            "align_content": null,
            "align_items": null,
            "align_self": null,
            "border": null,
            "bottom": null,
            "display": null,
            "flex": null,
            "flex_flow": null,
            "grid_area": null,
            "grid_auto_columns": null,
            "grid_auto_flow": null,
            "grid_auto_rows": null,
            "grid_column": null,
            "grid_gap": null,
            "grid_row": null,
            "grid_template_areas": null,
            "grid_template_columns": null,
            "grid_template_rows": null,
            "height": null,
            "justify_content": null,
            "justify_items": null,
            "left": null,
            "margin": null,
            "max_height": null,
            "max_width": null,
            "min_height": null,
            "min_width": null,
            "object_fit": null,
            "object_position": null,
            "order": null,
            "overflow": null,
            "overflow_x": null,
            "overflow_y": null,
            "padding": null,
            "right": null,
            "top": null,
            "visibility": null,
            "width": null
          }
        },
        "473ab63c2bb14bc1902216f445f26d01": {
          "model_module": "@jupyter-widgets/controls",
          "model_module_version": "1.5.0",
          "model_name": "DescriptionStyleModel",
          "state": {
            "_model_module": "@jupyter-widgets/controls",
            "_model_module_version": "1.5.0",
            "_model_name": "DescriptionStyleModel",
            "_view_count": null,
            "_view_module": "@jupyter-widgets/base",
            "_view_module_version": "1.2.0",
            "_view_name": "StyleView",
            "description_width": ""
          }
        },
        "477247bb2cbc44a5b7205abcbe0ef10b": {
          "model_module": "@jupyter-widgets/controls",
          "model_module_version": "1.5.0",
          "model_name": "ProgressStyleModel",
          "state": {
            "_model_module": "@jupyter-widgets/controls",
            "_model_module_version": "1.5.0",
            "_model_name": "ProgressStyleModel",
            "_view_count": null,
            "_view_module": "@jupyter-widgets/base",
            "_view_module_version": "1.2.0",
            "_view_name": "StyleView",
            "bar_color": null,
            "description_width": ""
          }
        },
        "4b46a847595640119f90864736f54d57": {
          "model_module": "@jupyter-widgets/controls",
          "model_module_version": "1.5.0",
          "model_name": "HTMLModel",
          "state": {
            "_dom_classes": [],
            "_model_module": "@jupyter-widgets/controls",
            "_model_module_version": "1.5.0",
            "_model_name": "HTMLModel",
            "_view_count": null,
            "_view_module": "@jupyter-widgets/controls",
            "_view_module_version": "1.5.0",
            "_view_name": "HTMLView",
            "description": "",
            "description_tooltip": null,
            "layout": "IPY_MODEL_e6df685cb194409a8bc60ce4715a8c63",
            "placeholder": "​",
            "style": "IPY_MODEL_b4d5224c6cf54a0483cc3d5c8103f849",
            "value": " 5148/5148 [00:00&lt;00:00, 164072.56it/s]"
          }
        },
        "4cc6d29cbdb444f4abd747426b3b9b94": {
          "model_module": "@jupyter-widgets/base",
          "model_module_version": "1.2.0",
          "model_name": "LayoutModel",
          "state": {
            "_model_module": "@jupyter-widgets/base",
            "_model_module_version": "1.2.0",
            "_model_name": "LayoutModel",
            "_view_count": null,
            "_view_module": "@jupyter-widgets/base",
            "_view_module_version": "1.2.0",
            "_view_name": "LayoutView",
            "align_content": null,
            "align_items": null,
            "align_self": null,
            "border": null,
            "bottom": null,
            "display": null,
            "flex": null,
            "flex_flow": null,
            "grid_area": null,
            "grid_auto_columns": null,
            "grid_auto_flow": null,
            "grid_auto_rows": null,
            "grid_column": null,
            "grid_gap": null,
            "grid_row": null,
            "grid_template_areas": null,
            "grid_template_columns": null,
            "grid_template_rows": null,
            "height": null,
            "justify_content": null,
            "justify_items": null,
            "left": null,
            "margin": null,
            "max_height": null,
            "max_width": null,
            "min_height": null,
            "min_width": null,
            "object_fit": null,
            "object_position": null,
            "order": null,
            "overflow": null,
            "overflow_x": null,
            "overflow_y": null,
            "padding": null,
            "right": null,
            "top": null,
            "visibility": null,
            "width": null
          }
        },
        "4fd13462581647b98be8beb31fb512ef": {
          "model_module": "@jupyter-widgets/controls",
          "model_module_version": "1.5.0",
          "model_name": "HBoxModel",
          "state": {
            "_dom_classes": [],
            "_model_module": "@jupyter-widgets/controls",
            "_model_module_version": "1.5.0",
            "_model_name": "HBoxModel",
            "_view_count": null,
            "_view_module": "@jupyter-widgets/controls",
            "_view_module_version": "1.5.0",
            "_view_name": "HBoxView",
            "box_style": "",
            "children": [
              "IPY_MODEL_bfcd95635b11405f9d1f16caab14d0e4",
              "IPY_MODEL_5a71a255b8ee40d99e13e35cda60c844",
              "IPY_MODEL_dcadbb355b8a41e7bf210080d802bdbf"
            ],
            "layout": "IPY_MODEL_a247808dfee0486ebc5d374cefc510f0"
          }
        },
        "5027e2850bcc4215b3477a520a82193b": {
          "model_module": "@jupyter-widgets/controls",
          "model_module_version": "1.5.0",
          "model_name": "HTMLModel",
          "state": {
            "_dom_classes": [],
            "_model_module": "@jupyter-widgets/controls",
            "_model_module_version": "1.5.0",
            "_model_name": "HTMLModel",
            "_view_count": null,
            "_view_module": "@jupyter-widgets/controls",
            "_view_module_version": "1.5.0",
            "_view_name": "HTMLView",
            "description": "",
            "description_tooltip": null,
            "layout": "IPY_MODEL_25608da4b52a43a19bb2e1b61a57ea6c",
            "placeholder": "​",
            "style": "IPY_MODEL_e2b623c814f24723a24a1feb045161e1",
            "value": "100%"
          }
        },
        "580d81f9acc2449880fe0308244ef273": {
          "model_module": "@jupyter-widgets/controls",
          "model_module_version": "1.5.0",
          "model_name": "ProgressStyleModel",
          "state": {
            "_model_module": "@jupyter-widgets/controls",
            "_model_module_version": "1.5.0",
            "_model_name": "ProgressStyleModel",
            "_view_count": null,
            "_view_module": "@jupyter-widgets/base",
            "_view_module_version": "1.2.0",
            "_view_name": "StyleView",
            "bar_color": null,
            "description_width": ""
          }
        },
        "5986557fceeb4325be042aec2a3be0f8": {
          "model_module": "@jupyter-widgets/controls",
          "model_module_version": "1.5.0",
          "model_name": "DescriptionStyleModel",
          "state": {
            "_model_module": "@jupyter-widgets/controls",
            "_model_module_version": "1.5.0",
            "_model_name": "DescriptionStyleModel",
            "_view_count": null,
            "_view_module": "@jupyter-widgets/base",
            "_view_module_version": "1.2.0",
            "_view_name": "StyleView",
            "description_width": ""
          }
        },
        "5a71a255b8ee40d99e13e35cda60c844": {
          "model_module": "@jupyter-widgets/controls",
          "model_module_version": "1.5.0",
          "model_name": "FloatProgressModel",
          "state": {
            "_dom_classes": [],
            "_model_module": "@jupyter-widgets/controls",
            "_model_module_version": "1.5.0",
            "_model_name": "FloatProgressModel",
            "_view_count": null,
            "_view_module": "@jupyter-widgets/controls",
            "_view_module_version": "1.5.0",
            "_view_name": "ProgressView",
            "bar_style": "success",
            "description": "",
            "description_tooltip": null,
            "layout": "IPY_MODEL_9de3074bd50d4cc7aa6f6b20a545fed8",
            "max": 29515,
            "min": 0,
            "orientation": "horizontal",
            "style": "IPY_MODEL_580d81f9acc2449880fe0308244ef273",
            "value": 29515
          }
        },
        "5f2140c9249d439a93bb1928c7625896": {
          "model_module": "@jupyter-widgets/controls",
          "model_module_version": "1.5.0",
          "model_name": "FloatProgressModel",
          "state": {
            "_dom_classes": [],
            "_model_module": "@jupyter-widgets/controls",
            "_model_module_version": "1.5.0",
            "_model_name": "FloatProgressModel",
            "_view_count": null,
            "_view_module": "@jupyter-widgets/controls",
            "_view_module_version": "1.5.0",
            "_view_name": "ProgressView",
            "bar_style": "success",
            "description": "",
            "description_tooltip": null,
            "layout": "IPY_MODEL_c883e5d40858482fb09f50027e7327a2",
            "max": 4422102,
            "min": 0,
            "orientation": "horizontal",
            "style": "IPY_MODEL_aee3c2fd60aa4ad29b1ab43c86a4a904",
            "value": 4422102
          }
        },
        "60462c3fd8c5499f8e4a78e1047470e4": {
          "model_module": "@jupyter-widgets/base",
          "model_module_version": "1.2.0",
          "model_name": "LayoutModel",
          "state": {
            "_model_module": "@jupyter-widgets/base",
            "_model_module_version": "1.2.0",
            "_model_name": "LayoutModel",
            "_view_count": null,
            "_view_module": "@jupyter-widgets/base",
            "_view_module_version": "1.2.0",
            "_view_name": "LayoutView",
            "align_content": null,
            "align_items": null,
            "align_self": null,
            "border": null,
            "bottom": null,
            "display": null,
            "flex": null,
            "flex_flow": null,
            "grid_area": null,
            "grid_auto_columns": null,
            "grid_auto_flow": null,
            "grid_auto_rows": null,
            "grid_column": null,
            "grid_gap": null,
            "grid_row": null,
            "grid_template_areas": null,
            "grid_template_columns": null,
            "grid_template_rows": null,
            "height": null,
            "justify_content": null,
            "justify_items": null,
            "left": null,
            "margin": null,
            "max_height": null,
            "max_width": null,
            "min_height": null,
            "min_width": null,
            "object_fit": null,
            "object_position": null,
            "order": null,
            "overflow": null,
            "overflow_x": null,
            "overflow_y": null,
            "padding": null,
            "right": null,
            "top": null,
            "visibility": null,
            "width": null
          }
        },
        "6074ad5c289543d193e84326795be00c": {
          "model_module": "@jupyter-widgets/base",
          "model_module_version": "1.2.0",
          "model_name": "LayoutModel",
          "state": {
            "_model_module": "@jupyter-widgets/base",
            "_model_module_version": "1.2.0",
            "_model_name": "LayoutModel",
            "_view_count": null,
            "_view_module": "@jupyter-widgets/base",
            "_view_module_version": "1.2.0",
            "_view_name": "LayoutView",
            "align_content": null,
            "align_items": null,
            "align_self": null,
            "border": null,
            "bottom": null,
            "display": null,
            "flex": null,
            "flex_flow": null,
            "grid_area": null,
            "grid_auto_columns": null,
            "grid_auto_flow": null,
            "grid_auto_rows": null,
            "grid_column": null,
            "grid_gap": null,
            "grid_row": null,
            "grid_template_areas": null,
            "grid_template_columns": null,
            "grid_template_rows": null,
            "height": null,
            "justify_content": null,
            "justify_items": null,
            "left": null,
            "margin": null,
            "max_height": null,
            "max_width": null,
            "min_height": null,
            "min_width": null,
            "object_fit": null,
            "object_position": null,
            "order": null,
            "overflow": null,
            "overflow_x": null,
            "overflow_y": null,
            "padding": null,
            "right": null,
            "top": null,
            "visibility": null,
            "width": null
          }
        },
        "60c94110b1bc4e59a17fdd027d1ba06c": {
          "model_module": "@jupyter-widgets/controls",
          "model_module_version": "1.5.0",
          "model_name": "HBoxModel",
          "state": {
            "_dom_classes": [],
            "_model_module": "@jupyter-widgets/controls",
            "_model_module_version": "1.5.0",
            "_model_name": "HBoxModel",
            "_view_count": null,
            "_view_module": "@jupyter-widgets/controls",
            "_view_module_version": "1.5.0",
            "_view_name": "HBoxView",
            "box_style": "",
            "children": [
              "IPY_MODEL_87ebdf387838492e91b42d76720a8df5",
              "IPY_MODEL_919a2b5f7f974e50ae772d2e295f46cb",
              "IPY_MODEL_fd254aa426c9426f9470d09fde85a282"
            ],
            "layout": "IPY_MODEL_1420eafbf7574d3aa2c8472eafbd7e21"
          }
        },
        "641e8ddea9cc4500aee6d0fd2088394b": {
          "model_module": "@jupyter-widgets/base",
          "model_module_version": "1.2.0",
          "model_name": "LayoutModel",
          "state": {
            "_model_module": "@jupyter-widgets/base",
            "_model_module_version": "1.2.0",
            "_model_name": "LayoutModel",
            "_view_count": null,
            "_view_module": "@jupyter-widgets/base",
            "_view_module_version": "1.2.0",
            "_view_name": "LayoutView",
            "align_content": null,
            "align_items": null,
            "align_self": null,
            "border": null,
            "bottom": null,
            "display": null,
            "flex": null,
            "flex_flow": null,
            "grid_area": null,
            "grid_auto_columns": null,
            "grid_auto_flow": null,
            "grid_auto_rows": null,
            "grid_column": null,
            "grid_gap": null,
            "grid_row": null,
            "grid_template_areas": null,
            "grid_template_columns": null,
            "grid_template_rows": null,
            "height": null,
            "justify_content": null,
            "justify_items": null,
            "left": null,
            "margin": null,
            "max_height": null,
            "max_width": null,
            "min_height": null,
            "min_width": null,
            "object_fit": null,
            "object_position": null,
            "order": null,
            "overflow": null,
            "overflow_x": null,
            "overflow_y": null,
            "padding": null,
            "right": null,
            "top": null,
            "visibility": null,
            "width": null
          }
        },
        "644a6f0d8412424d87699339315bf924": {
          "model_module": "@jupyter-widgets/controls",
          "model_module_version": "1.5.0",
          "model_name": "ProgressStyleModel",
          "state": {
            "_model_module": "@jupyter-widgets/controls",
            "_model_module_version": "1.5.0",
            "_model_name": "ProgressStyleModel",
            "_view_count": null,
            "_view_module": "@jupyter-widgets/base",
            "_view_module_version": "1.2.0",
            "_view_name": "StyleView",
            "bar_color": null,
            "description_width": ""
          }
        },
        "64dd57d4bb604a21833b80a13bef8146": {
          "model_module": "@jupyter-widgets/base",
          "model_module_version": "1.2.0",
          "model_name": "LayoutModel",
          "state": {
            "_model_module": "@jupyter-widgets/base",
            "_model_module_version": "1.2.0",
            "_model_name": "LayoutModel",
            "_view_count": null,
            "_view_module": "@jupyter-widgets/base",
            "_view_module_version": "1.2.0",
            "_view_name": "LayoutView",
            "align_content": null,
            "align_items": null,
            "align_self": null,
            "border": null,
            "bottom": null,
            "display": null,
            "flex": null,
            "flex_flow": null,
            "grid_area": null,
            "grid_auto_columns": null,
            "grid_auto_flow": null,
            "grid_auto_rows": null,
            "grid_column": null,
            "grid_gap": null,
            "grid_row": null,
            "grid_template_areas": null,
            "grid_template_columns": null,
            "grid_template_rows": null,
            "height": null,
            "justify_content": null,
            "justify_items": null,
            "left": null,
            "margin": null,
            "max_height": null,
            "max_width": null,
            "min_height": null,
            "min_width": null,
            "object_fit": null,
            "object_position": null,
            "order": null,
            "overflow": null,
            "overflow_x": null,
            "overflow_y": null,
            "padding": null,
            "right": null,
            "top": null,
            "visibility": null,
            "width": null
          }
        },
        "669d19109be347d7a6803bab189fb9fb": {
          "model_module": "@jupyter-widgets/controls",
          "model_module_version": "1.5.0",
          "model_name": "FloatProgressModel",
          "state": {
            "_dom_classes": [],
            "_model_module": "@jupyter-widgets/controls",
            "_model_module_version": "1.5.0",
            "_model_name": "FloatProgressModel",
            "_view_count": null,
            "_view_module": "@jupyter-widgets/controls",
            "_view_module_version": "1.5.0",
            "_view_name": "ProgressView",
            "bar_style": "success",
            "description": "",
            "description_tooltip": null,
            "layout": "IPY_MODEL_b20dd6e28ab3469ea7ea44c57374cfb6",
            "max": 5148,
            "min": 0,
            "orientation": "horizontal",
            "style": "IPY_MODEL_70a813ce44684cc991279ef68b8cccb0",
            "value": 5148
          }
        },
        "6b199bf8e0ec4f40ae03feb28c3cfdb6": {
          "model_module": "@jupyter-widgets/controls",
          "model_module_version": "1.5.0",
          "model_name": "DescriptionStyleModel",
          "state": {
            "_model_module": "@jupyter-widgets/controls",
            "_model_module_version": "1.5.0",
            "_model_name": "DescriptionStyleModel",
            "_view_count": null,
            "_view_module": "@jupyter-widgets/base",
            "_view_module_version": "1.2.0",
            "_view_name": "StyleView",
            "description_width": ""
          }
        },
        "6efcee4970a74180b4523430669e9597": {
          "model_module": "@jupyter-widgets/controls",
          "model_module_version": "1.5.0",
          "model_name": "HTMLModel",
          "state": {
            "_dom_classes": [],
            "_model_module": "@jupyter-widgets/controls",
            "_model_module_version": "1.5.0",
            "_model_name": "HTMLModel",
            "_view_count": null,
            "_view_module": "@jupyter-widgets/controls",
            "_view_module_version": "1.5.0",
            "_view_name": "HTMLView",
            "description": "",
            "description_tooltip": null,
            "layout": "IPY_MODEL_4cc6d29cbdb444f4abd747426b3b9b94",
            "placeholder": "​",
            "style": "IPY_MODEL_a0057b36eda9473796e04fc6483e23fc",
            "value": "  0%"
          }
        },
        "70a813ce44684cc991279ef68b8cccb0": {
          "model_module": "@jupyter-widgets/controls",
          "model_module_version": "1.5.0",
          "model_name": "ProgressStyleModel",
          "state": {
            "_model_module": "@jupyter-widgets/controls",
            "_model_module_version": "1.5.0",
            "_model_name": "ProgressStyleModel",
            "_view_count": null,
            "_view_module": "@jupyter-widgets/base",
            "_view_module_version": "1.2.0",
            "_view_name": "StyleView",
            "bar_color": null,
            "description_width": ""
          }
        },
        "7eb757ec70a8423786d00fb6bc4d96c8": {
          "model_module": "@jupyter-widgets/controls",
          "model_module_version": "1.5.0",
          "model_name": "HBoxModel",
          "state": {
            "_dom_classes": [],
            "_model_module": "@jupyter-widgets/controls",
            "_model_module_version": "1.5.0",
            "_model_name": "HBoxModel",
            "_view_count": null,
            "_view_module": "@jupyter-widgets/controls",
            "_view_module_version": "1.5.0",
            "_view_name": "HBoxView",
            "box_style": "",
            "children": [
              "IPY_MODEL_5027e2850bcc4215b3477a520a82193b",
              "IPY_MODEL_ac73c241cab24539bb8ec1bbed73e661",
              "IPY_MODEL_2e15505a25104810ba6dfbffcf3be56b"
            ],
            "layout": "IPY_MODEL_839d418b11a048e8ad0d4f12538db3b5"
          }
        },
        "839d418b11a048e8ad0d4f12538db3b5": {
          "model_module": "@jupyter-widgets/base",
          "model_module_version": "1.2.0",
          "model_name": "LayoutModel",
          "state": {
            "_model_module": "@jupyter-widgets/base",
            "_model_module_version": "1.2.0",
            "_model_name": "LayoutModel",
            "_view_count": null,
            "_view_module": "@jupyter-widgets/base",
            "_view_module_version": "1.2.0",
            "_view_name": "LayoutView",
            "align_content": null,
            "align_items": null,
            "align_self": null,
            "border": null,
            "bottom": null,
            "display": null,
            "flex": null,
            "flex_flow": null,
            "grid_area": null,
            "grid_auto_columns": null,
            "grid_auto_flow": null,
            "grid_auto_rows": null,
            "grid_column": null,
            "grid_gap": null,
            "grid_row": null,
            "grid_template_areas": null,
            "grid_template_columns": null,
            "grid_template_rows": null,
            "height": null,
            "justify_content": null,
            "justify_items": null,
            "left": null,
            "margin": null,
            "max_height": null,
            "max_width": null,
            "min_height": null,
            "min_width": null,
            "object_fit": null,
            "object_position": null,
            "order": null,
            "overflow": null,
            "overflow_x": null,
            "overflow_y": null,
            "padding": null,
            "right": null,
            "top": null,
            "visibility": null,
            "width": null
          }
        },
        "87ebdf387838492e91b42d76720a8df5": {
          "model_module": "@jupyter-widgets/controls",
          "model_module_version": "1.5.0",
          "model_name": "HTMLModel",
          "state": {
            "_dom_classes": [],
            "_model_module": "@jupyter-widgets/controls",
            "_model_module_version": "1.5.0",
            "_model_name": "HTMLModel",
            "_view_count": null,
            "_view_module": "@jupyter-widgets/controls",
            "_view_module_version": "1.5.0",
            "_view_name": "HTMLView",
            "description": "",
            "description_tooltip": null,
            "layout": "IPY_MODEL_432b55d05228482ebc158c7fc0459166",
            "placeholder": "​",
            "style": "IPY_MODEL_18192886cedc421bbccc1b8b70395bf6",
            "value": "100%"
          }
        },
        "896c3c1f81134de5b1e49afd0d7eb112": {
          "model_module": "@jupyter-widgets/controls",
          "model_module_version": "1.5.0",
          "model_name": "HTMLModel",
          "state": {
            "_dom_classes": [],
            "_model_module": "@jupyter-widgets/controls",
            "_model_module_version": "1.5.0",
            "_model_name": "HTMLModel",
            "_view_count": null,
            "_view_module": "@jupyter-widgets/controls",
            "_view_module_version": "1.5.0",
            "_view_name": "HTMLView",
            "description": "",
            "description_tooltip": null,
            "layout": "IPY_MODEL_9d73ae7f54dc4272b6b091b8f7bdf032",
            "placeholder": "​",
            "style": "IPY_MODEL_473ab63c2bb14bc1902216f445f26d01",
            "value": " 0/5 [00:00&lt;?, ?it/s]"
          }
        },
        "8e14f870dc98475f9af3af6438aec2a7": {
          "model_module": "@jupyter-widgets/base",
          "model_module_version": "1.2.0",
          "model_name": "LayoutModel",
          "state": {
            "_model_module": "@jupyter-widgets/base",
            "_model_module_version": "1.2.0",
            "_model_name": "LayoutModel",
            "_view_count": null,
            "_view_module": "@jupyter-widgets/base",
            "_view_module_version": "1.2.0",
            "_view_name": "LayoutView",
            "align_content": null,
            "align_items": null,
            "align_self": null,
            "border": null,
            "bottom": null,
            "display": null,
            "flex": null,
            "flex_flow": null,
            "grid_area": null,
            "grid_auto_columns": null,
            "grid_auto_flow": null,
            "grid_auto_rows": null,
            "grid_column": null,
            "grid_gap": null,
            "grid_row": null,
            "grid_template_areas": null,
            "grid_template_columns": null,
            "grid_template_rows": null,
            "height": null,
            "justify_content": null,
            "justify_items": null,
            "left": null,
            "margin": null,
            "max_height": null,
            "max_width": null,
            "min_height": null,
            "min_width": null,
            "object_fit": null,
            "object_position": null,
            "order": null,
            "overflow": null,
            "overflow_x": null,
            "overflow_y": null,
            "padding": null,
            "right": null,
            "top": null,
            "visibility": null,
            "width": null
          }
        },
        "919a2b5f7f974e50ae772d2e295f46cb": {
          "model_module": "@jupyter-widgets/controls",
          "model_module_version": "1.5.0",
          "model_name": "FloatProgressModel",
          "state": {
            "_dom_classes": [],
            "_model_module": "@jupyter-widgets/controls",
            "_model_module_version": "1.5.0",
            "_model_name": "FloatProgressModel",
            "_view_count": null,
            "_view_module": "@jupyter-widgets/controls",
            "_view_module_version": "1.5.0",
            "_view_name": "ProgressView",
            "bar_style": "success",
            "description": "",
            "description_tooltip": null,
            "layout": "IPY_MODEL_f10b0a091e0a447dab6525309919e8fc",
            "max": 26421880,
            "min": 0,
            "orientation": "horizontal",
            "style": "IPY_MODEL_644a6f0d8412424d87699339315bf924",
            "value": 26421880
          }
        },
        "9cd681423e59488c813d255506e442c3": {
          "model_module": "@jupyter-widgets/base",
          "model_module_version": "1.2.0",
          "model_name": "LayoutModel",
          "state": {
            "_model_module": "@jupyter-widgets/base",
            "_model_module_version": "1.2.0",
            "_model_name": "LayoutModel",
            "_view_count": null,
            "_view_module": "@jupyter-widgets/base",
            "_view_module_version": "1.2.0",
            "_view_name": "LayoutView",
            "align_content": null,
            "align_items": null,
            "align_self": null,
            "border": null,
            "bottom": null,
            "display": null,
            "flex": null,
            "flex_flow": null,
            "grid_area": null,
            "grid_auto_columns": null,
            "grid_auto_flow": null,
            "grid_auto_rows": null,
            "grid_column": null,
            "grid_gap": null,
            "grid_row": null,
            "grid_template_areas": null,
            "grid_template_columns": null,
            "grid_template_rows": null,
            "height": null,
            "justify_content": null,
            "justify_items": null,
            "left": null,
            "margin": null,
            "max_height": null,
            "max_width": null,
            "min_height": null,
            "min_width": null,
            "object_fit": null,
            "object_position": null,
            "order": null,
            "overflow": null,
            "overflow_x": null,
            "overflow_y": null,
            "padding": null,
            "right": null,
            "top": null,
            "visibility": null,
            "width": null
          }
        },
        "9d73ae7f54dc4272b6b091b8f7bdf032": {
          "model_module": "@jupyter-widgets/base",
          "model_module_version": "1.2.0",
          "model_name": "LayoutModel",
          "state": {
            "_model_module": "@jupyter-widgets/base",
            "_model_module_version": "1.2.0",
            "_model_name": "LayoutModel",
            "_view_count": null,
            "_view_module": "@jupyter-widgets/base",
            "_view_module_version": "1.2.0",
            "_view_name": "LayoutView",
            "align_content": null,
            "align_items": null,
            "align_self": null,
            "border": null,
            "bottom": null,
            "display": null,
            "flex": null,
            "flex_flow": null,
            "grid_area": null,
            "grid_auto_columns": null,
            "grid_auto_flow": null,
            "grid_auto_rows": null,
            "grid_column": null,
            "grid_gap": null,
            "grid_row": null,
            "grid_template_areas": null,
            "grid_template_columns": null,
            "grid_template_rows": null,
            "height": null,
            "justify_content": null,
            "justify_items": null,
            "left": null,
            "margin": null,
            "max_height": null,
            "max_width": null,
            "min_height": null,
            "min_width": null,
            "object_fit": null,
            "object_position": null,
            "order": null,
            "overflow": null,
            "overflow_x": null,
            "overflow_y": null,
            "padding": null,
            "right": null,
            "top": null,
            "visibility": null,
            "width": null
          }
        },
        "9de3074bd50d4cc7aa6f6b20a545fed8": {
          "model_module": "@jupyter-widgets/base",
          "model_module_version": "1.2.0",
          "model_name": "LayoutModel",
          "state": {
            "_model_module": "@jupyter-widgets/base",
            "_model_module_version": "1.2.0",
            "_model_name": "LayoutModel",
            "_view_count": null,
            "_view_module": "@jupyter-widgets/base",
            "_view_module_version": "1.2.0",
            "_view_name": "LayoutView",
            "align_content": null,
            "align_items": null,
            "align_self": null,
            "border": null,
            "bottom": null,
            "display": null,
            "flex": null,
            "flex_flow": null,
            "grid_area": null,
            "grid_auto_columns": null,
            "grid_auto_flow": null,
            "grid_auto_rows": null,
            "grid_column": null,
            "grid_gap": null,
            "grid_row": null,
            "grid_template_areas": null,
            "grid_template_columns": null,
            "grid_template_rows": null,
            "height": null,
            "justify_content": null,
            "justify_items": null,
            "left": null,
            "margin": null,
            "max_height": null,
            "max_width": null,
            "min_height": null,
            "min_width": null,
            "object_fit": null,
            "object_position": null,
            "order": null,
            "overflow": null,
            "overflow_x": null,
            "overflow_y": null,
            "padding": null,
            "right": null,
            "top": null,
            "visibility": null,
            "width": null
          }
        },
        "a0057b36eda9473796e04fc6483e23fc": {
          "model_module": "@jupyter-widgets/controls",
          "model_module_version": "1.5.0",
          "model_name": "DescriptionStyleModel",
          "state": {
            "_model_module": "@jupyter-widgets/controls",
            "_model_module_version": "1.5.0",
            "_model_name": "DescriptionStyleModel",
            "_view_count": null,
            "_view_module": "@jupyter-widgets/base",
            "_view_module_version": "1.2.0",
            "_view_name": "StyleView",
            "description_width": ""
          }
        },
        "a247808dfee0486ebc5d374cefc510f0": {
          "model_module": "@jupyter-widgets/base",
          "model_module_version": "1.2.0",
          "model_name": "LayoutModel",
          "state": {
            "_model_module": "@jupyter-widgets/base",
            "_model_module_version": "1.2.0",
            "_model_name": "LayoutModel",
            "_view_count": null,
            "_view_module": "@jupyter-widgets/base",
            "_view_module_version": "1.2.0",
            "_view_name": "LayoutView",
            "align_content": null,
            "align_items": null,
            "align_self": null,
            "border": null,
            "bottom": null,
            "display": null,
            "flex": null,
            "flex_flow": null,
            "grid_area": null,
            "grid_auto_columns": null,
            "grid_auto_flow": null,
            "grid_auto_rows": null,
            "grid_column": null,
            "grid_gap": null,
            "grid_row": null,
            "grid_template_areas": null,
            "grid_template_columns": null,
            "grid_template_rows": null,
            "height": null,
            "justify_content": null,
            "justify_items": null,
            "left": null,
            "margin": null,
            "max_height": null,
            "max_width": null,
            "min_height": null,
            "min_width": null,
            "object_fit": null,
            "object_position": null,
            "order": null,
            "overflow": null,
            "overflow_x": null,
            "overflow_y": null,
            "padding": null,
            "right": null,
            "top": null,
            "visibility": null,
            "width": null
          }
        },
        "a2f9e4e05250424283780118516686b7": {
          "model_module": "@jupyter-widgets/controls",
          "model_module_version": "1.5.0",
          "model_name": "HBoxModel",
          "state": {
            "_dom_classes": [],
            "_model_module": "@jupyter-widgets/controls",
            "_model_module_version": "1.5.0",
            "_model_name": "HBoxModel",
            "_view_count": null,
            "_view_module": "@jupyter-widgets/controls",
            "_view_module_version": "1.5.0",
            "_view_name": "HBoxView",
            "box_style": "",
            "children": [
              "IPY_MODEL_401edf76bb8145c395e1298b9a1d141b",
              "IPY_MODEL_669d19109be347d7a6803bab189fb9fb",
              "IPY_MODEL_4b46a847595640119f90864736f54d57"
            ],
            "layout": "IPY_MODEL_64dd57d4bb604a21833b80a13bef8146"
          }
        },
        "a4bd16362c2f4f6f9310cb52c78a8b8d": {
          "model_module": "@jupyter-widgets/controls",
          "model_module_version": "1.5.0",
          "model_name": "DescriptionStyleModel",
          "state": {
            "_model_module": "@jupyter-widgets/controls",
            "_model_module_version": "1.5.0",
            "_model_name": "DescriptionStyleModel",
            "_view_count": null,
            "_view_module": "@jupyter-widgets/base",
            "_view_module_version": "1.2.0",
            "_view_name": "StyleView",
            "description_width": ""
          }
        },
        "a77f2d50eaac4a33ae8e9d9606f03a73": {
          "model_module": "@jupyter-widgets/base",
          "model_module_version": "1.2.0",
          "model_name": "LayoutModel",
          "state": {
            "_model_module": "@jupyter-widgets/base",
            "_model_module_version": "1.2.0",
            "_model_name": "LayoutModel",
            "_view_count": null,
            "_view_module": "@jupyter-widgets/base",
            "_view_module_version": "1.2.0",
            "_view_name": "LayoutView",
            "align_content": null,
            "align_items": null,
            "align_self": null,
            "border": null,
            "bottom": null,
            "display": null,
            "flex": null,
            "flex_flow": null,
            "grid_area": null,
            "grid_auto_columns": null,
            "grid_auto_flow": null,
            "grid_auto_rows": null,
            "grid_column": null,
            "grid_gap": null,
            "grid_row": null,
            "grid_template_areas": null,
            "grid_template_columns": null,
            "grid_template_rows": null,
            "height": null,
            "justify_content": null,
            "justify_items": null,
            "left": null,
            "margin": null,
            "max_height": null,
            "max_width": null,
            "min_height": null,
            "min_width": null,
            "object_fit": null,
            "object_position": null,
            "order": null,
            "overflow": null,
            "overflow_x": null,
            "overflow_y": null,
            "padding": null,
            "right": null,
            "top": null,
            "visibility": null,
            "width": null
          }
        },
        "a78ca553926445baaff2ca7ce9886273": {
          "model_module": "@jupyter-widgets/controls",
          "model_module_version": "1.5.0",
          "model_name": "DescriptionStyleModel",
          "state": {
            "_model_module": "@jupyter-widgets/controls",
            "_model_module_version": "1.5.0",
            "_model_name": "DescriptionStyleModel",
            "_view_count": null,
            "_view_module": "@jupyter-widgets/base",
            "_view_module_version": "1.2.0",
            "_view_name": "StyleView",
            "description_width": ""
          }
        },
        "a90885205f7e4ef7bf66942e68262741": {
          "model_module": "@jupyter-widgets/base",
          "model_module_version": "1.2.0",
          "model_name": "LayoutModel",
          "state": {
            "_model_module": "@jupyter-widgets/base",
            "_model_module_version": "1.2.0",
            "_model_name": "LayoutModel",
            "_view_count": null,
            "_view_module": "@jupyter-widgets/base",
            "_view_module_version": "1.2.0",
            "_view_name": "LayoutView",
            "align_content": null,
            "align_items": null,
            "align_self": null,
            "border": null,
            "bottom": null,
            "display": null,
            "flex": null,
            "flex_flow": null,
            "grid_area": null,
            "grid_auto_columns": null,
            "grid_auto_flow": null,
            "grid_auto_rows": null,
            "grid_column": null,
            "grid_gap": null,
            "grid_row": null,
            "grid_template_areas": null,
            "grid_template_columns": null,
            "grid_template_rows": null,
            "height": null,
            "justify_content": null,
            "justify_items": null,
            "left": null,
            "margin": null,
            "max_height": null,
            "max_width": null,
            "min_height": null,
            "min_width": null,
            "object_fit": null,
            "object_position": null,
            "order": null,
            "overflow": null,
            "overflow_x": null,
            "overflow_y": null,
            "padding": null,
            "right": null,
            "top": null,
            "visibility": null,
            "width": null
          }
        },
        "ac0bea5df0aa45d79b8bf0710258351f": {
          "model_module": "@jupyter-widgets/base",
          "model_module_version": "1.2.0",
          "model_name": "LayoutModel",
          "state": {
            "_model_module": "@jupyter-widgets/base",
            "_model_module_version": "1.2.0",
            "_model_name": "LayoutModel",
            "_view_count": null,
            "_view_module": "@jupyter-widgets/base",
            "_view_module_version": "1.2.0",
            "_view_name": "LayoutView",
            "align_content": null,
            "align_items": null,
            "align_self": null,
            "border": null,
            "bottom": null,
            "display": null,
            "flex": null,
            "flex_flow": null,
            "grid_area": null,
            "grid_auto_columns": null,
            "grid_auto_flow": null,
            "grid_auto_rows": null,
            "grid_column": null,
            "grid_gap": null,
            "grid_row": null,
            "grid_template_areas": null,
            "grid_template_columns": null,
            "grid_template_rows": null,
            "height": null,
            "justify_content": null,
            "justify_items": null,
            "left": null,
            "margin": null,
            "max_height": null,
            "max_width": null,
            "min_height": null,
            "min_width": null,
            "object_fit": null,
            "object_position": null,
            "order": null,
            "overflow": null,
            "overflow_x": null,
            "overflow_y": null,
            "padding": null,
            "right": null,
            "top": null,
            "visibility": null,
            "width": null
          }
        },
        "ac73c241cab24539bb8ec1bbed73e661": {
          "model_module": "@jupyter-widgets/controls",
          "model_module_version": "1.5.0",
          "model_name": "FloatProgressModel",
          "state": {
            "_dom_classes": [],
            "_model_module": "@jupyter-widgets/controls",
            "_model_module_version": "1.5.0",
            "_model_name": "FloatProgressModel",
            "_view_count": null,
            "_view_module": "@jupyter-widgets/controls",
            "_view_module_version": "1.5.0",
            "_view_name": "ProgressView",
            "bar_style": "success",
            "description": "",
            "description_tooltip": null,
            "layout": "IPY_MODEL_641e8ddea9cc4500aee6d0fd2088394b",
            "max": 5,
            "min": 0,
            "orientation": "horizontal",
            "style": "IPY_MODEL_1e059d77642d4b7cb0bb767845cc33fc",
            "value": 5
          }
        },
        "aee3c2fd60aa4ad29b1ab43c86a4a904": {
          "model_module": "@jupyter-widgets/controls",
          "model_module_version": "1.5.0",
          "model_name": "ProgressStyleModel",
          "state": {
            "_model_module": "@jupyter-widgets/controls",
            "_model_module_version": "1.5.0",
            "_model_name": "ProgressStyleModel",
            "_view_count": null,
            "_view_module": "@jupyter-widgets/base",
            "_view_module_version": "1.2.0",
            "_view_name": "StyleView",
            "bar_color": null,
            "description_width": ""
          }
        },
        "b20dd6e28ab3469ea7ea44c57374cfb6": {
          "model_module": "@jupyter-widgets/base",
          "model_module_version": "1.2.0",
          "model_name": "LayoutModel",
          "state": {
            "_model_module": "@jupyter-widgets/base",
            "_model_module_version": "1.2.0",
            "_model_name": "LayoutModel",
            "_view_count": null,
            "_view_module": "@jupyter-widgets/base",
            "_view_module_version": "1.2.0",
            "_view_name": "LayoutView",
            "align_content": null,
            "align_items": null,
            "align_self": null,
            "border": null,
            "bottom": null,
            "display": null,
            "flex": null,
            "flex_flow": null,
            "grid_area": null,
            "grid_auto_columns": null,
            "grid_auto_flow": null,
            "grid_auto_rows": null,
            "grid_column": null,
            "grid_gap": null,
            "grid_row": null,
            "grid_template_areas": null,
            "grid_template_columns": null,
            "grid_template_rows": null,
            "height": null,
            "justify_content": null,
            "justify_items": null,
            "left": null,
            "margin": null,
            "max_height": null,
            "max_width": null,
            "min_height": null,
            "min_width": null,
            "object_fit": null,
            "object_position": null,
            "order": null,
            "overflow": null,
            "overflow_x": null,
            "overflow_y": null,
            "padding": null,
            "right": null,
            "top": null,
            "visibility": null,
            "width": null
          }
        },
        "b4d5224c6cf54a0483cc3d5c8103f849": {
          "model_module": "@jupyter-widgets/controls",
          "model_module_version": "1.5.0",
          "model_name": "DescriptionStyleModel",
          "state": {
            "_model_module": "@jupyter-widgets/controls",
            "_model_module_version": "1.5.0",
            "_model_name": "DescriptionStyleModel",
            "_view_count": null,
            "_view_module": "@jupyter-widgets/base",
            "_view_module_version": "1.2.0",
            "_view_name": "StyleView",
            "description_width": ""
          }
        },
        "bfcd95635b11405f9d1f16caab14d0e4": {
          "model_module": "@jupyter-widgets/controls",
          "model_module_version": "1.5.0",
          "model_name": "HTMLModel",
          "state": {
            "_dom_classes": [],
            "_model_module": "@jupyter-widgets/controls",
            "_model_module_version": "1.5.0",
            "_model_name": "HTMLModel",
            "_view_count": null,
            "_view_module": "@jupyter-widgets/controls",
            "_view_module_version": "1.5.0",
            "_view_name": "HTMLView",
            "description": "",
            "description_tooltip": null,
            "layout": "IPY_MODEL_0222dafa371d4fbb9ee9d8dcf8f1ecb1",
            "placeholder": "​",
            "style": "IPY_MODEL_cb6e908b7c764c179cdd32549ff227a4",
            "value": "100%"
          }
        },
        "c69a5b8b87864833b7396732369a88dd": {
          "model_module": "@jupyter-widgets/controls",
          "model_module_version": "1.5.0",
          "model_name": "HTMLModel",
          "state": {
            "_dom_classes": [],
            "_model_module": "@jupyter-widgets/controls",
            "_model_module_version": "1.5.0",
            "_model_name": "HTMLModel",
            "_view_count": null,
            "_view_module": "@jupyter-widgets/controls",
            "_view_module_version": "1.5.0",
            "_view_name": "HTMLView",
            "description": "",
            "description_tooltip": null,
            "layout": "IPY_MODEL_ecf3a4f1ba17475e81956af62ef4a58f",
            "placeholder": "​",
            "style": "IPY_MODEL_e93f13a4875347d7be07b4bbcecccb31",
            "value": " 5/5 [00:05&lt;00:00,  1.15it/s]"
          }
        },
        "c883e5d40858482fb09f50027e7327a2": {
          "model_module": "@jupyter-widgets/base",
          "model_module_version": "1.2.0",
          "model_name": "LayoutModel",
          "state": {
            "_model_module": "@jupyter-widgets/base",
            "_model_module_version": "1.2.0",
            "_model_name": "LayoutModel",
            "_view_count": null,
            "_view_module": "@jupyter-widgets/base",
            "_view_module_version": "1.2.0",
            "_view_name": "LayoutView",
            "align_content": null,
            "align_items": null,
            "align_self": null,
            "border": null,
            "bottom": null,
            "display": null,
            "flex": null,
            "flex_flow": null,
            "grid_area": null,
            "grid_auto_columns": null,
            "grid_auto_flow": null,
            "grid_auto_rows": null,
            "grid_column": null,
            "grid_gap": null,
            "grid_row": null,
            "grid_template_areas": null,
            "grid_template_columns": null,
            "grid_template_rows": null,
            "height": null,
            "justify_content": null,
            "justify_items": null,
            "left": null,
            "margin": null,
            "max_height": null,
            "max_width": null,
            "min_height": null,
            "min_width": null,
            "object_fit": null,
            "object_position": null,
            "order": null,
            "overflow": null,
            "overflow_x": null,
            "overflow_y": null,
            "padding": null,
            "right": null,
            "top": null,
            "visibility": null,
            "width": null
          }
        },
        "c8d795f32bb545ce8414f57a37e7f67e": {
          "model_module": "@jupyter-widgets/base",
          "model_module_version": "1.2.0",
          "model_name": "LayoutModel",
          "state": {
            "_model_module": "@jupyter-widgets/base",
            "_model_module_version": "1.2.0",
            "_model_name": "LayoutModel",
            "_view_count": null,
            "_view_module": "@jupyter-widgets/base",
            "_view_module_version": "1.2.0",
            "_view_name": "LayoutView",
            "align_content": null,
            "align_items": null,
            "align_self": null,
            "border": null,
            "bottom": null,
            "display": null,
            "flex": null,
            "flex_flow": null,
            "grid_area": null,
            "grid_auto_columns": null,
            "grid_auto_flow": null,
            "grid_auto_rows": null,
            "grid_column": null,
            "grid_gap": null,
            "grid_row": null,
            "grid_template_areas": null,
            "grid_template_columns": null,
            "grid_template_rows": null,
            "height": null,
            "justify_content": null,
            "justify_items": null,
            "left": null,
            "margin": null,
            "max_height": null,
            "max_width": null,
            "min_height": null,
            "min_width": null,
            "object_fit": null,
            "object_position": null,
            "order": null,
            "overflow": null,
            "overflow_x": null,
            "overflow_y": null,
            "padding": null,
            "right": null,
            "top": null,
            "visibility": null,
            "width": null
          }
        },
        "c9c00cd4467146cda1b57624e8b1a56f": {
          "model_module": "@jupyter-widgets/controls",
          "model_module_version": "1.5.0",
          "model_name": "HBoxModel",
          "state": {
            "_dom_classes": [],
            "_model_module": "@jupyter-widgets/controls",
            "_model_module_version": "1.5.0",
            "_model_name": "HBoxModel",
            "_view_count": null,
            "_view_module": "@jupyter-widgets/controls",
            "_view_module_version": "1.5.0",
            "_view_name": "HBoxView",
            "box_style": "",
            "children": [
              "IPY_MODEL_08ed2deb356b40cabd2ac5cf43e1a552",
              "IPY_MODEL_5f2140c9249d439a93bb1928c7625896",
              "IPY_MODEL_d9504f6680114c999bd272710e9dc7fb"
            ],
            "layout": "IPY_MODEL_ac0bea5df0aa45d79b8bf0710258351f"
          }
        },
        "cb6e908b7c764c179cdd32549ff227a4": {
          "model_module": "@jupyter-widgets/controls",
          "model_module_version": "1.5.0",
          "model_name": "DescriptionStyleModel",
          "state": {
            "_model_module": "@jupyter-widgets/controls",
            "_model_module_version": "1.5.0",
            "_model_name": "DescriptionStyleModel",
            "_view_count": null,
            "_view_module": "@jupyter-widgets/base",
            "_view_module_version": "1.2.0",
            "_view_name": "StyleView",
            "description_width": ""
          }
        },
        "cd31fd86e51b4233a3c17fdb807ffe24": {
          "model_module": "@jupyter-widgets/controls",
          "model_module_version": "1.5.0",
          "model_name": "HBoxModel",
          "state": {
            "_dom_classes": [],
            "_model_module": "@jupyter-widgets/controls",
            "_model_module_version": "1.5.0",
            "_model_name": "HBoxModel",
            "_view_count": null,
            "_view_module": "@jupyter-widgets/controls",
            "_view_module_version": "1.5.0",
            "_view_name": "HBoxView",
            "box_style": "",
            "children": [
              "IPY_MODEL_e73aab3f3f2b4b51a81d07093204fd9f",
              "IPY_MODEL_42df727e198149fb801fa15f9d95a444",
              "IPY_MODEL_c69a5b8b87864833b7396732369a88dd"
            ],
            "layout": "IPY_MODEL_a90885205f7e4ef7bf66942e68262741"
          }
        },
        "d54a7643c56f4800882442b44822cca3": {
          "model_module": "@jupyter-widgets/base",
          "model_module_version": "1.2.0",
          "model_name": "LayoutModel",
          "state": {
            "_model_module": "@jupyter-widgets/base",
            "_model_module_version": "1.2.0",
            "_model_name": "LayoutModel",
            "_view_count": null,
            "_view_module": "@jupyter-widgets/base",
            "_view_module_version": "1.2.0",
            "_view_name": "LayoutView",
            "align_content": null,
            "align_items": null,
            "align_self": null,
            "border": null,
            "bottom": null,
            "display": null,
            "flex": null,
            "flex_flow": null,
            "grid_area": null,
            "grid_auto_columns": null,
            "grid_auto_flow": null,
            "grid_auto_rows": null,
            "grid_column": null,
            "grid_gap": null,
            "grid_row": null,
            "grid_template_areas": null,
            "grid_template_columns": null,
            "grid_template_rows": null,
            "height": null,
            "justify_content": null,
            "justify_items": null,
            "left": null,
            "margin": null,
            "max_height": null,
            "max_width": null,
            "min_height": null,
            "min_width": null,
            "object_fit": null,
            "object_position": null,
            "order": null,
            "overflow": null,
            "overflow_x": null,
            "overflow_y": null,
            "padding": null,
            "right": null,
            "top": null,
            "visibility": null,
            "width": null
          }
        },
        "d9504f6680114c999bd272710e9dc7fb": {
          "model_module": "@jupyter-widgets/controls",
          "model_module_version": "1.5.0",
          "model_name": "HTMLModel",
          "state": {
            "_dom_classes": [],
            "_model_module": "@jupyter-widgets/controls",
            "_model_module_version": "1.5.0",
            "_model_name": "HTMLModel",
            "_view_count": null,
            "_view_module": "@jupyter-widgets/controls",
            "_view_module_version": "1.5.0",
            "_view_name": "HTMLView",
            "description": "",
            "description_tooltip": null,
            "layout": "IPY_MODEL_6074ad5c289543d193e84326795be00c",
            "placeholder": "​",
            "style": "IPY_MODEL_13a81d7269ae4df9934f7a7fb7b58b8d",
            "value": " 4422102/4422102 [00:01&lt;00:00, 4641486.84it/s]"
          }
        },
        "dcadbb355b8a41e7bf210080d802bdbf": {
          "model_module": "@jupyter-widgets/controls",
          "model_module_version": "1.5.0",
          "model_name": "HTMLModel",
          "state": {
            "_dom_classes": [],
            "_model_module": "@jupyter-widgets/controls",
            "_model_module_version": "1.5.0",
            "_model_name": "HTMLModel",
            "_view_count": null,
            "_view_module": "@jupyter-widgets/controls",
            "_view_module_version": "1.5.0",
            "_view_name": "HTMLView",
            "description": "",
            "description_tooltip": null,
            "layout": "IPY_MODEL_dcc66802a2074d0b9d135af23d741e55",
            "placeholder": "​",
            "style": "IPY_MODEL_0198bf8ffe534a42b01ce7db45438fcd",
            "value": " 29515/29515 [00:00&lt;00:00, 145070.82it/s]"
          }
        },
        "dcc66802a2074d0b9d135af23d741e55": {
          "model_module": "@jupyter-widgets/base",
          "model_module_version": "1.2.0",
          "model_name": "LayoutModel",
          "state": {
            "_model_module": "@jupyter-widgets/base",
            "_model_module_version": "1.2.0",
            "_model_name": "LayoutModel",
            "_view_count": null,
            "_view_module": "@jupyter-widgets/base",
            "_view_module_version": "1.2.0",
            "_view_name": "LayoutView",
            "align_content": null,
            "align_items": null,
            "align_self": null,
            "border": null,
            "bottom": null,
            "display": null,
            "flex": null,
            "flex_flow": null,
            "grid_area": null,
            "grid_auto_columns": null,
            "grid_auto_flow": null,
            "grid_auto_rows": null,
            "grid_column": null,
            "grid_gap": null,
            "grid_row": null,
            "grid_template_areas": null,
            "grid_template_columns": null,
            "grid_template_rows": null,
            "height": null,
            "justify_content": null,
            "justify_items": null,
            "left": null,
            "margin": null,
            "max_height": null,
            "max_width": null,
            "min_height": null,
            "min_width": null,
            "object_fit": null,
            "object_position": null,
            "order": null,
            "overflow": null,
            "overflow_x": null,
            "overflow_y": null,
            "padding": null,
            "right": null,
            "top": null,
            "visibility": null,
            "width": null
          }
        },
        "e2b623c814f24723a24a1feb045161e1": {
          "model_module": "@jupyter-widgets/controls",
          "model_module_version": "1.5.0",
          "model_name": "DescriptionStyleModel",
          "state": {
            "_model_module": "@jupyter-widgets/controls",
            "_model_module_version": "1.5.0",
            "_model_name": "DescriptionStyleModel",
            "_view_count": null,
            "_view_module": "@jupyter-widgets/base",
            "_view_module_version": "1.2.0",
            "_view_name": "StyleView",
            "description_width": ""
          }
        },
        "e4fe8b542fcb47028453a168dcbd07a7": {
          "model_module": "@jupyter-widgets/controls",
          "model_module_version": "1.5.0",
          "model_name": "HBoxModel",
          "state": {
            "_dom_classes": [],
            "_model_module": "@jupyter-widgets/controls",
            "_model_module_version": "1.5.0",
            "_model_name": "HBoxModel",
            "_view_count": null,
            "_view_module": "@jupyter-widgets/controls",
            "_view_module_version": "1.5.0",
            "_view_name": "HBoxView",
            "box_style": "",
            "children": [
              "IPY_MODEL_6efcee4970a74180b4523430669e9597",
              "IPY_MODEL_2c33b812bb784a0fa4fb42345e2a1983",
              "IPY_MODEL_896c3c1f81134de5b1e49afd0d7eb112"
            ],
            "layout": "IPY_MODEL_c8d795f32bb545ce8414f57a37e7f67e"
          }
        },
        "e6df685cb194409a8bc60ce4715a8c63": {
          "model_module": "@jupyter-widgets/base",
          "model_module_version": "1.2.0",
          "model_name": "LayoutModel",
          "state": {
            "_model_module": "@jupyter-widgets/base",
            "_model_module_version": "1.2.0",
            "_model_name": "LayoutModel",
            "_view_count": null,
            "_view_module": "@jupyter-widgets/base",
            "_view_module_version": "1.2.0",
            "_view_name": "LayoutView",
            "align_content": null,
            "align_items": null,
            "align_self": null,
            "border": null,
            "bottom": null,
            "display": null,
            "flex": null,
            "flex_flow": null,
            "grid_area": null,
            "grid_auto_columns": null,
            "grid_auto_flow": null,
            "grid_auto_rows": null,
            "grid_column": null,
            "grid_gap": null,
            "grid_row": null,
            "grid_template_areas": null,
            "grid_template_columns": null,
            "grid_template_rows": null,
            "height": null,
            "justify_content": null,
            "justify_items": null,
            "left": null,
            "margin": null,
            "max_height": null,
            "max_width": null,
            "min_height": null,
            "min_width": null,
            "object_fit": null,
            "object_position": null,
            "order": null,
            "overflow": null,
            "overflow_x": null,
            "overflow_y": null,
            "padding": null,
            "right": null,
            "top": null,
            "visibility": null,
            "width": null
          }
        },
        "e73aab3f3f2b4b51a81d07093204fd9f": {
          "model_module": "@jupyter-widgets/controls",
          "model_module_version": "1.5.0",
          "model_name": "HTMLModel",
          "state": {
            "_dom_classes": [],
            "_model_module": "@jupyter-widgets/controls",
            "_model_module_version": "1.5.0",
            "_model_name": "HTMLModel",
            "_view_count": null,
            "_view_module": "@jupyter-widgets/controls",
            "_view_module_version": "1.5.0",
            "_view_name": "HTMLView",
            "description": "",
            "description_tooltip": null,
            "layout": "IPY_MODEL_8e14f870dc98475f9af3af6438aec2a7",
            "placeholder": "​",
            "style": "IPY_MODEL_6b199bf8e0ec4f40ae03feb28c3cfdb6",
            "value": "100%"
          }
        },
        "e93f13a4875347d7be07b4bbcecccb31": {
          "model_module": "@jupyter-widgets/controls",
          "model_module_version": "1.5.0",
          "model_name": "DescriptionStyleModel",
          "state": {
            "_model_module": "@jupyter-widgets/controls",
            "_model_module_version": "1.5.0",
            "_model_name": "DescriptionStyleModel",
            "_view_count": null,
            "_view_module": "@jupyter-widgets/base",
            "_view_module_version": "1.2.0",
            "_view_name": "StyleView",
            "description_width": ""
          }
        },
        "ecf3a4f1ba17475e81956af62ef4a58f": {
          "model_module": "@jupyter-widgets/base",
          "model_module_version": "1.2.0",
          "model_name": "LayoutModel",
          "state": {
            "_model_module": "@jupyter-widgets/base",
            "_model_module_version": "1.2.0",
            "_model_name": "LayoutModel",
            "_view_count": null,
            "_view_module": "@jupyter-widgets/base",
            "_view_module_version": "1.2.0",
            "_view_name": "LayoutView",
            "align_content": null,
            "align_items": null,
            "align_self": null,
            "border": null,
            "bottom": null,
            "display": null,
            "flex": null,
            "flex_flow": null,
            "grid_area": null,
            "grid_auto_columns": null,
            "grid_auto_flow": null,
            "grid_auto_rows": null,
            "grid_column": null,
            "grid_gap": null,
            "grid_row": null,
            "grid_template_areas": null,
            "grid_template_columns": null,
            "grid_template_rows": null,
            "height": null,
            "justify_content": null,
            "justify_items": null,
            "left": null,
            "margin": null,
            "max_height": null,
            "max_width": null,
            "min_height": null,
            "min_width": null,
            "object_fit": null,
            "object_position": null,
            "order": null,
            "overflow": null,
            "overflow_x": null,
            "overflow_y": null,
            "padding": null,
            "right": null,
            "top": null,
            "visibility": null,
            "width": null
          }
        },
        "f10b0a091e0a447dab6525309919e8fc": {
          "model_module": "@jupyter-widgets/base",
          "model_module_version": "1.2.0",
          "model_name": "LayoutModel",
          "state": {
            "_model_module": "@jupyter-widgets/base",
            "_model_module_version": "1.2.0",
            "_model_name": "LayoutModel",
            "_view_count": null,
            "_view_module": "@jupyter-widgets/base",
            "_view_module_version": "1.2.0",
            "_view_name": "LayoutView",
            "align_content": null,
            "align_items": null,
            "align_self": null,
            "border": null,
            "bottom": null,
            "display": null,
            "flex": null,
            "flex_flow": null,
            "grid_area": null,
            "grid_auto_columns": null,
            "grid_auto_flow": null,
            "grid_auto_rows": null,
            "grid_column": null,
            "grid_gap": null,
            "grid_row": null,
            "grid_template_areas": null,
            "grid_template_columns": null,
            "grid_template_rows": null,
            "height": null,
            "justify_content": null,
            "justify_items": null,
            "left": null,
            "margin": null,
            "max_height": null,
            "max_width": null,
            "min_height": null,
            "min_width": null,
            "object_fit": null,
            "object_position": null,
            "order": null,
            "overflow": null,
            "overflow_x": null,
            "overflow_y": null,
            "padding": null,
            "right": null,
            "top": null,
            "visibility": null,
            "width": null
          }
        },
        "f8f9db2e82c3431c8dc0e3a79b29217d": {
          "model_module": "@jupyter-widgets/base",
          "model_module_version": "1.2.0",
          "model_name": "LayoutModel",
          "state": {
            "_model_module": "@jupyter-widgets/base",
            "_model_module_version": "1.2.0",
            "_model_name": "LayoutModel",
            "_view_count": null,
            "_view_module": "@jupyter-widgets/base",
            "_view_module_version": "1.2.0",
            "_view_name": "LayoutView",
            "align_content": null,
            "align_items": null,
            "align_self": null,
            "border": null,
            "bottom": null,
            "display": null,
            "flex": null,
            "flex_flow": null,
            "grid_area": null,
            "grid_auto_columns": null,
            "grid_auto_flow": null,
            "grid_auto_rows": null,
            "grid_column": null,
            "grid_gap": null,
            "grid_row": null,
            "grid_template_areas": null,
            "grid_template_columns": null,
            "grid_template_rows": null,
            "height": null,
            "justify_content": null,
            "justify_items": null,
            "left": null,
            "margin": null,
            "max_height": null,
            "max_width": null,
            "min_height": null,
            "min_width": null,
            "object_fit": null,
            "object_position": null,
            "order": null,
            "overflow": null,
            "overflow_x": null,
            "overflow_y": null,
            "padding": null,
            "right": null,
            "top": null,
            "visibility": null,
            "width": null
          }
        },
        "fd254aa426c9426f9470d09fde85a282": {
          "model_module": "@jupyter-widgets/controls",
          "model_module_version": "1.5.0",
          "model_name": "HTMLModel",
          "state": {
            "_dom_classes": [],
            "_model_module": "@jupyter-widgets/controls",
            "_model_module_version": "1.5.0",
            "_model_name": "HTMLModel",
            "_view_count": null,
            "_view_module": "@jupyter-widgets/controls",
            "_view_module_version": "1.5.0",
            "_view_name": "HTMLView",
            "description": "",
            "description_tooltip": null,
            "layout": "IPY_MODEL_f8f9db2e82c3431c8dc0e3a79b29217d",
            "placeholder": "​",
            "style": "IPY_MODEL_a78ca553926445baaff2ca7ce9886273",
            "value": " 26421880/26421880 [00:03&lt;00:00, 14311201.90it/s]"
          }
        }
      }
    }
  },
  "nbformat": 4,
  "nbformat_minor": 0
}
