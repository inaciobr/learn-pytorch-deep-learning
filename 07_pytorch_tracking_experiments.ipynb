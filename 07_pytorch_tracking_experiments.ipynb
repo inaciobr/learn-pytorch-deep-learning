{
 "cells": [
  {
   "cell_type": "markdown",
   "metadata": {},
   "source": [
    "# 07: PyTorch Experiment Tracking\n",
    "\n",
    "This notebook tries several different models with different types of data augmentation and tracks the results to compare them.\n",
    "\n",
    "## TODO:\n",
    "* Setup different experiments\n",
    "* Track different experiments with SummaryWriter/PyTorch profiler (can view these on Weights & Biases)\n",
    "    * 1. EffNetB0 + no augmentation\n",
    "    * 2. EffNetB0 + random augmentation\n",
    "    * 3. EffNetB4 + no augmentation\n",
    "    * 4. EffNetB4 + random augmentation\n",
    "    * Mixed precision?\n",
    "\n",
    "* See here for more on the profiler: https://pytorch.org/blog/introducing-pytorch-profiler-the-new-and-improved-performance-tool/\n",
    "* See here on setting up TensorBoard in VSCode: https://code.visualstudio.com/docs/datascience/pytorch-support"
   ]
  },
  {
   "cell_type": "markdown",
   "metadata": {},
   "source": []
  }
 ],
 "metadata": {
  "language_info": {
   "name": "python"
  },
  "orig_nbformat": 4
 },
 "nbformat": 4,
 "nbformat_minor": 2
}
