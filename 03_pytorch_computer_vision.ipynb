{
  "cells": [
    {
      "cell_type": "markdown",
      "metadata": {
        "id": "view-in-github",
        "colab_type": "text"
      },
      "source": [
        "<a href=\"https://colab.research.google.com/github/mrdbourke/pytorch-deep-learning/blob/main/03_pytorch_computer_vision.ipynb\" target=\"_parent\"><img src=\"https://colab.research.google.com/assets/colab-badge.svg\" alt=\"Open In Colab\"/></a>"
      ]
    },
    {
      "cell_type": "markdown",
      "metadata": {
        "id": "2f-BgWZ1or_f"
      },
      "source": [
        "# (WIP) 03. PyTorch Computer Vision\n",
        "\n",
        "[Computer vision](https://en.wikipedia.org/wiki/Computer_vision) is the art of teaching a computer to see.\n",
        "\n",
        "For example, it could involve building a model to classify whether a photo is of a cat or a dog ([binary classification](https://developers.google.com/machine-learning/glossary#binary-classification)).\n",
        "\n",
        "Or whether a photo is of a cat, dog or chicken ([multi-class classification](https://developers.google.com/machine-learning/glossary#multi-class-classification)).\n",
        "\n",
        "Or identifying where a car appears in a video frame ([object detection](https://en.wikipedia.org/wiki/Object_detection)).\n",
        "\n",
        "Or figuring out where different objects in an image can be separated ([panoptic segmentation](https://arxiv.org/abs/1801.00868)).\n",
        "\n",
        "## Where does computer vision get used?\n",
        "\n",
        "If you use a smartphone, you've already used computer vision.\n",
        "\n",
        "Camera and photo apps use computer vision to enhance and sort images - TK Link: https://machinelearning.apple.com/research/panoptic-segmentation.\n",
        "\n",
        "Modern cars use computer vision to avoid other cars and stay within lane lines.\n",
        "\n",
        "Manufacturers use computer vision to identify defects in various products.\n",
        "\n",
        "Security cameras use computer vision to detect potential intruders.\n",
        "\n",
        "In essence, anything that can described in a visual sense can be a potential computer vision problem.\n",
        "\n",
        "TK image - put above into computer vision use cases\n",
        "\n",
        "## What we're going to cover\n",
        "\n",
        "TK image: pytorch workflow + classes? (could link to this image in a previous notebook?)\n",
        "\n",
        "We're going to apply the PyTorch Workflow we've been learning in the past couple of sections to computer vision.\n",
        "\n",
        "Specifically, we're going to cover:\n",
        "\n",
        "| **Topic** | **Contents** |\n",
        "| ----- | ----- |\n",
        "| **0. Computer vision libraries in PyTorch** | PyTorch has a bunch of built-in helpful computer vision libraries, let's check them out.  |\n",
        "| **1. Load data** | To practice computer vision, we'll start with some images of different pieces of clothing from [FashionMNIST](https://github.com/zalandoresearch/fashion-mnist). |\n",
        "| **2. Prepare data** | We've got some images, let's load them in with a [PyTorch `DataLoader`](https://pytorch.org/docs/stable/data.html) so we can use them with our training loop. |\n",
        "| **3. Model 0: Building a baseline model** | Here we'll create a multi-class classification model to learn patterns in the data, we'll also choose a **loss function**, **optimizer** and build a **training loop**. | \n",
        "| **4. Making predictions and evaluting model 0** | Let's make some predictions with our baseline model and evaluate them. |\n",
        "| **5. Setup device agnostic code for future models** | It's best practice to write device-agnostic code, so let's set it up. |\n",
        "| **6. Model 1: Adding non-linearity** | Experimenting is a large part of machine learning, let's try and improve upon our baseline model by adding non-linear layers. |\n",
        "| **7. Model 2: Convolutional Neural Network (CNN)** | Time to get computer vision specific and introduce the powerful convolutional neural network architecture. |\n",
        "| **8. Evaluating our best model** | Let's make some predictons on random images and evaluate our best model. |\n",
        "| **9. Making a confusion matrix** | A confusion matrix is a great way to evaluate a classification model, let's see how we can make one. |\n",
        "| **10. Saving and loading the best performing model** | Since we might want to use our model for later, let's save it and make sure it loads back in correctly. |\n",
        "\n",
        "Workflow:\n",
        "\n",
        "TK - image for the workflow\n",
        "\n",
        "1. Data (prepare and load)\n",
        "2. Build model\n",
        "3. Fitting model to data (training)\n",
        "4. Making predictions and evaluating a model (inference)\n",
        "    * Improving a model through experimentations (optional)\n",
        "5. Saving and loading model\n",
        "6. Putting it all together"
      ]
    },
    {
      "cell_type": "markdown",
      "metadata": {
        "id": "SuWAAkAIor_h"
      },
      "source": [
        "## Where can can you get help?\n",
        "\n",
        "All of the materials for this course [live on GitHub](https://github.com/mrdbourke/pytorch-deep-learning).\n",
        "\n",
        "If you run into trouble, you can ask a question on the course [GitHub Discussions page](https://github.com/mrdbourke/pytorch-deep-learning/discussions) there too.\n",
        "\n",
        "And of course, there's the [PyTorch documentation](https://pytorch.org/docs/stable/index.html) and [PyTorch developer forums](https://discuss.pytorch.org/), a very helpful place for all things PyTorch. "
      ]
    },
    {
      "cell_type": "markdown",
      "metadata": {
        "id": "GLmjno1yor_h"
      },
      "source": [
        "## TK - 0. Computer vision libraries in PyTorch\n",
        "\n",
        "Before we get started writing code, let's talk about some PyTorch computer vision libraries you should be aware of.\n",
        "\n",
        "| PyTorch module | What does it do? |\n",
        "| ----- | ----- |\n",
        "| [`torchvision`](https://pytorch.org/vision/stable/index.html) | Contains datasets, model architectures and image transformations often used for computer vision problems. |\n",
        "| [`torchvision.datasets`](https://pytorch.org/vision/stable/datasets.html) | Here you'll find many example computer vision datasets for a range of problems from image classification, object detection, image captioning, video classification and more. It also contains [a series of base classes for making custom datasets](https://pytorch.org/vision/stable/datasets.html#base-classes-for-custom-datasets). |\n",
        "| [`torchvision.models`](https://pytorch.org/vision/stable/models.html) | This module contains well-performing and commonly used computer vision model architectures implemented in PyTorch, you can use these with your own problems. | \n",
        "| [`torchvision.transforms`](https://pytorch.org/vision/stable/transforms.html) | Often images need to be transformed (turned into numbers/processed/augmented) before being used with a model, common image transformations are found here. | \n",
        "| [`torch.utils.data.Dataset`](https://pytorch.org/docs/stable/data.html#torch.utils.data.Dataset) | Base dataset class for PyTorch, all custom dataset classes should inherit from this and override `__getitem()__` and `__len()__`. | \n",
        "| [`torch.utils.data.DataLoader`](https://pytorch.org/docs/stable/data.html#module-torch.utils.data) | Creates a Python iteralbe over a dataset (created with `torch.utils.data.Dataset`). |\n",
        "\n",
        "> **Note:** The `torch.utils.data.Dataset` and `torch.utils.data.DataLoader` classes aren't only for computer vision in PyTorch, they are capable of dealing with many different types of data.\n",
        "\n",
        "Now we've covered some of the most important PyTorch computer vision libraries, let's import the relevant dependencies.\n"
      ]
    },
    {
      "cell_type": "code",
      "execution_count": null,
      "metadata": {
        "id": "ZG6XbgBlor_i",
        "outputId": "87b4a622-d858-4c12-e5e8-c5046e5e3527",
        "colab": {
          "base_uri": "https://localhost:8080/"
        }
      },
      "outputs": [
        {
          "output_type": "stream",
          "name": "stdout",
          "text": [
            "PyTorch version: 1.10.0+cu111\n",
            "torchvision version: 0.11.1+cu111\n"
          ]
        }
      ],
      "source": [
        "# Import PyTorch\n",
        "import torch\n",
        "from torch import nn\n",
        "\n",
        "# Import torchvision \n",
        "import torchvision\n",
        "from torchvision import datasets\n",
        "from torchvision.transforms import ToTensor\n",
        "\n",
        "# Import matplotlib for visualization\n",
        "import matplotlib.pyplot as plt\n",
        "\n",
        "# Check versions\n",
        "# Note: your PyTorch version shouldn't be lower than 1.10.0 and torchvision version shouldn't be lower than 0.11\n",
        "print(f\"PyTorch version: {torch.__version__}\\ntorchvision version: {torchvision.__version__}\")"
      ]
    },
    {
      "cell_type": "markdown",
      "metadata": {
        "id": "CEmuOrbQor_j"
      },
      "source": [
        "## TK - 1. Getting a dataset\n",
        "\n",
        "To begin working on a computer vision problem, let's get a computer vision dataset.\n",
        "\n",
        "We're going to start with FashionMNIST.\n",
        "\n",
        "MNIST stands for Modified National Institute of Standards and Technology.\n",
        "\n",
        "The [original MNIST dataset](https://en.wikipedia.org/wiki/MNIST_database) contains thousands of examples of handwritten digits (from 0 to 9) and was used to build computer vision models to identify numbers for postal services.\n",
        "\n",
        "[FashionMNIST](https://github.com/zalandoresearch/fashion-mnist), made by Zalando Research, is a similar setup. \n",
        "\n",
        "Except it contains images of 10 different kinds of clothing.\n",
        "\n",
        "Later, we'll be building a computer vision neural network to identify the different styles of clothing in these images.\n",
        "\n",
        "PyTorch has a bunch of common computer vision datasets stored in `torchvision.datasets`.\n",
        "\n",
        "Including FashionMNIST in `torchvision.datasets.FashionMNIST()`.\n",
        "\n",
        "To download it, we provide the following parameters:\n",
        "* `root: str` - which folder do you want to download the data to?\n",
        "* `train: Bool` - do you want the training or test split?\n",
        "* `download: Bool` - should the data be downloaded?\n",
        "* `transform: torchvision.transforms` - what transformations would you like to do on the data?\n",
        "* `target_transform` - you can transform the targets (labels) if you like too.\n",
        "\n",
        "Many other datasets in `torchvision` have these parameter options."
      ]
    },
    {
      "cell_type": "code",
      "execution_count": null,
      "metadata": {
        "id": "wdAx9b7hor_j",
        "colab": {
          "base_uri": "https://localhost:8080/",
          "height": 422,
          "referenced_widgets": [
            "831fd220716f4d70b63497c3cfdcd6aa",
            "93659419e8e044a99ac2818f0592d4e4",
            "9bcbc4fc5761407f85d66f5e4074cacc",
            "cf1a76f82bce445b8935e669f9af8343",
            "71edb6c986e14f44acdab77602206ce0",
            "114045473cf74fd6b0e086de14f4ab67",
            "aeff3837f32743569c8805dc99113185",
            "a18bbd36fd2841148b4493cc2976605f",
            "84c3b8129cd24ba5b47e1ce6515ec949",
            "da05835c9618499fae99efe42e96e78d",
            "ef131b655ed84be2b4c4efdbfd4440f4",
            "60ef7fe613b74f7d9fb21829dbdb0eda",
            "e2416146e261439f817906471d997bfb",
            "3850132e3c244add9e0c3c17b3d077f3",
            "0b77a6b11b29479fb6226dc556f2973e",
            "034c2cab1119490ba57cd028a25b3edc",
            "605c1d0776dd48d3a2ac7efa05c0752b",
            "6151fb24e7eb4225bbcf79c36c6d4056",
            "761d91144b83473899a2407d333bb7ba",
            "00f4896bbd7e42e5b608830aec7ea123",
            "7f9d8f300d1d4cd1a32366f20b2a304f",
            "1b7902fb48b3492eb8126bbab0aa645c",
            "1f0f0270875b4095b08919063d9b1394",
            "58861a037e684feca8eb8e45fcf4dd2a",
            "f68309fefd6e43c1abb2a47efd9db63c",
            "21b290373aa04b158677831ab98cbfd6",
            "e99b00538c374c65b30a3aeb5cee607c",
            "f2a0e2c5301245279bee8dcfef9535b7",
            "70ace03ebc9f4d74b10c69402a5fad1b",
            "941c9a3670f549d5ba13a7010d21092d",
            "f58c413ebe36432eb8532b4d04f55463",
            "c8730f879a17414c98ce9290435a4bb2",
            "518f4b8bc51f40deb2c33fea005ef342",
            "5f5f7f4171964152aaf4b991a344d2f0",
            "0eefae215ba74ba2a950eb1ddba316ca",
            "fb8b888ddefb4f78b0262fb89e08f039",
            "931c2fb964284083b420b69af2326b8d",
            "dd703064802c479cbe7eb817299c66ca",
            "9e57b86e141048cb9d9edcff9bb47f73",
            "852186889f154a22a9f8cc6bc8d7c80b",
            "9ec4659672f541d69062eebee3df429c",
            "d362e158a46947dc91238a0fc3c269dd",
            "1fc35119fb234853bb07c35b66434eb4",
            "62da4b66edcc4a2f9f0cf72159b9c92c"
          ]
        },
        "outputId": "e3144860-5629-49fb-ced1-0b5c933b8485"
      },
      "outputs": [
        {
          "output_type": "stream",
          "name": "stdout",
          "text": [
            "Downloading http://fashion-mnist.s3-website.eu-central-1.amazonaws.com/train-images-idx3-ubyte.gz\n",
            "Downloading http://fashion-mnist.s3-website.eu-central-1.amazonaws.com/train-images-idx3-ubyte.gz to data/FashionMNIST/raw/train-images-idx3-ubyte.gz\n"
          ]
        },
        {
          "output_type": "display_data",
          "data": {
            "text/plain": [
              "  0%|          | 0/26421880 [00:00<?, ?it/s]"
            ],
            "application/vnd.jupyter.widget-view+json": {
              "version_major": 2,
              "version_minor": 0,
              "model_id": "831fd220716f4d70b63497c3cfdcd6aa"
            }
          },
          "metadata": {}
        },
        {
          "output_type": "stream",
          "name": "stdout",
          "text": [
            "Extracting data/FashionMNIST/raw/train-images-idx3-ubyte.gz to data/FashionMNIST/raw\n",
            "\n",
            "Downloading http://fashion-mnist.s3-website.eu-central-1.amazonaws.com/train-labels-idx1-ubyte.gz\n",
            "Downloading http://fashion-mnist.s3-website.eu-central-1.amazonaws.com/train-labels-idx1-ubyte.gz to data/FashionMNIST/raw/train-labels-idx1-ubyte.gz\n"
          ]
        },
        {
          "output_type": "display_data",
          "data": {
            "text/plain": [
              "  0%|          | 0/29515 [00:00<?, ?it/s]"
            ],
            "application/vnd.jupyter.widget-view+json": {
              "version_major": 2,
              "version_minor": 0,
              "model_id": "60ef7fe613b74f7d9fb21829dbdb0eda"
            }
          },
          "metadata": {}
        },
        {
          "output_type": "stream",
          "name": "stdout",
          "text": [
            "Extracting data/FashionMNIST/raw/train-labels-idx1-ubyte.gz to data/FashionMNIST/raw\n",
            "\n",
            "Downloading http://fashion-mnist.s3-website.eu-central-1.amazonaws.com/t10k-images-idx3-ubyte.gz\n",
            "Downloading http://fashion-mnist.s3-website.eu-central-1.amazonaws.com/t10k-images-idx3-ubyte.gz to data/FashionMNIST/raw/t10k-images-idx3-ubyte.gz\n"
          ]
        },
        {
          "output_type": "display_data",
          "data": {
            "text/plain": [
              "  0%|          | 0/4422102 [00:00<?, ?it/s]"
            ],
            "application/vnd.jupyter.widget-view+json": {
              "version_major": 2,
              "version_minor": 0,
              "model_id": "1f0f0270875b4095b08919063d9b1394"
            }
          },
          "metadata": {}
        },
        {
          "output_type": "stream",
          "name": "stdout",
          "text": [
            "Extracting data/FashionMNIST/raw/t10k-images-idx3-ubyte.gz to data/FashionMNIST/raw\n",
            "\n",
            "Downloading http://fashion-mnist.s3-website.eu-central-1.amazonaws.com/t10k-labels-idx1-ubyte.gz\n",
            "Downloading http://fashion-mnist.s3-website.eu-central-1.amazonaws.com/t10k-labels-idx1-ubyte.gz to data/FashionMNIST/raw/t10k-labels-idx1-ubyte.gz\n"
          ]
        },
        {
          "output_type": "display_data",
          "data": {
            "text/plain": [
              "  0%|          | 0/5148 [00:00<?, ?it/s]"
            ],
            "application/vnd.jupyter.widget-view+json": {
              "version_major": 2,
              "version_minor": 0,
              "model_id": "5f5f7f4171964152aaf4b991a344d2f0"
            }
          },
          "metadata": {}
        },
        {
          "output_type": "stream",
          "name": "stdout",
          "text": [
            "Extracting data/FashionMNIST/raw/t10k-labels-idx1-ubyte.gz to data/FashionMNIST/raw\n",
            "\n"
          ]
        }
      ],
      "source": [
        "# Setup training data\n",
        "train_data = datasets.FashionMNIST(\n",
        "    root=\"data\", # where to download data to?\n",
        "    train=True, # get training data\n",
        "    download=True, # download data if it doesn't exist on disk\n",
        "    transform=ToTensor(), # images come as PIL format, we want to turn into Torch tensors\n",
        "    target_transform=None # you can transform labels as well\n",
        ")\n",
        "\n",
        "# Setup testing data\n",
        "test_data = datasets.FashionMNIST(\n",
        "    root=\"data\",\n",
        "    train=False, # get test data\n",
        "    download=True,\n",
        "    transform=ToTensor()\n",
        ")"
      ]
    },
    {
      "cell_type": "markdown",
      "metadata": {
        "id": "MIWG-Fyfor_j"
      },
      "source": [
        "Let's check out the first sample of the training data."
      ]
    },
    {
      "cell_type": "code",
      "execution_count": null,
      "metadata": {
        "id": "VfsokhFRor_j",
        "outputId": "5dab0a24-afd0-49a6-a059-340ce367aa88",
        "colab": {
          "base_uri": "https://localhost:8080/"
        }
      },
      "outputs": [
        {
          "output_type": "execute_result",
          "data": {
            "text/plain": [
              "(tensor([[[0.0000, 0.0000, 0.0000, 0.0000, 0.0000, 0.0000, 0.0000, 0.0000,\n",
              "           0.0000, 0.0000, 0.0000, 0.0000, 0.0000, 0.0000, 0.0000, 0.0000,\n",
              "           0.0000, 0.0000, 0.0000, 0.0000, 0.0000, 0.0000, 0.0000, 0.0000,\n",
              "           0.0000, 0.0000, 0.0000, 0.0000],\n",
              "          [0.0000, 0.0000, 0.0000, 0.0000, 0.0000, 0.0000, 0.0000, 0.0000,\n",
              "           0.0000, 0.0000, 0.0000, 0.0000, 0.0000, 0.0000, 0.0000, 0.0000,\n",
              "           0.0000, 0.0000, 0.0000, 0.0000, 0.0000, 0.0000, 0.0000, 0.0000,\n",
              "           0.0000, 0.0000, 0.0000, 0.0000],\n",
              "          [0.0000, 0.0000, 0.0000, 0.0000, 0.0000, 0.0000, 0.0000, 0.0000,\n",
              "           0.0000, 0.0000, 0.0000, 0.0000, 0.0000, 0.0000, 0.0000, 0.0000,\n",
              "           0.0000, 0.0000, 0.0000, 0.0000, 0.0000, 0.0000, 0.0000, 0.0000,\n",
              "           0.0000, 0.0000, 0.0000, 0.0000],\n",
              "          [0.0000, 0.0000, 0.0000, 0.0000, 0.0000, 0.0000, 0.0000, 0.0000,\n",
              "           0.0000, 0.0000, 0.0000, 0.0000, 0.0039, 0.0000, 0.0000, 0.0510,\n",
              "           0.2863, 0.0000, 0.0000, 0.0039, 0.0157, 0.0000, 0.0000, 0.0000,\n",
              "           0.0000, 0.0039, 0.0039, 0.0000],\n",
              "          [0.0000, 0.0000, 0.0000, 0.0000, 0.0000, 0.0000, 0.0000, 0.0000,\n",
              "           0.0000, 0.0000, 0.0000, 0.0000, 0.0118, 0.0000, 0.1412, 0.5333,\n",
              "           0.4980, 0.2431, 0.2118, 0.0000, 0.0000, 0.0000, 0.0039, 0.0118,\n",
              "           0.0157, 0.0000, 0.0000, 0.0118],\n",
              "          [0.0000, 0.0000, 0.0000, 0.0000, 0.0000, 0.0000, 0.0000, 0.0000,\n",
              "           0.0000, 0.0000, 0.0000, 0.0000, 0.0235, 0.0000, 0.4000, 0.8000,\n",
              "           0.6902, 0.5255, 0.5647, 0.4824, 0.0902, 0.0000, 0.0000, 0.0000,\n",
              "           0.0000, 0.0471, 0.0392, 0.0000],\n",
              "          [0.0000, 0.0000, 0.0000, 0.0000, 0.0000, 0.0000, 0.0000, 0.0000,\n",
              "           0.0000, 0.0000, 0.0000, 0.0000, 0.0000, 0.0000, 0.6078, 0.9255,\n",
              "           0.8118, 0.6980, 0.4196, 0.6118, 0.6314, 0.4275, 0.2510, 0.0902,\n",
              "           0.3020, 0.5098, 0.2824, 0.0588],\n",
              "          [0.0000, 0.0000, 0.0000, 0.0000, 0.0000, 0.0000, 0.0000, 0.0000,\n",
              "           0.0000, 0.0000, 0.0000, 0.0039, 0.0000, 0.2706, 0.8118, 0.8745,\n",
              "           0.8549, 0.8471, 0.8471, 0.6392, 0.4980, 0.4745, 0.4784, 0.5725,\n",
              "           0.5529, 0.3451, 0.6745, 0.2588],\n",
              "          [0.0000, 0.0000, 0.0000, 0.0000, 0.0000, 0.0000, 0.0000, 0.0000,\n",
              "           0.0000, 0.0039, 0.0039, 0.0039, 0.0000, 0.7843, 0.9098, 0.9098,\n",
              "           0.9137, 0.8980, 0.8745, 0.8745, 0.8431, 0.8353, 0.6431, 0.4980,\n",
              "           0.4824, 0.7686, 0.8980, 0.0000],\n",
              "          [0.0000, 0.0000, 0.0000, 0.0000, 0.0000, 0.0000, 0.0000, 0.0000,\n",
              "           0.0000, 0.0000, 0.0000, 0.0000, 0.0000, 0.7176, 0.8824, 0.8471,\n",
              "           0.8745, 0.8941, 0.9216, 0.8902, 0.8784, 0.8706, 0.8784, 0.8667,\n",
              "           0.8745, 0.9608, 0.6784, 0.0000],\n",
              "          [0.0000, 0.0000, 0.0000, 0.0000, 0.0000, 0.0000, 0.0000, 0.0000,\n",
              "           0.0000, 0.0000, 0.0000, 0.0000, 0.0000, 0.7569, 0.8941, 0.8549,\n",
              "           0.8353, 0.7765, 0.7059, 0.8314, 0.8235, 0.8275, 0.8353, 0.8745,\n",
              "           0.8627, 0.9529, 0.7922, 0.0000],\n",
              "          [0.0000, 0.0000, 0.0000, 0.0000, 0.0000, 0.0000, 0.0000, 0.0000,\n",
              "           0.0000, 0.0039, 0.0118, 0.0000, 0.0471, 0.8588, 0.8627, 0.8314,\n",
              "           0.8549, 0.7529, 0.6627, 0.8902, 0.8157, 0.8549, 0.8784, 0.8314,\n",
              "           0.8863, 0.7725, 0.8196, 0.2039],\n",
              "          [0.0000, 0.0000, 0.0000, 0.0000, 0.0000, 0.0000, 0.0000, 0.0000,\n",
              "           0.0000, 0.0000, 0.0235, 0.0000, 0.3882, 0.9569, 0.8706, 0.8627,\n",
              "           0.8549, 0.7961, 0.7765, 0.8667, 0.8431, 0.8353, 0.8706, 0.8627,\n",
              "           0.9608, 0.4667, 0.6549, 0.2196],\n",
              "          [0.0000, 0.0000, 0.0000, 0.0000, 0.0000, 0.0000, 0.0000, 0.0000,\n",
              "           0.0000, 0.0157, 0.0000, 0.0000, 0.2157, 0.9255, 0.8941, 0.9020,\n",
              "           0.8941, 0.9412, 0.9098, 0.8353, 0.8549, 0.8745, 0.9176, 0.8510,\n",
              "           0.8510, 0.8196, 0.3608, 0.0000],\n",
              "          [0.0000, 0.0000, 0.0039, 0.0157, 0.0235, 0.0275, 0.0078, 0.0000,\n",
              "           0.0000, 0.0000, 0.0000, 0.0000, 0.9294, 0.8863, 0.8510, 0.8745,\n",
              "           0.8706, 0.8588, 0.8706, 0.8667, 0.8471, 0.8745, 0.8980, 0.8431,\n",
              "           0.8549, 1.0000, 0.3020, 0.0000],\n",
              "          [0.0000, 0.0118, 0.0000, 0.0000, 0.0000, 0.0000, 0.0000, 0.0000,\n",
              "           0.0000, 0.2431, 0.5686, 0.8000, 0.8941, 0.8118, 0.8353, 0.8667,\n",
              "           0.8549, 0.8157, 0.8275, 0.8549, 0.8784, 0.8745, 0.8588, 0.8431,\n",
              "           0.8784, 0.9569, 0.6235, 0.0000],\n",
              "          [0.0000, 0.0000, 0.0000, 0.0000, 0.0706, 0.1725, 0.3216, 0.4196,\n",
              "           0.7412, 0.8941, 0.8627, 0.8706, 0.8510, 0.8863, 0.7843, 0.8039,\n",
              "           0.8275, 0.9020, 0.8784, 0.9176, 0.6902, 0.7373, 0.9804, 0.9725,\n",
              "           0.9137, 0.9333, 0.8431, 0.0000],\n",
              "          [0.0000, 0.2235, 0.7333, 0.8157, 0.8784, 0.8667, 0.8784, 0.8157,\n",
              "           0.8000, 0.8392, 0.8157, 0.8196, 0.7843, 0.6235, 0.9608, 0.7569,\n",
              "           0.8078, 0.8745, 1.0000, 1.0000, 0.8667, 0.9176, 0.8667, 0.8275,\n",
              "           0.8627, 0.9098, 0.9647, 0.0000],\n",
              "          [0.0118, 0.7922, 0.8941, 0.8784, 0.8667, 0.8275, 0.8275, 0.8392,\n",
              "           0.8039, 0.8039, 0.8039, 0.8627, 0.9412, 0.3137, 0.5882, 1.0000,\n",
              "           0.8980, 0.8667, 0.7373, 0.6039, 0.7490, 0.8235, 0.8000, 0.8196,\n",
              "           0.8706, 0.8941, 0.8824, 0.0000],\n",
              "          [0.3843, 0.9137, 0.7765, 0.8235, 0.8706, 0.8980, 0.8980, 0.9176,\n",
              "           0.9765, 0.8627, 0.7608, 0.8431, 0.8510, 0.9451, 0.2549, 0.2863,\n",
              "           0.4157, 0.4588, 0.6588, 0.8588, 0.8667, 0.8431, 0.8510, 0.8745,\n",
              "           0.8745, 0.8784, 0.8980, 0.1137],\n",
              "          [0.2941, 0.8000, 0.8314, 0.8000, 0.7569, 0.8039, 0.8275, 0.8824,\n",
              "           0.8471, 0.7255, 0.7725, 0.8078, 0.7765, 0.8353, 0.9412, 0.7647,\n",
              "           0.8902, 0.9608, 0.9373, 0.8745, 0.8549, 0.8314, 0.8196, 0.8706,\n",
              "           0.8627, 0.8667, 0.9020, 0.2627],\n",
              "          [0.1882, 0.7961, 0.7176, 0.7608, 0.8353, 0.7725, 0.7255, 0.7451,\n",
              "           0.7608, 0.7529, 0.7922, 0.8392, 0.8588, 0.8667, 0.8627, 0.9255,\n",
              "           0.8824, 0.8471, 0.7804, 0.8078, 0.7294, 0.7098, 0.6941, 0.6745,\n",
              "           0.7098, 0.8039, 0.8078, 0.4510],\n",
              "          [0.0000, 0.4784, 0.8588, 0.7569, 0.7020, 0.6706, 0.7176, 0.7686,\n",
              "           0.8000, 0.8235, 0.8353, 0.8118, 0.8275, 0.8235, 0.7843, 0.7686,\n",
              "           0.7608, 0.7490, 0.7647, 0.7490, 0.7765, 0.7529, 0.6902, 0.6118,\n",
              "           0.6549, 0.6941, 0.8235, 0.3608],\n",
              "          [0.0000, 0.0000, 0.2902, 0.7412, 0.8314, 0.7490, 0.6863, 0.6745,\n",
              "           0.6863, 0.7098, 0.7255, 0.7373, 0.7412, 0.7373, 0.7569, 0.7765,\n",
              "           0.8000, 0.8196, 0.8235, 0.8235, 0.8275, 0.7373, 0.7373, 0.7608,\n",
              "           0.7529, 0.8471, 0.6667, 0.0000],\n",
              "          [0.0078, 0.0000, 0.0000, 0.0000, 0.2588, 0.7843, 0.8706, 0.9294,\n",
              "           0.9373, 0.9490, 0.9647, 0.9529, 0.9569, 0.8667, 0.8627, 0.7569,\n",
              "           0.7490, 0.7020, 0.7137, 0.7137, 0.7098, 0.6902, 0.6510, 0.6588,\n",
              "           0.3882, 0.2275, 0.0000, 0.0000],\n",
              "          [0.0000, 0.0000, 0.0000, 0.0000, 0.0000, 0.0000, 0.0000, 0.1569,\n",
              "           0.2392, 0.1725, 0.2824, 0.1608, 0.1373, 0.0000, 0.0000, 0.0000,\n",
              "           0.0000, 0.0000, 0.0000, 0.0000, 0.0000, 0.0000, 0.0000, 0.0000,\n",
              "           0.0000, 0.0000, 0.0000, 0.0000],\n",
              "          [0.0000, 0.0000, 0.0000, 0.0000, 0.0000, 0.0000, 0.0000, 0.0000,\n",
              "           0.0000, 0.0000, 0.0000, 0.0000, 0.0000, 0.0000, 0.0000, 0.0000,\n",
              "           0.0000, 0.0000, 0.0000, 0.0000, 0.0000, 0.0000, 0.0000, 0.0000,\n",
              "           0.0000, 0.0000, 0.0000, 0.0000],\n",
              "          [0.0000, 0.0000, 0.0000, 0.0000, 0.0000, 0.0000, 0.0000, 0.0000,\n",
              "           0.0000, 0.0000, 0.0000, 0.0000, 0.0000, 0.0000, 0.0000, 0.0000,\n",
              "           0.0000, 0.0000, 0.0000, 0.0000, 0.0000, 0.0000, 0.0000, 0.0000,\n",
              "           0.0000, 0.0000, 0.0000, 0.0000]]]), 9)"
            ]
          },
          "metadata": {},
          "execution_count": 3
        }
      ],
      "source": [
        "# See first training sample\n",
        "image, label = train_data[0]\n",
        "image, label"
      ]
    },
    {
      "cell_type": "markdown",
      "metadata": {
        "id": "rJr59W8zor_k"
      },
      "source": [
        "### 1.1 Input and output shapes of a computer vision model\n",
        "\n",
        "We've got a big tensor of values (the image) leading to a single value for the target (the label).\n",
        "\n",
        "Let's see the image shape."
      ]
    },
    {
      "cell_type": "code",
      "execution_count": null,
      "metadata": {
        "id": "0HZhicOIor_k",
        "outputId": "c330cdbd-26e7-41a8-e28a-1d1e4654bb97",
        "colab": {
          "base_uri": "https://localhost:8080/"
        }
      },
      "outputs": [
        {
          "output_type": "execute_result",
          "data": {
            "text/plain": [
              "torch.Size([1, 28, 28])"
            ]
          },
          "metadata": {},
          "execution_count": 4
        }
      ],
      "source": [
        "# What's the shape of the image?\n",
        "image.shape"
      ]
    },
    {
      "cell_type": "markdown",
      "metadata": {
        "id": "OOxugDVjor_k"
      },
      "source": [
        "The shape of the image tensor is `[1, 28, 28]` or more specifically:\n",
        "\n",
        "```\n",
        "[color_channels=1, height=28, width=28]\n",
        "```\n",
        "\n",
        "TK image - input and output shapes\n",
        "\n",
        "Having `color_channels=1` means the image is grayscale.\n",
        "\n",
        "If `color_channels=3`, the image comes in pixel values for red, green and blue (this is also known a the [RGB color model](https://en.wikipedia.org/wiki/RGB_color_model)).\n",
        "\n",
        "The order of our current tensor is often referred to as `CHW` (Color Channels, Height, Width).\n",
        "\n",
        "There's debate on whether images should be represented as `CHW` (color channels first) or `HWC` (color channels last).\n",
        "\n",
        "> **Note:** You'll also see `NCHW` and `NHWC` formats where `N` stands for *number of images*. For example if you have a `batch_size=32`, your tensor shape may be `[32, 1, 28, 28]`. We'll cover batch sizes later.\n",
        "\n",
        "PyTorch generally accepts `NCHW` (channels first) as the default for many operators.\n",
        "\n",
        "However, PyTorch also explains that `NHWC` (channels last) performs better and is [considered best practice](https://pytorch.org/blog/tensor-memory-format-matters/#pytorch-best-practice). \n",
        "\n",
        "For now, since our dataset and models are relatively small, this won't make too much of a difference.\n",
        "\n",
        "But keep it in mind for when you're working on larger image datasets and using convolutional neural networks (we'll see these later).\n",
        "\n",
        "Let's check out more shapes of our data."
      ]
    },
    {
      "cell_type": "code",
      "execution_count": null,
      "metadata": {
        "id": "A1H9p1gVor_k",
        "outputId": "62c07183-a253-475b-d7a7-0524b2d477ef",
        "colab": {
          "base_uri": "https://localhost:8080/"
        }
      },
      "outputs": [
        {
          "output_type": "execute_result",
          "data": {
            "text/plain": [
              "(60000, 60000, 10000, 10000)"
            ]
          },
          "metadata": {},
          "execution_count": 5
        }
      ],
      "source": [
        "# How many samples are there? \n",
        "len(train_data.data), len(train_data.targets), len(test_data.data), len(test_data.targets)"
      ]
    },
    {
      "cell_type": "markdown",
      "metadata": {
        "id": "Sj2g3zt3or_l"
      },
      "source": [
        "So we've got 60,000 training samples and 10,000 testing samples.\n",
        "\n",
        "What classes are there?\n",
        "\n",
        "We can find these via the `.classes` attribute."
      ]
    },
    {
      "cell_type": "code",
      "execution_count": null,
      "metadata": {
        "id": "erCcDpm4or_l",
        "outputId": "dd38e5a4-3eb5-4a7e-c803-d783223205a8",
        "colab": {
          "base_uri": "https://localhost:8080/"
        }
      },
      "outputs": [
        {
          "output_type": "execute_result",
          "data": {
            "text/plain": [
              "['T-shirt/top',\n",
              " 'Trouser',\n",
              " 'Pullover',\n",
              " 'Dress',\n",
              " 'Coat',\n",
              " 'Sandal',\n",
              " 'Shirt',\n",
              " 'Sneaker',\n",
              " 'Bag',\n",
              " 'Ankle boot']"
            ]
          },
          "metadata": {},
          "execution_count": 6
        }
      ],
      "source": [
        "# See classes\n",
        "class_names = train_data.classes\n",
        "class_names"
      ]
    },
    {
      "cell_type": "markdown",
      "metadata": {
        "id": "6AM2AblKor_l"
      },
      "source": [
        "Sweet! It looks like we're dealing with 10 different kinds of clothes.\n",
        "\n",
        "Because we're working with 10 different classes, it means our problem is **multi-class classification**.\n",
        "\n",
        "Let's get visual.\n",
        "\n",
        "### 1.2 Visualing our data"
      ]
    },
    {
      "cell_type": "code",
      "execution_count": null,
      "metadata": {
        "id": "D29Z_WrJor_l",
        "outputId": "9c6c8822-48e0-400f-d2ea-12df4e34bf11",
        "colab": {
          "base_uri": "https://localhost:8080/",
          "height": 298
        }
      },
      "outputs": [
        {
          "output_type": "stream",
          "name": "stdout",
          "text": [
            "Image shape: torch.Size([1, 28, 28])\n"
          ]
        },
        {
          "output_type": "display_data",
          "data": {
            "text/plain": [
              "<Figure size 432x288 with 1 Axes>"
            ],
            "image/png": "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\n"
          },
          "metadata": {
            "needs_background": "light"
          }
        }
      ],
      "source": [
        "import matplotlib.pyplot as plt\n",
        "image, label = train_data[0]\n",
        "print(f\"Image shape: {image.shape}\")\n",
        "plt.imshow(image.squeeze()) # image shape is [1, 28, 28] (colour channels, height, width)\n",
        "plt.title(label);"
      ]
    },
    {
      "cell_type": "markdown",
      "metadata": {
        "id": "Ma6TW-xsor_m"
      },
      "source": [
        "We can turn the image into grayscale using the `cmap` parameter of `plt.imshow()`."
      ]
    },
    {
      "cell_type": "code",
      "execution_count": null,
      "metadata": {
        "id": "8EtSyijkor_m",
        "outputId": "51745a9b-b003-4eec-f5fd-44962d3fc81b",
        "colab": {
          "base_uri": "https://localhost:8080/",
          "height": 281
        }
      },
      "outputs": [
        {
          "output_type": "display_data",
          "data": {
            "text/plain": [
              "<Figure size 432x288 with 1 Axes>"
            ],
            "image/png": "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\n"
          },
          "metadata": {
            "needs_background": "light"
          }
        }
      ],
      "source": [
        "plt.imshow(image.squeeze(), cmap=\"gray\")\n",
        "plt.title(class_names[label]);"
      ]
    },
    {
      "cell_type": "markdown",
      "metadata": {
        "id": "imhQh9Hvor_m"
      },
      "source": [
        "Beautiful, well as beautiful as a pixelated grayscale ankle boot can get.\n",
        "\n",
        "Let's view a few more."
      ]
    },
    {
      "cell_type": "code",
      "execution_count": null,
      "metadata": {
        "id": "uPMHcKJlor_m",
        "outputId": "1bcd3640-5fc8-474a-dba3-adb80c115940",
        "colab": {
          "base_uri": "https://localhost:8080/",
          "height": 536
        }
      },
      "outputs": [
        {
          "output_type": "display_data",
          "data": {
            "text/plain": [
              "<Figure size 648x648 with 16 Axes>"
            ],
            "image/png": "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\n"
          },
          "metadata": {
            "needs_background": "light"
          }
        }
      ],
      "source": [
        "# Plot more images\n",
        "torch.manual_seed(42)\n",
        "fig = plt.figure(figsize=(9, 9))\n",
        "rows, cols = 4, 4\n",
        "for i in range(1, rows * cols + 1):\n",
        "    random_idx = torch.randint(0, len(train_data), size=[1]).item()\n",
        "    img, label = train_data[random_idx]\n",
        "    fig.add_subplot(rows, cols, i)\n",
        "    plt.imshow(img.squeeze(), cmap=\"gray\")\n",
        "    plt.title(class_names[label])\n",
        "    plt.axis(False);"
      ]
    },
    {
      "cell_type": "markdown",
      "metadata": {
        "id": "Ou5mIkFDor_n"
      },
      "source": [
        "Hmmm, this dataset doesn't look too aesthetic.\n",
        "\n",
        "But the principles we're going to learn on how to build a model for it will be similar across a wide range of computer vision problems.\n",
        "\n",
        "In essence, taking pixel values and building a model to find patterns in them to use on future pixel values.\n",
        "\n",
        "Plus, even for this small dataset (yes, even 60,000 images in deep learning is considered quite small), could you write a program to classify each one of them?\n",
        "\n",
        "You probably could.\n",
        "\n",
        "But I think coding a model in PyTorch would be faster.\n",
        "\n",
        "> **Question:** Do you think the above data can be model with only straight (linear) lines? Or do you think you'd also need non-straight (non-linear) lines?"
      ]
    },
    {
      "cell_type": "markdown",
      "metadata": {
        "id": "yPkuYEu4or_n"
      },
      "source": [
        "## TK - 2. Prepare DataLoader\n",
        "\n",
        "Now we've got a dataset ready to go.\n",
        "\n",
        "The next step is to prepare it with a [`torch.utils.data.DataLoader`](https://pytorch.org/docs/stable/data.html#torch.utils.data.Dataset) or `DataLoader` for short.\n",
        "\n",
        "The `DataLoader` does what you think it might do.\n",
        "\n",
        "It helps load data into a model.\n",
        "\n",
        "For training and for inference.\n",
        "\n",
        "It turns a large `Dataset` into a Python iterable of smaller chunks.\n",
        "\n",
        "These smaller chunks are called **batches** or **mini-batches** and can be set by the `batch_size` parameter.\n",
        "\n",
        "Why do this?\n",
        "\n",
        "Because it's more computationally efficient.\n",
        "\n",
        "In an ideal world you could do the forward pass and backward pass across all of your data at once.\n",
        "\n",
        "But once you start using really large datasets, unless you've got infinite computing power, it's easier to break them up into batches.\n",
        "\n",
        "What's a good batch size?\n",
        "\n",
        "[32 is a good place to start](https://twitter.com/ylecun/status/989610208497360896?s=20&t=N96J_jotN--PYuJk2WcjMw) for a fair amount of problems.\n",
        "\n",
        "But since this is a value you can set (a **hyperparameter**) you can try all different kinds of values, though generally powers of 2 are used most often (e.g. 32, 64, 128, 256, 512).\n",
        "\n",
        "TK image - train data (coloured blocks all over the place) -> dataloader (batched and shuffled) ✅\n",
        "\n",
        "Let's create `DataLoader`'s for our training and test sets. "
      ]
    },
    {
      "cell_type": "code",
      "execution_count": null,
      "metadata": {
        "id": "1gHENhrAor_n",
        "outputId": "8c5fae02-656e-42d3-ab70-e1a42b064396",
        "colab": {
          "base_uri": "https://localhost:8080/"
        }
      },
      "outputs": [
        {
          "output_type": "stream",
          "name": "stdout",
          "text": [
            "Dataloaders: (<torch.utils.data.dataloader.DataLoader object at 0x7f5c9f5aa810>, <torch.utils.data.dataloader.DataLoader object at 0x7f5c9f5aaa10>)\n",
            "Length of train dataloader: 1875 batches of 32\n",
            "Length of test dataloader: 313 batches of 32\n"
          ]
        }
      ],
      "source": [
        "from torch.utils.data import DataLoader\n",
        "\n",
        "# Setup the batch size hyperparameter\n",
        "BATCH_SIZE = 32\n",
        "\n",
        "# Turn datasets into iterables (batches)\n",
        "train_dataloader = DataLoader(train_data, # dataset to turn into iterable\n",
        "    batch_size=BATCH_SIZE, # how many samples per batch? \n",
        "    shuffle=True # shuffle data every epoch?\n",
        ")\n",
        "\n",
        "test_dataloader = DataLoader(test_data,\n",
        "    batch_size=BATCH_SIZE,\n",
        "    shuffle=False # don't necessarily have to shuffle the testing data\n",
        ")\n",
        "\n",
        "# Let's check out what we've created\n",
        "print(f\"Dataloaders: {train_dataloader, test_dataloader}\") \n",
        "print(f\"Length of train dataloader: {len(train_dataloader)} batches of {BATCH_SIZE}\")\n",
        "print(f\"Length of test dataloader: {len(test_dataloader)} batches of {BATCH_SIZE}\")"
      ]
    },
    {
      "cell_type": "markdown",
      "metadata": {
        "id": "IWhRPVnxor_o"
      },
      "source": [
        "Since the `DataLoader`'s are Python iterables, we can check out what's inside using `next(iter(dataloader))`."
      ]
    },
    {
      "cell_type": "code",
      "execution_count": null,
      "metadata": {
        "id": "urAOd6pVor_o",
        "outputId": "7e4d6cac-fbe3-47cb-9540-1d8e6a2347e2",
        "colab": {
          "base_uri": "https://localhost:8080/"
        }
      },
      "outputs": [
        {
          "output_type": "execute_result",
          "data": {
            "text/plain": [
              "(torch.Size([32, 1, 28, 28]), torch.Size([32]))"
            ]
          },
          "metadata": {},
          "execution_count": 11
        }
      ],
      "source": [
        "# Check out what's inside the training dataloader\n",
        "train_features_batch, train_labels_batch = next(iter(train_dataloader))\n",
        "train_features_batch.shape, train_labels_batch.shape"
      ]
    },
    {
      "cell_type": "markdown",
      "metadata": {
        "id": "To07Swo2or_o"
      },
      "source": [
        "And we can see that the data remains unchanged by checking a single sample. "
      ]
    },
    {
      "cell_type": "code",
      "execution_count": null,
      "metadata": {
        "id": "7rbU3vl0or_o",
        "outputId": "729fbefb-48f9-4ac4-e7e8-e0c7508c84c7",
        "colab": {
          "base_uri": "https://localhost:8080/",
          "height": 298
        }
      },
      "outputs": [
        {
          "output_type": "stream",
          "name": "stdout",
          "text": [
            "Image size: torch.Size([1, 28, 28])\n",
            "Label: 6, label size: torch.Size([])\n"
          ]
        },
        {
          "output_type": "display_data",
          "data": {
            "text/plain": [
              "<Figure size 432x288 with 1 Axes>"
            ],
            "image/png": "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\n"
          },
          "metadata": {
            "needs_background": "light"
          }
        }
      ],
      "source": [
        "# Show a sample\n",
        "torch.manual_seed(42)\n",
        "random_idx = torch.randint(0, len(train_features_batch), size=[1]).item()\n",
        "img, label = train_features_batch[random_idx], train_labels_batch[random_idx]\n",
        "plt.imshow(img.squeeze(), cmap=\"gray\")\n",
        "plt.title(class_names[label])\n",
        "plt.axis(\"Off\");\n",
        "print(f\"Image size: {img.shape}\")\n",
        "print(f\"Label: {label}, label size: {label.shape}\")"
      ]
    },
    {
      "cell_type": "markdown",
      "metadata": {
        "id": "aZtQhMTlor_o"
      },
      "source": [
        "## TK - 3. Model 0: Build a baseline model\n",
        "\n",
        "Data loaded and prepared!\n",
        "\n",
        "Time to build a **baseline model** by subclassing `nn.Module`.\n",
        "\n",
        "A **baseline model** is one of the simplest models you can imagine.\n",
        "\n",
        "You use the baseline as a starting point and try to improve upon it with subsequent, more complicated models.\n",
        "\n",
        "Our baseline will consist of two [`nn.Linear()`](https://pytorch.org/docs/stable/generated/torch.nn.Linear.html) layers.\n",
        "\n",
        "We've done this in a previous section but there's going to one slight difference.\n",
        "\n",
        "Because we're working with image data, we're going to use a different layer to start things off.\n",
        "\n",
        "And that's the [`nn.Flatten()`](https://pytorch.org/docs/stable/generated/torch.nn.Flatten.html) layer.\n",
        "\n",
        "`nn.Flatten()` compresses the dimensions of a tensor into a single vector.\n",
        "\n",
        "This is easier to understand when you see it.\n",
        "\n",
        "* TK - Use flatten to turn the pixels (height x width) into one long feature vector "
      ]
    },
    {
      "cell_type": "code",
      "execution_count": null,
      "metadata": {
        "id": "v5ew78U4or_p",
        "outputId": "230884ff-68c4-44e6-94f4-bfa8efe49f95",
        "colab": {
          "base_uri": "https://localhost:8080/"
        }
      },
      "outputs": [
        {
          "output_type": "stream",
          "name": "stdout",
          "text": [
            "Shape before flattening: torch.Size([1, 28, 28]) -> [color_channels, height, width]\n",
            "Shape after flattening: torch.Size([1, 784]) -> [color_channels, height*width]\n"
          ]
        }
      ],
      "source": [
        "# Create a flatten layer\n",
        "flatten_model = nn.Flatten() # all nn modules function as a model (can do a forward pass)\n",
        "\n",
        "# Get a single sample\n",
        "x = train_features_batch[0]\n",
        "\n",
        "# Flatten the sample\n",
        "output = flatten_model(x) # perform forward pass\n",
        "\n",
        "# Print out what happened\n",
        "print(f\"Shape before flattening: {x.shape} -> [color_channels, height, width]\")\n",
        "print(f\"Shape after flattening: {output.shape} -> [color_channels, height*width]\")\n",
        "\n",
        "# Try uncommenting below and see what happened\n",
        "#print(x)\n",
        "#print(output)"
      ]
    },
    {
      "cell_type": "markdown",
      "metadata": {
        "id": "CrUOh0Vior_p"
      },
      "source": [
        "The `nn.Flatten()` layer took our shape from `[color_channels, height, width]` to `[color_channels, height*width]`.\n",
        "\n",
        "Why do this?\n",
        "\n",
        "Because we've now turned our pixel data into one long **feature vector**.\n",
        "\n",
        "And `nn.Linear()` layers like their inputs to be in the form of feature vectors.\n",
        "\n",
        "Let's create our first model using `nn.Flatten()` as the first layer. "
      ]
    },
    {
      "cell_type": "code",
      "execution_count": null,
      "metadata": {
        "id": "QSec-LH0or_p"
      },
      "outputs": [],
      "source": [
        "from torch import nn\n",
        "class FashionMNISTModelV0(nn.Module):\n",
        "    def __init__(self, input_shape, hidden_units, output_shape):\n",
        "        super().__init__()\n",
        "        self.layer_stack = nn.Sequential(\n",
        "            nn.Flatten(), # neural networks like their inputs in vector form\n",
        "            nn.Linear(in_features=input_shape, out_features=hidden_units), # in_features = number of features in a data sample (784 pixels)\n",
        "            nn.Linear(in_features=hidden_units, out_features=output_shape)\n",
        "        )\n",
        "    \n",
        "    def forward(self, x):\n",
        "        return self.layer_stack(x)"
      ]
    },
    {
      "cell_type": "markdown",
      "metadata": {
        "id": "RVOqlWDgor_p"
      },
      "source": [
        "Wonderful!\n",
        "\n",
        "We've got a baseline model class we can use, now let's instantiate a model.\n",
        "\n",
        "We'll need to set the following parameters:\n",
        "* `input_shape=784` - this is how many features you've got going in the model, in our case, it's one for every pixel in the target image (28 pixels high by 28 pixels wide = 784 features).\n",
        "* `hidden_units=10` - number of units/neurons in the hidden layer(s), this number could be whatever you want but to keep the model small we'll start with `10`.\n",
        "* `output_shape=len(class_names)` - since we're working with a multi-class classification problem, we need an output neuron per class in our dataset.\n",
        "\n",
        "Let's create an instance of our model and send to the CPU for now (we'll run a small test for CPU vs. GPU soon)."
      ]
    },
    {
      "cell_type": "code",
      "execution_count": null,
      "metadata": {
        "id": "ytJAxA2Qor_p",
        "outputId": "3a488c83-1d0c-4c47-9b68-c508e9c7bb37",
        "colab": {
          "base_uri": "https://localhost:8080/"
        }
      },
      "outputs": [
        {
          "output_type": "execute_result",
          "data": {
            "text/plain": [
              "FashionMNISTModelV0(\n",
              "  (layer_stack): Sequential(\n",
              "    (0): Flatten(start_dim=1, end_dim=-1)\n",
              "    (1): Linear(in_features=784, out_features=10, bias=True)\n",
              "    (2): Linear(in_features=10, out_features=10, bias=True)\n",
              "  )\n",
              ")"
            ]
          },
          "metadata": {},
          "execution_count": 15
        }
      ],
      "source": [
        "torch.manual_seed(42)\n",
        "\n",
        "# Need to setup model with input parameters\n",
        "model_0 = FashionMNISTModelV0(input_shape=784, # one for every pixel (28x28)\n",
        "    hidden_units=10, # how many units in the hiden layer\n",
        "    output_shape=len(class_names) # one for every class\n",
        ")\n",
        "model_0.to(\"cpu\") # keep model on CPU to begin wtih "
      ]
    },
    {
      "cell_type": "markdown",
      "metadata": {
        "id": "LFBpo7V7or_p"
      },
      "source": [
        "### TK - 3.1 Setup loss, optimizer and evaluation metrics for Model 1\n",
        "\n",
        "Since we're working on a classification problem, let's bring in our [`helper_functions.py` script](https://github.com/mrdbourke/pytorch-deep-learning/blob/main/helper_functions.py) and subsequently the `accuracy_fn()` we defined in notebook 02.\n",
        "\n",
        "> **Note:** Rather than importing and using our own accuracy function or evaluation metric(s), you could import various evaluation metrics from the [TorchMetrics package](https://torchmetrics.readthedocs.io/en/latest/)."
      ]
    },
    {
      "cell_type": "code",
      "execution_count": null,
      "metadata": {
        "id": "QocEcVZkor_q",
        "outputId": "1ea71dd2-bd95-45a0-ae36-ee5c015e4aa9",
        "colab": {
          "base_uri": "https://localhost:8080/"
        }
      },
      "outputs": [
        {
          "output_type": "stream",
          "name": "stdout",
          "text": [
            "Downloading helper_functions.py\n"
          ]
        }
      ],
      "source": [
        "import requests\n",
        "from pathlib import Path \n",
        "\n",
        "# Download helper functions from Learn PyTorch repo (if not already downloaded)\n",
        "if Path(\"helper_functions.py\").is_file():\n",
        "  print(\"helper_functions.py already exists, skipping download\")\n",
        "else:\n",
        "  print(\"Downloading helper_functions.py\")\n",
        "  # Note: you need the \"raw\" GitHub URL for this to work\n",
        "  request = requests.get(\"https://raw.githubusercontent.com/mrdbourke/pytorch-deep-learning/main/helper_functions.py\")\n",
        "  with open(\"helper_functions.py\", \"wb\") as f:\n",
        "    f.write(request.content)"
      ]
    },
    {
      "cell_type": "markdown",
      "metadata": {
        "id": "A5L3j8NWor_q"
      },
      "source": [
        "Now we've got the `helper_functions.py` file, let's import `accuracy_fn()` as well as setup a loss function and an optimizer.\n",
        "\n",
        "Since we're working with a multi-class classification problem, we'll use [`nn.CrossEntropyLoss()`](https://pytorch.org/docs/stable/generated/torch.nn.CrossEntropyLoss.html) as the loss function.\n",
        "\n",
        "And we'll setup [`torch.optim.SGD()`](https://pytorch.org/docs/stable/generated/torch.optim.SGD.html) as the optimizer with a learning rate of `0.1`."
      ]
    },
    {
      "cell_type": "code",
      "execution_count": null,
      "metadata": {
        "id": "QHSuQlm_or_q"
      },
      "outputs": [],
      "source": [
        "# Import accuracy metric\n",
        "from helper_functions import accuracy_fn # Note: could also use torchmetrics.Accuracy()\n",
        "\n",
        "# Setup loss function and optimizer\n",
        "loss_fn = nn.CrossEntropyLoss() # this is also called \"criterion\"/\"cost function\" in some places\n",
        "optimizer = torch.optim.SGD(params=model_0.parameters(), lr=0.1)"
      ]
    },
    {
      "cell_type": "markdown",
      "metadata": {
        "id": "gmdhD7ILor_r"
      },
      "source": [
        "### 3.2 Creating a function to time our experiments\n",
        "\n",
        "Loss function and optimizer ready!\n",
        "\n",
        "It's time to start training a model.\n",
        "\n",
        "But how about we do a little experiment while we train.\n",
        "\n",
        "I mean, let's make a timing function to measure the time it takes our model to train on CPU versus using a GPU.\n",
        "\n",
        "We'll train this model on the CPU but the next one on the CPU and see what happens.\n",
        "\n",
        "Our timing function will import the [`timeit.default_timer()` function](https://docs.python.org/3/library/timeit.html#timeit.default_timer) from the Python [`timeit` module](https://docs.python.org/3/library/timeit.html)."
      ]
    },
    {
      "cell_type": "code",
      "execution_count": null,
      "metadata": {
        "id": "83R8P1lior_s"
      },
      "outputs": [],
      "source": [
        "from timeit import default_timer as timer \n",
        "def print_train_time(start, end, device=None):\n",
        "    \"\"\"Prints difference between start and end time.\n",
        "\n",
        "    Args:\n",
        "        start (float): Start time of computation (preferred in timeit format). \n",
        "        end (float): End time of computation.\n",
        "        device ([type], optional): Device that compute is running on. Defaults to None.\n",
        "\n",
        "    Returns:\n",
        "        float: time between start and end in seconds (higher is longer).\n",
        "    \"\"\"\n",
        "    total_time = end - start\n",
        "    print(f\"Train time on {device}: {total_time:.3f} seconds\")\n",
        "    return total_time"
      ]
    },
    {
      "cell_type": "markdown",
      "metadata": {
        "id": "vNiKK02tor_s"
      },
      "source": [
        "### 3.3 Creating a training loop and training a model on batches of data\n",
        "\n",
        "Beautiful!\n",
        "\n",
        "Looks like we've got all of the pieces of the puzzle ready to go, a timer, a loss function, an optimizer, a model and most importantly, some data.\n",
        "\n",
        "Let's now create a training loop and a testing loop to train and evaluate our model.\n",
        "\n",
        "We'll be using the same steps as the previous notebook(s), though since our data is now in batch form, we'll add another loop to loop through our data batches.\n",
        "\n",
        "Our data batches are contained within our `DataLoader`s, `train_dataloader` and `test_dataloader` for the training and test data splits respectively.\n",
        "\n",
        "A batch is `BATCH_SIZE` samples of `X` (features) and `y` (labels), since we're using `BATCH_SIZE=32`, our batches have 32 samples of images and targets.\n",
        "\n",
        "And since we're computing on batches of data, our loss and evaluation metrics will be calculated **per batch** rather than across the whole dataset.\n",
        "\n",
        "This means we'll have to divide our loss and accuracy values by the number of batches in each dataset's respective dataloader. \n",
        "\n",
        "Let's step through it: \n",
        "1. Loop through epochs.\n",
        "2. Loop through training batches, perform training steps, calculate the train loss *per batch*.\n",
        "3. Loop through testing batches, perform testing steps, calculate the test loss *per batch*.\n",
        "4. Print out what's happening.\n",
        "5. Time it all (for fun).\n",
        "\n",
        "A fair few steps but...\n",
        "\n",
        "...if in doubt, code it out. "
      ]
    },
    {
      "cell_type": "code",
      "execution_count": null,
      "metadata": {
        "id": "vS5MRb_0or_t",
        "outputId": "00edfd73-9b3f-462e-f776-5e564367d76a",
        "colab": {
          "base_uri": "https://localhost:8080/"
        }
      },
      "outputs": [
        {
          "output_type": "stream",
          "name": "stdout",
          "text": [
            "Epoch: 0\n",
            "-------\n",
            "Looked at 0/60000 samples\n",
            "Looked at 12800/60000 samples\n",
            "Looked at 25600/60000 samples\n",
            "Looked at 38400/60000 samples\n",
            "Looked at 51200/60000 samples\n",
            "\n",
            "Train loss: 0.59039 | Test loss: 0.50954, Test acc: 82.04%\n",
            "\n",
            "Epoch: 1\n",
            "-------\n",
            "Looked at 0/60000 samples\n",
            "Looked at 12800/60000 samples\n",
            "Looked at 25600/60000 samples\n",
            "Looked at 38400/60000 samples\n",
            "Looked at 51200/60000 samples\n",
            "\n",
            "Train loss: 0.47633 | Test loss: 0.47989, Test acc: 83.20%\n",
            "\n",
            "Epoch: 2\n",
            "-------\n",
            "Looked at 0/60000 samples\n",
            "Looked at 12800/60000 samples\n",
            "Looked at 25600/60000 samples\n",
            "Looked at 38400/60000 samples\n",
            "Looked at 51200/60000 samples\n",
            "\n",
            "Train loss: 0.45503 | Test loss: 0.47664, Test acc: 83.43%\n",
            "\n",
            "Train time on cpu: 17.147 seconds\n"
          ]
        }
      ],
      "source": [
        "# Set the seed and start the timer\n",
        "torch.manual_seed(42)\n",
        "train_time_start_on_cpu = timer()\n",
        "\n",
        "# Set the number of epochs (we'll keep this small for faster training times)\n",
        "epochs = 3\n",
        "\n",
        "# Create training and testing loop\n",
        "for epoch in range(epochs):\n",
        "    print(f\"Epoch: {epoch}\\n-------\")\n",
        "    ### Training\n",
        "    train_loss = 0\n",
        "    # Add a loop to loop through training batches\n",
        "    for batch, (X, y) in enumerate(train_dataloader):\n",
        "        model_0.train() \n",
        "        # 1. Forward pass\n",
        "        y_pred = model_0(X)\n",
        "\n",
        "        # 2. Calculate loss (per batch)\n",
        "        loss = loss_fn(y_pred, y)\n",
        "        train_loss += loss # accumulatively add up the loss per epoch \n",
        "\n",
        "        # 3. Optimizer zero grad\n",
        "        optimizer.zero_grad()\n",
        "\n",
        "        # 4. Loss backward\n",
        "        loss.backward()\n",
        "\n",
        "        # 5. Optimizer step\n",
        "        optimizer.step()\n",
        "\n",
        "        # Print out how many samples have been seen\n",
        "        if batch % 400 == 0:\n",
        "            print(f\"Looked at {batch * len(X)}/{len(train_dataloader.dataset)} samples\")\n",
        "\n",
        "    # Divide total train loss by length of train dataloader (average loss per batch per epoch)\n",
        "    train_loss /= len(train_dataloader)\n",
        "    \n",
        "    ### Testing\n",
        "    # Setup variables for accumulatively adding up loss and accuracy \n",
        "    test_loss, test_acc = 0, 0 \n",
        "    model_0.eval()\n",
        "    with torch.inference_mode():\n",
        "        for X, y in test_dataloader:\n",
        "            # 1. Forward pass\n",
        "            test_pred = model_0(X)\n",
        "           \n",
        "            # 2. Calculate loss (accumatively)\n",
        "            test_loss += loss_fn(test_pred, y) # accumulatively add up the loss per epoch\n",
        "\n",
        "            # 3. Calculate accuracy (preds need to be same as y_true)\n",
        "            test_acc += accuracy_fn(y_true=y, y_pred=test_pred.argmax(dim=1))\n",
        "        \n",
        "        # Calculations on test metrics need to happen inside torch.inference_mode()\n",
        "        # Divide total test loss by length of test dataloader (per batch)\n",
        "        test_loss /= len(test_dataloader)\n",
        "\n",
        "        # Divide total accuracy by length of test dataloader (per batch)\n",
        "        test_acc /= len(test_dataloader)\n",
        "\n",
        "    ## Print out what's happening\n",
        "    print(f\"\\nTrain loss: {train_loss:.5f} | Test loss: {test_loss:.5f}, Test acc: {test_acc:.2f}%\\n\")\n",
        "\n",
        "# Calculate training time      \n",
        "train_time_end_on_cpu = timer()\n",
        "total_train_time_model_0 = print_train_time(start=train_time_start_on_cpu, \n",
        "                                           end=train_time_end_on_cpu,\n",
        "                                           device=str(next(model_0.parameters()).device))"
      ]
    },
    {
      "cell_type": "markdown",
      "metadata": {
        "id": "buywnKoEor_t"
      },
      "source": [
        "Nice! Looks like our baseline model did fairly well.\n",
        "\n",
        "It didn't take too long to train either, even just on the CPU, I wonder if it'll speed up on the GPU?\n",
        "\n",
        "Let's write some code to evaluate our model."
      ]
    },
    {
      "cell_type": "markdown",
      "metadata": {
        "id": "XPaPhAukor_t"
      },
      "source": [
        "## TK - 4. Make predictions and get Model 0 results\n",
        "\n",
        "Since we're going to be building a few models, it's a good idea to write some code to evaluate them all in similar ways.\n",
        "\n",
        "Namely, let's create a function that takes in a trained model, a `DataLoader`, a loss function and an accuracy function.\n",
        "\n",
        "The function will use the model to make predictions on the data in the `DataLoader` and then we can evaluate those predictions using the loss function and accuracy function."
      ]
    },
    {
      "cell_type": "code",
      "execution_count": null,
      "metadata": {
        "id": "p7Xe29OUor_t",
        "outputId": "67891bd3-7853-4e5b-f640-c6f2550dc485",
        "colab": {
          "base_uri": "https://localhost:8080/"
        }
      },
      "outputs": [
        {
          "output_type": "execute_result",
          "data": {
            "text/plain": [
              "{'model_acc': 83.42651757188499,\n",
              " 'model_loss': 0.47663888335227966,\n",
              " 'model_name': 'FashionMNISTModelV0'}"
            ]
          },
          "metadata": {},
          "execution_count": 20
        }
      ],
      "source": [
        "torch.manual_seed(42)\n",
        "def eval_model(model: torch.nn.Module, \n",
        "               data_loader: torch.utils.data.DataLoader, \n",
        "               loss_fn: torch.nn.Module, \n",
        "               accuracy_fn):\n",
        "    \"\"\"Returns a dictionary containing the results of model predicting on data_loader.\n",
        "\n",
        "    Args:\n",
        "        model (torch.nn.Module): A PyTorch model capable of making predictions on data_loader.\n",
        "        data_loader (torch.utils.data.DataLoader): The target dataset to predict on.\n",
        "        loss_fn (torch.nn.Module): The loss function of model.\n",
        "        accuracy_fn: An accuracy function to compare the models predictions to the truth labels.\n",
        "\n",
        "    Returns:\n",
        "        (dict): Results of model making predictions on data_loader.\n",
        "    \"\"\"\n",
        "    loss, acc = 0, 0\n",
        "    model.eval()\n",
        "    with torch.inference_mode():\n",
        "        for X, y in data_loader:\n",
        "            # Make predictions with the model\n",
        "            y_pred = model(X)\n",
        "            \n",
        "            # Accumulate the loss and accuracy values per batch\n",
        "            loss += loss_fn(y_pred, y)\n",
        "            acc += accuracy_fn(y_true=y, \n",
        "                                y_pred=y_pred.argmax(dim=1)) # For accuracy, need the prediction labels (logits -> pred_prob -> pred_labels)\n",
        "        \n",
        "        # Scale loss and acc to find the average loss/acc per batch\n",
        "        loss /= len(data_loader)\n",
        "        acc /= len(data_loader)\n",
        "        \n",
        "    return {\"model_name\": model.__class__.__name__, # only works when model was created with a class\n",
        "            \"model_loss\": loss.item(),\n",
        "            \"model_acc\": acc}\n",
        "\n",
        "# Calculate model 0 results on test dataset\n",
        "model_0_results = eval_model(model=model_0, data_loader=test_dataloader,\n",
        "    loss_fn=loss_fn, accuracy_fn=accuracy_fn\n",
        ")\n",
        "model_0_results"
      ]
    },
    {
      "cell_type": "markdown",
      "metadata": {
        "id": "FcJukKh4or_u"
      },
      "source": [
        "Looking good!\n",
        "\n",
        "We can use this dictionary to compare the baseline model results to other models later on."
      ]
    },
    {
      "cell_type": "markdown",
      "metadata": {
        "id": "3tG3-gvEor_u"
      },
      "source": [
        "## TK 5. Setup device agnostic-code (for using a GPU if there is one)\n",
        "We've seen how long it takes to train ma PyTorch model on 60,000 samples on CPU.\n",
        "\n",
        "> **Note:** Model training time is dependent on hardware used. Generally, more processors means faster training and smaller models on smaller datasets will often train faster than large models and large datasets.\n",
        "\n",
        "Now let's setup some [device-agnostic code](https://pytorch.org/docs/stable/notes/cuda.html#best-practices) for our models and data to run on GPU if it's available.\n",
        "\n",
        "If you're running this notebook on Google Colab, and you don't a GPU turned on yet, it's now time to turn one on via `Runtime -> Change runtime type -> Hardware accelerator -> GPU`. If you do this, your runtime will likely reset and you'll have to run all of the cells above by going `Runtime -> Run before`."
      ]
    },
    {
      "cell_type": "code",
      "execution_count": null,
      "metadata": {
        "id": "zKCwdr2oor_u",
        "outputId": "bcbf5296-6d3e-480a-b0c8-4f423f8ec546",
        "colab": {
          "base_uri": "https://localhost:8080/",
          "height": 35
        }
      },
      "outputs": [
        {
          "output_type": "execute_result",
          "data": {
            "text/plain": [
              "'cuda'"
            ],
            "application/vnd.google.colaboratory.intrinsic+json": {
              "type": "string"
            }
          },
          "metadata": {},
          "execution_count": 21
        }
      ],
      "source": [
        "# Setup device agnostic code\n",
        "import torch\n",
        "device = \"cuda\" if torch.cuda.is_available() else \"cpu\"\n",
        "device"
      ]
    },
    {
      "cell_type": "markdown",
      "metadata": {
        "id": "1YMZ8okWor_v"
      },
      "source": [
        "Beautiful!\n",
        "\n",
        "Let's build another model."
      ]
    },
    {
      "cell_type": "markdown",
      "metadata": {
        "id": "C_OJ5onmor_v"
      },
      "source": [
        "## TK - 6. Model 1: Building a better model with non-linearity\n",
        "\n",
        "We learned about [the power of non-linearity in notebook 02](https://www.learnpytorch.io/02_pytorch_classification/#6-the-missing-piece-non-linearity).\n",
        "\n",
        "Seeing the data we've been working with, do you think it needs non-linear functions?\n",
        "\n",
        "And remember, linear means straight and non-linear means non-straight.\n",
        "\n",
        "Let's find out.\n",
        "\n",
        "We'll do so by recreating a similar model to before, except this time we'll put non-linear functions (`nn.ReLU()`) in between each linear layer."
      ]
    },
    {
      "cell_type": "code",
      "execution_count": null,
      "metadata": {
        "id": "Wlyv5qPjor_v"
      },
      "outputs": [],
      "source": [
        "# Create a model with non-linear and linear layers\n",
        "class FashionMNISTModelV1(nn.Module):\n",
        "    def __init__(self, input_shape, hidden_units, output_shape):\n",
        "        super().__init__()\n",
        "        self.layer_stack = nn.Sequential(\n",
        "            nn.Flatten(), # flatten inputs into single vector\n",
        "            nn.Linear(in_features=input_shape, out_features=hidden_units),\n",
        "            nn.ReLU(),\n",
        "            nn.Linear(in_features=hidden_units, out_features=output_shape),\n",
        "            nn.ReLU()\n",
        "        )\n",
        "    \n",
        "    def forward(self, x):\n",
        "        return self.layer_stack(x)"
      ]
    },
    {
      "cell_type": "markdown",
      "metadata": {
        "id": "R335kDQCor_v"
      },
      "source": [
        "That looks good.\n",
        "\n",
        "Now let's instantiate it with the same settings we used before.\n",
        "\n",
        "We'll need `input_shape=784` (equal to the number of features of our image data), `hidden_units=10` (starting small and the same as our baseline model) and `output_shape=len(class_names)` (one output unit per class).\n",
        "\n",
        "> **Note:** Notice how we kept most of the settings of our model the same except for one change: adding non-linear layers. This is a standard practice for running a series of machine learning experiments, change one thing and see what happens, then do it again, again, again."
      ]
    },
    {
      "cell_type": "code",
      "execution_count": null,
      "metadata": {
        "id": "jJIv2sHOor_v",
        "outputId": "ef310f5b-3182-43cb-e9eb-409775aac71b",
        "colab": {
          "base_uri": "https://localhost:8080/"
        }
      },
      "outputs": [
        {
          "output_type": "execute_result",
          "data": {
            "text/plain": [
              "device(type='cuda', index=0)"
            ]
          },
          "metadata": {},
          "execution_count": 23
        }
      ],
      "source": [
        "torch.manual_seed(42)\n",
        "model_1 = FashionMNISTModelV1(input_shape=784,\n",
        "    hidden_units=10,\n",
        "    output_shape=len(class_names)\n",
        ").to(device) # send model to GPU if it's available\n",
        "next(model_1.parameters()).device # check model device"
      ]
    },
    {
      "cell_type": "markdown",
      "metadata": {
        "id": "XY0APfb6or_w"
      },
      "source": [
        "### TK - 6.1 Setup loss, optimizer and evaluation metrics\n",
        "\n",
        "As usual, we'll setup a loss function, an optimizer and an evaluation metric (we could do multiple evaluation metrics but we'll stick with accuracy for now)."
      ]
    },
    {
      "cell_type": "code",
      "execution_count": null,
      "metadata": {
        "id": "1rbmn5y2or_w"
      },
      "outputs": [],
      "source": [
        "from helper_functions import accuracy_fn\n",
        "loss_fn = nn.CrossEntropyLoss()\n",
        "optimizer = torch.optim.SGD(params=model_1.parameters(), \n",
        "                            lr=0.1)"
      ]
    },
    {
      "cell_type": "markdown",
      "metadata": {
        "id": "ay7wYJVLor_w"
      },
      "source": [
        "### TK - 6.2 Functionizing training and test loops\n",
        "\n",
        "So far we've been writing train and test loops over and over. \n",
        "\n",
        "Let's write them again but this time we'll put them in functions so they can be called again and again.\n",
        "\n",
        "And because we're using device-agnostic code now, we'll be sure to call `.to(device)` on our feature (`X`) and target (`y`) tensors.\n",
        "\n",
        "For the training loop we'll create a function called `train_step()` which takes in a model, a `DataLoader` a loss function and an optimizer.\n",
        "\n",
        "The testing loop will be similar but it'll be called `test_step()` and it'll take in a model, a `DataLoader`, a loss function and an evaluation function.\n",
        "\n",
        "> **Note:** Since these are functions, you can customize them in any way you like. What we're making here can be considered barebones training and testing functions for our specific classification use case."
      ]
    },
    {
      "cell_type": "code",
      "execution_count": null,
      "metadata": {
        "id": "a9BktNPhor_w"
      },
      "outputs": [],
      "source": [
        "def train_step(model, data_loader, loss_fn, optimizer, accuracy_fn, device=device):\n",
        "    train_loss, train_acc = 0, 0\n",
        "    for batch, (X, y) in enumerate(data_loader):\n",
        "        # Send data to GPU\n",
        "        X, y = X.to(device), y.to(device)\n",
        "\n",
        "        # 1. Forward pass\n",
        "        y_pred = model(X)\n",
        "\n",
        "        # 2. Calculate loss\n",
        "        loss = loss_fn(y_pred, y)\n",
        "        train_loss += loss\n",
        "        train_acc += accuracy_fn(y_true=y,\n",
        "                                 y_pred=y_pred.argmax(dim=1)) # Go from logits -> pred labels\n",
        "\n",
        "        # 3. Optimizer zero grad\n",
        "        optimizer.zero_grad()\n",
        "\n",
        "        # 4. Loss backward\n",
        "        loss.backward()\n",
        "\n",
        "        # 5. Optimizer step\n",
        "        optimizer.step()\n",
        "\n",
        "    # Calculate loss and accuracy per epoch and print out what's happening\n",
        "    train_loss /= len(data_loader)\n",
        "    train_acc /= len(data_loader)\n",
        "    print(f\"Train loss: {test_loss:.5f} | Train accuracy: {test_acc:.2f}%\")\n",
        "\n",
        "def test_step(data_loader, model, loss_fn, accuracy_fn, device=device):\n",
        "    test_loss, test_acc = 0, 0\n",
        "    model.eval() # put model in eval mode\n",
        "    # Turn on inference context manager\n",
        "    with torch.inference_mode(): \n",
        "        for X, y in data_loader:\n",
        "            # Send data to GPU\n",
        "            X, y = X.to(device), y.to(device)\n",
        "            \n",
        "            # 1. Forward pass\n",
        "            test_pred = model(X)\n",
        "            \n",
        "            # 2. Calculate loss and accuracy\n",
        "            test_loss += loss_fn(test_pred, y)\n",
        "            test_acc += accuracy_fn(y_true=y,\n",
        "                y_pred=test_pred.argmax(dim=1) # Go from logits -> pred labels\n",
        "            )\n",
        "        \n",
        "        # Adjust metrics and print out\n",
        "        test_loss /= len(data_loader)\n",
        "        test_acc /= len(data_loader)\n",
        "        print(f\"Test loss: {test_loss:.5f} | Test accuracy: {test_acc:.2f}%\\n\")"
      ]
    },
    {
      "cell_type": "markdown",
      "metadata": {
        "id": "FOZ7tMQ1or_w"
      },
      "source": [
        "Woohoo!\n",
        "\n",
        "Now we've got some functions for training and testing our model, let's run them.\n",
        "\n",
        "We'll do so inside another loop for each epoch.\n",
        "\n",
        "That way for each epoch we're going a training and a testing step.\n",
        "\n",
        "> **Note:** You can customize how often you do a testing step. Sometimes people do them every five epochs or 10 epochs or in our case, every epoch.\n",
        "\n",
        "Let's also time things to see how long our code takes to run on the GPU."
      ]
    },
    {
      "cell_type": "code",
      "execution_count": null,
      "metadata": {
        "id": "Lii2Xxbpor_w",
        "outputId": "0fa1992a-b82f-499a-d2df-d3f25ca10ebc",
        "colab": {
          "base_uri": "https://localhost:8080/"
        }
      },
      "outputs": [
        {
          "output_type": "stream",
          "name": "stdout",
          "text": [
            "Epoch: 0\n",
            "---------\n",
            "Train loss: 0.47664 | Train accuracy: 83.43%\n",
            "Test loss: 0.95636 | Test accuracy: 65.00%\n",
            "\n",
            "Epoch: 1\n",
            "---------\n",
            "Train loss: 0.47664 | Train accuracy: 83.43%\n",
            "Test loss: 0.72227 | Test accuracy: 73.91%\n",
            "\n",
            "Epoch: 2\n",
            "---------\n",
            "Train loss: 0.47664 | Train accuracy: 83.43%\n",
            "Test loss: 0.68500 | Test accuracy: 75.02%\n",
            "\n",
            "Train time on cuda: 20.059 seconds\n"
          ]
        }
      ],
      "source": [
        "torch.manual_seed(42)\n",
        "\n",
        "# Measure time\n",
        "from timeit import default_timer as timer\n",
        "train_time_start_on_gpu = timer()\n",
        "\n",
        "epochs = 3\n",
        "for epoch in range(epochs):\n",
        "    print(f\"Epoch: {epoch}\\n---------\")\n",
        "    train_step(data_loader=train_dataloader, \n",
        "        model=model_1, \n",
        "        loss_fn=loss_fn,\n",
        "        optimizer=optimizer,\n",
        "        accuracy_fn=accuracy_fn\n",
        "    )\n",
        "    test_step(data_loader=test_dataloader,\n",
        "        model=model_1,\n",
        "        loss_fn=loss_fn,\n",
        "        accuracy_fn=accuracy_fn\n",
        "    )\n",
        "\n",
        "train_time_end_on_gpu = timer()\n",
        "total_train_time_model_1 = print_train_time(start=train_time_start_on_gpu,\n",
        "                                           end=train_time_end_on_gpu,\n",
        "                                           device=device)"
      ]
    },
    {
      "cell_type": "markdown",
      "metadata": {
        "id": "khOHQvBIor_w"
      },
      "source": [
        "Excellent!\n",
        "\n",
        "It looks like our model trained a bit faster on the GPU (in my case, training on a NVIDIA Tesla P100 GPU in Google Colab than using pure CPU).\n",
        "\n",
        "> **Question:** \"I used a a GPU but my model didn't train faster, why might that be?\"\n",
        ">\n",
        "> **Answer:** Well, one reason could be because your dataset and model are both so small (like the dataset and model we're working with) the benefits of using a GPU are outweighed by the time it actually takes to transfer the data there.\n",
        "> \n",
        "> There's a small bottleneck between copying data from the CPU memory (default) to the GPU memory.\n",
        ">\n",
        "> So for smaller models and datasets, the CPU might actually be the optimal place to compute on.\n",
        ">\n",
        "> But for larger datasets and models, the speed of computing the GPU can offer usually far outweighs the cost of getting the data there.\n",
        ">\n",
        "> However, this is largely dependant on the hardware you're using. With practice, you will get used to where the best place to train your models is. \n",
        "\n",
        "Let's evaluate our trained `model_1` using our `eval_model()` function and see how it went."
      ]
    },
    {
      "cell_type": "code",
      "execution_count": null,
      "metadata": {
        "id": "HMjUbyfyor_w",
        "outputId": "551bdff2-da60-4c86-83fa-6d48f0e8ba78",
        "colab": {
          "base_uri": "https://localhost:8080/",
          "height": 363
        }
      },
      "outputs": [
        {
          "output_type": "error",
          "ename": "RuntimeError",
          "evalue": "ignored",
          "traceback": [
            "\u001b[0;31m---------------------------------------------------------------------------\u001b[0m",
            "\u001b[0;31mRuntimeError\u001b[0m                              Traceback (most recent call last)",
            "\u001b[0;32m<ipython-input-27-5f6dc7b2a7f0>\u001b[0m in \u001b[0;36m<module>\u001b[0;34m()\u001b[0m\n\u001b[1;32m      5\u001b[0m     \u001b[0mdata_loader\u001b[0m\u001b[0;34m=\u001b[0m\u001b[0mtest_dataloader\u001b[0m\u001b[0;34m,\u001b[0m\u001b[0;34m\u001b[0m\u001b[0;34m\u001b[0m\u001b[0m\n\u001b[1;32m      6\u001b[0m     \u001b[0mloss_fn\u001b[0m\u001b[0;34m=\u001b[0m\u001b[0mloss_fn\u001b[0m\u001b[0;34m,\u001b[0m\u001b[0;34m\u001b[0m\u001b[0;34m\u001b[0m\u001b[0m\n\u001b[0;32m----> 7\u001b[0;31m     accuracy_fn=accuracy_fn) # will error due to `eval_model()` not using device agnostic code \n\u001b[0m\u001b[1;32m      8\u001b[0m \u001b[0mmodel_1_results\u001b[0m\u001b[0;34m\u001b[0m\u001b[0;34m\u001b[0m\u001b[0m\n",
            "\u001b[0;32m<ipython-input-20-885bc9be9cde>\u001b[0m in \u001b[0;36meval_model\u001b[0;34m(model, data_loader, loss_fn, accuracy_fn)\u001b[0m\n\u001b[1;32m     20\u001b[0m         \u001b[0;32mfor\u001b[0m \u001b[0mX\u001b[0m\u001b[0;34m,\u001b[0m \u001b[0my\u001b[0m \u001b[0;32min\u001b[0m \u001b[0mdata_loader\u001b[0m\u001b[0;34m:\u001b[0m\u001b[0;34m\u001b[0m\u001b[0;34m\u001b[0m\u001b[0m\n\u001b[1;32m     21\u001b[0m             \u001b[0;31m# Make predictions with the model\u001b[0m\u001b[0;34m\u001b[0m\u001b[0;34m\u001b[0m\u001b[0;34m\u001b[0m\u001b[0m\n\u001b[0;32m---> 22\u001b[0;31m             \u001b[0my_pred\u001b[0m \u001b[0;34m=\u001b[0m \u001b[0mmodel\u001b[0m\u001b[0;34m(\u001b[0m\u001b[0mX\u001b[0m\u001b[0;34m)\u001b[0m\u001b[0;34m\u001b[0m\u001b[0;34m\u001b[0m\u001b[0m\n\u001b[0m\u001b[1;32m     23\u001b[0m \u001b[0;34m\u001b[0m\u001b[0m\n\u001b[1;32m     24\u001b[0m             \u001b[0;31m# Accumulate the loss and accuracy values per batch\u001b[0m\u001b[0;34m\u001b[0m\u001b[0;34m\u001b[0m\u001b[0;34m\u001b[0m\u001b[0m\n",
            "\u001b[0;32m/usr/local/lib/python3.7/dist-packages/torch/nn/modules/module.py\u001b[0m in \u001b[0;36m_call_impl\u001b[0;34m(self, *input, **kwargs)\u001b[0m\n\u001b[1;32m   1100\u001b[0m         if not (self._backward_hooks or self._forward_hooks or self._forward_pre_hooks or _global_backward_hooks\n\u001b[1;32m   1101\u001b[0m                 or _global_forward_hooks or _global_forward_pre_hooks):\n\u001b[0;32m-> 1102\u001b[0;31m             \u001b[0;32mreturn\u001b[0m \u001b[0mforward_call\u001b[0m\u001b[0;34m(\u001b[0m\u001b[0;34m*\u001b[0m\u001b[0minput\u001b[0m\u001b[0;34m,\u001b[0m \u001b[0;34m**\u001b[0m\u001b[0mkwargs\u001b[0m\u001b[0;34m)\u001b[0m\u001b[0;34m\u001b[0m\u001b[0;34m\u001b[0m\u001b[0m\n\u001b[0m\u001b[1;32m   1103\u001b[0m         \u001b[0;31m# Do not call functions when jit is used\u001b[0m\u001b[0;34m\u001b[0m\u001b[0;34m\u001b[0m\u001b[0;34m\u001b[0m\u001b[0m\n\u001b[1;32m   1104\u001b[0m         \u001b[0mfull_backward_hooks\u001b[0m\u001b[0;34m,\u001b[0m \u001b[0mnon_full_backward_hooks\u001b[0m \u001b[0;34m=\u001b[0m \u001b[0;34m[\u001b[0m\u001b[0;34m]\u001b[0m\u001b[0;34m,\u001b[0m \u001b[0;34m[\u001b[0m\u001b[0;34m]\u001b[0m\u001b[0;34m\u001b[0m\u001b[0;34m\u001b[0m\u001b[0m\n",
            "\u001b[0;32m<ipython-input-22-d999952cf696>\u001b[0m in \u001b[0;36mforward\u001b[0;34m(self, x)\u001b[0m\n\u001b[1;32m     12\u001b[0m \u001b[0;34m\u001b[0m\u001b[0m\n\u001b[1;32m     13\u001b[0m     \u001b[0;32mdef\u001b[0m \u001b[0mforward\u001b[0m\u001b[0;34m(\u001b[0m\u001b[0mself\u001b[0m\u001b[0;34m,\u001b[0m \u001b[0mx\u001b[0m\u001b[0;34m)\u001b[0m\u001b[0;34m:\u001b[0m\u001b[0;34m\u001b[0m\u001b[0;34m\u001b[0m\u001b[0m\n\u001b[0;32m---> 14\u001b[0;31m         \u001b[0;32mreturn\u001b[0m \u001b[0mself\u001b[0m\u001b[0;34m.\u001b[0m\u001b[0mlayer_stack\u001b[0m\u001b[0;34m(\u001b[0m\u001b[0mx\u001b[0m\u001b[0;34m)\u001b[0m\u001b[0;34m\u001b[0m\u001b[0;34m\u001b[0m\u001b[0m\n\u001b[0m",
            "\u001b[0;32m/usr/local/lib/python3.7/dist-packages/torch/nn/modules/module.py\u001b[0m in \u001b[0;36m_call_impl\u001b[0;34m(self, *input, **kwargs)\u001b[0m\n\u001b[1;32m   1100\u001b[0m         if not (self._backward_hooks or self._forward_hooks or self._forward_pre_hooks or _global_backward_hooks\n\u001b[1;32m   1101\u001b[0m                 or _global_forward_hooks or _global_forward_pre_hooks):\n\u001b[0;32m-> 1102\u001b[0;31m             \u001b[0;32mreturn\u001b[0m \u001b[0mforward_call\u001b[0m\u001b[0;34m(\u001b[0m\u001b[0;34m*\u001b[0m\u001b[0minput\u001b[0m\u001b[0;34m,\u001b[0m \u001b[0;34m**\u001b[0m\u001b[0mkwargs\u001b[0m\u001b[0;34m)\u001b[0m\u001b[0;34m\u001b[0m\u001b[0;34m\u001b[0m\u001b[0m\n\u001b[0m\u001b[1;32m   1103\u001b[0m         \u001b[0;31m# Do not call functions when jit is used\u001b[0m\u001b[0;34m\u001b[0m\u001b[0;34m\u001b[0m\u001b[0;34m\u001b[0m\u001b[0m\n\u001b[1;32m   1104\u001b[0m         \u001b[0mfull_backward_hooks\u001b[0m\u001b[0;34m,\u001b[0m \u001b[0mnon_full_backward_hooks\u001b[0m \u001b[0;34m=\u001b[0m \u001b[0;34m[\u001b[0m\u001b[0;34m]\u001b[0m\u001b[0;34m,\u001b[0m \u001b[0;34m[\u001b[0m\u001b[0;34m]\u001b[0m\u001b[0;34m\u001b[0m\u001b[0;34m\u001b[0m\u001b[0m\n",
            "\u001b[0;32m/usr/local/lib/python3.7/dist-packages/torch/nn/modules/container.py\u001b[0m in \u001b[0;36mforward\u001b[0;34m(self, input)\u001b[0m\n\u001b[1;32m    139\u001b[0m     \u001b[0;32mdef\u001b[0m \u001b[0mforward\u001b[0m\u001b[0;34m(\u001b[0m\u001b[0mself\u001b[0m\u001b[0;34m,\u001b[0m \u001b[0minput\u001b[0m\u001b[0;34m)\u001b[0m\u001b[0;34m:\u001b[0m\u001b[0;34m\u001b[0m\u001b[0;34m\u001b[0m\u001b[0m\n\u001b[1;32m    140\u001b[0m         \u001b[0;32mfor\u001b[0m \u001b[0mmodule\u001b[0m \u001b[0;32min\u001b[0m \u001b[0mself\u001b[0m\u001b[0;34m:\u001b[0m\u001b[0;34m\u001b[0m\u001b[0;34m\u001b[0m\u001b[0m\n\u001b[0;32m--> 141\u001b[0;31m             \u001b[0minput\u001b[0m \u001b[0;34m=\u001b[0m \u001b[0mmodule\u001b[0m\u001b[0;34m(\u001b[0m\u001b[0minput\u001b[0m\u001b[0;34m)\u001b[0m\u001b[0;34m\u001b[0m\u001b[0;34m\u001b[0m\u001b[0m\n\u001b[0m\u001b[1;32m    142\u001b[0m         \u001b[0;32mreturn\u001b[0m \u001b[0minput\u001b[0m\u001b[0;34m\u001b[0m\u001b[0;34m\u001b[0m\u001b[0m\n\u001b[1;32m    143\u001b[0m \u001b[0;34m\u001b[0m\u001b[0m\n",
            "\u001b[0;32m/usr/local/lib/python3.7/dist-packages/torch/nn/modules/module.py\u001b[0m in \u001b[0;36m_call_impl\u001b[0;34m(self, *input, **kwargs)\u001b[0m\n\u001b[1;32m   1100\u001b[0m         if not (self._backward_hooks or self._forward_hooks or self._forward_pre_hooks or _global_backward_hooks\n\u001b[1;32m   1101\u001b[0m                 or _global_forward_hooks or _global_forward_pre_hooks):\n\u001b[0;32m-> 1102\u001b[0;31m             \u001b[0;32mreturn\u001b[0m \u001b[0mforward_call\u001b[0m\u001b[0;34m(\u001b[0m\u001b[0;34m*\u001b[0m\u001b[0minput\u001b[0m\u001b[0;34m,\u001b[0m \u001b[0;34m**\u001b[0m\u001b[0mkwargs\u001b[0m\u001b[0;34m)\u001b[0m\u001b[0;34m\u001b[0m\u001b[0;34m\u001b[0m\u001b[0m\n\u001b[0m\u001b[1;32m   1103\u001b[0m         \u001b[0;31m# Do not call functions when jit is used\u001b[0m\u001b[0;34m\u001b[0m\u001b[0;34m\u001b[0m\u001b[0;34m\u001b[0m\u001b[0m\n\u001b[1;32m   1104\u001b[0m         \u001b[0mfull_backward_hooks\u001b[0m\u001b[0;34m,\u001b[0m \u001b[0mnon_full_backward_hooks\u001b[0m \u001b[0;34m=\u001b[0m \u001b[0;34m[\u001b[0m\u001b[0;34m]\u001b[0m\u001b[0;34m,\u001b[0m \u001b[0;34m[\u001b[0m\u001b[0;34m]\u001b[0m\u001b[0;34m\u001b[0m\u001b[0;34m\u001b[0m\u001b[0m\n",
            "\u001b[0;32m/usr/local/lib/python3.7/dist-packages/torch/nn/modules/linear.py\u001b[0m in \u001b[0;36mforward\u001b[0;34m(self, input)\u001b[0m\n\u001b[1;32m    101\u001b[0m \u001b[0;34m\u001b[0m\u001b[0m\n\u001b[1;32m    102\u001b[0m     \u001b[0;32mdef\u001b[0m \u001b[0mforward\u001b[0m\u001b[0;34m(\u001b[0m\u001b[0mself\u001b[0m\u001b[0;34m,\u001b[0m \u001b[0minput\u001b[0m\u001b[0;34m:\u001b[0m \u001b[0mTensor\u001b[0m\u001b[0;34m)\u001b[0m \u001b[0;34m->\u001b[0m \u001b[0mTensor\u001b[0m\u001b[0;34m:\u001b[0m\u001b[0;34m\u001b[0m\u001b[0;34m\u001b[0m\u001b[0m\n\u001b[0;32m--> 103\u001b[0;31m         \u001b[0;32mreturn\u001b[0m \u001b[0mF\u001b[0m\u001b[0;34m.\u001b[0m\u001b[0mlinear\u001b[0m\u001b[0;34m(\u001b[0m\u001b[0minput\u001b[0m\u001b[0;34m,\u001b[0m \u001b[0mself\u001b[0m\u001b[0;34m.\u001b[0m\u001b[0mweight\u001b[0m\u001b[0;34m,\u001b[0m \u001b[0mself\u001b[0m\u001b[0;34m.\u001b[0m\u001b[0mbias\u001b[0m\u001b[0;34m)\u001b[0m\u001b[0;34m\u001b[0m\u001b[0;34m\u001b[0m\u001b[0m\n\u001b[0m\u001b[1;32m    104\u001b[0m \u001b[0;34m\u001b[0m\u001b[0m\n\u001b[1;32m    105\u001b[0m     \u001b[0;32mdef\u001b[0m \u001b[0mextra_repr\u001b[0m\u001b[0;34m(\u001b[0m\u001b[0mself\u001b[0m\u001b[0;34m)\u001b[0m \u001b[0;34m->\u001b[0m \u001b[0mstr\u001b[0m\u001b[0;34m:\u001b[0m\u001b[0;34m\u001b[0m\u001b[0;34m\u001b[0m\u001b[0m\n",
            "\u001b[0;32m/usr/local/lib/python3.7/dist-packages/torch/nn/functional.py\u001b[0m in \u001b[0;36mlinear\u001b[0;34m(input, weight, bias)\u001b[0m\n\u001b[1;32m   1846\u001b[0m     \u001b[0;32mif\u001b[0m \u001b[0mhas_torch_function_variadic\u001b[0m\u001b[0;34m(\u001b[0m\u001b[0minput\u001b[0m\u001b[0;34m,\u001b[0m \u001b[0mweight\u001b[0m\u001b[0;34m,\u001b[0m \u001b[0mbias\u001b[0m\u001b[0;34m)\u001b[0m\u001b[0;34m:\u001b[0m\u001b[0;34m\u001b[0m\u001b[0;34m\u001b[0m\u001b[0m\n\u001b[1;32m   1847\u001b[0m         \u001b[0;32mreturn\u001b[0m \u001b[0mhandle_torch_function\u001b[0m\u001b[0;34m(\u001b[0m\u001b[0mlinear\u001b[0m\u001b[0;34m,\u001b[0m \u001b[0;34m(\u001b[0m\u001b[0minput\u001b[0m\u001b[0;34m,\u001b[0m \u001b[0mweight\u001b[0m\u001b[0;34m,\u001b[0m \u001b[0mbias\u001b[0m\u001b[0;34m)\u001b[0m\u001b[0;34m,\u001b[0m \u001b[0minput\u001b[0m\u001b[0;34m,\u001b[0m \u001b[0mweight\u001b[0m\u001b[0;34m,\u001b[0m \u001b[0mbias\u001b[0m\u001b[0;34m=\u001b[0m\u001b[0mbias\u001b[0m\u001b[0;34m)\u001b[0m\u001b[0;34m\u001b[0m\u001b[0;34m\u001b[0m\u001b[0m\n\u001b[0;32m-> 1848\u001b[0;31m     \u001b[0;32mreturn\u001b[0m \u001b[0mtorch\u001b[0m\u001b[0;34m.\u001b[0m\u001b[0m_C\u001b[0m\u001b[0;34m.\u001b[0m\u001b[0m_nn\u001b[0m\u001b[0;34m.\u001b[0m\u001b[0mlinear\u001b[0m\u001b[0;34m(\u001b[0m\u001b[0minput\u001b[0m\u001b[0;34m,\u001b[0m \u001b[0mweight\u001b[0m\u001b[0;34m,\u001b[0m \u001b[0mbias\u001b[0m\u001b[0;34m)\u001b[0m\u001b[0;34m\u001b[0m\u001b[0;34m\u001b[0m\u001b[0m\n\u001b[0m\u001b[1;32m   1849\u001b[0m \u001b[0;34m\u001b[0m\u001b[0m\n\u001b[1;32m   1850\u001b[0m \u001b[0;34m\u001b[0m\u001b[0m\n",
            "\u001b[0;31mRuntimeError\u001b[0m: Expected all tensors to be on the same device, but found at least two devices, cuda:0 and cpu! (when checking argument for argument mat1 in method wrapper_addmm)"
          ]
        }
      ],
      "source": [
        "torch.manual_seed(42)\n",
        "\n",
        "# Make sure model eval code can run on CPU...\n",
        "model_1_results = eval_model(model=model_1, \n",
        "    data_loader=test_dataloader,\n",
        "    loss_fn=loss_fn, \n",
        "    accuracy_fn=accuracy_fn) # will error due to `eval_model()` not using device agnostic code \n",
        "model_1_results "
      ]
    },
    {
      "cell_type": "markdown",
      "metadata": {
        "id": "ssMnlqjkor_w"
      },
      "source": [
        "Oh no! \n",
        "\n",
        "It looks like our `eval_model()` function errors out with:\n",
        "\n",
        "```\n",
        "RuntimeError: Expected all tensors to be on the same device, but found at least two devices, cuda:0 and cpu! (when checking argument for argument mat1 in method wrapper_addmm)\n",
        "```\n",
        "\n",
        "It's because we've setup our data and model to use device-agnostic code but not our evaluation function.\n",
        "\n",
        "How about we fix that by passing a target `device` parameter to our `eval_model()` function?\n",
        "\n",
        "Then we'll try calculating the results again."
      ]
    },
    {
      "cell_type": "code",
      "execution_count": 28,
      "metadata": {
        "id": "nisdJXTZor_w",
        "outputId": "5e7fa078-9c09-4b6e-b7bb-fc65ace0cd35",
        "colab": {
          "base_uri": "https://localhost:8080/"
        }
      },
      "outputs": [
        {
          "output_type": "execute_result",
          "data": {
            "text/plain": [
              "{'model_name': 'FashionMNISTModelV1',\n",
              " 'model_loss': 0.6850008964538574,\n",
              " 'model_acc': 75.01996805111821}"
            ]
          },
          "metadata": {},
          "execution_count": 28
        }
      ],
      "source": [
        "# Move values to device\n",
        "torch.manual_seed(42)\n",
        "def eval_model(model: torch.nn.Module, \n",
        "               data_loader: torch.utils.data.DataLoader, \n",
        "               loss_fn: torch.nn.Module, \n",
        "               accuracy_fn, \n",
        "               device: str = device):\n",
        "    \"\"\"Evaluates a given model on a given dataset.\n",
        "\n",
        "    Args:\n",
        "        model (torch.nn.Module): A PyTorch model capable of making predictions on data_loader.\n",
        "        data_loader (torch.utils.data.DataLoader): The target dataset to predict on.\n",
        "        loss_fn (torch.nn.Module): The loss function of model.\n",
        "        accuracy_fn: An accuracy function to compare the models predictions to the truth labels.\n",
        "        device (str, optional): Target device to compute on. Defaults to device.\n",
        "\n",
        "    Returns:\n",
        "        (dict): Results of model making predictions on data_loader.\n",
        "    \"\"\"\n",
        "    loss, acc = 0, 0\n",
        "    model.eval()\n",
        "    with torch.inference_mode():\n",
        "        for X, y in data_loader:\n",
        "            # Send data to the target device\n",
        "            X, y = X.to(device), y.to(device)\n",
        "            y_pred = model(X)\n",
        "            loss += loss_fn(y_pred, y)\n",
        "            acc += accuracy_fn(y_true=y, y_pred=y_pred.argmax(dim=1))\n",
        "        \n",
        "        # Scale loss and acc\n",
        "        loss /= len(data_loader)\n",
        "        acc /= len(data_loader)\n",
        "    return {\"model_name\": model.__class__.__name__, # only works when model was created with a class\n",
        "            \"model_loss\": loss.item(),\n",
        "            \"model_acc\": acc}\n",
        "\n",
        "# Calculate model 1 results with device-agnostic code \n",
        "model_1_results = eval_model(model=model_1, data_loader=test_dataloader,\n",
        "    loss_fn=loss_fn, accuracy_fn=accuracy_fn,\n",
        "    device=device\n",
        ")\n",
        "model_1_results"
      ]
    },
    {
      "cell_type": "code",
      "execution_count": 29,
      "metadata": {
        "id": "dzNbpJR4or_x",
        "outputId": "504f423e-6f5f-4c74-ca3c-ee7e5e8a78d6",
        "colab": {
          "base_uri": "https://localhost:8080/"
        }
      },
      "outputs": [
        {
          "output_type": "execute_result",
          "data": {
            "text/plain": [
              "{'model_name': 'FashionMNISTModelV0',\n",
              " 'model_loss': 0.47663894295692444,\n",
              " 'model_acc': 83.42651757188499}"
            ]
          },
          "metadata": {},
          "execution_count": 29
        }
      ],
      "source": [
        "# Check baseline results\n",
        "model_0_results"
      ]
    },
    {
      "cell_type": "markdown",
      "metadata": {
        "id": "DE5sOKMRor_x"
      },
      "source": [
        "Woah, in this case, it looks like adding non-linearities to our model made it perform worse than the baseline.\n",
        "\n",
        "That's a thing to note in machine learning, sometimes the thing you thought should work doesn't. \n",
        "\n",
        "And then the thing you thought might not work does.\n",
        "\n",
        "It's part science, part art.\n",
        "\n",
        "From the looks of things, it seems like our model is **overfitting** on the training data.\n",
        "\n",
        "Overfitting means it's learning the training well but those patterns aren't generalizing to the testing data.\n",
        "\n",
        "Two of the main to fix overfitting include:\n",
        "1. Using a smaller or different model (some models fit certain kinds of data better than others).\n",
        "2. Using a larger dataset (the more data, the more chance a model has to learn generalizable patterns).\n",
        "\n",
        "There are more, but I'm going to leave that as a challenge for you to explore.\n",
        "\n",
        "Try searching online, \"ways to prevent overfitting in machine learning\" and see what comes up.\n",
        "\n",
        "In the meantime, let's take a look at number 1: using a different model."
      ]
    },
    {
      "cell_type": "markdown",
      "metadata": {
        "id": "6KPj923Ror_x"
      },
      "source": [
        "## TK - 7. Model 2: Building a Convolutional Neural Network (CNN)\n",
        "\n",
        "Alright, time to step things up a notch.\n",
        "\n",
        "It's time to create a [Convolutional Neural Network](https://en.wikipedia.org/wiki/Convolutional_neural_network) (CNN or ConvNet).\n",
        "\n",
        "CNN's are known for their capabilities to find patterns in visual data.\n",
        "\n",
        "And since we're dealing with visual data, let's see if using a CNN model can improve upon our baseline.\n",
        "\n",
        "The CNN model we're going to be using is known as TinyVGG from the [CNN Explainer](https://poloclub.github.io/cnn-explainer/) website.\n",
        "\n",
        "TK image - structure of a CNN model\n",
        "\n",
        "TK table - what models to use where? vision = CNNs/Transformers, almost everything else: Transformers (unstructured data), structured data: gradient boosted trees, random forests, XGBoost \n",
        "\n",
        "* Conv2d() - https://pytorch.org/docs/stable/generated/torch.nn.Conv2d.html \n",
        "* MaxPool2d() - https://pytorch.org/docs/stable/generated/torch.nn.MaxPool2d.html\n",
        "\n"
      ]
    },
    {
      "cell_type": "code",
      "execution_count": 30,
      "metadata": {
        "id": "3GwvKqImor_x",
        "outputId": "9128edc7-7d28-472e-ff15-7d7905504b12",
        "colab": {
          "base_uri": "https://localhost:8080/"
        }
      },
      "outputs": [
        {
          "output_type": "execute_result",
          "data": {
            "text/plain": [
              "FashionMNISTModelV2(\n",
              "  (block_1): Sequential(\n",
              "    (0): Conv2d(1, 10, kernel_size=(3, 3), stride=(1, 1), padding=(1, 1))\n",
              "    (1): ReLU()\n",
              "    (2): Conv2d(10, 10, kernel_size=(3, 3), stride=(1, 1), padding=(1, 1))\n",
              "    (3): ReLU()\n",
              "    (4): MaxPool2d(kernel_size=2, stride=2, padding=0, dilation=1, ceil_mode=False)\n",
              "  )\n",
              "  (block_2): Sequential(\n",
              "    (0): Conv2d(10, 10, kernel_size=(3, 3), stride=(1, 1), padding=(1, 1))\n",
              "    (1): ReLU()\n",
              "    (2): Conv2d(10, 10, kernel_size=(3, 3), stride=(1, 1), padding=(1, 1))\n",
              "    (3): ReLU()\n",
              "    (4): MaxPool2d(kernel_size=2, stride=2, padding=0, dilation=1, ceil_mode=False)\n",
              "  )\n",
              "  (classifier): Sequential(\n",
              "    (0): Flatten(start_dim=1, end_dim=-1)\n",
              "    (1): Linear(in_features=490, out_features=10, bias=True)\n",
              "  )\n",
              ")"
            ]
          },
          "metadata": {},
          "execution_count": 30
        }
      ],
      "source": [
        "### Model 2 line by line\n",
        "class FashionMNISTModelV2(nn.Module):\n",
        "    \"\"\"\n",
        "    Model architecture copying TinyVGG from: \n",
        "    https://poloclub.github.io/cnn-explainer/\n",
        "    \"\"\"\n",
        "    def __init__(self, input_shape, hidden_units, output_shape):\n",
        "        super().__init__()\n",
        "        self.block_1 = nn.Sequential(\n",
        "            nn.Conv2d(in_channels=input_shape, \n",
        "                      out_channels=hidden_units, \n",
        "                      kernel_size=3, # how big is the square that's going over the image?\n",
        "                      stride=1, # default\n",
        "                      padding=1),# options = \"valid\" (no padding) or \"same\" (output has same shape as input) or int for specific number \n",
        "            nn.ReLU(),\n",
        "            nn.Conv2d(in_channels=hidden_units, \n",
        "                      out_channels=hidden_units,\n",
        "                      kernel_size=3,\n",
        "                      stride=1,\n",
        "                      padding=1),\n",
        "            nn.ReLU(),\n",
        "            nn.MaxPool2d(kernel_size=2,\n",
        "                         stride=2) # default stride value is same as kernel_size\n",
        "        )\n",
        "        self.block_2 = nn.Sequential(\n",
        "            nn.Conv2d(hidden_units, hidden_units, 3, padding=1),\n",
        "            nn.ReLU(),\n",
        "            nn.Conv2d(hidden_units, hidden_units, 3, padding=1),\n",
        "            nn.ReLU(),\n",
        "            nn.MaxPool2d(2)\n",
        "        )\n",
        "        self.classifier = nn.Sequential(\n",
        "            nn.Flatten(),\n",
        "            nn.Linear(in_features=hidden_units*7*7, \n",
        "                      out_features=output_shape)\n",
        "        )\n",
        "    \n",
        "    def forward(self, x):\n",
        "        x = self.block_1(x)\n",
        "        # print(x.shape)\n",
        "        x = self.block_2(x)\n",
        "        # print(x.shape)\n",
        "        x = self.classifier(x)\n",
        "        # print(x.shape)\n",
        "        return x\n",
        "\n",
        "torch.manual_seed(42)\n",
        "model_2 = FashionMNISTModelV2(input_shape=1, \n",
        "    hidden_units=10, \n",
        "    output_shape=len(class_names)).to(device)\n",
        "model_2"
      ]
    },
    {
      "cell_type": "code",
      "execution_count": 31,
      "metadata": {
        "id": "U5Cs_G2kor_x",
        "outputId": "22ee17b3-94fa-4a55-d85c-d3c4de2a9a92",
        "colab": {
          "base_uri": "https://localhost:8080/"
        }
      },
      "outputs": [
        {
          "output_type": "execute_result",
          "data": {
            "text/plain": [
              "torch.Size([32, 1, 28, 28])"
            ]
          },
          "metadata": {},
          "execution_count": 31
        }
      ],
      "source": [
        "input, label = next(iter(train_dataloader))\n",
        "input.shape"
      ]
    },
    {
      "cell_type": "markdown",
      "metadata": {
        "id": "DS6iwsi_or_x"
      },
      "source": [
        "### TK - 7.1 Stepping through nn.Conv2d() and nn.MaxPool2d() layers\n",
        "\n",
        "We could start using our model above and see what happens but let's first step through the two new layers we've added:\n",
        "* [`nn.Conv2d()`](https://pytorch.org/docs/stable/generated/torch.nn.Conv2d.html), also known as a convolutional layer.\n",
        "* [`nn.MaxPool2d()`](https://pytorch.org/docs/stable/generated/torch.nn.MaxPool2d.html), also known as a max pooling layer.\n",
        "\n",
        "TK - TODO: \n",
        "* Step through the Conv2d and MaxPool2d layers of TinyVGG and show what's going on at each layer...\n",
        "* Could reference this with the CNN explainer website, this is what's happening behind the scenes \n",
        "\n",
        "To test the layers out, let's create some toy data just like the data used on CNN Explainer."
      ]
    },
    {
      "cell_type": "code",
      "execution_count": 32,
      "metadata": {
        "id": "3xMO1S0Hor_x",
        "outputId": "81dc530e-251c-4742-d11b-15f1a727f24c",
        "colab": {
          "base_uri": "https://localhost:8080/"
        }
      },
      "outputs": [
        {
          "output_type": "execute_result",
          "data": {
            "text/plain": [
              "(torch.Size([32, 3, 64, 64]),\n",
              " torch.Size([3, 64, 64]),\n",
              " tensor([[[ 1.9269,  1.4873,  0.9007,  ...,  1.8446, -1.1845,  1.3835],\n",
              "          [ 1.4451,  0.8564,  2.2181,  ...,  0.3399,  0.7200,  0.4114],\n",
              "          [ 1.9312,  1.0119, -1.4364,  ..., -0.5558,  0.7043,  0.7099],\n",
              "          ...,\n",
              "          [-0.5610, -0.4830,  0.4770,  ..., -0.2713, -0.9537, -0.6737],\n",
              "          [ 0.3076, -0.1277,  0.0366,  ..., -2.0060,  0.2824, -0.8111],\n",
              "          [-1.5486,  0.0485, -0.7712,  ..., -0.1403,  0.9416, -0.0118]],\n",
              " \n",
              "         [[-0.5197,  1.8524,  1.8365,  ...,  0.8935, -1.5114, -0.8515],\n",
              "          [ 2.0818,  1.0677, -1.4277,  ...,  1.6612, -2.6223, -0.4319],\n",
              "          [-0.1010, -0.4388, -1.9775,  ...,  0.2106,  0.2536, -0.7318],\n",
              "          ...,\n",
              "          [ 0.2779,  0.7342, -0.3736,  ..., -0.4601,  0.1815,  0.1850],\n",
              "          [ 0.7205, -0.2833,  0.0937,  ..., -0.1002, -2.3609,  2.2465],\n",
              "          [-1.3242, -0.1973,  0.2920,  ...,  0.5409,  0.6940,  1.8563]],\n",
              " \n",
              "         [[-0.7978,  1.0261,  1.1465,  ...,  1.2134,  0.9354, -0.0780],\n",
              "          [-1.4647, -1.9571,  0.1017,  ..., -1.9986, -0.7409,  0.7011],\n",
              "          [-1.3938,  0.8466, -1.7191,  ..., -1.1867,  0.1320,  0.3407],\n",
              "          ...,\n",
              "          [ 0.8206, -0.3745,  1.2499,  ..., -0.0676,  0.0385,  0.6335],\n",
              "          [-0.5589, -0.3393,  0.2347,  ...,  2.1181,  2.4569,  1.3083],\n",
              "          [-0.4092,  1.5199,  0.2401,  ..., -0.2558,  0.7870,  0.9924]]]))"
            ]
          },
          "metadata": {},
          "execution_count": 32
        }
      ],
      "source": [
        "torch.manual_seed(42)\n",
        "\n",
        "# Create sample batch of random numbers with same size as image batch\n",
        "images = torch.randn(size=(32, 3, 64, 64)) # [batch_size, color_channels, height, width]\n",
        "test_image = images[0] # get a single image for testing\n",
        "images.shape, test_image.shape, test_image"
      ]
    },
    {
      "cell_type": "markdown",
      "metadata": {
        "id": "d9uW6RYYor_x"
      },
      "source": [
        "TK test - Let's create an example `nn.Conv2d()` with various parameters... (what do these parameters do?)\n",
        "* in_channels\n",
        "* out_channels\n",
        "* kernel_size\n",
        "* stride\n",
        "* padding\n",
        "\n",
        "TK - look at PyTorch docs + CNN Explainer"
      ]
    },
    {
      "cell_type": "code",
      "execution_count": 33,
      "metadata": {
        "id": "CADJvfTKor_x",
        "outputId": "96af1c56-d944-4533-efa0-d7c1ac8e4b1a",
        "colab": {
          "base_uri": "https://localhost:8080/",
          "height": 346
        }
      },
      "outputs": [
        {
          "output_type": "error",
          "ename": "RuntimeError",
<<<<<<< HEAD
          "evalue": "Expected 4-dimensional input for 4-dimensional weight [10, 3, 3, 3], but got 3-dimensional input of size [3, 64, 64] instead",
          "output_type": "error",
=======
          "evalue": "ignored",
>>>>>>> ced4c0c328dba7b3160641718ace34dce8665246
          "traceback": [
            "\u001b[0;31m---------------------------------------------------------------------------\u001b[0m",
            "\u001b[0;31mRuntimeError\u001b[0m                              Traceback (most recent call last)",
            "\u001b[0;32m/tmp/ipykernel_691838/3773791716.py\u001b[0m in \u001b[0;36m<module>\u001b[0;34m\u001b[0m\n\u001b[1;32m     10\u001b[0m \u001b[0;34m\u001b[0m\u001b[0m\n\u001b[1;32m     11\u001b[0m \u001b[0;31m# Pass the data through the convolutional layer\u001b[0m\u001b[0;34m\u001b[0m\u001b[0;34m\u001b[0m\u001b[0m\n\u001b[0;32m---> 12\u001b[0;31m \u001b[0mconv_layer\u001b[0m\u001b[0;34m(\u001b[0m\u001b[0mtest_image\u001b[0m\u001b[0;34m)\u001b[0m \u001b[0;31m# note: this will error because of shape issues (nn.Conv.2d() expects a 4d tensor as input)\u001b[0m\u001b[0;34m\u001b[0m\u001b[0;34m\u001b[0m\u001b[0m\n\u001b[0m",
            "\u001b[0;32m~/code/pytorch/env/lib/python3.9/site-packages/torch/nn/modules/module.py\u001b[0m in \u001b[0;36m_call_impl\u001b[0;34m(self, *input, **kwargs)\u001b[0m\n\u001b[1;32m   1100\u001b[0m         if not (self._backward_hooks or self._forward_hooks or self._forward_pre_hooks or _global_backward_hooks\n\u001b[1;32m   1101\u001b[0m                 or _global_forward_hooks or _global_forward_pre_hooks):\n\u001b[0;32m-> 1102\u001b[0;31m             \u001b[0;32mreturn\u001b[0m \u001b[0mforward_call\u001b[0m\u001b[0;34m(\u001b[0m\u001b[0;34m*\u001b[0m\u001b[0minput\u001b[0m\u001b[0;34m,\u001b[0m \u001b[0;34m**\u001b[0m\u001b[0mkwargs\u001b[0m\u001b[0;34m)\u001b[0m\u001b[0;34m\u001b[0m\u001b[0;34m\u001b[0m\u001b[0m\n\u001b[0m\u001b[1;32m   1103\u001b[0m         \u001b[0;31m# Do not call functions when jit is used\u001b[0m\u001b[0;34m\u001b[0m\u001b[0;34m\u001b[0m\u001b[0m\n\u001b[1;32m   1104\u001b[0m         \u001b[0mfull_backward_hooks\u001b[0m\u001b[0;34m,\u001b[0m \u001b[0mnon_full_backward_hooks\u001b[0m \u001b[0;34m=\u001b[0m \u001b[0;34m[\u001b[0m\u001b[0;34m]\u001b[0m\u001b[0;34m,\u001b[0m \u001b[0;34m[\u001b[0m\u001b[0;34m]\u001b[0m\u001b[0;34m\u001b[0m\u001b[0;34m\u001b[0m\u001b[0m\n",
            "\u001b[0;32m~/code/pytorch/env/lib/python3.9/site-packages/torch/nn/modules/conv.py\u001b[0m in \u001b[0;36mforward\u001b[0;34m(self, input)\u001b[0m\n\u001b[1;32m    444\u001b[0m \u001b[0;34m\u001b[0m\u001b[0m\n\u001b[1;32m    445\u001b[0m     \u001b[0;32mdef\u001b[0m \u001b[0mforward\u001b[0m\u001b[0;34m(\u001b[0m\u001b[0mself\u001b[0m\u001b[0;34m,\u001b[0m \u001b[0minput\u001b[0m\u001b[0;34m:\u001b[0m \u001b[0mTensor\u001b[0m\u001b[0;34m)\u001b[0m \u001b[0;34m->\u001b[0m \u001b[0mTensor\u001b[0m\u001b[0;34m:\u001b[0m\u001b[0;34m\u001b[0m\u001b[0;34m\u001b[0m\u001b[0m\n\u001b[0;32m--> 446\u001b[0;31m         \u001b[0;32mreturn\u001b[0m \u001b[0mself\u001b[0m\u001b[0;34m.\u001b[0m\u001b[0m_conv_forward\u001b[0m\u001b[0;34m(\u001b[0m\u001b[0minput\u001b[0m\u001b[0;34m,\u001b[0m \u001b[0mself\u001b[0m\u001b[0;34m.\u001b[0m\u001b[0mweight\u001b[0m\u001b[0;34m,\u001b[0m \u001b[0mself\u001b[0m\u001b[0;34m.\u001b[0m\u001b[0mbias\u001b[0m\u001b[0;34m)\u001b[0m\u001b[0;34m\u001b[0m\u001b[0;34m\u001b[0m\u001b[0m\n\u001b[0m\u001b[1;32m    447\u001b[0m \u001b[0;34m\u001b[0m\u001b[0m\n\u001b[1;32m    448\u001b[0m \u001b[0;32mclass\u001b[0m \u001b[0mConv3d\u001b[0m\u001b[0;34m(\u001b[0m\u001b[0m_ConvNd\u001b[0m\u001b[0;34m)\u001b[0m\u001b[0;34m:\u001b[0m\u001b[0;34m\u001b[0m\u001b[0;34m\u001b[0m\u001b[0m\n",
            "\u001b[0;32m~/code/pytorch/env/lib/python3.9/site-packages/torch/nn/modules/conv.py\u001b[0m in \u001b[0;36m_conv_forward\u001b[0;34m(self, input, weight, bias)\u001b[0m\n\u001b[1;32m    440\u001b[0m                             \u001b[0mweight\u001b[0m\u001b[0;34m,\u001b[0m \u001b[0mbias\u001b[0m\u001b[0;34m,\u001b[0m \u001b[0mself\u001b[0m\u001b[0;34m.\u001b[0m\u001b[0mstride\u001b[0m\u001b[0;34m,\u001b[0m\u001b[0;34m\u001b[0m\u001b[0;34m\u001b[0m\u001b[0m\n\u001b[1;32m    441\u001b[0m                             _pair(0), self.dilation, self.groups)\n\u001b[0;32m--> 442\u001b[0;31m         return F.conv2d(input, weight, bias, self.stride,\n\u001b[0m\u001b[1;32m    443\u001b[0m                         self.padding, self.dilation, self.groups)\n\u001b[1;32m    444\u001b[0m \u001b[0;34m\u001b[0m\u001b[0m\n",
            "\u001b[0;31mRuntimeError\u001b[0m: Expected 4-dimensional input for 4-dimensional weight [10, 3, 3, 3], but got 3-dimensional input of size [3, 64, 64] instead"
          ]
        }
      ],
      "source": [
        "torch.manual_seed(42)\n",
        "\n",
        "# Create a convolutional layer with same dimensions as TinyVGG \n",
        "# (try changing any of the parameters and see what happens)\n",
        "conv_layer = nn.Conv2d(in_channels=3,\n",
        "                       out_channels=10,\n",
        "                       kernel_size=3,\n",
        "                       stride=1,\n",
        "                       padding=0) # also try using \"valid\" or \"same\" here \n",
        "\n",
        "# Pass the data through the convolutional layer\n",
        "conv_layer(test_image) # note: this will error because of shape issues (nn.Conv.2d() expects a 4d tensor as input)"
      ]
    },
    {
      "cell_type": "markdown",
      "metadata": {
        "id": "Qpgx8mj2or_y"
      },
      "source": [
        "If we try to pass a single image in, we get a shape mismatch error:\n",
        "\n",
        "```\n",
        "RuntimeError: Expected 4-dimensional input for 4-dimensional weight [10, 3, 3, 3], but got 3-dimensional input of size [3, 64, 64] instead\n",
        "```\n",
        "\n",
        "This is because our `nn.Conv2d()` layer expects a 4-dimensional tensor as input with size `(N, C, H, W)` or `[batch_size, color_channels, height, width]`.\n",
        "\n",
        "Right now our single image `test_image` only has a shape of `[color_channels, height, width]` or `[3, 64, 64]`.\n",
        "\n",
        "We can fix this for a single image using `test_image.unsqueeze(dim=0)` to add an extra dimension for `N`."
      ]
    },
    {
      "cell_type": "code",
      "execution_count": 34,
      "metadata": {
        "id": "l7XrPNuyor_y",
        "outputId": "de63eec9-7761-41a3-b9f1-2abe03a3359c",
        "colab": {
          "base_uri": "https://localhost:8080/"
        }
      },
      "outputs": [
        {
          "output_type": "execute_result",
          "data": {
            "text/plain": [
              "torch.Size([1, 3, 64, 64])"
            ]
          },
          "metadata": {},
          "execution_count": 34
        }
      ],
      "source": [
        "# Add extra dimension to test image\n",
        "test_image.unsqueeze(dim=0).shape"
      ]
    },
    {
      "cell_type": "code",
      "execution_count": 35,
      "metadata": {
        "id": "_BVfYYLMor_y",
        "outputId": "f3c6982d-4f1f-4d60-94f8-12da93218927",
        "colab": {
          "base_uri": "https://localhost:8080/"
        }
      },
      "outputs": [
        {
          "output_type": "execute_result",
          "data": {
            "text/plain": [
              "torch.Size([1, 10, 62, 62])"
            ]
          },
          "metadata": {},
          "execution_count": 35
        }
      ],
      "source": [
        "# Pass test image with extra dimension through conv_layer\n",
        "conv_layer(test_image.unsqueeze(dim=0)).shape"
      ]
    },
    {
      "cell_type": "markdown",
      "metadata": {
        "id": "vaQZVygvor_y"
      },
      "source": [
        "Hmm, notice what happens to our shape (the same shape as the first layer of TinyVGG on [CNN Explainer](https://poloclub.github.io/cnn-explainer/)), we get different channel sizes as well as different pixel sizes.\n",
        "\n",
        "What if we changed the values of `conv_layer`?"
      ]
    },
    {
      "cell_type": "code",
      "execution_count": 36,
      "metadata": {
        "id": "-n5R1oWcor_y",
        "outputId": "5ee90f0d-7635-420c-ccef-62f41cd34741",
        "colab": {
          "base_uri": "https://localhost:8080/"
        }
      },
      "outputs": [
        {
          "output_type": "execute_result",
          "data": {
            "text/plain": [
              "torch.Size([1, 10, 30, 30])"
            ]
          },
          "metadata": {},
          "execution_count": 36
        }
      ],
      "source": [
        "torch.manual_seed(42)\n",
        "# Create a new conv_layer with different values (try setting these to whatever you like)\n",
        "conv_layer_2 = nn.Conv2d(in_channels=3, # same number of color channels as our input image\n",
        "                         out_channels=10,\n",
        "                         kernel_size=(5, 5), # kernel is usually a square so a tuple also works\n",
        "                         stride=2,\n",
        "                         padding=0)\n",
        "\n",
        "# Pass single image through new conv_layer_2 (this calls nn.Conv2d()'s forward() method on the input)\n",
        "conv_layer_2(test_image.unsqueeze(dim=0)).shape"
      ]
    },
    {
      "cell_type": "markdown",
      "metadata": {
        "id": "CmVwgv51or_y"
      },
      "source": [
        "Woah, we get another shape change.\n",
        "\n",
        "Now our image is of shape `[1, 10, 30, 30]` (it will be different if you use different values) or `[batch_size=1, color_channels=10, height=30, width=30]`.\n",
        "\n",
        "What's going on here?\n",
        "\n",
        "Behind the scenes, our `nn.Conv2d()` is compressing the information stored in the image.\n",
        "\n",
        "It does this by performing operations on the input (our test image) against its internal parameters.\n",
        "\n",
        "The goal of this is similar to all of the other neural networks we've been building.\n",
        "\n",
        "Data goes in and the layers try to update their internal parameters (patterns) to lower the loss function thanks to some help of the optimizer.\n",
        "\n",
        "The only difference is *how* the different layers calculate their parameter updates or in PyTorch terms, the operation present in the layer `forward()` method.\n",
        "\n",
        "If we check out our `conv_layer_2.state_dict()` we'll find a similar weight and bias setup as we've seen before."
      ]
    },
    {
      "cell_type": "code",
      "execution_count": 37,
      "metadata": {
        "id": "au88sgWEor_y",
        "outputId": "60dcc23f-0e59-4f6f-c17b-de998b930877",
        "colab": {
          "base_uri": "https://localhost:8080/"
        }
      },
      "outputs": [
        {
          "output_type": "stream",
          "name": "stdout",
          "text": [
            "OrderedDict([('weight', tensor([[[[ 0.0883,  0.0958, -0.0271,  0.1061, -0.0253],\n",
            "          [ 0.0233, -0.0562,  0.0678,  0.1018, -0.0847],\n",
            "          [ 0.1004,  0.0216,  0.0853,  0.0156,  0.0557],\n",
            "          [-0.0163,  0.0890,  0.0171, -0.0539,  0.0294],\n",
            "          [-0.0532, -0.0135, -0.0469,  0.0766, -0.0911]],\n",
            "\n",
            "         [[-0.0532, -0.0326, -0.0694,  0.0109, -0.1140],\n",
            "          [ 0.1043, -0.0981,  0.0891,  0.0192, -0.0375],\n",
            "          [ 0.0714,  0.0180,  0.0933,  0.0126, -0.0364],\n",
            "          [ 0.0310, -0.0313,  0.0486,  0.1031,  0.0667],\n",
            "          [-0.0505,  0.0667,  0.0207,  0.0586, -0.0704]],\n",
            "\n",
            "         [[-0.1143, -0.0446, -0.0886,  0.0947,  0.0333],\n",
            "          [ 0.0478,  0.0365, -0.0020,  0.0904, -0.0820],\n",
            "          [ 0.0073, -0.0788,  0.0356, -0.0398,  0.0354],\n",
            "          [-0.0241,  0.0958, -0.0684, -0.0689, -0.0689],\n",
            "          [ 0.1039,  0.0385,  0.1111, -0.0953, -0.1145]]],\n",
            "\n",
            "\n",
            "        [[[-0.0903, -0.0777,  0.0468,  0.0413,  0.0959],\n",
            "          [-0.0596, -0.0787,  0.0613, -0.0467,  0.0701],\n",
            "          [-0.0274,  0.0661, -0.0897, -0.0583,  0.0352],\n",
            "          [ 0.0244, -0.0294,  0.0688,  0.0785, -0.0837],\n",
            "          [-0.0616,  0.1057, -0.0390, -0.0409, -0.1117]],\n",
            "\n",
            "         [[-0.0661,  0.0288, -0.0152, -0.0838,  0.0027],\n",
            "          [-0.0789, -0.0980, -0.0636, -0.1011, -0.0735],\n",
            "          [ 0.1154,  0.0218,  0.0356, -0.1077, -0.0758],\n",
            "          [-0.0384,  0.0181, -0.1016, -0.0498, -0.0691],\n",
            "          [ 0.0003, -0.0430, -0.0080, -0.0782, -0.0793]],\n",
            "\n",
            "         [[-0.0674, -0.0395, -0.0911,  0.0968, -0.0229],\n",
            "          [ 0.0994,  0.0360, -0.0978,  0.0799, -0.0318],\n",
            "          [-0.0443, -0.0958, -0.1148,  0.0330, -0.0252],\n",
            "          [ 0.0450, -0.0948,  0.0857, -0.0848, -0.0199],\n",
            "          [ 0.0241,  0.0596,  0.0932,  0.1052, -0.0916]]],\n",
            "\n",
            "\n",
            "        [[[ 0.0291, -0.0497, -0.0127, -0.0864,  0.1052],\n",
            "          [-0.0847,  0.0617,  0.0406,  0.0375, -0.0624],\n",
            "          [ 0.1050,  0.0254,  0.0149, -0.1018,  0.0485],\n",
            "          [-0.0173, -0.0529,  0.0992,  0.0257, -0.0639],\n",
            "          [-0.0584, -0.0055,  0.0645, -0.0295, -0.0659]],\n",
            "\n",
            "         [[-0.0395, -0.0863,  0.0412,  0.0894, -0.1087],\n",
            "          [ 0.0268,  0.0597,  0.0209, -0.0411,  0.0603],\n",
            "          [ 0.0607,  0.0432, -0.0203, -0.0306,  0.0124],\n",
            "          [-0.0204, -0.0344,  0.0738,  0.0992, -0.0114],\n",
            "          [-0.0259,  0.0017, -0.0069,  0.0278,  0.0324]],\n",
            "\n",
            "         [[-0.1049, -0.0426,  0.0972,  0.0450, -0.0057],\n",
            "          [-0.0696, -0.0706, -0.1034, -0.0376,  0.0390],\n",
            "          [ 0.0736,  0.0533, -0.1021, -0.0694, -0.0182],\n",
            "          [ 0.1117,  0.0167, -0.0299,  0.0478, -0.0440],\n",
            "          [-0.0747,  0.0843, -0.0525, -0.0231, -0.1149]]],\n",
            "\n",
            "\n",
            "        [[[ 0.0773,  0.0875,  0.0421, -0.0805, -0.1140],\n",
            "          [-0.0938,  0.0861,  0.0554,  0.0972,  0.0605],\n",
            "          [ 0.0292, -0.0011, -0.0878, -0.0989, -0.1080],\n",
            "          [ 0.0473, -0.0567, -0.0232, -0.0665, -0.0210],\n",
            "          [-0.0813, -0.0754,  0.0383, -0.0343,  0.0713]],\n",
            "\n",
            "         [[-0.0370, -0.0847, -0.0204, -0.0560, -0.0353],\n",
            "          [-0.1099,  0.0646, -0.0804,  0.0580,  0.0524],\n",
            "          [ 0.0825, -0.0886,  0.0830, -0.0546,  0.0428],\n",
            "          [ 0.1084, -0.0163, -0.0009, -0.0266, -0.0964],\n",
            "          [ 0.0554, -0.1146,  0.0717,  0.0864,  0.1092]],\n",
            "\n",
            "         [[-0.0272, -0.0949,  0.0260,  0.0638, -0.1149],\n",
            "          [-0.0262, -0.0692, -0.0101, -0.0568, -0.0472],\n",
            "          [-0.0367, -0.1097,  0.0947,  0.0968, -0.0181],\n",
            "          [-0.0131, -0.0471, -0.1043, -0.1124,  0.0429],\n",
            "          [-0.0634, -0.0742, -0.0090, -0.0385, -0.0374]]],\n",
            "\n",
            "\n",
            "        [[[ 0.0037, -0.0245, -0.0398, -0.0553, -0.0940],\n",
            "          [ 0.0968, -0.0462,  0.0306, -0.0401,  0.0094],\n",
            "          [ 0.1077,  0.0532, -0.1001,  0.0458,  0.1096],\n",
            "          [ 0.0304,  0.0774,  0.1138, -0.0177,  0.0240],\n",
            "          [-0.0803, -0.0238,  0.0855,  0.0592, -0.0731]],\n",
            "\n",
            "         [[-0.0926, -0.0789, -0.1140, -0.0891, -0.0286],\n",
            "          [ 0.0779,  0.0193, -0.0878, -0.0926,  0.0574],\n",
            "          [-0.0859, -0.0142,  0.0554, -0.0534, -0.0126],\n",
            "          [-0.0101, -0.0273, -0.0585, -0.1029, -0.0933],\n",
            "          [-0.0618,  0.1115, -0.0558, -0.0775,  0.0280]],\n",
            "\n",
            "         [[ 0.0318,  0.0633,  0.0878,  0.0643, -0.1145],\n",
            "          [ 0.0102,  0.0699, -0.0107, -0.0680,  0.1101],\n",
            "          [-0.0432, -0.0657, -0.1041,  0.0052,  0.0512],\n",
            "          [ 0.0256,  0.0228, -0.0876, -0.1078,  0.0020],\n",
            "          [ 0.1053,  0.0666, -0.0672, -0.0150, -0.0851]]],\n",
            "\n",
            "\n",
            "        [[[-0.0557,  0.0209,  0.0629,  0.0957, -0.1060],\n",
            "          [ 0.0772, -0.0814,  0.0432,  0.0977,  0.0016],\n",
            "          [ 0.1051, -0.0984, -0.0441,  0.0673, -0.0252],\n",
            "          [-0.0236, -0.0481,  0.0796,  0.0566,  0.0370],\n",
            "          [-0.0649, -0.0937,  0.0125,  0.0342, -0.0533]],\n",
            "\n",
            "         [[-0.0323,  0.0780,  0.0092,  0.0052, -0.0284],\n",
            "          [-0.1046, -0.1086, -0.0552, -0.0587,  0.0360],\n",
            "          [-0.0336, -0.0452,  0.1101,  0.0402,  0.0823],\n",
            "          [-0.0559, -0.0472,  0.0424, -0.0769, -0.0755],\n",
            "          [-0.0056, -0.0422, -0.0866,  0.0685,  0.0929]],\n",
            "\n",
            "         [[ 0.0187, -0.0201, -0.1070, -0.0421,  0.0294],\n",
            "          [ 0.0544, -0.0146, -0.0457,  0.0643, -0.0920],\n",
            "          [ 0.0730, -0.0448,  0.0018, -0.0228,  0.0140],\n",
            "          [-0.0349,  0.0840, -0.0030,  0.0901,  0.1110],\n",
            "          [-0.0563, -0.0842,  0.0926,  0.0905, -0.0882]]],\n",
            "\n",
            "\n",
            "        [[[-0.0089, -0.1139, -0.0945,  0.0223,  0.0307],\n",
            "          [ 0.0245, -0.0314,  0.1065,  0.0165, -0.0681],\n",
            "          [-0.0065,  0.0277,  0.0404, -0.0816,  0.0433],\n",
            "          [-0.0590, -0.0959, -0.0631,  0.1114,  0.0987],\n",
            "          [ 0.1034,  0.0678,  0.0872, -0.0155, -0.0635]],\n",
            "\n",
            "         [[ 0.0577, -0.0598, -0.0779, -0.0369,  0.0242],\n",
            "          [ 0.0594, -0.0448, -0.0680,  0.0156, -0.0681],\n",
            "          [-0.0752,  0.0602, -0.0194,  0.1055,  0.1123],\n",
            "          [ 0.0345,  0.0397,  0.0266,  0.0018, -0.0084],\n",
            "          [ 0.0016,  0.0431,  0.1074, -0.0299, -0.0488]],\n",
            "\n",
            "         [[-0.0280, -0.0558,  0.0196,  0.0862,  0.0903],\n",
            "          [ 0.0530, -0.0850, -0.0620, -0.0254, -0.0213],\n",
            "          [ 0.0095, -0.1060,  0.0359, -0.0881, -0.0731],\n",
            "          [-0.0960,  0.1006, -0.1093,  0.0871, -0.0039],\n",
            "          [-0.0134,  0.0722, -0.0107,  0.0724,  0.0835]]],\n",
            "\n",
            "\n",
            "        [[[-0.1003,  0.0444,  0.0218,  0.0248,  0.0169],\n",
            "          [ 0.0316, -0.0555, -0.0148,  0.1097,  0.0776],\n",
            "          [-0.0043, -0.1086,  0.0051, -0.0786,  0.0939],\n",
            "          [-0.0701, -0.0083, -0.0256,  0.0205,  0.1087],\n",
            "          [ 0.0110,  0.0669,  0.0896,  0.0932, -0.0399]],\n",
            "\n",
            "         [[-0.0258,  0.0556, -0.0315,  0.0541, -0.0252],\n",
            "          [-0.0783,  0.0470,  0.0177,  0.0515,  0.1147],\n",
            "          [ 0.0788,  0.1095,  0.0062, -0.0993, -0.0810],\n",
            "          [-0.0717, -0.1018, -0.0579, -0.1063, -0.1065],\n",
            "          [-0.0690, -0.1138, -0.0709,  0.0440,  0.0963]],\n",
            "\n",
            "         [[-0.0343, -0.0336,  0.0617, -0.0570, -0.0546],\n",
            "          [ 0.0711, -0.1006,  0.0141,  0.1020,  0.0198],\n",
            "          [ 0.0314, -0.0672, -0.0016,  0.0063,  0.0283],\n",
            "          [ 0.0449,  0.1003, -0.0881,  0.0035, -0.0577],\n",
            "          [-0.0913, -0.0092, -0.1016,  0.0806,  0.0134]]],\n",
            "\n",
            "\n",
            "        [[[-0.0622,  0.0603, -0.1093, -0.0447, -0.0225],\n",
            "          [-0.0981, -0.0734, -0.0188,  0.0876,  0.1115],\n",
            "          [ 0.0735, -0.0689, -0.0755,  0.1008,  0.0408],\n",
            "          [ 0.0031,  0.0156, -0.0928, -0.0386,  0.1112],\n",
            "          [-0.0285, -0.0058, -0.0959, -0.0646, -0.0024]],\n",
            "\n",
            "         [[-0.0717, -0.0143,  0.0470, -0.1130,  0.0343],\n",
            "          [-0.0763, -0.0564,  0.0443,  0.0918, -0.0316],\n",
            "          [-0.0474, -0.1044, -0.0595, -0.1011, -0.0264],\n",
            "          [ 0.0236, -0.1082,  0.1008,  0.0724, -0.1130],\n",
            "          [-0.0552,  0.0377, -0.0237, -0.0126, -0.0521]],\n",
            "\n",
            "         [[ 0.0927, -0.0645,  0.0958,  0.0075,  0.0232],\n",
            "          [ 0.0901, -0.0190, -0.0657, -0.0187,  0.0937],\n",
            "          [-0.0857,  0.0262, -0.1135,  0.0605,  0.0427],\n",
            "          [ 0.0049,  0.0496,  0.0001,  0.0639, -0.0914],\n",
            "          [-0.0170,  0.0512,  0.1150,  0.0588, -0.0840]]],\n",
            "\n",
            "\n",
            "        [[[ 0.0888, -0.0257, -0.0247, -0.1050, -0.0182],\n",
            "          [ 0.0817,  0.0161, -0.0673,  0.0355, -0.0370],\n",
            "          [ 0.1054, -0.1002, -0.0365, -0.1115, -0.0455],\n",
            "          [ 0.0364,  0.1112,  0.0194,  0.1132,  0.0226],\n",
            "          [ 0.0667,  0.0926,  0.0965, -0.0646,  0.1062]],\n",
            "\n",
            "         [[ 0.0699, -0.0540, -0.0551, -0.0969,  0.0290],\n",
            "          [-0.0936,  0.0488,  0.0365, -0.1003,  0.0315],\n",
            "          [-0.0094,  0.0527,  0.0663, -0.1148,  0.1059],\n",
            "          [ 0.0968,  0.0459, -0.1055, -0.0412, -0.0335],\n",
            "          [-0.0297,  0.0651,  0.0420,  0.0915, -0.0432]],\n",
            "\n",
            "         [[ 0.0389,  0.0411, -0.0961, -0.1120, -0.0599],\n",
            "          [ 0.0790, -0.1087, -0.1005,  0.0647,  0.0623],\n",
            "          [ 0.0950, -0.0872, -0.0845,  0.0592,  0.1004],\n",
            "          [ 0.0691,  0.0181,  0.0381,  0.1096, -0.0745],\n",
            "          [-0.0524,  0.0808, -0.0790, -0.0637,  0.0843]]]])), ('bias', tensor([ 0.0364,  0.0373, -0.0489, -0.0016,  0.1057, -0.0693,  0.0009,  0.0549,\n",
            "        -0.0797,  0.1121]))])\n"
          ]
        }
      ],
      "source": [
        "# Check out the conv_layer_2 internal parameters\n",
        "print(conv_layer_2.state_dict())"
      ]
    },
    {
      "cell_type": "markdown",
      "metadata": {
        "id": "ZRyEU-HPor_y"
      },
      "source": [
        "Look at that! A bunch of random numbers for a weight and bias tensor.\n",
        "\n",
        "The shapes of these are manipulated by the inputs we passed to `nn.Conv2d()` when we set it up.\n",
        "\n",
        "Let's check them out."
      ]
    },
    {
      "cell_type": "code",
      "execution_count": 38,
      "metadata": {
        "id": "NBT9vb5Lor_y",
        "outputId": "33a8c1ea-9d55-46fa-e9ce-fe477a353794",
        "colab": {
          "base_uri": "https://localhost:8080/"
        }
      },
      "outputs": [
        {
          "output_type": "stream",
          "name": "stdout",
          "text": [
            "conv_layer_2 weight shape: \n",
            "torch.Size([10, 3, 5, 5]) -> [out_channels=10, in_channels=3, kernel_size=5, kernel_size=5]\n",
            "\n",
            "conv_layer_2 bias shape: \n",
            "torch.Size([10]) -> [out_channels=10]\n"
          ]
        }
      ],
      "source": [
        "# Get shapes of weight and bias tensors within conv_layer_2\n",
        "print(f\"conv_layer_2 weight shape: \\n{conv_layer_2.weight.shape} -> [out_channels=10, in_channels=3, kernel_size=5, kernel_size=5]\")\n",
        "print(f\"\\nconv_layer_2 bias shape: \\n{conv_layer_2.bias.shape} -> [out_channels=10]\")"
      ]
    },
    {
      "cell_type": "markdown",
      "metadata": {
        "id": "Rg9xzJynor_y"
      },
      "source": [
        "> **Question:** What should we set the parameters of our `nn.Conv2d()` layers?\n",
        ">\n",
        "> That's a good one. But similar to many other things in machine learning, the values of these aren't set in stone (and recall, because these values are ones we can set ourselves, they're referred to as \"**hyperparameters**\"). \n",
        ">\n",
        "> The best way to find out is to try out different values and see how they effect your model's performance.\n",
        ">\n",
        "> Or even better, find a working example on a problem similar to yours (like we've done with TinyVGG) and copy it. \n",
        "\n",
        "We're working with a different of layer here to what we've seen before.\n",
        "\n",
        "But the premise remains the same: start with random numbers and update them to better represent the data.\n",
        "\n",
        "Now let's check out what happens when we move data through `nn.MaxPool2d()`.\n",
        "\n",
        "TK image - convnet architecture -> kernels learn features -> max pool compresses -> trying to learn the most compressed representation of the data possible -> intelligence = compression"
      ]
    },
    {
      "cell_type": "code",
      "execution_count": 39,
      "metadata": {
        "id": "iY0mhWjQor_y",
        "outputId": "d1a95875-3107-4564-d184-fc6183637c71",
        "colab": {
          "base_uri": "https://localhost:8080/"
        }
      },
      "outputs": [
        {
          "output_type": "stream",
          "name": "stdout",
          "text": [
            "Test image original shape: torch.Size([3, 64, 64])\n",
            "Test image with unsqueezed dimension: torch.Size([1, 3, 64, 64])\n",
            "Shape after going through conv_layer(): torch.Size([1, 10, 62, 62])\n",
            "Shape after going through conv_layer() and max_pool_layer(): torch.Size([1, 10, 31, 31])\n"
          ]
        }
      ],
      "source": [
        "# Print out original image shape without and with unsqueezed dimension\n",
        "print(f\"Test image original shape: {test_image.shape}\")\n",
        "print(f\"Test image with unsqueezed dimension: {test_image.unsqueeze(dim=0).shape}\")\n",
        "\n",
        "# Create a sample nn.MaxPoo2d() layer\n",
        "max_pool_layer = nn.MaxPool2d(kernel_size=2)\n",
        "\n",
        "# Pass data through just the conv_layer\n",
        "test_image_through_conv = conv_layer(test_image.unsqueeze(dim=0))\n",
        "print(f\"Shape after going through conv_layer(): {test_image_through_conv.shape}\")\n",
        "\n",
        "# Pass data through the max pool layer\n",
        "test_image_through_conv_and_max_pool = max_pool_layer(test_image_through_conv)\n",
        "print(f\"Shape after going through conv_layer() and max_pool_layer(): {test_image_through_conv_and_max_pool.shape}\")"
      ]
    },
    {
      "cell_type": "markdown",
      "metadata": {
        "id": "vumVHHRVor_y"
      },
      "source": [
        "Notice the change in the shapes of what's happening in and out of a `nn.MaxPool2d()` layer.\n",
        "\n",
        "The `kernel_size` of the `nn.MaxPool2d()` layer will effects the size of the output shape.\n",
        "\n",
        "In our case, the shape halves from a `62x62` image to `31x31` image.\n",
        "\n",
        "Let's see this work with a smaller tensor."
      ]
    },
    {
      "cell_type": "code",
      "execution_count": 40,
      "metadata": {
        "id": "O3fW2FdAor_z",
        "outputId": "ce77198f-4e4d-4774-c179-33efa217870a",
        "colab": {
          "base_uri": "https://localhost:8080/"
        }
      },
      "outputs": [
        {
          "output_type": "stream",
          "name": "stdout",
          "text": [
            "Random tensor:\n",
            "tensor([[[[0.3367, 0.1288],\n",
            "          [0.2345, 0.2303]]]])\n",
            "Random tensor shape: torch.Size([1, 1, 2, 2])\n",
            "\n",
            "Max pool tensor:\n",
            "tensor([[[[0.3367]]]]) <- this is the maximum value from random_tensor\n",
            "Max pool tensor shape: torch.Size([1, 1, 1, 1])\n"
          ]
        }
      ],
      "source": [
        "torch.manual_seed(42)\n",
        "# Create a random tensor with a similiar number of dimensions to our images\n",
        "random_tensor = torch.randn(size=(1, 1, 2, 2))\n",
        "print(f\"Random tensor:\\n{random_tensor}\")\n",
        "print(f\"Random tensor shape: {random_tensor.shape}\")\n",
        "\n",
        "# Create a max pool layer\n",
        "max_pool_layer = nn.MaxPool2d(kernel_size=2) # see what happens when you change the kernel_size value \n",
        "\n",
        "# Pass the random tensor through the max pool layer\n",
        "max_pool_tensor = max_pool_layer(random_tensor)\n",
        "print(f\"\\nMax pool tensor:\\n{max_pool_tensor} <- this is the maximum value from random_tensor\")\n",
        "print(f\"Max pool tensor shape: {max_pool_tensor.shape}\")"
      ]
    },
    {
      "cell_type": "markdown",
      "source": [
        "Notice the final two dimensions between `random_tensor` and `max_pool_tensor`, they go from `[2, 2]` to `[1, 1]`.\n",
        "\n",
        "In essence, they get halved.\n",
        "\n",
        "And the change would be different for different values of `kernel_size` for `nn.MaxPool2d()`.\n",
        "\n",
        "Also notice the value leftover in `max_pool_tensor` is the **maximum** value from `random_tensor`.\n",
        "\n",
        "What's happening here?\n",
        "\n",
        "This is another important piece of the puzzle of neural networks.\n",
        "\n",
        "Essentially, **every layer in a neural network is trying to compress data from higher dimensional space to lower dimensional space**. \n",
        "\n",
        "In other words, take a lot of numbers (raw data) and learn patterns in those numbers, patterns that are predictive whilst also being *smaller* in size than the original values.\n",
        "\n",
        "From an artificial intellgience perspective, you could consider the whole goal of a neural network to *compress* information.\n",
        "\n",
        "TK image - make image of data going in and smaller and smaller dimensional representations being created per layer\n",
        "\n",
        "This means, that from the point of view of a neural network, intelligence is compression.\n",
        "\n",
        "This is the idea of the use of a `nn.MaxPool2d()` layer: take the maximum value from a portion of a tensor and disregard the rest.\n",
        "\n",
        "In essence, lowering the dimensionality of a tensor whilst still retaining a (hopefully) significant portion of the information.\n",
        "\n",
        "It is the same story for a `nn.Conv2d()` layer.\n",
        "\n",
        "Except instead of just taking the maximum, the `nn.Conv2d()` performs a conovlutional operation on the data (see this in action on the [CNN Explainer webpage](https://poloclub.github.io/cnn-explainer/)).\n",
        "\n",
        "> **Exercise:** What do you think the [`nn.AvgPool2d()`](https://pytorch.org/docs/stable/generated/torch.nn.AvgPool2d.html) layer does? Try making a random tensor like we did above and passing it through. Check the input and output shapes as well as the input and output values.\n",
        "\n",
        "> **Extra-curriculum:** Lookup \"most common convolutional neural networks\", what architectures do you find? Are any of them contained within the [`torchvision.models`](https://pytorch.org/vision/stable/models.html) library? What do you think you could do with these?"
      ],
      "metadata": {
        "id": "z0bPUWOOrQGf"
      }
    },
    {
      "cell_type": "markdown",
      "metadata": {
        "id": "wnklhWU-or_z"
      },
      "source": [
        "### TK - 7.2 Setup a loss function and optimizer\n",
        "\n",
        "We've stepped through the layers in our first CNN enough.\n",
        "\n",
        "But remember, if something still isn't clear, try starting small.\n",
        "\n",
        "Pick a single layer of a model, pass some data through it and see what happens.\n",
        "\n",
        "Now it's time to move forward and get to training!\n",
        "\n",
        "Let's setup a loss function and an optimizer.\n",
        "\n",
        "We'll use the functions as before, `nn.CrossEntropyLoss()` as the loss function (since we're working with multi-class classification data).\n",
        "\n",
        "And `torch.optim.SGD()` as the optimizer to optimize `model_2.parameters()` with a learning rate of `0.1`."
      ]
    },
    {
      "cell_type": "code",
      "execution_count": 41,
      "metadata": {
        "id": "37JrFK62or_z"
      },
      "outputs": [],
      "source": [
        "# Setup loss and optimizer\n",
        "loss_fn = nn.CrossEntropyLoss()\n",
        "optimizer = torch.optim.SGD(params=model_2.parameters(), \n",
        "                             lr=0.1)"
      ]
    },
    {
      "cell_type": "markdown",
      "source": [
        "### 7.3 Training and testing model_2 using our training and test functions\n",
        "\n",
        "Loss and optimizer ready!\n",
        "\n",
        "Time to train and test.\n",
        "\n",
        "We'll use our `train_step()` and `test_step()` functions we created before.\n",
        "\n",
        "We'll also measure the time to compare it to our other models."
      ],
      "metadata": {
        "id": "6BM3oe3Vv0v2"
      }
    },
    {
      "cell_type": "code",
      "execution_count": 42,
      "metadata": {
        "id": "3uSvrD71or_z",
        "outputId": "dc3d96ef-83ae-4cca-a99a-2173230cfb74",
        "colab": {
          "base_uri": "https://localhost:8080/"
        }
      },
      "outputs": [
        {
          "output_type": "stream",
          "name": "stdout",
          "text": [
            "Epoch: 0\n",
            "---------\n",
            "Train loss: 0.47664 | Train accuracy: 83.43%\n",
<<<<<<< HEAD
            "Test loss: 0.40319 | Test accuracy: 85.48%\n",
=======
            "Test loss: 0.39590 | Test accuracy: 85.63%\n",
>>>>>>> ced4c0c328dba7b3160641718ace34dce8665246
            "\n",
            "Epoch: 1\n",
            "---------\n",
            "Train loss: 0.47664 | Train accuracy: 83.43%\n",
<<<<<<< HEAD
            "Test loss: 0.35679 | Test accuracy: 86.71%\n",
=======
            "Test loss: 0.35203 | Test accuracy: 86.68%\n",
>>>>>>> ced4c0c328dba7b3160641718ace34dce8665246
            "\n",
            "Epoch: 2\n",
            "---------\n",
            "Train loss: 0.47664 | Train accuracy: 83.43%\n",
<<<<<<< HEAD
            "Test loss: 0.32788 | Test accuracy: 87.88%\n",
            "\n",
            "Train time on cuda: 22.162 seconds\n"
=======
            "Test loss: 0.32786 | Test accuracy: 88.30%\n",
            "\n",
            "Train time on cuda: 33.595 seconds\n"
>>>>>>> ced4c0c328dba7b3160641718ace34dce8665246
          ]
        }
      ],
      "source": [
        "torch.manual_seed(42)\n",
        "\n",
        "# Measure time\n",
        "from timeit import default_timer as timer\n",
        "train_time_start_model_2 = timer()\n",
        "\n",
        "# Train and test model \n",
        "epochs = 3\n",
        "for epoch in range(epochs):\n",
        "    print(f\"Epoch: {epoch}\\n---------\")\n",
        "    train_step(data_loader=train_dataloader, \n",
        "        model=model_2, \n",
        "        loss_fn=loss_fn,\n",
        "        optimizer=optimizer,\n",
        "        accuracy_fn=accuracy_fn,\n",
        "        device=device\n",
        "    )\n",
        "    test_step(data_loader=test_dataloader,\n",
        "        model=model_2,\n",
        "        loss_fn=loss_fn,\n",
        "        accuracy_fn=accuracy_fn,\n",
        "        device=device\n",
        "    )\n",
        "\n",
        "train_time_end_model_2 = timer()\n",
        "total_train_time_model_2 = print_train_time(start=train_time_start_model_2,\n",
        "                                           end=train_time_end_model_2,\n",
        "                                           device=device)"
      ]
    },
    {
      "cell_type": "markdown",
      "source": [
        "Woah! Looks like the convolutional and max pooling layers helped improve performance a little.\n",
        "\n",
        "Let's evaluate `model_2`'s results with our `eval_model()` function."
      ],
      "metadata": {
        "id": "4kicGrI4xAD4"
      }
    },
    {
      "cell_type": "code",
      "execution_count": 43,
      "metadata": {
        "id": "jgcLKasGor_z",
        "outputId": "d27395bc-a587-4672-b5f3-84fe732eeec0",
        "colab": {
          "base_uri": "https://localhost:8080/"
        }
      },
      "outputs": [
        {
          "output_type": "execute_result",
          "data": {
            "text/plain": [
<<<<<<< HEAD
              "{'model_name': 'FashionMNISTModelV2',\n",
              " 'model_loss': 0.3278839588165283,\n",
              " 'model_acc': 87.879392971246}"
=======
              "{'model_acc': 88.29872204472844,\n",
              " 'model_loss': 0.32786309719085693,\n",
              " 'model_name': 'FashionMNISTModelV2'}"
>>>>>>> ced4c0c328dba7b3160641718ace34dce8665246
            ]
          },
          "metadata": {},
          "execution_count": 43
        }
      ],
      "source": [
        "# Get model_2 results \n",
        "model_2_results = eval_model(\n",
        "    model=model_2,\n",
        "    data_loader=test_dataloader,\n",
        "    loss_fn=loss_fn,\n",
        "    accuracy_fn=accuracy_fn\n",
        ")\n",
        "model_2_results"
      ]
    },
    {
      "cell_type": "markdown",
      "metadata": {
        "id": "YeQNUElWor_z"
      },
      "source": [
        "## TK - 8. Compare model results and training time\n",
        "\n",
        "We've trained three different models.\n",
        "\n",
        "1. `model_0` - our baseline model with two `nn.Linear()` layers.\n",
        "2. `model_1` - the same setup as our baseline model except with `nn.ReLU()` layers in between the `nn.Linear()` layers.\n",
        "3. `model_2` - our first CNN model that mimics the TinyVGG architecture on the CNN Explainer website.\n",
        "\n",
        "This is a regular practice in machine learning.\n",
        "\n",
        "Building multiple models and performing multiple training experiments to see which performs best.\n",
        "\n",
        "Let's combine our model results dictionaries into a DataFrame and find out."
      ]
    },
    {
      "cell_type": "code",
      "execution_count": 44,
      "metadata": {
        "id": "BEXIA9Ilor_z",
        "outputId": "89a42cbb-fb7b-4a91-8783-c3e3603b3a6c",
        "colab": {
          "base_uri": "https://localhost:8080/",
          "height": 143
        }
      },
      "outputs": [
        {
          "output_type": "execute_result",
          "data": {
            "text/plain": [
              "            model_name  model_loss  model_acc\n",
              "0  FashionMNISTModelV0    0.476639  83.426518\n",
              "1  FashionMNISTModelV1    0.685001  75.019968\n",
              "2  FashionMNISTModelV2    0.327863  88.298722"
            ],
            "text/html": [
<<<<<<< HEAD
              "<div>\n",
=======
              "\n",
              "  <div id=\"df-2de4c2d4-dc8a-4441-9ec7-f08a75340679\">\n",
              "    <div class=\"colab-df-container\">\n",
              "      <div>\n",
>>>>>>> ced4c0c328dba7b3160641718ace34dce8665246
              "<style scoped>\n",
              "    .dataframe tbody tr th:only-of-type {\n",
              "        vertical-align: middle;\n",
              "    }\n",
              "\n",
              "    .dataframe tbody tr th {\n",
              "        vertical-align: top;\n",
              "    }\n",
              "\n",
              "    .dataframe thead th {\n",
              "        text-align: right;\n",
              "    }\n",
              "</style>\n",
              "<table border=\"1\" class=\"dataframe\">\n",
              "  <thead>\n",
              "    <tr style=\"text-align: right;\">\n",
              "      <th></th>\n",
              "      <th>model_name</th>\n",
              "      <th>model_loss</th>\n",
              "      <th>model_acc</th>\n",
              "    </tr>\n",
              "  </thead>\n",
              "  <tbody>\n",
              "    <tr>\n",
              "      <th>0</th>\n",
              "      <td>FashionMNISTModelV0</td>\n",
              "      <td>0.476639</td>\n",
              "      <td>83.426518</td>\n",
              "    </tr>\n",
              "    <tr>\n",
              "      <th>1</th>\n",
              "      <td>FashionMNISTModelV1</td>\n",
              "      <td>0.685001</td>\n",
              "      <td>75.019968</td>\n",
              "    </tr>\n",
              "    <tr>\n",
              "      <th>2</th>\n",
              "      <td>FashionMNISTModelV2</td>\n",
<<<<<<< HEAD
              "      <td>0.327884</td>\n",
              "      <td>87.879393</td>\n",
              "    </tr>\n",
              "  </tbody>\n",
              "</table>\n",
              "</div>"
            ],
            "text/plain": [
              "            model_name  model_loss  model_acc\n",
              "0  FashionMNISTModelV0    0.476639  83.426518\n",
              "1  FashionMNISTModelV1    0.685001  75.019968\n",
              "2  FashionMNISTModelV2    0.327884  87.879393"
=======
              "      <td>0.327863</td>\n",
              "      <td>88.298722</td>\n",
              "    </tr>\n",
              "  </tbody>\n",
              "</table>\n",
              "</div>\n",
              "      <button class=\"colab-df-convert\" onclick=\"convertToInteractive('df-2de4c2d4-dc8a-4441-9ec7-f08a75340679')\"\n",
              "              title=\"Convert this dataframe to an interactive table.\"\n",
              "              style=\"display:none;\">\n",
              "        \n",
              "  <svg xmlns=\"http://www.w3.org/2000/svg\" height=\"24px\"viewBox=\"0 0 24 24\"\n",
              "       width=\"24px\">\n",
              "    <path d=\"M0 0h24v24H0V0z\" fill=\"none\"/>\n",
              "    <path d=\"M18.56 5.44l.94 2.06.94-2.06 2.06-.94-2.06-.94-.94-2.06-.94 2.06-2.06.94zm-11 1L8.5 8.5l.94-2.06 2.06-.94-2.06-.94L8.5 2.5l-.94 2.06-2.06.94zm10 10l.94 2.06.94-2.06 2.06-.94-2.06-.94-.94-2.06-.94 2.06-2.06.94z\"/><path d=\"M17.41 7.96l-1.37-1.37c-.4-.4-.92-.59-1.43-.59-.52 0-1.04.2-1.43.59L10.3 9.45l-7.72 7.72c-.78.78-.78 2.05 0 2.83L4 21.41c.39.39.9.59 1.41.59.51 0 1.02-.2 1.41-.59l7.78-7.78 2.81-2.81c.8-.78.8-2.07 0-2.86zM5.41 20L4 18.59l7.72-7.72 1.47 1.35L5.41 20z\"/>\n",
              "  </svg>\n",
              "      </button>\n",
              "      \n",
              "  <style>\n",
              "    .colab-df-container {\n",
              "      display:flex;\n",
              "      flex-wrap:wrap;\n",
              "      gap: 12px;\n",
              "    }\n",
              "\n",
              "    .colab-df-convert {\n",
              "      background-color: #E8F0FE;\n",
              "      border: none;\n",
              "      border-radius: 50%;\n",
              "      cursor: pointer;\n",
              "      display: none;\n",
              "      fill: #1967D2;\n",
              "      height: 32px;\n",
              "      padding: 0 0 0 0;\n",
              "      width: 32px;\n",
              "    }\n",
              "\n",
              "    .colab-df-convert:hover {\n",
              "      background-color: #E2EBFA;\n",
              "      box-shadow: 0px 1px 2px rgba(60, 64, 67, 0.3), 0px 1px 3px 1px rgba(60, 64, 67, 0.15);\n",
              "      fill: #174EA6;\n",
              "    }\n",
              "\n",
              "    [theme=dark] .colab-df-convert {\n",
              "      background-color: #3B4455;\n",
              "      fill: #D2E3FC;\n",
              "    }\n",
              "\n",
              "    [theme=dark] .colab-df-convert:hover {\n",
              "      background-color: #434B5C;\n",
              "      box-shadow: 0px 1px 3px 1px rgba(0, 0, 0, 0.15);\n",
              "      filter: drop-shadow(0px 1px 2px rgba(0, 0, 0, 0.3));\n",
              "      fill: #FFFFFF;\n",
              "    }\n",
              "  </style>\n",
              "\n",
              "      <script>\n",
              "        const buttonEl =\n",
              "          document.querySelector('#df-2de4c2d4-dc8a-4441-9ec7-f08a75340679 button.colab-df-convert');\n",
              "        buttonEl.style.display =\n",
              "          google.colab.kernel.accessAllowed ? 'block' : 'none';\n",
              "\n",
              "        async function convertToInteractive(key) {\n",
              "          const element = document.querySelector('#df-2de4c2d4-dc8a-4441-9ec7-f08a75340679');\n",
              "          const dataTable =\n",
              "            await google.colab.kernel.invokeFunction('convertToInteractive',\n",
              "                                                     [key], {});\n",
              "          if (!dataTable) return;\n",
              "\n",
              "          const docLinkHtml = 'Like what you see? Visit the ' +\n",
              "            '<a target=\"_blank\" href=https://colab.research.google.com/notebooks/data_table.ipynb>data table notebook</a>'\n",
              "            + ' to learn more about interactive tables.';\n",
              "          element.innerHTML = '';\n",
              "          dataTable['output_type'] = 'display_data';\n",
              "          await google.colab.output.renderOutput(dataTable, element);\n",
              "          const docLink = document.createElement('div');\n",
              "          docLink.innerHTML = docLinkHtml;\n",
              "          element.appendChild(docLink);\n",
              "        }\n",
              "      </script>\n",
              "    </div>\n",
              "  </div>\n",
              "  "
>>>>>>> ced4c0c328dba7b3160641718ace34dce8665246
            ]
          },
          "metadata": {},
          "execution_count": 44
        }
      ],
      "source": [
        "import pandas as pd\n",
        "compare_results = pd.DataFrame([model_0_results, model_1_results, model_2_results])\n",
        "compare_results"
      ]
    },
    {
      "cell_type": "markdown",
      "source": [
        "Nice!\n",
        "\n",
        "We can add the training time values too."
      ],
      "metadata": {
        "id": "iTAzrRify-Xu"
      }
    },
    {
      "cell_type": "code",
<<<<<<< HEAD
      "execution_count": 45,
=======
      "source": [
        "compare_results[\"training_time\"] = [total_train_time_model_0,\n",
        "                                    total_train_time_model_1,\n",
        "                                    total_train_time_model_2]\n",
        "compare_results"
      ],
>>>>>>> ced4c0c328dba7b3160641718ace34dce8665246
      "metadata": {
        "colab": {
          "base_uri": "https://localhost:8080/",
          "height": 143
        },
        "id": "qIyhRyyGyPmo",
        "outputId": "3791d34d-baba-4ea8-98a4-94c6dabc20e8"
      },
      "execution_count": null,
      "outputs": [
        {
          "output_type": "execute_result",
          "data": {
            "text/plain": [
              "            model_name  model_loss  model_acc  training_time\n",
              "0  FashionMNISTModelV0    0.476639  83.426518      17.146744\n",
              "1  FashionMNISTModelV1    0.685001  75.019968      20.058520\n",
              "2  FashionMNISTModelV2    0.327863  88.298722      33.595008"
            ],
            "text/html": [
<<<<<<< HEAD
              "<div>\n",
=======
              "\n",
              "  <div id=\"df-79fbd52c-791b-417c-b23a-ac1a0c1d2bf3\">\n",
              "    <div class=\"colab-df-container\">\n",
              "      <div>\n",
>>>>>>> ced4c0c328dba7b3160641718ace34dce8665246
              "<style scoped>\n",
              "    .dataframe tbody tr th:only-of-type {\n",
              "        vertical-align: middle;\n",
              "    }\n",
              "\n",
              "    .dataframe tbody tr th {\n",
              "        vertical-align: top;\n",
              "    }\n",
              "\n",
              "    .dataframe thead th {\n",
              "        text-align: right;\n",
              "    }\n",
              "</style>\n",
              "<table border=\"1\" class=\"dataframe\">\n",
              "  <thead>\n",
              "    <tr style=\"text-align: right;\">\n",
              "      <th></th>\n",
              "      <th>model_name</th>\n",
              "      <th>model_loss</th>\n",
              "      <th>model_acc</th>\n",
              "      <th>training_time</th>\n",
              "    </tr>\n",
              "  </thead>\n",
              "  <tbody>\n",
              "    <tr>\n",
              "      <th>0</th>\n",
              "      <td>FashionMNISTModelV0</td>\n",
              "      <td>0.476639</td>\n",
              "      <td>83.426518</td>\n",
<<<<<<< HEAD
              "      <td>15.997512</td>\n",
=======
              "      <td>17.146744</td>\n",
>>>>>>> ced4c0c328dba7b3160641718ace34dce8665246
              "    </tr>\n",
              "    <tr>\n",
              "      <th>1</th>\n",
              "      <td>FashionMNISTModelV1</td>\n",
              "      <td>0.685001</td>\n",
              "      <td>75.019968</td>\n",
<<<<<<< HEAD
              "      <td>17.878385</td>\n",
=======
              "      <td>20.058520</td>\n",
>>>>>>> ced4c0c328dba7b3160641718ace34dce8665246
              "    </tr>\n",
              "    <tr>\n",
              "      <th>2</th>\n",
              "      <td>FashionMNISTModelV2</td>\n",
<<<<<<< HEAD
              "      <td>0.327884</td>\n",
              "      <td>87.879393</td>\n",
              "      <td>22.162291</td>\n",
              "    </tr>\n",
              "  </tbody>\n",
              "</table>\n",
              "</div>"
            ],
            "text/plain": [
              "            model_name  model_loss  model_acc  training_time\n",
              "0  FashionMNISTModelV0    0.476639  83.426518      15.997512\n",
              "1  FashionMNISTModelV1    0.685001  75.019968      17.878385\n",
              "2  FashionMNISTModelV2    0.327884  87.879393      22.162291"
=======
              "      <td>0.327863</td>\n",
              "      <td>88.298722</td>\n",
              "      <td>33.595008</td>\n",
              "    </tr>\n",
              "  </tbody>\n",
              "</table>\n",
              "</div>\n",
              "      <button class=\"colab-df-convert\" onclick=\"convertToInteractive('df-79fbd52c-791b-417c-b23a-ac1a0c1d2bf3')\"\n",
              "              title=\"Convert this dataframe to an interactive table.\"\n",
              "              style=\"display:none;\">\n",
              "        \n",
              "  <svg xmlns=\"http://www.w3.org/2000/svg\" height=\"24px\"viewBox=\"0 0 24 24\"\n",
              "       width=\"24px\">\n",
              "    <path d=\"M0 0h24v24H0V0z\" fill=\"none\"/>\n",
              "    <path d=\"M18.56 5.44l.94 2.06.94-2.06 2.06-.94-2.06-.94-.94-2.06-.94 2.06-2.06.94zm-11 1L8.5 8.5l.94-2.06 2.06-.94-2.06-.94L8.5 2.5l-.94 2.06-2.06.94zm10 10l.94 2.06.94-2.06 2.06-.94-2.06-.94-.94-2.06-.94 2.06-2.06.94z\"/><path d=\"M17.41 7.96l-1.37-1.37c-.4-.4-.92-.59-1.43-.59-.52 0-1.04.2-1.43.59L10.3 9.45l-7.72 7.72c-.78.78-.78 2.05 0 2.83L4 21.41c.39.39.9.59 1.41.59.51 0 1.02-.2 1.41-.59l7.78-7.78 2.81-2.81c.8-.78.8-2.07 0-2.86zM5.41 20L4 18.59l7.72-7.72 1.47 1.35L5.41 20z\"/>\n",
              "  </svg>\n",
              "      </button>\n",
              "      \n",
              "  <style>\n",
              "    .colab-df-container {\n",
              "      display:flex;\n",
              "      flex-wrap:wrap;\n",
              "      gap: 12px;\n",
              "    }\n",
              "\n",
              "    .colab-df-convert {\n",
              "      background-color: #E8F0FE;\n",
              "      border: none;\n",
              "      border-radius: 50%;\n",
              "      cursor: pointer;\n",
              "      display: none;\n",
              "      fill: #1967D2;\n",
              "      height: 32px;\n",
              "      padding: 0 0 0 0;\n",
              "      width: 32px;\n",
              "    }\n",
              "\n",
              "    .colab-df-convert:hover {\n",
              "      background-color: #E2EBFA;\n",
              "      box-shadow: 0px 1px 2px rgba(60, 64, 67, 0.3), 0px 1px 3px 1px rgba(60, 64, 67, 0.15);\n",
              "      fill: #174EA6;\n",
              "    }\n",
              "\n",
              "    [theme=dark] .colab-df-convert {\n",
              "      background-color: #3B4455;\n",
              "      fill: #D2E3FC;\n",
              "    }\n",
              "\n",
              "    [theme=dark] .colab-df-convert:hover {\n",
              "      background-color: #434B5C;\n",
              "      box-shadow: 0px 1px 3px 1px rgba(0, 0, 0, 0.15);\n",
              "      filter: drop-shadow(0px 1px 2px rgba(0, 0, 0, 0.3));\n",
              "      fill: #FFFFFF;\n",
              "    }\n",
              "  </style>\n",
              "\n",
              "      <script>\n",
              "        const buttonEl =\n",
              "          document.querySelector('#df-79fbd52c-791b-417c-b23a-ac1a0c1d2bf3 button.colab-df-convert');\n",
              "        buttonEl.style.display =\n",
              "          google.colab.kernel.accessAllowed ? 'block' : 'none';\n",
              "\n",
              "        async function convertToInteractive(key) {\n",
              "          const element = document.querySelector('#df-79fbd52c-791b-417c-b23a-ac1a0c1d2bf3');\n",
              "          const dataTable =\n",
              "            await google.colab.kernel.invokeFunction('convertToInteractive',\n",
              "                                                     [key], {});\n",
              "          if (!dataTable) return;\n",
              "\n",
              "          const docLinkHtml = 'Like what you see? Visit the ' +\n",
              "            '<a target=\"_blank\" href=https://colab.research.google.com/notebooks/data_table.ipynb>data table notebook</a>'\n",
              "            + ' to learn more about interactive tables.';\n",
              "          element.innerHTML = '';\n",
              "          dataTable['output_type'] = 'display_data';\n",
              "          await google.colab.output.renderOutput(dataTable, element);\n",
              "          const docLink = document.createElement('div');\n",
              "          docLink.innerHTML = docLinkHtml;\n",
              "          element.appendChild(docLink);\n",
              "        }\n",
              "      </script>\n",
              "    </div>\n",
              "  </div>\n",
              "  "
>>>>>>> ced4c0c328dba7b3160641718ace34dce8665246
            ]
          },
          "metadata": {},
          "execution_count": 45
        }
      ]
    },
    {
      "cell_type": "markdown",
      "source": [
        "It looks like our CNN (`FashionMNISTModelV2`) model performed the best (lowest loss, highest accuracy) but had the longest training time.\n",
        "\n",
        "And our baseline model (`FashionMNISTModelV0`) performed better than `model_1` (`FashionMNISTModelV1`) but took longer to train (this is likely because we used a CPU to train `model_0` but a GPU to train `model_1`).\n",
        "\n",
        "The tradeoffs here are known as the **performance-speed** tradeoff.\n",
        "\n",
        "Generally, you get better performance out of a larger, more complex model (like we did with `model_2`).\n",
        "\n",
        "However, this performance increase often comes at a sacrifice of training speed and inference speed.\n",
        "\n",
        "\n",
        "> **Note:** The training times you get will be very dependant on the hardware you use. \n",
        ">\n",
        "> Generally, the more CPU cores you have, the faster your models will train on CPU. And similar for GPUs.\n",
        "> \n",
        "> Newer hardware (in terms of age) will also often train models faster due to incorporating technology advances.\n",
        "\n",
        "How about we get visual?\n"
      ],
      "metadata": {
        "id": "3WobPYN3zBLi"
      }
    },
    {
      "cell_type": "code",
      "execution_count": 46,
      "metadata": {
        "id": "bPYWxYhMor_z",
        "outputId": "47e61e89-05f1-4d93-b850-498ec95b5db6",
        "colab": {
          "base_uri": "https://localhost:8080/",
          "height": 382
        }
      },
      "outputs": [
        {
          "output_type": "display_data",
          "data": {
<<<<<<< HEAD
            "image/png": "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",
=======
>>>>>>> ced4c0c328dba7b3160641718ace34dce8665246
            "text/plain": [
              "<Figure size 432x288 with 1 Axes>"
            ],
            "image/png": "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\n"
          },
          "metadata": {
            "needs_background": "light"
          }
        }
      ],
      "source": [
        "# Visualize our model results\n",
        "compare_results.set_index(\"model_name\")[\"model_acc\"].plot(kind=\"bar\", xlabel=\"model\", ylabel=\"accuracy (%)\");"
      ]
    },
    {
      "cell_type": "markdown",
      "metadata": {
        "id": "yjqXy6Ugor_0"
      },
      "source": [
        "## TK - 9. Make and evaluate random predictions with best model\n",
        "\n",
        "Alright, we've compared our models to each other, let's further evaluate our best performing model, `model_2`.\n",
        "\n",
        "To do so, let's create a function `make_predictions()` where we can pass the model and some data for it to predict on."
      ]
    },
    {
      "cell_type": "code",
      "execution_count": 47,
      "metadata": {
        "id": "gOml1GNYor_0"
      },
      "outputs": [],
      "source": [
        "def make_predictions(model, data, device=device):\n",
        "    pred_probs = []\n",
        "    model.eval()\n",
        "    with torch.inference_mode():\n",
        "        for sample in data:\n",
        "            # Prepare sample\n",
        "            sample = torch.unsqueeze(sample, dim=0).to(device) # Add an extra dimension and send sample to device\n",
        "\n",
        "            # Forward pass (model outputs raw logit)\n",
        "            pred_logit = model(sample)\n",
        "\n",
        "            # Get prediction probability (logit -> prediction probability)\n",
        "            pred_prob = torch.softmax(pred_logit.squeeze(), dim=0)\n",
        "\n",
        "            # Get pred_prob off GPU for further calculations\n",
        "            pred_probs.append(pred_prob.cpu())\n",
        "            \n",
        "    # Stack the pred_probs to turn list into a tensor\n",
        "    return torch.stack(pred_probs)"
      ]
    },
    {
      "cell_type": "markdown",
      "source": [
        "Now let's create a random selection of samples and labels for predicting on."
      ],
      "metadata": {
        "id": "I09EoDei3rf-"
      }
    },
    {
      "cell_type": "code",
      "execution_count": 48,
      "metadata": {
        "id": "bH8b4Dueor_0",
        "colab": {
          "base_uri": "https://localhost:8080/"
        },
        "outputId": "e3cf7d01-7f68-475a-fbff-01a9b7e6688c"
      },
      "outputs": [
        {
          "output_type": "stream",
          "name": "stdout",
          "text": [
            "Test sample image shape: torch.Size([1, 28, 28])\n",
            "Test sample label: 5 (Sandal)\n"
          ]
        }
      ],
      "source": [
        "import random\n",
        "random.seed(42)\n",
        "test_samples = []\n",
        "test_labels = []\n",
        "for sample, label in random.sample(list(test_data), k=9):\n",
        "    test_samples.append(sample)\n",
        "    test_labels.append(label)\n",
        "\n",
        "# View the first test sample shape and label\n",
        "print(f\"Test sample image shape: {test_samples[0].shape}\\nTest sample label: {test_labels[0]} ({class_names[test_labels[0]]})\")"
      ]
    },
    {
      "cell_type": "markdown",
      "source": [
        "And now we can use our `make_predictions()` function to predict on `test_samples`."
      ],
      "metadata": {
        "id": "K-HZEfqt3wlw"
      }
    },
    {
      "cell_type": "code",
      "execution_count": 49,
      "metadata": {
        "id": "_CpE-541or_0",
        "outputId": "f5506ef7-9fb5-413e-8ca2-566fbe96a8f9",
        "colab": {
          "base_uri": "https://localhost:8080/"
        }
      },
      "outputs": [
        {
          "output_type": "execute_result",
          "data": {
            "text/plain": [
<<<<<<< HEAD
              "tensor([[4.2590e-08, 8.3192e-09, 4.1193e-08, 6.6010e-08, 7.1704e-09, 9.9995e-01,\n",
              "         2.4805e-07, 1.8502e-06, 2.5262e-05, 1.9428e-05],\n",
              "        [6.0060e-02, 4.6930e-01, 1.5477e-03, 3.1106e-01, 1.4083e-02, 1.5860e-04,\n",
              "         1.4309e-01, 2.6929e-04, 3.2020e-04, 1.1072e-04]])"
=======
              "tensor([[6.6746e-07, 2.6788e-07, 1.7360e-07, 1.1297e-06, 9.5402e-08, 9.9954e-01,\n",
              "         3.0706e-06, 3.1412e-05, 1.0885e-04, 3.1649e-04],\n",
              "        [3.9685e-02, 5.1845e-01, 2.5411e-03, 2.5722e-01, 4.6644e-02, 9.2481e-05,\n",
              "         1.3326e-01, 7.6303e-04, 7.4371e-04, 6.0371e-04]])"
>>>>>>> ced4c0c328dba7b3160641718ace34dce8665246
            ]
          },
          "metadata": {},
          "execution_count": 49
        }
      ],
      "source": [
        "# Make predictions on test samples with model 2\n",
        "pred_probs= make_predictions(model=model_2, \n",
        "                             data=test_samples)\n",
        "\n",
        "# View first two prediction probabilities list\n",
        "pred_probs[:2]"
      ]
    },
    {
      "cell_type": "markdown",
      "source": [
        "Excellent!\n",
        "\n",
        "And now we can go from prediction probabilities to prediction labels by taking the `torch.argmax()` of the output of the `torch.softmax()` activation function."
      ],
      "metadata": {
        "id": "zlC-yxUm5J1Z"
      }
    },
    {
      "cell_type": "code",
      "execution_count": 50,
      "metadata": {
        "id": "228R9Ad0or_0",
        "colab": {
          "base_uri": "https://localhost:8080/"
        },
        "outputId": "b457bdd7-7f3e-4ee1-8bb2-89d754055ad0"
      },
      "outputs": [
        {
          "output_type": "execute_result",
          "data": {
            "text/plain": [
              "tensor([5, 1, 7, 4, 3, 0, 4, 7, 1])"
            ]
          },
          "metadata": {},
          "execution_count": 50
        }
      ],
      "source": [
        "# Turn the prediction probabilities into prediction labels by taking the argmax()\n",
        "pred_classes = pred_probs.argmax(dim=1)\n",
        "pred_classes"
      ]
    },
    {
      "cell_type": "code",
      "execution_count": 51,
      "metadata": {
        "id": "3Fip0PHXor_0",
        "outputId": "f1b0fd70-e241-4c24-e8ab-7bb5087cb1e9",
        "colab": {
          "base_uri": "https://localhost:8080/"
        }
      },
      "outputs": [
        {
          "output_type": "execute_result",
          "data": {
            "text/plain": [
              "([5, 1, 7, 4, 3, 0, 4, 7, 1], tensor([5, 1, 7, 4, 3, 0, 4, 7, 1]))"
            ]
          },
          "metadata": {},
          "execution_count": 51
        }
      ],
      "source": [
        "# Are our predictions in the same form as our test labels? \n",
        "test_labels, pred_classes"
      ]
    },
    {
      "cell_type": "markdown",
      "source": [
        "Now our predicted classes are in the same format as our test labels, we can compare.\n",
        "\n",
        "Since we're dealing with image data, let's stay true to the data explorer's motto. \n",
        "\n",
        "\"Visualize, visualize, visualize!\""
      ],
      "metadata": {
        "id": "KA1IrH-j5r9I"
      }
    },
    {
      "cell_type": "code",
      "execution_count": 52,
      "metadata": {
        "id": "1W91GvJKor_0",
        "outputId": "c199746d-cdc9-49af-8509-3ddaacf1ccc2",
        "colab": {
          "base_uri": "https://localhost:8080/",
          "height": 534
        }
      },
      "outputs": [
        {
          "output_type": "display_data",
          "data": {
<<<<<<< HEAD
            "image/png": "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",
=======
>>>>>>> ced4c0c328dba7b3160641718ace34dce8665246
            "text/plain": [
              "<Figure size 648x648 with 9 Axes>"
            ],
            "image/png": "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\n"
          },
          "metadata": {
            "needs_background": "light"
          }
        }
      ],
      "source": [
        "# Plot predictions\n",
        "plt.figure(figsize=(9, 9))\n",
        "nrows = 3\n",
        "ncols = 3\n",
        "for i, sample in enumerate(test_samples):\n",
        "  # Create a subplot\n",
        "  plt.subplot(nrows, ncols, i+1)\n",
        "\n",
        "  # Plot the target image\n",
        "  plt.imshow(sample.squeeze(), cmap=\"gray\")\n",
        "\n",
        "  # Find the prediction label (in text form, e.g. \"Sandal\")\n",
        "  pred_label = class_names[pred_classes[i]]\n",
        "\n",
        "  # Get the truth label (in text form, e.g. \"T-shirt\")\n",
        "  truth_label = class_names[test_labels[i]] \n",
        "\n",
        "  # Create the title text of the plot\n",
        "  title_text = f\"Pred: {pred_label} | Truth: {truth_label}\"\n",
        "  \n",
        "  # Check for equality and change title colour accordingly\n",
        "  if pred_label == truth_label:\n",
        "      plt.title(title_text, fontsize=10, c=\"g\") # green text if correct\n",
        "  else:\n",
        "      plt.title(title_text, fontsize=10, c=\"r\") # red text if wrong\n",
        "  plt.axis(False);"
      ]
    },
    {
      "cell_type": "markdown",
      "source": [
        "Well, well, well, doesn't that look good!\n",
        "\n",
        "Not bad for a couple dozen lines of PyTorch code!"
      ],
      "metadata": {
        "id": "GLW7PtiH6VzB"
      }
    },
    {
      "cell_type": "markdown",
      "metadata": {
        "id": "xl3-LRK4or_1"
      },
      "source": [
        "## TK - 10. Making a confusion matrix for further prediction evaluaiton\n",
        "\n",
        "TK install - Use torchmetrics.ConfusionMatrix - https://torchmetrics.readthedocs.io/en/latest/references/modules.html?highlight=confusion#confusionmatrix\n",
        "\n",
        "TK install - MLXtend - http://rasbt.github.io/mlxtend/\n",
        "\n",
        "UPTOHERE: cleaning up confusion matrix code and loading and saving model next"
      ]
    },
    {
      "cell_type": "code",
      "execution_count": 53,
      "metadata": {
        "id": "CSrL6WCeor_1",
        "colab": {
          "base_uri": "https://localhost:8080/"
        },
        "outputId": "5620a359-2a2c-42bc-e209-6d40478a44d0"
      },
      "outputs": [
        {
          "output_type": "stream",
          "name": "stdout",
          "text": [
<<<<<<< HEAD
            "Note: you may need to restart the kernel to use updated packages.\n"
=======
            "\u001b[?25l\r\u001b[K     |▉                               | 10 kB 35.2 MB/s eta 0:00:01\r\u001b[K     |█▋                              | 20 kB 24.4 MB/s eta 0:00:01\r\u001b[K     |██▌                             | 30 kB 16.6 MB/s eta 0:00:01\r\u001b[K     |███▎                            | 40 kB 14.9 MB/s eta 0:00:01\r\u001b[K     |████▏                           | 51 kB 6.6 MB/s eta 0:00:01\r\u001b[K     |█████                           | 61 kB 7.8 MB/s eta 0:00:01\r\u001b[K     |█████▊                          | 71 kB 8.2 MB/s eta 0:00:01\r\u001b[K     |██████▋                         | 81 kB 8.1 MB/s eta 0:00:01\r\u001b[K     |███████▍                        | 92 kB 9.0 MB/s eta 0:00:01\r\u001b[K     |████████▎                       | 102 kB 7.1 MB/s eta 0:00:01\r\u001b[K     |█████████                       | 112 kB 7.1 MB/s eta 0:00:01\r\u001b[K     |██████████                      | 122 kB 7.1 MB/s eta 0:00:01\r\u001b[K     |██████████▊                     | 133 kB 7.1 MB/s eta 0:00:01\r\u001b[K     |███████████▌                    | 143 kB 7.1 MB/s eta 0:00:01\r\u001b[K     |████████████▍                   | 153 kB 7.1 MB/s eta 0:00:01\r\u001b[K     |█████████████▏                  | 163 kB 7.1 MB/s eta 0:00:01\r\u001b[K     |██████████████                  | 174 kB 7.1 MB/s eta 0:00:01\r\u001b[K     |██████████████▉                 | 184 kB 7.1 MB/s eta 0:00:01\r\u001b[K     |███████████████▊                | 194 kB 7.1 MB/s eta 0:00:01\r\u001b[K     |████████████████▌               | 204 kB 7.1 MB/s eta 0:00:01\r\u001b[K     |█████████████████▎              | 215 kB 7.1 MB/s eta 0:00:01\r\u001b[K     |██████████████████▏             | 225 kB 7.1 MB/s eta 0:00:01\r\u001b[K     |███████████████████             | 235 kB 7.1 MB/s eta 0:00:01\r\u001b[K     |███████████████████▉            | 245 kB 7.1 MB/s eta 0:00:01\r\u001b[K     |████████████████████▋           | 256 kB 7.1 MB/s eta 0:00:01\r\u001b[K     |█████████████████████▌          | 266 kB 7.1 MB/s eta 0:00:01\r\u001b[K     |██████████████████████▎         | 276 kB 7.1 MB/s eta 0:00:01\r\u001b[K     |███████████████████████         | 286 kB 7.1 MB/s eta 0:00:01\r\u001b[K     |████████████████████████        | 296 kB 7.1 MB/s eta 0:00:01\r\u001b[K     |████████████████████████▊       | 307 kB 7.1 MB/s eta 0:00:01\r\u001b[K     |█████████████████████████▋      | 317 kB 7.1 MB/s eta 0:00:01\r\u001b[K     |██████████████████████████▍     | 327 kB 7.1 MB/s eta 0:00:01\r\u001b[K     |███████████████████████████▎    | 337 kB 7.1 MB/s eta 0:00:01\r\u001b[K     |████████████████████████████    | 348 kB 7.1 MB/s eta 0:00:01\r\u001b[K     |████████████████████████████▉   | 358 kB 7.1 MB/s eta 0:00:01\r\u001b[K     |█████████████████████████████▊  | 368 kB 7.1 MB/s eta 0:00:01\r\u001b[K     |██████████████████████████████▌ | 378 kB 7.1 MB/s eta 0:00:01\r\u001b[K     |███████████████████████████████▍| 389 kB 7.1 MB/s eta 0:00:01\r\u001b[K     |████████████████████████████████| 397 kB 7.1 MB/s \n",
            "\u001b[?25h\u001b[?25l\r\u001b[K     |▎                               | 10 kB 33.4 MB/s eta 0:00:01\r\u001b[K     |▌                               | 20 kB 42.6 MB/s eta 0:00:01\r\u001b[K     |▊                               | 30 kB 49.6 MB/s eta 0:00:01\r\u001b[K     |█                               | 40 kB 51.0 MB/s eta 0:00:01\r\u001b[K     |█▏                              | 51 kB 47.5 MB/s eta 0:00:01\r\u001b[K     |█▌                              | 61 kB 49.3 MB/s eta 0:00:01\r\u001b[K     |█▊                              | 71 kB 49.6 MB/s eta 0:00:01\r\u001b[K     |██                              | 81 kB 50.8 MB/s eta 0:00:01\r\u001b[K     |██▏                             | 92 kB 53.4 MB/s eta 0:00:01\r\u001b[K     |██▍                             | 102 kB 54.1 MB/s eta 0:00:01\r\u001b[K     |██▊                             | 112 kB 54.1 MB/s eta 0:00:01\r\u001b[K     |███                             | 122 kB 54.1 MB/s eta 0:00:01\r\u001b[K     |███▏                            | 133 kB 54.1 MB/s eta 0:00:01\r\u001b[K     |███▍                            | 143 kB 54.1 MB/s eta 0:00:01\r\u001b[K     |███▋                            | 153 kB 54.1 MB/s eta 0:00:01\r\u001b[K     |████                            | 163 kB 54.1 MB/s eta 0:00:01\r\u001b[K     |████▏                           | 174 kB 54.1 MB/s eta 0:00:01\r\u001b[K     |████▍                           | 184 kB 54.1 MB/s eta 0:00:01\r\u001b[K     |████▋                           | 194 kB 54.1 MB/s eta 0:00:01\r\u001b[K     |████▉                           | 204 kB 54.1 MB/s eta 0:00:01\r\u001b[K     |█████                           | 215 kB 54.1 MB/s eta 0:00:01\r\u001b[K     |█████▍                          | 225 kB 54.1 MB/s eta 0:00:01\r\u001b[K     |█████▋                          | 235 kB 54.1 MB/s eta 0:00:01\r\u001b[K     |█████▉                          | 245 kB 54.1 MB/s eta 0:00:01\r\u001b[K     |██████                          | 256 kB 54.1 MB/s eta 0:00:01\r\u001b[K     |██████▎                         | 266 kB 54.1 MB/s eta 0:00:01\r\u001b[K     |██████▋                         | 276 kB 54.1 MB/s eta 0:00:01\r\u001b[K     |██████▉                         | 286 kB 54.1 MB/s eta 0:00:01\r\u001b[K     |███████                         | 296 kB 54.1 MB/s eta 0:00:01\r\u001b[K     |███████▎                        | 307 kB 54.1 MB/s eta 0:00:01\r\u001b[K     |███████▌                        | 317 kB 54.1 MB/s eta 0:00:01\r\u001b[K     |███████▉                        | 327 kB 54.1 MB/s eta 0:00:01\r\u001b[K     |████████                        | 337 kB 54.1 MB/s eta 0:00:01\r\u001b[K     |████████▎                       | 348 kB 54.1 MB/s eta 0:00:01\r\u001b[K     |████████▌                       | 358 kB 54.1 MB/s eta 0:00:01\r\u001b[K     |████████▊                       | 368 kB 54.1 MB/s eta 0:00:01\r\u001b[K     |█████████                       | 378 kB 54.1 MB/s eta 0:00:01\r\u001b[K     |█████████▎                      | 389 kB 54.1 MB/s eta 0:00:01\r\u001b[K     |█████████▌                      | 399 kB 54.1 MB/s eta 0:00:01\r\u001b[K     |█████████▊                      | 409 kB 54.1 MB/s eta 0:00:01\r\u001b[K     |██████████                      | 419 kB 54.1 MB/s eta 0:00:01\r\u001b[K     |██████████▏                     | 430 kB 54.1 MB/s eta 0:00:01\r\u001b[K     |██████████▌                     | 440 kB 54.1 MB/s eta 0:00:01\r\u001b[K     |██████████▊                     | 450 kB 54.1 MB/s eta 0:00:01\r\u001b[K     |███████████                     | 460 kB 54.1 MB/s eta 0:00:01\r\u001b[K     |███████████▏                    | 471 kB 54.1 MB/s eta 0:00:01\r\u001b[K     |███████████▍                    | 481 kB 54.1 MB/s eta 0:00:01\r\u001b[K     |███████████▊                    | 491 kB 54.1 MB/s eta 0:00:01\r\u001b[K     |████████████                    | 501 kB 54.1 MB/s eta 0:00:01\r\u001b[K     |████████████▏                   | 512 kB 54.1 MB/s eta 0:00:01\r\u001b[K     |████████████▍                   | 522 kB 54.1 MB/s eta 0:00:01\r\u001b[K     |████████████▋                   | 532 kB 54.1 MB/s eta 0:00:01\r\u001b[K     |████████████▉                   | 542 kB 54.1 MB/s eta 0:00:01\r\u001b[K     |█████████████▏                  | 552 kB 54.1 MB/s eta 0:00:01\r\u001b[K     |█████████████▍                  | 563 kB 54.1 MB/s eta 0:00:01\r\u001b[K     |█████████████▋                  | 573 kB 54.1 MB/s eta 0:00:01\r\u001b[K     |█████████████▉                  | 583 kB 54.1 MB/s eta 0:00:01\r\u001b[K     |██████████████                  | 593 kB 54.1 MB/s eta 0:00:01\r\u001b[K     |██████████████▍                 | 604 kB 54.1 MB/s eta 0:00:01\r\u001b[K     |██████████████▋                 | 614 kB 54.1 MB/s eta 0:00:01\r\u001b[K     |██████████████▉                 | 624 kB 54.1 MB/s eta 0:00:01\r\u001b[K     |███████████████                 | 634 kB 54.1 MB/s eta 0:00:01\r\u001b[K     |███████████████▎                | 645 kB 54.1 MB/s eta 0:00:01\r\u001b[K     |███████████████▋                | 655 kB 54.1 MB/s eta 0:00:01\r\u001b[K     |███████████████▉                | 665 kB 54.1 MB/s eta 0:00:01\r\u001b[K     |████████████████                | 675 kB 54.1 MB/s eta 0:00:01\r\u001b[K     |████████████████▎               | 686 kB 54.1 MB/s eta 0:00:01\r\u001b[K     |████████████████▌               | 696 kB 54.1 MB/s eta 0:00:01\r\u001b[K     |████████████████▊               | 706 kB 54.1 MB/s eta 0:00:01\r\u001b[K     |█████████████████               | 716 kB 54.1 MB/s eta 0:00:01\r\u001b[K     |█████████████████▎              | 727 kB 54.1 MB/s eta 0:00:01\r\u001b[K     |█████████████████▌              | 737 kB 54.1 MB/s eta 0:00:01\r\u001b[K     |█████████████████▊              | 747 kB 54.1 MB/s eta 0:00:01\r\u001b[K     |██████████████████              | 757 kB 54.1 MB/s eta 0:00:01\r\u001b[K     |██████████████████▎             | 768 kB 54.1 MB/s eta 0:00:01\r\u001b[K     |██████████████████▌             | 778 kB 54.1 MB/s eta 0:00:01\r\u001b[K     |██████████████████▊             | 788 kB 54.1 MB/s eta 0:00:01\r\u001b[K     |███████████████████             | 798 kB 54.1 MB/s eta 0:00:01\r\u001b[K     |███████████████████▏            | 808 kB 54.1 MB/s eta 0:00:01\r\u001b[K     |███████████████████▌            | 819 kB 54.1 MB/s eta 0:00:01\r\u001b[K     |███████████████████▊            | 829 kB 54.1 MB/s eta 0:00:01\r\u001b[K     |████████████████████            | 839 kB 54.1 MB/s eta 0:00:01\r\u001b[K     |████████████████████▏           | 849 kB 54.1 MB/s eta 0:00:01\r\u001b[K     |████████████████████▍           | 860 kB 54.1 MB/s eta 0:00:01\r\u001b[K     |████████████████████▋           | 870 kB 54.1 MB/s eta 0:00:01\r\u001b[K     |█████████████████████           | 880 kB 54.1 MB/s eta 0:00:01\r\u001b[K     |█████████████████████▏          | 890 kB 54.1 MB/s eta 0:00:01\r\u001b[K     |█████████████████████▍          | 901 kB 54.1 MB/s eta 0:00:01\r\u001b[K     |█████████████████████▋          | 911 kB 54.1 MB/s eta 0:00:01\r\u001b[K     |█████████████████████▉          | 921 kB 54.1 MB/s eta 0:00:01\r\u001b[K     |██████████████████████▏         | 931 kB 54.1 MB/s eta 0:00:01\r\u001b[K     |██████████████████████▍         | 942 kB 54.1 MB/s eta 0:00:01\r\u001b[K     |██████████████████████▋         | 952 kB 54.1 MB/s eta 0:00:01\r\u001b[K     |██████████████████████▉         | 962 kB 54.1 MB/s eta 0:00:01\r\u001b[K     |███████████████████████         | 972 kB 54.1 MB/s eta 0:00:01\r\u001b[K     |███████████████████████▍        | 983 kB 54.1 MB/s eta 0:00:01\r\u001b[K     |███████████████████████▋        | 993 kB 54.1 MB/s eta 0:00:01\r\u001b[K     |███████████████████████▉        | 1.0 MB 54.1 MB/s eta 0:00:01\r\u001b[K     |████████████████████████        | 1.0 MB 54.1 MB/s eta 0:00:01\r\u001b[K     |████████████████████████▎       | 1.0 MB 54.1 MB/s eta 0:00:01\r\u001b[K     |████████████████████████▌       | 1.0 MB 54.1 MB/s eta 0:00:01\r\u001b[K     |████████████████████████▉       | 1.0 MB 54.1 MB/s eta 0:00:01\r\u001b[K     |█████████████████████████       | 1.1 MB 54.1 MB/s eta 0:00:01\r\u001b[K     |█████████████████████████▎      | 1.1 MB 54.1 MB/s eta 0:00:01\r\u001b[K     |█████████████████████████▌      | 1.1 MB 54.1 MB/s eta 0:00:01\r\u001b[K     |█████████████████████████▊      | 1.1 MB 54.1 MB/s eta 0:00:01\r\u001b[K     |██████████████████████████      | 1.1 MB 54.1 MB/s eta 0:00:01\r\u001b[K     |██████████████████████████▎     | 1.1 MB 54.1 MB/s eta 0:00:01\r\u001b[K     |██████████████████████████▌     | 1.1 MB 54.1 MB/s eta 0:00:01\r\u001b[K     |██████████████████████████▊     | 1.1 MB 54.1 MB/s eta 0:00:01\r\u001b[K     |███████████████████████████     | 1.1 MB 54.1 MB/s eta 0:00:01\r\u001b[K     |███████████████████████████▎    | 1.1 MB 54.1 MB/s eta 0:00:01\r\u001b[K     |███████████████████████████▌    | 1.2 MB 54.1 MB/s eta 0:00:01\r\u001b[K     |███████████████████████████▊    | 1.2 MB 54.1 MB/s eta 0:00:01\r\u001b[K     |████████████████████████████    | 1.2 MB 54.1 MB/s eta 0:00:01\r\u001b[K     |████████████████████████████▏   | 1.2 MB 54.1 MB/s eta 0:00:01\r\u001b[K     |████████████████████████████▍   | 1.2 MB 54.1 MB/s eta 0:00:01\r\u001b[K     |████████████████████████████▊   | 1.2 MB 54.1 MB/s eta 0:00:01\r\u001b[K     |█████████████████████████████   | 1.2 MB 54.1 MB/s eta 0:00:01\r\u001b[K     |█████████████████████████████▏  | 1.2 MB 54.1 MB/s eta 0:00:01\r\u001b[K     |█████████████████████████████▍  | 1.2 MB 54.1 MB/s eta 0:00:01\r\u001b[K     |█████████████████████████████▋  | 1.2 MB 54.1 MB/s eta 0:00:01\r\u001b[K     |██████████████████████████████  | 1.3 MB 54.1 MB/s eta 0:00:01\r\u001b[K     |██████████████████████████████▏ | 1.3 MB 54.1 MB/s eta 0:00:01\r\u001b[K     |██████████████████████████████▍ | 1.3 MB 54.1 MB/s eta 0:00:01\r\u001b[K     |██████████████████████████████▋ | 1.3 MB 54.1 MB/s eta 0:00:01\r\u001b[K     |██████████████████████████████▉ | 1.3 MB 54.1 MB/s eta 0:00:01\r\u001b[K     |███████████████████████████████▏| 1.3 MB 54.1 MB/s eta 0:00:01\r\u001b[K     |███████████████████████████████▍| 1.3 MB 54.1 MB/s eta 0:00:01\r\u001b[K     |███████████████████████████████▋| 1.3 MB 54.1 MB/s eta 0:00:01\r\u001b[K     |███████████████████████████████▉| 1.3 MB 54.1 MB/s eta 0:00:01\r\u001b[K     |████████████████████████████████| 1.3 MB 54.1 MB/s \n",
            "\u001b[?25h"
>>>>>>> ced4c0c328dba7b3160641718ace34dce8665246
          ]
        }
      ],
      "source": [
        "# See if torchmetrics exists, if not, install it\n",
        "try:\n",
        "    import torchmetrics, mlxtend\n",
        "    print(f\"mlxtend version: {mlxtend.__version__}\")\n",
        "    assert int(mlxtend.__version__.split(\".\")[1]) >= 19, \"mlxtend verison should be 0.19.0 or higher\"\n",
        "except:\n",
        "    %pip install -q torchmetrics -U mlxtend # <- Note: If you're using Google Colab, this may require restarting the runtime\n",
        "    import torchmetrics, mlxtend\n",
        "\n",
        "# %pip install -U mlxtend "
      ]
    },
    {
      "cell_type": "code",
<<<<<<< HEAD
      "execution_count": 54,
=======
      "source": [
        "# Import mlxtend upgraded version\n",
        "import mlxtend \n",
        "print(mlxtend.__version__)\n",
        "assert int(mlxtend.__version__.split(\".\")[1]) >= 19 # should be version 0.19.0 or higher"
      ],
>>>>>>> ced4c0c328dba7b3160641718ace34dce8665246
      "metadata": {
        "colab": {
          "base_uri": "https://localhost:8080/"
        },
        "id": "XFjzp9yLAQ_I",
        "outputId": "07a8c42d-1f29-4fac-a718-b28dd19148f5"
      },
      "execution_count": null,
      "outputs": [
        {
          "output_type": "stream",
          "name": "stdout",
          "text": [
            "0.19.0\n"
          ]
        }
      ]
    },
    {
      "cell_type": "code",
<<<<<<< HEAD
      "execution_count": 55,
      "metadata": {
        "colab": {
          "base_uri": "https://localhost:8080/"
        },
        "id": "4Wf7Y0U4EaXN",
        "outputId": "7e51e98a-3202-409b-e281-b52c298cc112"
      },
      "outputs": [
        {
          "name": "stderr",
          "output_type": "stream",
          "text": [
            "Making predictions: 100%|██████████| 313/313 [00:00<00:00, 398.97it/s]\n"
          ]
        }
      ],
=======
>>>>>>> ced4c0c328dba7b3160641718ace34dce8665246
      "source": [
        "# Import tqdm for progress bar\n",
        "from tqdm import tqdm\n",
        "\n",
        "# Make predictions\n",
        "y_preds = []\n",
        "model_2.eval()\n",
        "with torch.inference_mode():\n",
        "  for X, y in tqdm(test_dataloader, desc=\"Making predictions\"):\n",
        "    X, y = X.to(device), y.to(device)\n",
        "    y_logit = model_2(X)\n",
        "    y_pred = torch.softmax(y_logit.squeeze(), dim=0).argmax(dim=1)\n",
        "    y_preds.append(y_pred.cpu())\n",
        "y_pred_tensor = torch.cat(y_preds)"
      ],
      "metadata": {
        "colab": {
          "base_uri": "https://localhost:8080/"
        },
        "id": "4Wf7Y0U4EaXN",
        "outputId": "5456e169-5dc6-4bd2-d67e-1c6406bab1be"
      },
      "execution_count": null,
      "outputs": [
        {
          "output_type": "stream",
          "name": "stderr",
          "text": [
            "Making predictions: 100%|██████████| 313/313 [00:00<00:00, 339.94it/s]\n"
          ]
        }
      ]
    },
    {
      "cell_type": "code",
      "execution_count": 56,
      "metadata": {
        "id": "yMiJWKPzor_1",
        "colab": {
          "base_uri": "https://localhost:8080/",
          "height": 477
        },
        "outputId": "2dc3a563-5b50-4e78-b230-733b842a512d"
      },
      "outputs": [
        {
          "output_type": "display_data",
          "data": {
<<<<<<< HEAD
            "image/png": "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",
=======
>>>>>>> ced4c0c328dba7b3160641718ace34dce8665246
            "text/plain": [
              "<Figure size 720x504 with 1 Axes>"
            ],
            "image/png": "iVBORw0KGgoAAAANSUhEUgAAAdgAAAHMCAYAAAB2nrkUAAAABHNCSVQICAgIfAhkiAAAAAlwSFlzAAALEgAACxIB0t1+/AAAADh0RVh0U29mdHdhcmUAbWF0cGxvdGxpYiB2ZXJzaW9uMy4yLjIsIGh0dHA6Ly9tYXRwbG90bGliLm9yZy+WH4yJAAAgAElEQVR4nOzdd3RU1drH8e8mIQFCCRAgJKGXVEJ66B3pvTepUsSCWK96VdSrXIp0LiIqdhBREaT3DkkgVAURghBqgAAJwSTDfv+YIQZIIAJnzuD7fNaaxcyeM2f/ZjOZ59Q5SmuNEEIIIR6ufGYHEEIIIf6JpMAKIYQQBpACK4QQQhhACqwQQghhACmwQgghhAGkwAohhBAGcDY7wD+BS2F3XaBEWbNj3KFqKTezI+TIUc8Mu+GgwZzyKbMj5MgxU1lduZ5hdoQcFS2Q3+wIOXLMT77jfsZ27YpL0lqXutd0UmAfggIlyhL10idmx7jD4mG1zI6Qoz8zbpgdIUdpGRazI+SoSAHH/DN1dnLcDWCrfjlrdoQcNfcvY3aEHFluOGaJddSFy4L51fG8TOe4fyFCCCHEI0wKrBBCCGEAKbBCCCGEAaTACiGEEAaQAiuEEEIYQAqsEEIIYQApsEIIIYQBpMAKIYQQBpACK4QQQhhACqwQQghhACmwQgghhAGkwAohhBAGkAJrgi8fD+WjXjWZ1SOYGd1rZLV3DPbkkz4hzOlVkyfqlM9qr1SyEFO7BjGnV00+6lWT/E72+wHsw4cOER0RmnUrU7IY06dOtlv/2V2/fp2mDWpRLzqM2hHBvP/uWwC0at6Q+rXCqV8rHP8q5ejTo7Ndcx357RDN6kVm3aqX8+CjmVPZv3cPbZvVp1m9SFo2qs3uuBi75hoxdDCVynkSFRZ8S/usmdMJCw4gMrQGr7/6sl0z5WTliuUEB/oS6FeV8ePG2rXv82cSeW1wZ0Z2rM/ITg346cuPADj6635e6NOaZ7s1ZXTPxzi8bxcA+2K20LNONZ7t1pRnuzVl3qyJds0L5o7X7UYMHURFnzJEhv71Pfb9wgVEhARRpIATu+JiTUxnZeZ4GX6ZDqVUSWCN7aEnYAHO2x5Haa3Tc3ldRWCJ1jooh+feBjZqrVfn8NwAYKXW+lS2tp5AFWALkK613nq/7+dhef6HA1y5npn1uKZ3UepUKs6wb/aQcUPjXtD6X5NPwb+aV2XsqiMcvXCNogWc7Xrli+q+vuyI3Q2AxWKhSkUf2nfoZLf+s3N1dWXR0tUULlyYjIwMWjVrQLPHWrJs1YasaR7v3Y3WbdrbNVfVar6s3mwtnhaLhTD/SrRq24EXnh3B6Jdfo0nzlqxZuYx333iVhT+vsluuPv36M2zESIYOHpDVtnH9On5e/BPbYnbj6urK+XPn7JYnJxaLhVHPjOTnZavw9vGhXq1I2rZtj39AgF36d3JyZtDzb1ElIJhrqSmM7vkYIbUbMHfSO/Qa/jzh9ZsSu2k1cye9w3uf/ABAQFg0b0z/0i75bmf2eN2uT78BDBvxFE8M6p/VFhAQxNfzF/LMU8NNyZSd2eNl+Bqs1vqC1jpEax0CzAIm3XycW3HNwzzfyKW4OgEDAK/bnmoFLAcaAXXup0+jtQ8qw7y4U2TYimdymrX4RpR35+iFaxy9cA2AK9czMevKUuvWrqFy5SqUr1DBlP6VUhQuXBiAjIwMMjIyUeqvtfkrV66wccM6WrfrYEo+gE0b1lKhUmV8yldAKcXVq1ezspUpa99rBter34DixUvc0jbno1mMfuElXF1dAShVurRdM90uZudOqlSpSqXKlXFxcaFbj54sWbzIbv2XKFWGKgHWNfxCboXxqVSNC+fOoJTiWqr1/y716lVKlPK0W6a7MXu8bpfTZ8zP35/qvr4mJbqV2ePlEJuIlVKBSqmdSql4pdRepVQ121NOSqmPlFIHlFIrlVIFbdPPVUp1td1PUEr9Vym1C+gFRABf2eZVUFm/gUOAi8Bw4Dnbc/WVUhWVUmttfa5RSpXPNv9ZSqlYpdRhpVTbh/l+NfDf9v7M7F6DNoHWLzhv94IEeRVhWtcgJnYKxLe09WLpPu4F0BrGtvfnf91r0D309mUH+1nw7Ty69ehpWv9gXSKtXyuc6hXL0qhJUyIio7OeW7p4EQ0bNaFo0aKm5Vu0cAEdu3QH4O33J/DOG/8iPLAK7/z7FV594x3Tct105Lff2LplM43r16Zls8bExdp3s/XtTp1KxMenXNZjb28fEhMTTclyNvEPjv66H98aYQx56W0+/eAdBjUP49MPxvD4s69mTXdoTxzPdG3CWyN68ceRX+2a0ZHG61Fg9ng5RIHFWvim2NZyI4CTtvZqwAytdSCQDHTJ5fUXtNZhWusvgVigj20NOQ0IBfZorY9x6xr0JmAa8JnWOhj4CpiabZ4VgSigDTBLKVXgYb3ZUQsPMOLbfby6+Bfa1/CkhlcRnPIpihZw5unv9jN7y3Feb1kdsF5wOMirCO+t/I1R3x+gXpUShPrYv4Ckp6ezdMliOnfpZve+s3NycmLT9jgOHD7OrrgYDh7Yn/Xcdwvm0aWbeQsA6enprFy2hHYdrR/Tzz6ezZj/jCfuwO+89d54Rj89zLRsN2VmZnLp0kXWbtzKu+//l/59eqK1Y15s257SrqUydvQQhrz0NoUKF2HZt58x5MUxfLJqF0NeHMO0N0cDUMU/mDkrYpn63Vra9h7Mf0YNNDm5cGSOUmC3Aa8qpV4GKtgKI8AxrXW87X4c1qKXk/l3mXdLYFkuz9UGvrbd/wKol+25b7XWN7TWvwFHAb/sL1RKDbWt4cZmpFy6S/d3upBq3TKenJbJlqMX8StTmKSUdDb9fhGAQ+dS0BqKFXDmfEo6+05d4cr1TP7MvMGOhEtUK1X4b/X3MKxYvoyQ0DDKlClj975zUszdnfoNGrFm1QoALiQlsSsuhsdatjYt09pVy6lRM4RSpa1jtGDel7Ru3xGAdh27EL/L/AM+vL29ad+hE0opIiKjyJcvH0lJSabl8fLy5uTJE1mPExNP4u3tbdcMmRkZjB09mIZtOlOnWRsA1v70LbVt9+s+1p7D+63HIRQqXISChaxblyLqN8OSmcGVSxfsltURxutRYvZ4mVJglVKdbJtp45VSEVrrr4H2QBqwVCnVxDbpn9leZiH3g7JS79LdY8DK+4h5+2L9LY+11rO11hFa64j8hYvneaYFnPNRMH++rPvh5dxJuJDGlqMXCfEuBoC3ewGc8ykuX88k9o9kKpUohKtzPvIp68FQxy9eu4+382AWzDd/83DS+fNcTk4GIC0tjXVrV1PNtq9n0Y8LadGyDQUKPLQNDX/bjwu/pWOXHlmPy3iWZdvmjQBs3riOSpWrmhUtS9v2Hdi4YT0Av/12mPT0dDw8PEzLExEZyZEjv5Fw7Bjp6eksmD+PNm3td5Ca1pppbz6HT6VqdHz8r4NySpTyZH+s9VjIvTs241W+MgCXks5lrfEf3reLGzc0RdxL3Dljg5g9Xo8as8fL8KOIc6K1/gH44eZjpVRl4KjWeqptP2gw1rXG+3EVKGKbbzHAWWt9Idtz2bevbgV6Yl177QNsyvZcN6XUZ0AloDJw6D7z3KJ4ofy81dpaFJyUYu3hJGL+SMY5n+KFplX4qFdNMi03GLf6CAApf1r4Lv40M7rVQAM7j19ix/HkhxElz1JTU1m7ZhXTZs6ya7+3O3PmNE8OHYTFYuHGjRt06tKVlq2su8e//24+o0a/ZFq2a6mpbFq3hnGTZmS1jZ/yP9545XksmZm4FijA+Ckz7ZppYL/ebNq0gQtJSfhWKc+rr79Jv/6DeHLoYKLCgnFxceHDOZ/ecqCYvTk7OzNpynTatWmBxWKh/4BBBAQG2q3/X3bvZN2S76hQzZ9nuzUFoN8z/+KpNyfw0X//jcWSiYuLKyPfHA/AllWLWfbtZzg5OePiWoAXx82y6/iZPV63G9CvN5s2rudCUhLVK5fjtX+/RfESJXjhuWdIOn+eLh3bEhwcwqKfl5uSz+zxUvbc/6KUegtI0VpPuK39FaAfkAGcAXpjLYRZp+kopV4ACmut31JKzbU9951SKgGI0Fon2abrAryHdW14IlBFa/2W7bnqwHfADeBp4A/gU8AD66lDA7XWf9jmfx3r/uCiwGit9ZLc3lfR8v466qVPHmhsjLB4WC2zI+Toz4wbZkfIUVqGxewIOSpSwJTl4HtydnKUPUx3WvXLWbMj5Ki5v2PsYrmdPU/9+zuc8pm38Hc3BfOrOK11xL2ms+tf7s1Cl0P7WOD2M4AvAkHZppmQ7f6AbPcr3javhcBCAKXUHGBOtucOY107zq4JOVuttTb/RC4hhBCPJMdcNH5ItNZDzM4ghBDi/6d/dIG9X9nXkIUQQoj74bg7UYQQQohHmBRYIYQQwgBSYIUQQggDSIEVQgghDCAFVgghhDCAFFghhBDCAFJghRBCCANIgRVCCCEMIAVWCCGEMIAUWCGEEMIAUmCFEEIIA8hvET8EVUu5OeSl4UrUGmV2hBxd3D7Z7Ag5Src45mX0zLxe66PKUS8L56gc9bJwjzpZgxVCCCEMIAVWCCGEMIAUWCGEEMIAUmCFEEIIA0iBFUIIIQwgBVYIIYQwgBRYIYQQwgBSYIUQQggDSIEVQgghDCAFVgghhDCAFFghhBDCAFJghRBCCANIgRVCCCEMIAVWCCGEMIAUWAeSnJxM7x7dCAnyJ7RGADu2b7Nr/yN7NSR2/ivEffsKT/VqCEDxooVYMuNJ9v3wOktmPIl7kYIAFC1cgO8mPcGOb14i7ttX6Ncu2q5ZAfyqVSIyNJjoiFDq1oq0e//ZXU5OZnC/HtQND6JeRA1idmxnzOuvUDc8iEa1wxjQuyuXk5PtmmnE0EFU9ClDZGiNO56bOmkihV3zkZSUZNdMOVm5YjnBgb4E+lVl/LixZscB4Pr169SrHUVUWE3Cagbyzpg3zY6UxRHH68SJE7Ro1pjQ4ADCagYyfeoUsyNlMXO8HLbAKqVKKqXibbczSqnEbI9dzM5nhBdHj6J5ixbE7/+FHXHx+Pr5263vgCplGdixNvX7TySq1zha1Q+kso8HLwxoxvqYw9To9C7rYw7zwoBmAAzrVp9fj54hutc4WgydxtjnOpDf2clueW9atmotO2J3s2V7jN37zu71l0fTuFkLtsTtZ+3WOKr7+tGwcVM27Ihn/bZdVKlajakf/Neumfr0G8CPi5fd0X7yxAnWrF5FufLl7ZonJxaLhVHPjGTR4mXs3nuQBfO+4ZeDB82OhaurK8tXrWXnrj3siI1n5Yrl7Ni+3exYDjtezs7OjB03kd17D7Jh83Y+nDXDIXKZPV4OW2C11he01iFa6xBgFjDp5mOtdbpSyq4Xi1dKGVo9Ll++zObNGxkwcDAALi4uuLu7G9nlLfwqlSFm/3HSrmdgsdxg064jdGwSTNuGQXy5ZCcAXy7ZSbtG1rUhjaawWwEA3Aq5cunKNTId9ILlRrty+TLbtm6mz+MDAev/XTF3dxo1bY6zs/VjGh4ZzanERLvmqle/AcWLl7ij/eUXR/Pu+/91iAu5x+zcSZUqValUuTIuLi5069GTJYsXmR0LpRSFCxcGICMjg8yMDBmvuyhbtiyhYWEAFClSBD8/f06dsu/nPSdmj5fDFticKKXmKqVmKaV2AOOUUiFKqe1Kqb1KqR+UUsVt061XSkXY7nsopRJs9wOVUjtta8F7lVLVbO19s7V/eLOYKqVSlFITlVJ7gNpGvreEY8fw8CjFsCGDqBUZxohhQ0hNTTWyy1scOHKauqGVKVGsEAUL5Kdl3QB8yhSndMkinEm6AsCZpCuULlkEgFnzN+FXqQxHV7xN7PxXeGHC92it7ZYXrF+C7Vq3oE50BB/PmW3XvrP74/gxSpb04NkRQ2haL5Lnnhp2x//d11/MpWnzFiYl/MuSnxbh5eVFjeCaZkcB4NSpRHx8ymU99vb2IdHOCyK5sVgsRIeHUN6rNE2aNScq2v67QW7nyON10/GEBOLjdxMZJeP1SBVYGx+gjtZ6NPA58LLWOhjYB9xrR8lwYIptrTgCOKmU8gd6AHVt7Ragj216N2CH1rqm1nqzAe8lS6Ylk/jduxgybDjbY3bh5ubGBDvuLziUcJaJn61h8Ywn+WnacPYcTsRy48410ps1tHltP/YeSqRyizeI7jWOSS91pYibq93yAqxet4ltO+P4cfFSZv9vJps3bbRr/zdlZlrYt2c3/QcPY83mGAoVcmPaB+Oynp80/n2cnZ3p0qO3KfluunbtGhPGvc/rb75tao5HhZOTEzvi4jmScJLYmJ0c2L/f7EgOLyUlhV7duzB+4mSKFi1qdhzTPYoFdoHW2qKUKga4a6032No/Axrc47XbgFeVUi8DFbTWaUBTIByIUUrF2x5Xtk1vARbmNCOl1FClVKxSKjYp6fwDviXrkpW3jw9RtqW+Tp27Eh+/+4Hn+3d8tmg7dftOoPkT00i+ksZvf5zn3IWreHpY/1A8PYpy/uJVAPq1j2bR2j0AHD2ZRMKpC/hWLGPXvN7e3gCULl2adh06Ehuz06793+Tl7Y2Xtw/hkVEAtOvYmX174gGY99XnrFq+lJlzPjd9E+PRo7+TkHCM2pEhBFSvROLJk9SrFc7ZM2dMy+Tl5c3JkyeyHicmnsz6f3UU7u7uNGzUmJUrl5sdxaHHKyMjg17du9CjVx86dupsdhzA/PF6FAtsXrabZvLXeytws1Fr/TXQHkgDliqlmgAK+Czb/l1frfVbtpdc11pbcupAaz1bax2htY7w8Ch1v+8li6enJz4+5Th86BAA69auwd/ffgc5AZQqbt3nVM6zOB2aBDN/WRw/b9xP37bWwtG3bRRLNliX4k+cuUSjqOoAlC5RhOoVSnMs8YLdsqampnL16tWs+2tWryIgMMhu/WdXuownXt4+HPnN+n+3af1aqvv5s3bVCmZMnsDn87+nUKFCpmTLLiioBgknz3Lw8DEOHj6Gt48Pm7fHUcbT07RMEZGRHDnyGwnHjpGens6C+fNo07a9aXluOn/+PMm2o77T0tJYs3oVvr5+Jqdy3PHSWjP8icH4+vnz7HOjzY6TxezxsuuBQg+T1vqyUuqSUqq+1noT0A+4uTabgHWtdCfQ9eZrlFKVgaNa66lKqfJAMLASWKSUmqS1PqeUKgEU0Voft+f7AZg4aSoD+/clIz2dipUq8+GcT+za/zfjB1GimBsZmRZGjf2OyylpTJi7mi/HDqR/h1r8cfoifV+ZC8DYj1Ywe0wfYua/jELx2tTFXEi23z7jc2fP0rObdSk5MzOT7j178ViLlnbr/3bvjZ/Ek0P6k56eToWKlZgycw4tGtUhPf1PundoBVgPdBo/eYbdMg3o15tNG9dzISmJ6pXL8dq/36K/7SA6R+Hs7MykKdNp16YFFouF/gMGERAYaHYszpw+zROD+mOxWLihb9Cla3dat2lrdiyHHa+tW7bw9VdfEBRUg+jwEADGvPseLVu1NjWX2eOl7H1gyv1QSr0FpABBwBKt9Xe29ptHGBcCjgIDtdaXlFJ+wLdYN/H+DPTVWldUSr2CtRBnAGeA3lrri0qpHsC/sK71ZgAjtdbblVIpWuvC98oXFh6hzT5NJCclao0yO0KOLm6fbHaEHF29nml2hBy5uTrmcrBTPvOPqhXCDAXzqzitdcS9pnskCqyjkwL790iB/XukwArhWPJaYB/FfbBCCCGEw5MCK4QQQhhACqwQQghhACmwQgghhAGkwAohhBAGkAIrhBBCGEAKrBBCCGEAKbBCCCGEAaTACiGEEAaQAiuEEEIYQAqsEEIIYQApsEIIIYQBpMAKIYQQBnDMy3SIh+LSjilmR8hR8Y72uybq35H0/ZNmR8jRxZR0syPkqFRRV7Mj5OpqWobZEXJUpGB+syPkyFGvqqbUo33FJlmDFUIIIQwgBVYIIYQwgBRYIYQQwgBSYIUQQggDSIEVQgghDCAFVgghhDCAFFghhBDCAFJghRBCCANIgRVCCCEMIAVWCCGEMIAUWCGEEMIAUmCFEEIIA0iBFUIIIQwgBVYIIYQwgBRYB5KcnEzvHt0ICfIntEYAO7ZvMzsSJ06coEWzxoQGBxBWM5DpU+1/CbynO9QkbkYvYmf05LMXm+Oa34nhbWuwf3Zf0paMpGTRAlnTuru5Mv+1Vuyc1oNNH3QloEIJw/ONGDqIij5liAytkdX22isvElrDn+jwmvTs1pnk5GTDc+Tk4w+n06xuGE3rhDJn1rRbnps9YzLlSxbg4oUkU7LdtHLFcoIDfQn0q8r4cWNNzXI5OZlB/XpQJzyIuhE1iNmxnUsXL9K1QyuiQwLo2qEVyZcumZrRkcYru8OHDhEdEZp1K1OyGNOnTjY7lqnj5VAFVillUUrFK6X2K6UWKKUK3WP69UqpCNv9BKWUh32SGuPF0aNo3qIF8ft/YUdcPL5+/mZHwtnZmbHjJrJ770E2bN7Oh7Nm8MvBg3br36ukG0+2C6buc98SMXIeTvny0a1BNbYdPE3r1xdx/OyVW6Z/qXs4e44mEfX0fAZ/sJoJQ+sbnrFPvwH8uHjZLW1NmjYnZvc+dsTtoVq1akwc977hOW536JcDfPP5JyxetZkVG2NYs2IpCUd/B+BU4gk2rluNt085u+fKzmKxMOqZkSxavIzdew+yYN43dv183e61l0fTpFkLtsbtZ93WOKr7+jF10jgaNGzMjviDNGjYmKmTxpmWz9HGK7vqvr7siN3NjtjdbN0RS8FChWjfoZOpmcweL4cqsECa1jpEax0EpAPDzQ4EoKwMHavLly+zefNGBgwcDICLiwvu7u5GdpknZcuWJTQsDIAiRYrg5+fPqVOJds3g7KQo6OKMUz5FQVdnTl9MZc/RJP44d/WOaf3KF2fD3pMAHD6ZTIXSRSjtXtDQfPXqN6B48VvXlJs2fwxnZ2cAIqNrkZho3zED+O3wr4SGR1KwUCGcnZ2pVbc+y5b8CMCY117i1bfeM/2C1jE7d1KlSlUqVa6Mi4sL3Xr0ZMniRaZkuXL5Mtu3bqbP4wMB699gMXd3lv+8mB69+wHQo3c/li35yZR84FjjdTfr1q6hcuUqlK9QwdQcZo+XoxXY7DYBVZVSjZRSS242KqWmK6UG3O2FSqnRtrXg/UqpUba2sUqpkdmmeUsp9YLt/otKqRil1F6l1BhbW0Wl1CGl1OfAfsDQRf2EY8fw8CjFsCGDqBUZxohhQ0hNTTWyy7/teEIC8fG7iYyKtlufpy6kMvmHeA5/2p9jXwzkyrV01uw+kev0+45doEPtygBEVC9N+dJF8C5Z2F5xc/TF3E95rEVLu/fr6xfIzu1buHTxAmnXrrFu1QpOJ55k5dLFeJb1IiAo2O6ZbnfqVCI+2daivb19TFkYATh+/BglS3rwzIghNKkXyXNPDSM1NZXz589RxrMsAKXLeHL+/DlT8oFjjdfdLPh2Ht169DQ7hunj5ZAFVinlDLQC9t3Ha8OBgUA0UAt4QikVCswHumebtDswXyn1GFANiAJCgHClVAPbNNWAmVrrQK318ft9P3mRackkfvcuhgwbzvaYXbi5uTHBgfavpKSk0Kt7F8ZPnEzRokXt1q+7myttoyvhP/hzKj8+FzdXZ3o2qp7r9BMWxFHMzZXtU3swom0we34/j+WGtlve240b+x+cnJ3p0auP3fuu5uvHiGeep0/XtvTr3o6AoGD+TP+T6ZPG8fy/3rB7HkdnybSwd89uBgwextrNMRQq5Ma0D27dHKyUMn2t39Glp6ezdMliOnfpZnYU0zlagS2olIoHYoE/gI/vYx71gB+01qla6xTge6C+1no3UFop5aWUqglc0lqfAB6z3XYDuwA/rIUV4LjWentOnSilhiqlYpVSsUlJ5+8j5q28vX3w9vEhyrZ22KlzV+Ljdz/wfB+GjIwMenXvQo9efejYqbNd+24S4kPC2SskXblOpuUGP247Si1/z1ynv5qWwbApa6n1jHUfrEexghw7c9mOif/y5edzWb70Zz757EvTvpR79h3I0rXb+G7JGoq5u1PdL4ATfyTQskEkdUKqc/pUIq0b1+Lc2TOm5PPy8ubkyb+2SCQmnsTb29uULGW9vfHy9iE8MgqAdh07s3dPPKVKlebsmdMAnD1zGg+PUqbkA8car9ysWL6MkNAwypQpY3YU08fL0QrszX2wIVrrp7XW6UAmt+YskMtr82IB0BXogXWNFkAB72frt6rW+mZhz3UbrdZ6ttY6Qmsd8TD+4Dw9PfHxKcfhQ4cA6z4Mf3/zD3LSWjP8icH4+vnz7HOj7d7/ifMpRPl6UtDVuj+zcU0fDp3I/SjOYm4u5He2flwGtghg84FTXE3LsEvW7FatWM6kieOZv3ARhQrd9Vg9QyXZNmcmnvyD5UsW0bVnX3YfOsHW+MNsjT9MWS9vlq7bTukyuS+0GCkiMpIjR34j4dgx0tPTWTB/Hm3atjclS5kynnh5+3DkN+vf4Mb1a6nu50+L1u2Y//UXAMz/+gtatmlnSj5wrPHKzYL5jrF5GMwfL2e79XT/jgMBSilXoCDQFNh8l+k3AXOVUmOxFs9OQD/bc/OBjwAPoKGtbQXwjlLqK611ilLKG7D/NzIwcdJUBvbvS0Z6OhUrVebDOZ+YEeMWW7ds4euvviAoqAbR4SEAjHn3PVq2am2X/mMOn+WHLb+zbXJ3Mm/cYM/vSXy8/ABPtgtmdJdQyhQvRMy0niyPPc6T09bhV644Hz3XDK01v/xxkeFT1hmecUC/3mzauJ4LSUlUr1yO1/79FhPHjeXP9D9p3/oxACKjopk6Y5bhWW43bEBPLl28SP78+Xln3GSKFTP/wLnsnJ2dmTRlOu3atMBisdB/wCACAgNNy/Pe+EmMGNKf9PR0KlSsxNSZc7hx4wZPDOjNV5/Pxad8eebM/dq0fI42XrdLTU1l7ZpVTJtp/896TsweL6W1efunbqeUStFa33FEilJqHNZCeQxIAX7SWs9VSq0HXtBaxyqlEoAIrXWSUmo0MMj28jla68nZ5rUPSNJaN87W9iwwxPYwBegLWIAltiOa7yosPEJv2R7z99+wwRx1X1HxjjPMjuiNerIAACAASURBVJCjpO+fNDtCji6mpJsdIUelirqaHSFXZmy1yIsiBfObHSFHjlQHsnPU77CC+VWc1jriXtM51BpsTsXV1v4S8FIO7Y2y3a+Y7f4HwAe5zKtGDm1TgJx+QeGexVUIIYTIiaPtgxVCCCH+EaTACiGEEAaQAiuEEEIYQAqsEEIIYQApsEIIIYQBpMAKIYQQBpACK4QQQhhACqwQQghhACmwQgghhAGkwAohhBAGkAIrhBBCGEAKrBBCCGEAKbBCCCGEARzqajqPskyL413uSSnHywRwfuEIsyPkyKP1OLMj5Chx0fNmR3jkOOVzzMucif9fZA1WCCGEMIAUWCGEEMIAUmCFEEIIA0iBFUIIIQwgBVYIIYQwgBRYIYQQwgBSYIUQQggDSIEVQgghDCAFVgghhDCAFFghhBDCAFJghRBCCANIgRVCCCEMIAVWCCGEMIAUWCGEEMIAUmBNdPLECdq0aEpkaBBRYTWYOX0qAO+9OwbfyuWoGx1G3egwVixfatdcI4YOplI5T6LCgrPa3ntnDNUrl6NOVBh1ouyfCazj1fqxpkSEBBEZ+td4/bBwAZGhNSha0JldcbF2y/N0lwji5gwm9qNBfPZqO1zzO2U9N3FkU84vfi7rcd/Hgvjju6fZPmsA22cNYECr4JxmaQiLxUKjOhH06trhlvZXXhhF+TLudsuRm5UrlhMc6EugX1XGjxtrdpw7xuuZJ5+gQa0w6keHMqBPD1JSUkzN52jjlZ1ftUpEhgYTHRFK3VqRZscB4MSJE7Ro1pjQ4ADCagYyfeoUu/X9SF8PVillAfYB+YFM4HNgktb6hqnB8sjZ2Zn/jB1PSGgYV69epUGdSJo0bQbAyKdH8cxz5lwHtE+//gwbMZKhgwfc0j7y6VE8a1ImsI7Xe//9a7zq17aOl39gEF/N/45nR9rvOrNeJQvzZMdwQgd/zPX0TL78dwe6Nfbny5X7CavuiXvhAne8ZuH6X3hu+mq7Zbzpw5lTqe7rz9WrV7Ladu+KJTn5kt2z3M5isTDqmZH8vGwV3j4+1KsVSdu27fEPCDAt0+3j9e7YiRQtWhSA1195gTkfzmTU8y+Zks0Rx+t2y1atxcPDw+wYWZydnRk7biKhYdbvjTrR4TRt1twuY/aor8Gmaa1DtNaBQHOgFfDm7RMppRxyQcKzbFlCQsMAKFKkCL5+fpw6lWhyKqhXvwHFi5cwO8YdchyvxET8/PypXt3X7nmcnfJR0NUZp3yKgq7OnL6QQr58iveGNuK1j9bbPU9OEhNPsnL5Mvr2H5TVZrFYeOu1V3jrXfPXfmJ27qRKlapUqlwZFxcXuvXoyZLFi0zLk9N43SyuWmvS0tJQyryLuTvaeD0KypYtS2jYX98bfn7+dvuefdQLbBat9TlgKPCUshqglPpJKbUWWKOUclNKfaKU2qmU2q2U6gCglAq0tcUrpfYqparZpv1ZKbVHKbVfKdXD6PzHjyewNz6eiMhoAGbPmkHtyBCeHDaYS5fMX9MAmP2/GdSKCGHEUPMzHU+wjVdUtCn9n7qQwuQFOzn89QiOffsUV1L/ZE1cAiM6hPHztiOcuZh6x2s61Pdl5+yBfP1GR3xKFbFLztdeep633n2ffPn++lOfM2sGLdu0xdOzrF0y3M2pU4n4+JTLeuzt7UNionkLmTmNF8BTwwfjX9mHI4cP8cTwkSalc7zxup1SinatW1AnOoKP58w2O84djickEB+/m0g7fW/8YwosgNb6KOAElLY1hQFdtdYNgdeAtVrrKKAxMF4p5QYMB6ZorUOACOAk0BI4pbWuqbUOApYbmTslJYV+vboxdvwHFC1alCFPDGfPwd/YsmMXnp5lee2VF4zsPk+GDB3O3l9+Y+tOa6ZXXzYvU0pKCn17dWPshA+y1i7szb2wK23rVMO/7ywq95iBW4H89G4eSOeGfsz8Ie6O6ZduP4Jf31lEDf2UNXHH+OilNoZnXLHsZzxKlSIkNDyr7fTpUyz6cSFPDH/K8P4fNTmN103TZ33MgSN/UM3Xjx8WfmtCukfD6nWb2LYzjh8XL2X2/2ayedNGsyNlSUlJoVf3LoyfONlu3xv/qAKbg1Va64u2+48Bryil4oH1QAGgPLANeFUp9TJQQWudhnW/bnOl1H+VUvW11pdvn7FSaqhSKlYpFZt0/vx9B8zIyKBvr65079Gb9h07A1C6TBmcnJzIly8f/QcNIS425r7n/7BkzzTAxEwZGRn07dmV7j1708E2XmZoElaRhDOXSbqcRqblBj9uPsy/H69HZS93Dnw+jF+/HE4h1/zs/2woABevXCc9wwLAp8v2Elrd0/CMO7ZvZfnSJYQEVOWJAX3YtGEddSNrcuz334kI9iMkoCrXrl0jItjP8Cy58fLy5uTJE1mPExNP4u3tbUqWnMZr2ODHs553cnKic9ceLFn0gyn5wLHGKyc3s5QuXZp2HToSG7PT5ERWGRkZ9OrehR69+tCxk/2+N/5RBVYpVRmwAOdsTdm30ymgi22fbYjWurzW+het9ddAeyANWKqUaqK1Pox17Xcf8K5S6o3b+9Jaz9ZaR2itIzxKlbqvvFprRg4fgq+vP089+9cRp2dOn866v3jRj/gHBN7X/B+mWzL99CMBgfbPpLVm5LAh+Pr583S28TLDiXNXiPL3oqCrdfd+49AKTF0YQ6XuM/DrOwu/vrO49mcGQf2tm8k8S7hlvbZt7aoc+uOC4RnfGPMf9h9OIP7gET6a+xX1Gzbm6Mnz/HL0JPEHjxB/8AiFChUidu+vhmfJTURkJEeO/EbCsWOkp6ezYP482rRtb0qWnMZr1pzPOPr7EcD6+Vu+dDHVTNjff5MjjdftUlNTuXr1atb9NatXERAYZHIq6//b8CcG4+vnz7PPjbZr3w558M/9UEqVAmYB07XWOocDEVYATyulnrY9H6q13m0ryke11lOVUuWBYKXUr8BFrfWXSqlkYIgRmbdv3cK8r78kMKgGdaOtO+HfGPMu3307j31796CUonyFCkyZNsuI7nM1sF9vNm3awIWkJHyrlOfV199k88YN7M2Waep0+2YC2LZ1C9/YxqtOlHW83nz7Xf78809eHP0sSefP07VTO4KDa/LjEkO36hPz62l+2HiIbf8bQKblBnuOnOXjn/fkOv2TncJpU7samZYbXLqaxhPjfjY036PC2dmZSVOm065NCywWC/0HDDJl4S031oW6QVy9cgWtIahGDcZPnmFaHkcer3Nnz9Kzm3XtMDMzk+49e/FYi5Ymp4KtW7bw9VdfEBRUg+jwEADGvPseLVu1NrxvpbU2vBOj5HCazhfAB1rrG0qpAUCE1vop27QFgclAHaxr7se01m2VUq8A/YAM4AzQG4gExgM3bO0jtNa5nmAZFh6hN2xxjE0h2Zl4sOMjqVSb8WZHyFHiIvNOjbqbQq6Ou3x+7c9MsyPkyFHHzFHrgJlHbN9NwfwqTmsdca/pHPN/O4+01k53eW4uMDfb4zRgWA7TjQVuP19hhe0mhBBC3Jd/1D5YIYQQwlFIgRVCCCEMIAVWCCGEMIAUWCGEEMIAUmCFEEIIA0iBFUIIIQwgBVYIIYQwgBRYIYQQwgBSYIUQQggDSIEVQgghDCAFVgghhDCAFFghhBDCAFJghRBCCAM80lfTcRQKyO/seMsqjnoJqsRL182OkKNTP71gdoQcVRu5wOwIOTr5UU+zI+QqPfOG2RFyVMjV7ATCnhyvKgghhBD/AFJghRBCCANIgRVCCCEMIAVWCCGEMIAUWCGEEMIAUmCFEEIIA0iBFUIIIQwgBVYIIYQwgBRYIYQQwgBSYIUQQggDSIEVQgghDCAFVgghhDCAFFghhBDCAFJghRBCCANIgXUQ169fp17tKKLCahJWM5B3xrxpdqQsftUqERkaTHREKHVrRdq171eeHUZ0QAVaN4jIahs75lVa1A2hbaMonhzQgyuXk7Oe+/XAPrq1bkSrBuG0aRjJn9ftd2k8i8VCw9oR9OzSHoCPZs0gvIYvJdycuZCUZJcMVT2LsG5Mi6zbsZldGNa8etbzT7bwJenTnpQo7ALAUy39sqbd9E5Lzn7cHXc3F7tkvWnliuUEB/oS6FeV8ePG2rXv7I78dohm9SKzbtXKeTB75lTe/vcr1IusQZM64Qzs043Lycn3npmBHGW8bpecnEzvHt0ICfIntEYAO7ZvMzsSYO54KUe9ZuiDUEp5ApOBSCAZOAuM0lof/hvzcAd6a61n3mva8PAIvWVH7P3GBazXbk1NTaVw4cJkZGTQpGE9JnwwhehatR5ong+DX7VKbN4Wg4eHx0OZ39+5HuzObZtxc3PjxaeeYOlG6xhvWr+a2vUa4ezszLh3XgfgpX+/S2ZmJh2b1WH8jDn4BwZz6eIFihZzx8nJKU99lSz8YIVlxtRJxO+K4+rVK8xb+BN743fjXrw47Vo2Ze2mHZS8z/G73+vB5lOKfZPa0+KdVZy8cA2vEoWYPDCSap5FaTpmBRdT0m+ZvkVNL4a38KXTuHV5mv/DuB6sxWKhRkB1fl62Cm8fH+rViuSzL7/BPyDggeabnJp+74nukSvUvxI/r97E70cOU69BY5ydnXn3zVcBeH3Me/c13wddeDFqvB7Gd8UTgwZQp149Bg4aQnp6OteuXcPd3f2B5qmUeqDXGzVeBfOrOK11xL2my3UNVil1VSl1xXa7mu3xVaXUlQdKZyBl/R/5AVivta6itQ4H/gWU+ZuzcgeefNj5cqOUonDhwgBkZGSQmZHxwB+uf4Ko2vUo5l7ilrb6jZrh7OwMQEh4JGdOJQKwef1qfAOC8A8MBqB4iZJ5Lq4PKjHxJKuWL6XfgEFZbcEhoZSvUNEu/eekQUAZEs6lcPLCNQDe7RnKmG/3kNtXaedaFfh++3H7BQRidu6kSpWqVKpcGRcXF7r16MmSxYvsmiEnmzaspWKlypQrX4FGTZpnfd7CIqI5Zfu8mcFRx+vy5cts3ryRAQMHA+Di4vLAxfVhMHu8ci2wWusiWuuitluRbI+LaK2L2i3h39cYyNBaz7rZoLXeA2xWSo1XSu1XSu1TSvUAUEoVVkqtUUrtsrV3sL1sLFBFKRWvlBpvj+AWi4Xo8BDKe5WmSbPmREVH26Pbe1JK0a51C+pER/DxnNlmx7nFd19/TsOmjwFw7PcjKKUY2KM9HZrVZvb0D+yW49WXRvPWf8aSL5/j7HXpFF2e73f8AUCrUG9OJ1/jwImcN28WdHGiSZAni+NO2jMip04l4uNTLuuxt7cPiYnmFbCbFi1cQMcu3e9on/flXJo0a2FCIitHHa+EY8fw8CjFsCGDqBUZxohhQ0hNTTU7lunjladvA6VUPaXUQNt9D6VUJWNjPZAgIC6H9s5ACFATaAaMV0qVBa4DnbTWYViL80TbWvArwO9a6xCt9Yv2CO7k5MSOuHiOJJwkNmYnB/bvt0e397R63Sa27Yzjx8VLmf2/mWzetNHsSADMnPRfnJ2dad/FuqnSYskkbsdWJs78hHk/rWHV0p/YujFvmzsfxIplSyhVqjQhoeGG95VX+Z3y0TLEm59i/qCgixOj2gQw9ofcP08tQrzYeSTpgTet/hOkp6ezYtkS2nXsckv75AljcXJ2pkv3XiYlc1yZlkzid+9iyLDhbI/ZhZubGxMcaP+wWe5ZYJVSbwIvY93MCuACfGlkKIPUA77RWlu01meBDVj30SrgPaXUXmA14E0eNicrpYYqpWKVUrHnk84/1KDu7u40bNSYlSuXP9T53i9vb28ASpcuTbsOHYmN2WlyIlg47wvWrVrGxJmfZm1K9yzrTWTtepQo6UHBQoVo2KwFB/bFG55lx7atLPt5MTX9qzCkfx82bVjHsEGPG97v3TQLLsve45c4f+VPKpYuTPlSbmx4uyW7xrfDq3hB1r7VgtJFC2RN3ymqQtbarj15eXlz8uSJrMeJiSezPm9mWbtqOTVqhlCq9F9fA/O/+pzVK5Yy46PPTN1144jjBdY1Q28fH6KirFvdOnXuSnz8bpNTmT9eeVmD7QS0B1IBtNangCJGhnpAB4C/syrRBygFhGutQ7AeEFXg7i8BrfVsrXWE1jqilEep+0uazfnz50m2HZ2YlpbGmtWr8PX1e+D5PqjU1FSuXr2adX/N6lUEBAaZmmnj2pV8NGMSsz5fQMFChbLa6zduxqFf9pN27RqZmZnEbN1M1erGj+Ebb7/Hgd+Os+eX35nz2VfUb9iYDz/53PB+76ZzdHm+32Hdn/rLycv4P/sjYS8uJuzFxZy6lEaTt1Zw7or1YLMiBfNTx7cUy3bZd/MwQERkJEeO/EbCsWOkp6ezYP482rRtb/cc2f248Fs6demR9Xjt6hXMmDqRud8spFC2z5sZHHG8ADw9PfHxKcfhQ4cAWLd2Df7+/ianMn+8nPMwTbrWWiulNIBSys3gTA9qLdY10qFa69kASqlgrEcT91BKfQaUABoALwI9gHNa6wylVGOggm0+V7HjgsSZ06d5YlB/LBYLN/QNunTtTus2be3Vfa7OnT1Lz26dAcjMzKR7z1481qKl3fofNaw/O7du5NLFC9QLqcqzL77OrKkTSE//kwHdreMTEh7FO+OnUcy9OIOGP0PnlvVRKBo2a0Hj5q3slvV2H86cxtRJEzh39gz1o0Np1qIVU2cavw+7kIsTDQM9Gf1Z3o5sbxPmw/oDZ7iWbjE42Z2cnZ2ZNGU67dq0wGKx0H/AIAICA+2e46ZrqalsXLeGcZNmZLW99uIo0tPT6dmxNQBhkVG3PG9PjjZe2U2cNJWB/fuSkZ5OxUqV+XDOJ2ZHMn287nmajlLqBaAa0Bx4HxgEfK21nmZ8vPujlPLCeppOONZ9rAnAKGAo0ArQwLta6/lKKQ9gMVAYiAVqAa201glKqa+BYGDZ3fbDPozTdIzgqKdg/Z3TdOzpQU/TMcr9nqZjtIdxmo5RHHVfsr3PMc4rR/2ucNQzKfJ6ms4912C11hOUUs2BK0B14A2t9aqHkNEwts3Ydx4CaF1jffG2aZOA2rnMp/fDTyeEEOL/g7xsIgbYBxTEuua3z7g4QgghxD9DXo4iHgLsxHqaS1dgu1Jq0N1fJYQQQvz/lpc12BeBUK31BQClVElgK2D+HmwhhBDCQeXlNJ0LWI+ovemqrU0IIYQQuch1DVYpNdp29wiwQym1COs+2A7AXjtkE0IIIR5Zd9tEfPMc0N9tt5vM/2VpIYQQwsHlWmC11mPsGUQIIYT4J7nnQU5KqVLAS0Ag2X5CUGvdxMBcQgghxCMtLwc5fQX8ClQCxmD9VaQYAzMJIYQQj7y8FNiSWuuPsV5jdYPWehAga69CCCHEXeTlPNgM27+nlVJtgFNYfyxfCCGEELnIS4F9VylVDHgemAYUBZ4zNJUQQgjxiMvLj/0vsd29DDQ2No4QQgjxz3C3H5qYhvWHJXKktX7GkESPII1jXu7JUS/15F38ntezN4UD/hcCjntZuOIdzbkmal5c+nGk2RFydCUt494TmSDT4pgf/qIF83o9Gsd0t/SOd4FTIYQQ4hFxtx+a+MyeQYQQQoh/krycpiOEEEKIv0kKrBBCCGEAKbBCCCGEAe5ZYJVS1ZVSa5RS+22Pg5VSrxsfTQghhHh05WUN9iPgX9h+0UlrvRdwzPMGhBBCCAeRlwJbSGu987a2TCPCCCGEEP8UeSmwSUqpKth+dEIp1RU4bWgqIYQQ4hGXl5/JGAnMBvyUUonAMaCvoamEEEKIR1xefov4KNBMKeUG5NNaXzU+lhBCCPFou2eBVUq9cdtjALTWbxuUSQghhHjk5WUTcWq2+wWAtsAvxsQRQggh/hnysol4YvbHSqkJwArDEgkhhBD/APfzS06FAJ+HHURAcnIyvXt0IyTIn9AaAezYvs3sSAwbMojyXqUJDwkyO0qOLBYLtSLD6NyxndlRskybMomIkCAiQmvQv19vrl+/bnYkTpw4QYtmjQkNDiCsZiDTp06xe4anO9QkbkYvYmf05LMXm+Oa34nhbWuwf3Zf0paMpGTRWy9jWL+GF9un9iBuRi9Wvt/RrlkdYbyyu5yczOB+PagbHkS9iBrE7NjOTz98R4OomngWcyV+V5wpuWbPnELj2iE0qR3Kk4P7cf36dT6dPZO6Yf54F3fl4oUkU3KNGDqYSuU8iQoLzmrbt3cPTRrWJTq8Jt06t+fKlSuG58jLLzntU0rttd0OAIeAyYYnuzPHa0qpA7Yc8Uqp6Icwz/VKqYgHneZheXH0KJq3aEH8/l/YERePr5+/Pbq9q379B7BoyXKzY+RqxrQp+DnAON10KjGR/82YxqZtMcTu3scNi4UF384zOxbOzs6MHTeR3XsPsmHzdj6cNYNfDh60W/9eJd14sl0wdZ/7loiR83DKl49uDaqx7eBpWr++iONnb/2yK+bmwpQRDen2zs+Ej/yGPmPtu9HM7PG63esvj6ZxsxZsidvP2q1xVPf1wy8gkE+++pbadeubkun0qUQ++XAGS9duY+223VhuWFj0/bdE1qrDvB+X4VOugim5APr0688PPy29pe2pEUN5+5332BG3h3btOzLlgwmG58jLGmxboJ3t9hjgpbWebmiq2yilattyhGmtg4FmwAl7ZjDa5cuX2bx5IwMGDgbAxcUFd3d3k1NBvfoNKFGihNkxcnTy5EmWL1vKgEGDzY5yi0xLJmlpaWRmZnLt2jXKlvUyOxJly5YlNCwMgCJFiuDn58+pU4l2zeDspCjo4oxTPkVBV2dOX0xlz9Ek/jh354kJPRpWZ9HWo5w4nwLA+ctpds3qCON105XLl9m2dTN9Hh8IWL8birm7U93Xn6rVfE3JdFNmpoXr162f9bRr1/D0LEtQcAjlylc0NVe9+g0oXvzW760jvx2mbv0GADRp2pxFP35veI67FlillBOwQmt93HZL1Fqb8StOZYEkrfWfAFrrJK31KaXUG0qpGKXUfqXUbGU7xNm21vlfpdROpdRhpVR9W3tBpdQ8pdQvSqkfgILZ3uv/lFKxtrXkMfZ+gwnHjuHhUYphQwZRKzKMEcOGkJqaeu8X/j/20vPP8e77/yVfPse5ZoWXtzfPjnoev6oVqFLBi6LFitGs+WNmx7rF8YQE4uN3Exn1wBuB8uzUhVQm/xDP4U/7c+yLgVy5ls6a3bkvI1fzdse9sCsr3u/Ilsnd6N3EvEJixnhl98fxY5Qs6cGzI4bQtF4kzz01zCG+G8p6eTP86VFE1ahKqF8FihYtRsMmzc2OlSu/gECWLF4EwA/ff0fiSePX0e76zaS1tgCHlFLlDU9ydyuBcrZiOVMp1dDWPl1rHam1DsJaLNtme42z1joKGAW8aWsbAVzTWvvb2sKzTf+a1joCCAYaKqWCsaNMSybxu3cxZNhwtsfsws3NjQnjxtozwiNl6c9LKFW6FGFh4fee2I4uXbrEkiU/ceDQUY4kJHItNZVvvv7S7FhZUlJS6NW9C+MnTqZo0aJ269fdzZW20ZXwH/w5lR+fi5urMz0bVc91emcnRVjVUnR6awnt31jMv3pGUNWrmN3y3mTWeGWXmWlh357d9B88jDWbYyhUyI1pH4wzJUt2ycmXWLF0CdvjD7HrlwSuXUtl4fyvzY6Vq5kfzmHOh/+jfu1IUq5eJb+Li+F95mXRvzhwwHZFnZ9u3owOlp3WOgVrMRwKnAfmK6UGAI2VUjuUUvuAJkBgtpfdXP+PAyra7jcAvrTNcy+wN9v03ZVSu4DdtvkE3C2TUmqobY03Ninp/AO8Oytvbx+8fXyIsi0ld+rclfj43Q8833+q7Vu38POSxfhVq8TjfXuxYd1aBvXvZ3Ys1q1dTcWKFSlVqhT58+enfcdO7Ni21exYAGRkZNCrexd69OpDx06d7dp3kxAfEs5eIenKdTItN/hx21Fq+XvmOn1iUiqrdp3g2p+ZXLhync37TxFcycOOic0dr+y8vL3x8vYhPDIKgHYdO7NvT7xpeW7atH4t5StUpKSH9bPeql1HYneaf2Bmbnx9/Vj08wo2bYuha4+eVK5cxfA+81Jg/411zfBtYGK2m11prS1a6/Va6zeBp4A+wEygq9a6Btar/mQ/DPFP278W7nE6klKqEvAC0NS2j/fn2+aVU57ZWusIrXWEh0ep+3pP2Xl6euLjU47Dhw4BsG7tGvz9HefgHUfz9n/e58ixE/z62zE+//IbGjZuwieffWF2LMqVK0/Mjh1cu3YNrTXr1611iIPVtNYMf2Iwvn7+PPvcaLv3f+J8ClG+nhR0tf4pNq7pw6ETl3KdfvH2Y9QJLJu1vzbStwy/nsx9+ofN7PHKrnQZT7y8fTjym/W7YdP6tVR3gM+Ut085dsXuIM32Wd+8YR3VfP3MjpWr8+fOAXDjxg3Gv/8fBg0ZanifeSmwrbXWG7LfgNZGB8tOKeWrlKqWrSkE69HMYL0YQWGgax5mtRHobZtnENbNwQBFsf6gxmWlVBmg1UMJ/jdNnDSVgf37EhVWk7179vDiy6+aEeMWj/ftRaP6tTl86BBVKvow95OPzY7k0CKjounYuQt1o8OJDAvmxo0bdvlDvpetW7bw9VdfsGHdWqLDQ4gOD2H5sqX3fuFDEnP4LD9s+Z1tk7sTO6Mn+ZTi4+UHeLJdMEfm9sfbozAx03oy8+nGABw6eYlVcX8QM70nmz7oytwVBzl4/KLd8v4fe/cdHkW5PXD8e5LQO9KbSO8CCSAISBMLVYp0QQRFsYvl2rA39Kqo2K5eVFQQvNKUriiIlICgoIIg+JMiEASVDsn5/fHOhiUmkEBmZ9HzeZ59sjs7mTk7Oztn3jYT9PZK67FRz3LdkIG0atqQ1d+u4qbb7uSTaZOpX+McEpcupl/PLvTq2iGiMTVMaEyHzt24qFUT2jZrSEpKCv0GDuGNV18kvnYltm3dTLvmCYy4cVhE4wK4ckBf2rY6nx/XraV65Qq89d83mPjBfRJyIAAAIABJREFUeOrXqUHDerUoVaYMAwZe6XscoqonnkFkhao2TDPtG6+kFxEiEg+8ABTG3SpvPa66+GagD/ArsA74WVUfEJH5wAhVTRSRYkCiqlYUkTzAf4FzcVejKgsM9+YbCzTD9U7+HZiqqmPDl5VRfA3jE/TLxct8+OSnJ3RZy2hzsn0uKFEaFjEx0fk9Fun6UtAhZGj35OFBh5CuPw4cCTqEdB1Njs6dv2CezFxsMPIK5I5d7vXZOaEMoxeRa4HrgEoiEt5WWQD48vRDzDxVXY5Lfmnd6z3Szt8q7HkSXhusqh4gg5vFq+qgDKa3Sm+6McYYcyInOj14D5gBPA7cFTb9T1WNXF2NMcYYcwbKMMGq6u+4qtI+kQvHGGOM+XuInhH6xhhjzN+IJVhjjDHGB5ZgjTHGGB9YgjXGGGN8YAnWGGOM8YElWGOMMcYHlmCNMcYYH1iCNcYYY3xgCdYYY4zxgSVYY4wxxgeWYI0xxhgfWII1xhhjfBCdN9s7w6Sosv9QctBh/EXeXLFBh5Cun5P2Bx1CuooVyBV0COnaf+ho0CGkK1rvuQrQ/InPgg4hXQvvah10COlKTonO+8HGRum9kDPLSrDGGGOMDyzBGmOMMT6wBGuMMcb4wBKsMcYY4wNLsMYYY4wPLMEaY4wxPrAEa4wxxvjAEqwxxhjjA0uwxhhjjA8swRpjjDE+sARrjDHG+MASrDHGGOMDS7DGGGOMDyzBGmOMMT6wBBuwBrWr0KJJfVo1i6dtyyYAPP7wSFqe14BWzeLp0eUStm3bGlh869aupUlCg9RHybMK8eLo5yK2/ntuuZbz61akU+tGf3nvv6+MpmaZ/OzelXTc9G9XLqdO+ULMmv5RpMKkYe0qtPS+x3be9zhkYF9aNYunVbN4GtauQqtm8b7HMeLGa2hYowIXNj+2rj27f6Nf9w5c0KgO/bp34Pc9uwGY/ck0LmrZiEtaNaFj2/NZtvhL3+NLz+xZM6lXuzq1a1Rh1FNPRHz9+XPF8WT32kwa1piJwxpTt2xBbmxbmUnDGvP+0EaM6lGH/LncnT2bnFOEd65KYPzVjXjnqgQSKhaOeLxBb69w1149mIrlStKoQd2/vDf62WfInyuGpKSkdP4zcoLcXqIanfcBPB0icg/QF0gGUoBrgAlAgqompZm3M1BLVf+y5UWkFXBYVRedaH31G8brvC+WnFKsDWpXYe7nizmrWLHUaX/+8QcFChYE4LWXX2DtD9/zzPNjsrzs7L4fbHJyMpUrluOLhYupcPbZp7ycrNwPdtniheTNm5+7bhrKtM+WpU7ftmUz940Yzk/r1/HhzAUUOatYaoxX9e5Ezly56d57ABd1vCzT6zqd+8E2rF2FOWm+x3D3/+t2ChYqxIi77s3ysrNyP9glixaSN18+bh0+hDkLlwPw2AN3U7hIEa676XbGPD+K3/fs4V8jH2Xf3r3kzZcPEeH7Nd8y/Kr+fLp4VabXVaJQ7ix/lrSSk5OpW6saH8+YQ9ly5Wh+XiPeGvc+NWvVOq3lZuV+sA90rsHX//c7U1ZuIy5GyJ0jltplC5C4cQ/JqtzQphIAL3z6E9VL5mfXvsMk7T1M5eL5eKHPuVw6+oSHh+Oc7v1g/dpep3o/2IULviB//vwMHTyQZV9/mzp98y+/MHzYUNat+4EFXyVSLIPfxcmc7v1g/dpeeXLIclVNONl8f7sSrIg0BToCDVW1HtAO+CWj+VV1agbJNQ5oBTTzKdQMhZIrwP59+xGJjpsOf/bpPCpVqnxayTWrGp3XnMJFivxl+hMP3MmIex/5y7YZ9+YrXHhpF84qVjxSIZ6UqjLlo0lc1qOX7+tq0qw5hYsUPW7anBnT6d6rPwDde/Vn9ifTAMiXP3/q9tu/fx8EsJ8tW7qUypWrcE6lSuTMmZOevXozfdqUiK0/X65YGlQozJSV2wA4mqLsPXSUJT/tJtkrfHy75Q9KFHQnX2u37yVp72EANuzcR64cMeSIjdx2C3p7pdW8RUuKpNnfAO68/VYeefzJwI9dQW+vv12CBUoDSap6CEBVk1Q1VMd6g4isEJFvRaQGgIgMEpEXvedjReQVEVkCfAAMA24RkZUi0sKPYEWEHl0voU2Lxrz15uup0x998D7q1TiHSR+8z133PODHqrNs4gfj6dmrd9BhMG/mdEqWKkON2sdXS23ftpW5M6bSZ+DQiMckIvTsegltWzTm7bDvEeCrLxdSvEQJKlepGvG4AJJ27qBkqdIAlChZiqSdO1Lfm/nxFNqcdy5X9unGqNGvRDy2rVu3UK5c+dTXZcuWY8uWLRFbf9nCediz7wgjO9Xg3SEJ3NuhOrlzHH9Y7HxuaRat/+0v/9u2RnF++PVPjiRHrhYw6O2VGdOnTqFMmTLUrXdu0KEEvr3+jgl2NlBeRNaJyBgRuSDsvSRVbQi8DIzI4P/LAc1UtRvwCvCsqtZX1QXhM4nI1SKSKCKJu06jjeHj2fP5bOEyJvxvOm++/jKLFrrV3DPyYb75YSM9Lu/Df17LevVwdjt8+DCfTJ9Gt+49A43jwP79vPbC09xw+1+rWh8feQe33fMwMTGR362nz57PpwuXMT7N9wjw0aTxdOsR/IkJuBOB8JLqxR268OniVbz+9gc88/hDAUYWjNgYoXrp/ExavpV+/0nkwJFkBjU7VkMz+PyzSU5RZqzeftz/VSqWlxvaVuaxT9ZGOuSotn//fp5+6nHuHfnP25fS87dLsKq6F4gHrgZ2AhNEZJD39v+8v8uBihksYqKqJmdiPa+paoKqJmTU7pYZpcuUBaB48RJc2qkrK5YvO+79Hr36MH1K5DrrZGTWzBnUb9CQkiVLBhrHLz//xOb/20TXdk1p27gW27dtoftFzdm5YzurV33NbdcOom3jWsyePpmH/nULc2dMi0hcab/Hr73v8ejRo3w8dTJdAzwxKVa8BNt/dVWg23/dRrF0qs+bNGvO//28kd92RbZDSpkyZdm8+VgLzpYtmylbtmzE1r/jj0Ps+OMQa7b+AcC873dSo1QBADrWK0Xzqmdx7+TvjvufEgVyMapnXUZO+Z4tuw9GLFYIfnudzE8/bWDTpo00bVSfWtXOYcvmzTQ/L57tv/4aSDxBb6+/XYIFUNVkVZ2vqiOB64Hu3luHvL/JQFwG/77P7/hSV7RvH3/++Wfq8/nz5lCzVm02rP8xdZ4ZH0+larXqkQopQxMnREf1cLWadfjy203MW/od85Z+R8nSZflw1kKKlyjJ3CVrUqe379iV+x9/lnaXdPI9pn379rE3zfdYo1ZtAD7/bB5VqlWnTNlyvseRkXYXd+DDCeMA+HDCOC68pCMAm37aQKiT47ervubwoUMUKXpWRGNLaNSI9et/ZNPGjRw+fJiJE8bToWPniK1/177DbP/jEGcXzQNA43OK8FPSPppWKsoVTStw6wffcuhoSur8+XPF8Vzverz46QZWbf49YnGGBL29TqZOnbps2ryd79Zt5Lt1GylbrhwLFy+nZKlSgcQT9PbKKMmcsUSkOpCiqqEsVR/4GfhrP/KT+xMoeNK5TtHOHdsZ2LcHAEePJtP98t60vfAiBvW7nPU/riMmRihX/myeef4lv0LIlH379vHpvDm8MCbybXS3XTuIpV8tYM9vu2gVX43rb7uHHn0HRjyOE9m5YzuDwr7Hbt73CPDRpAl06+l/56aQG4ZewVdfLmD3b0k0qVuZW+68j+tuGsF1V/Vnwri3KFu+AmPecMl2xvSP+HDCe+TIkYNcuXPz0n/eiXinlLi4OJ59/kU6dbiI5ORkBg4aTK3atSMaw6hZP/Jw11rkiI1hy54DPDjtB94eHE+OuBhe6uvaEVdv+YPHZ6yjV6OylC+ShyEtKjKkRUUArn9vFbv3H4lIrNGwvcINGtCXBV/MZ1dSEtUqleee+x5g4JVXBRZPWkFvr7/dMB0RiQdeAAoDR4H1uOriRLxhOiKSADytqq286uMEVb1eRMYC01V1kresasAk3FCfG9K2w4aczjAdP2X3MJ3skpVhOpF0OsN0/JSVYTqRlB3DdPySlWE6kXS6w3T8cqrDdPx2usN0/JLZYTp/uxKsqi4n/aE1FcPmScQNwUFVxwJjveeD0ixrHVDPjziNMcb8vf0t22CNMcaYoFmCNcYYY3xgCdYYY4zxgSVYY4wxxgeWYI0xxhgfWII1xhhjfGAJ1hhjjPGBJVhjjDHGB5ZgjTHGGB9YgjXGGGN8YAnWGGOM8YElWGOMMcYHlmCNMcYYH/zt7qYThFgR8uW2TZlZFYvnCzqEM0r+KN23jiannHymgETrbeGKNLo+6BDSlbTkhaBDSNe+KL1VY2ZZCdYYY4zxgSVYY4wxxgeWYI0xxhgfWII1xhhjfGAJ1hhjjPGBJVhjjDHGB5ZgjTHGGB9YgjXGGGN8YAnWGGOM8YElWGOMMcYHlmCNMcYYH1iCNcYYY3xgCdYYY4zxgSVYY4wxxgeWYKPENUMGU6FMCeLr1wk6lONEa1wAs2fNpF7t6tSuUYVRTz0RdDipLK4T2/zLL1zavi0J9evQqEFdxrw4GoCPPpxIowZ1KZgnjhXLEwOLLyTo7TW8TysSJ97N8kn3cH3fVgB0a9eA5ZPuYd/y0TSsVeG4+etULcP8t25j+aR7WPbB3eTK6f9tDq+9ejAVy5WkUYO6qdPuuet2GtStSZP4c+ndsxt79uzxPY70JCcn07pZAn16dAHgi/mf0fr8RjRvVJ/hV1/J0aP+3wov6hKsiNwjImtE5BsRWSkiTbJx2a1EZHp2LS87DRg4iCnTZwYdxl9Ea1zJycncfONwpkybwdfffMfE8e/z/XffBR2WxZUJcXFxPPbkKBJXrubTLxbx2itj+OH776hZuw7vTpjE+c1bBhJXuKC3V63KpbmyWzNaDBhF416Pc0nLOlQqX4w1G7bS+7bXWbhiw3Hzx8bG8OYjA7nh0fHE93iUi4Y+z5Gjyb7H2W/AICZPm3HctDZtL2TZ19+yZPkqqlatyjNPPe57HOl5dcxoqlavCUBKSgrXXzOY18e+y8JlKylX/mzGv/u27zFEVYIVkaZAR6ChqtYD2gG/BBuVIyK+ng42b9GSokWL+rmKUxKtcS1bupTKlatwTqVK5MyZk569ejN92pSgw7K4MqFU6dLUb9AQgAIFClC9Rg22btlCjRo1qVateiAxpRX09qpxTimWrd7EgYNHSE5OYcHy9XRtU5+1G7fz4887/jJ/u6Y1WP3jFr5dtwWA337fR0qK+h5n8xYtKVLk+OND2wvbExfnDpeNmpzHli1bfI8jra1bNjNn5gz6DxwMwG+7dpEzZ06qVK0GQKs27Zg+5SPf44iqBAuUBpJU9RCAqiap6lYR2SQiD4rIChH5VkRqAIhIPhF5U0SWisjXItLFm15RRBZ4868QkWZpVyQijbz/qSwi8SLyuYgsF5FZIlLam2e+iDwnIonATZHbDOZktm7dQrly5VNfly1bLpAfcloWV9b8vGkT36xcSULjbKuoyhZBb681G7ZyfoMqFC2Ujzy5c3Bx89qUK1Ukw/mrViiBKkx9aTiL3ruTWwe2i1isJ/LO2P/S/qKLI77ee+64jZGPPE5MjEtxZxUrxtGjR/l6hWt6mDb5Q7Zs9r/s5n8lfdbMBu4XkXXAXGCCqn7uvZekqg1F5DpgBDAEuAf4VFUHi0hhYKmIzAV2ABeq6kERqQq8DySEVuIl3BeALsA24B2gi6ruFJFewKPAYG/2nKqa+r9hy7gauBqgfIUKad82xpzE3r176d+nJ088/W8KFiwYdDhRZe3G7Twzdg7Txgxn/8HDrFq7meTklAznj4uNpVmDSjTvP4r9Bw8z49UbWfH9/zF/6boIRn28p554lNi4OHr16RfR9c6a8THFihenfoN4Fn7h0oeI8PrYcdx35wgOHT5E6zYXEhsb63ssUZVgVXWviMQDLYDWwAQRuct7+3/e3+VAN+95e6CziIzwXucGKgBbgRdFpD6QDFQLW01N4DWgvVc6rgPUAeaICEAsLumGTMgg1te85RAfn+B/XYw5TpkyZdkcdga6ZctmypYtG2BEjsWVOUeOHKF/7x5c3rsvXbp2O/k/RFg0bK+3Jn/FW5O/AuDB6zuxZXvGnYW27NjDwhUb2LVnHwAzF66hQY3ygSXYcW+PZeYnHzN95ly842rELF28iJmfTGfu7JkcOniQP//8g2FXXcErb7zN9DnzAfhs3hw2rP/R91iirYoYVU1W1fmqOhK4HujuvXXI+5vMsRMDAbqran3vUUFVvwduAbYD5+JKrjnDVrENOAg0CFvGmrBl1FXV9mHz78vuz2hOX0KjRqxf/yObNm7k8OHDTJwwng4dOwcdlsWVCarK8GuGUL1GTW646ZZAYjiZaNhexYvkB6B8qSJ0aXMuE2Zk3LN6zqLvqF2lDHly5yA2NoYW8VX4/qdfIxXq8bHMmsmzz4xiwodTyJs3b8TXf9+Dj/Ltuk18/d16Xhv7Ls0vaM0rb7zNzh2u7frQoUOM/vcoBl51te+xRFUJVkSqAymqGjq1qA/8DNTN4F9mATeIyA2qqiLSQFW/BgoBm1U1RUQG4kqlIXuAq3Al1n3AIqC4iDRV1a9EJAdQTVXX+PARM3RF/z4s+Hw+SUlJVK5Yjvvuf5BBg6+KZAhnVFxxcXE8+/yLdOpwEcnJyQwcNJhatWsHHZbFlQlfLfqS998bR+06dWnW2HV2GvnQIxw6dIjbb72JpJ076XFZJ+rVO5fJAfVgj4bt9f7TQyhaOB9HjiZz8xMf8PveA3RuXY9/39mTYkXy87/Rw/hm7RY6D3+JPX8eYPS4T1k47g5UlVkL1zBzof+HsEED+rLgi/nsSkqiWqXy3HPfAzzz1BMcOnyIzpe6ckqjxk0Y/dIrvsdyMi8+/wyzZ3xCiqZw5ZCradmqte/rFNXoqd30qodfAAoDR4H1uHbORCBBVZNEJAF4WlVbiUge4DmgGa40vlFVO3rtrh8CCswEhqtqfhFpBYzw5qkAzMC1tR4CRuMScxzwnKq+LiLzvflPOCgvPj5Bv1wS/Lg9YyLp6AnaBIMWFxt1lXMAFGl0fdAhpCtpyQtBh5Cug0f8H2p0Korlz7E8vb45aUVVgj1TWYI1/0SWYLPOEmzWnOkJNjr3QmOMMeYMZwnWGGOM8YElWGOMMcYHlmCNMcYYH1iCNcYYY3xgCdYYY4zxgSVYY4wxxgeWYI0xxhgfWII1xhhjfGAJ1hhjjPGBJVhjjDHGB5ZgjTHGGB9YgjXGGGN8EFX3gzX/DNF8F5ZoFCMSdAjpio2JzrgADkXpXVh+Wxqdd60p2uTGoENI1+4o3V6ZZSVYY4wxxgeWYI0xxhgfWII1xhhjfGAJ1hhjjPGBJVhjjDHGB5ZgjTHGGB9YgjXGGGN8YAnWGGOM8YElWGOMMcYHlmCNMcYYH1iCNcYYY3xgCdYYY4zxgSVYY4wxxgeWYI0xxhgfWIKNEgcPHqR508Y0bnguDc+tzcMPjgw6JACuGTKYCmVKEF+/TtChcO3VV3FO+VI0blgvddpjDz9ItUrlada4Ic0aN2TWzE8sLs+wqwdzdrmSJDSomzrtt99+o+Ml7alXqxodL2nP7t27Ix5XuHVr19IkoUHqo+RZhXhx9HOBxHLw4EHatDiP85s05Lz4ejz28AMAbNq0kbYtm9KgTnWuHNCHw4cPBxIfRMf2Gt7nAhI/+BfLJ97N9X1bAdCtXX2WT7ybfYnP07Bm+dR5ixbKy8xXb2Dnwqd59s6eEY0zJMhj2N8+wYpIsoisFJFVIrJCRJoFHVN6cuXKxcw5n7J0xSqWJK5k9qyZLFm8OOiwGDBwEFOmzww6DAD6DRjIR1P/mqiG33Azi5auYNHSFVx08aUWl6f/gEFMnjbjuGnPjHqCVm3a8M1362jVpg3PjHoi4nGFq1a9OksSv2ZJ4tcsWpJInrx56dzlskBiyZUrF1NnzOXLJStYsHg58+bMYtnSxTxw77+47oab+Xr1WgoXLsI7Y98MJD4IfnvVqlyaKy9rRosrnqZx7ye4pEUdKpUvxpoN2+g94j8sXLHhuPkPHjrKQy9/zL+e/ShiMaYV5DHsb59ggQOqWl9VzwX+BTwedEDpERHy588PwJEjRzh65AgSBTfabt6iJUWLFg06DMDFUqRIdMQSLprjKpomro+nTaVf/4EA9Os/kOlTpwQRWro++3QelSpVpsLZZwey/rS/wSNHjiIIX3z+GV0u6w5An/4D+Hh6dGyzILZXjXNKsmz1zxw4eITk5BQWLP+Rrm3OZe3G7fz4846/zL//4GEWrfyJg4ePRizGtII8hv0TEmy4gsBuABHJLyLzvFLttyLSJTSTiNwnImtFZKGIvC8iIyIRXHJyMk3i61OhTAnatLuQxk2aRGK1Z7zXXn6J8xLqc+3VVwVe5RkuGuPasWM7pUuXBqBUqVLs2LE94IiOmfjBeHr26h1oDMnJyTRvEk/Vs0vTum1bzqlUmUKFChMXFwdAmbLl2LZ1a6AxhgSxvdZs2Mb5DSpTtFBe8uTOwcXNa1OuZJGIxnAm+Sck2DxeFfEPwH+Ah73pB4HLVLUh0Bp4RpxGQHfgXOASICG9hYrI1SKSKCKJO5N2ZkugsbGxLFm+kvWbNpO4bClrVq/OluX+nQ25ehjffP8ji5auoFSp0tx9Z0TOhU4qWuMKJyJRUUsCcPjwYT6ZPo1u3YNppwuJjY1l4ZLlrPnxZ5YnLmPduh8CjScjQW2vtRu388zYOUwbM5ypL17HqrWbSU5JiWgMZ5J/QoINVRHXAC4G3hZ3VBHgMRH5BpgLlAVKAucDU1T1oKr+CUxLb6Gq+pqqJqhqQvFixbM14MKFC3NBq9bMnh0dbZ/RrETJksTGxhITE8OgwUNYnrgs6JCAKI6rREm2bdsGwLZt2yhevETAETmzZs6gfoOGlCxZMuhQAPcbbNGyFcuWLOb33/dw9Kir4ty6ZTOly5QJOLpgt9dbUxZzfr9RXDjkefb8eYAff86eAsbf0T8hwaZS1a+AYkBxoJ/3N15V6wPbgdxBxbZz50727NkDwIEDB5g3dw7Vq9cIKpwzxq9esgCYNnUytWrXDjCaY6I1rks7duLdcW8B8O64t+jQqXPAETkTJwRfPZyU5jc4/9O5VKtegxYtWzHlow8BeH/cO1zaIfhtFuT2Kl7EtVOXL1WELq3PZcKMxEDiOBPEBR1AJIlIDSAW2AUUAnao6hERaQ2Eegp8CbwqIo/jtk9H4DW/Y/t12zaGDh5IcnIyKZpC9x6Xc2mHjn6v9qSu6N+HBZ/PJykpicoVy3Hf/Q8yaPBVgcRy5YC+LFjwObuSkqheuQJ33zuShV98zjffrEJEqHD22Yx+8RWLyzNwQF8WfDGfXUlJVK1Unnvve4Dbbr+LAX178fZ/36R8hbN5570JEY8rrX379vHpvDm8MCby2yjcr79u49qhg0lOSUZTUujarQcXX9qRGjVrMfiKvjzy4P3UO7c+AwYNDjTOoLfX+08PoWihvBw5msLNT37A73sP0Ll1Pf59Rw+KFcnP/0YP45t1W+g8fAwAP0x/gAL5cpMzRxydWtWl43Vj+GHjrxGLN8hjmKhqRFYUFBFJBr4NvQTuVtWPRaQYrvo3P5AInAdcoqqbROQBoC+uVLsDmKmqr2e0jvj4BP1yiZ3FZdbRZGuzyYqYKGknTStKwwLg8NHo3MdyxkVnpWHRJjcGHUK6di99IegQ0pUnhyxX1XT754T725dgVTU2g+lJQNMM/u1pVX1ARPICXwDL/YrPGGPM39PfPsGeotdEpBauTfYtVV0RdEDGGGPOLJZg06GqfYOOwRhjzJktOhsEjDHGmDOcJVhjjDHGB5ZgjTHGGB9YgjXGGGN8YAnWGGOM8YElWGOMMcYHlmCNMcYYH1iCNcYYY3xgCdYYY4zxgSVYY4wxxgeWYI0xxhgf2LWITcTFxdp53d9BNN92MFpvC7dr7+GgQ0jXb0tGBx1Cuoq0vj/oEE5LdO6FxhhjzBnOEqwxxhjjA0uwxhhjjA8swRpjjDE+sARrjDHG+MASrDHGGOMDS7DGGGOMDyzBGmOMMT6wBGuMMcb4wBKsMcYY4wNLsMYYY4wPLMEaY4wxPrAEa4wxxvjAEqwxxhjjA0uwUWT2rJnUq12d2jWqMOqpJ4IOJ1W0xnXNkMFUKFOC+Pp1gg4l1cGDB2netDGNG55Lw3Nr8/CDI4MOKVW0fI+bf/mFS9u3JaF+HRo1qMuYF92t0n777Tc6X9qe+rWr0/nS9uzevTuwGEOSk5M5r1FDunXtFGgcb7zyIm2bNaRt0wb85+UXABj16ANc2DyBi1o2pm+3Dvy6bWugMa5bu5YmCQ1SHyXPKsSLo5+L2PpvuLwpy9++nsS3hvPWyB7kyhnH3BevYvGb17L4zWv56aMRfPBYHwB6X1iPpWOvY9nY4Xw2Zgh1K5f0JSZfE6yIdBURFZEamZx/k4gUS2f63iyuN0vzn2A5g0SkTHYs62SSk5O5+cbhTJk2g6+/+Y6J49/n++++i8Sqz8i4AAYMHMSU6TODDuM4uXLlYuacT1m6YhVLElcye9ZMlixeHHRYUfU9xsXF8diTo0hcuZpPv1jEa6+M4Yfvv+PfTz/JBa3bsnLNWi5o3ZZ/P/1kIPGFe+mF56lRo2agMfzw3Rree/tNps9dyKwFy5g3+xM2/rSBYTfcypyFicz6YintLrqU50c9Fmic1apXZ0ni1yxJ/JpFSxLJkzcvnbtcFpF1lylWgOu6n8f5Q14hYeBLxMbE0LNtHdpd/wbnDX6Z8wa/zJLVvzD5c7fPb9q2m/bXv0mjQS/x+Fuf89IdXXyJy+8SbB9goff3TDQIiEiCXbZ0KZUrV+GcSpXImTMnPXv1Zvq0KZFY9RkZF0DzFi0pWrRo0GEcR0TInz8/AEeOHOHokSOISMBRRdf3WKp0aerbd/SKAAAgAElEQVQ3aAhAgQIFqF6jBlu3bOHjaVPp1/8KAPr1v4LpU4PdzzZv3szMGZ8waPBVgcaxft0PNIhvRJ68eYmLi6NJsxbMnD6ZAgULps6zf/8+iIL9LOSzT+dRqVJlKpx9dsTWGRcbQ55cOYiNjSFP7hxsS/oz9b0CeXNxQXwlpi34AYDFq39hz96DACxd8wtlixdMd5mny7cEKyL5gebAVUDvsOmtRGS+iEwSkR9E5F1JcwQSkTwiMkNEhqaz3NtFZJmIfCMiD55g/c+KyBoRmScixb1p9UVksfe/H4lIkYymi0gPIAF4V0RWikiebNkwGdi6dQvlypVPfV22bDm2bNni5yozJVrjimbJyck0ia9PhTIlaNPuQho3aRJ0SFH7Pf68aRPfrFxJQuMm7NyxnVKlSwNQslQpdu7YHmhsd9x2C488/iQxMcG2pFWvWZuli79k92+7OLB/P5/NmcXWLZsBePKR+2lcpzIfTRzPiH/dH2ic4SZ+MJ6evXqffMZssjXpT54b/yXrJt3Kxsm388feg8xbtiH1/U4tajB/+U/8uf/QX/53UMd4Zi350Ze4/NxzugAzVXUdsEtE4sPeawDcDNQCKgHnh72XH5gGvK+qr4cvUETaA1WBxkB9IF5EWqaz7nxAoqrWBj4HQg1hbwN3qmo94NsTTVfVSUAi0E9V66vqgTSxXC0iiSKSuDNpZ+a3ivnbi42NZcnylazftJnEZUtZs3p10CFFpb1799K/T0+eePrfFCx4fAlCRAIt+X/y8XSKlyhOw4bxJ5/ZZ1Wr1+C6G2+jX/eO9O/ZiVp16xEbEwvAnfc+xNLVG7isZ2/Gvv5ywJE6hw8f5pPp0+jWvWfE1lk4f246Nq9BzV7PUqnrKPLlyUnv9vVS37+8XT0+mPvtX/6vZYNzGNihIfe+PNuXuPxMsH2A8d7z8RxfTbxUVTeragqwEqgY9t4U4L+q+nY6y2zvPb4GVgA1cAk3rRRggvd8HNBcRAoBhVX1c2/6W0DLjKaf7MOp6muqmqCqCcWLFT/Z7CdVpkxZNm/+JfX1li2bKVu27Gkv93RFa1xngsKFC3NBq9bMnh18O3G0fY9Hjhyhf+8eXN67L126dgOgeImS/LptGwC/bttGseIlAotv8aIv+Xj6NGpUPYcr+vfh888+ZfDAAYHF03vAlXzy2Vd8+PE8ChUuzDlVjj/sXdazN59MmxxQdMebNXMG9Rs0pGRJfzoOpadNQmU2bdtN0p79HE1OYfLn33FenQoAnFUoLwk1yzLjq3XH/U+dyiV5+c4u9Lz7PX7740B6iz1tviRYESkKtAH+IyKbgNuBy8OqgsPL6clAXNjrL4GL01YbhxYNPO6VKOurahVVfSMTIWmWP0SEJTRqxPr1P7Jp40YOHz7MxAnj6dCxc9BhRW1c0Wrnzp3s2bMHgAMHDjBv7hyqV89UHz9fRdP3qKoMv2YI1WvU5IabbkmdfmnHTrw7zp1XvzvubTp0Cm4/e+jRx1m/8Rd++HEjb497nwtat+HNt94JLJ6knTsA2LL5/5g5fQpde/Ri44b1qe/P/mQ6VapWDyq840ycENnqYYBfdvxO49rlyZMrBwCt4yux9mdXs3hZq1rMWLSWQ4ePps5fvkQhxj/Sm6se+ZD1v+zyLa64k89ySnoA76jqNaEJIvI50CIT/3u/93gJuC7Ne7OAh0XkXVXdKyJlgSOquiPNfDFeDOOBvsBCVf1dRHaLSAtVXQAMAD7PaLq3nD+BAln54KcqLi6OZ59/kU4dLiI5OZmBgwZTq3btSKz6jIwL4Ir+fVjw+XySkpKoXLEc993/YOAdUn7dto2hgweSnJxMiqbQvcflXNqhY6AxQXR9j18t+pL33xtH7Tp1adbYdXYa+dAj3DriTgb26807Y9+kfIWzeevd8SdZ0j/H1QN7s+e334jLkYNHnnqOQoUKc/sNw9iwfh0xMTGUK1+Bx555Iegw2bdvH5/Om8MLY16J6HqXfbeZj+av4as3hnE0OYVVP27jjamJAPRsW5enxy04bv5/XdmKooXy8tyt7rd5NDmF5kNfzfa4RDX7C3ci8hnwpKrODJt2I1ATV3U7QlU7etNfxLWXjvVKuwnALuBNYKeq3iEie1U1vzf/TcAQb7F7gf6qeqw1m9RhOq/hqpN3AL1UdaeI1AdeAfICPwFXquruE0zvDjwGHACapm2HDYmPT9AvlySeziYz5oxzNDkl6BAyFBsTPT1qw+3aezjoENJ1Vv6cQYeQrqJtomccebiDCx9erqoJJ5vPlwT7T2MJ1vwTWYLNOkuwWXOmJ1i7kpMxxhjjA0uwxhhjjA8swRpjjDE+sARrjDHG+MASrDHGGOMDS7DGGGOMDyzBGmOMMT6wBGuMMcb4wBKsMcYY4wNLsMYYY4wPLMEaY4wxPrAEa4wxxvjAEqwxxhjjA7ubTjYQkZ3Az9m0uGJAUjYtK7tFa2wWV9ZYXFljcWXNPyGus1W1+MlmsgQbZUQkMTO3QQpCtMZmcWWNxZU1FlfWWFzHWBWxMcYY4wNLsMYYY4wPLMFGn9eCDuAEojU2iytrLK6ssbiyxuLyWBusMcYY4wMrwRpjjDE+sARrjDHG+MASrMkWIiJBx2CMMdlJRGK8v6d0fLMEa06biIh6jfkicpGIlA06prSi4QQgGmI4E4lI/mjYdiISF3QMWRG+zUQkZzTEcSYRkSJAQe9l/VNZhiXYM1xo5xWRPCKSN4gYwpJra+B+4M8g4shImhOAziJSOOAY2ohIrUjHkCaeomHPqwcZy4mISFXgHU7xAJeNcRQCGnnPLwz6+zuZNPvblUCfUGksUuv3/lYFrggywZ+GFsCdIvIg8M6pnOhZgj3DqaqKSFdgCjBXRAaISL5IxyEi3YF3gSdV9Y9o+kGFHWg6APcAES+JhMVwM/AkcCDSMYR4B9o2IjJaRIbhDiIFT/Z/QVDVH4GNwF0iUi/AUEoCLUVkCvAC2XdpVF+E7W9NgV7A/1Q1JRLrDiV3EWmF29eHA11FJFck1p9dVHUq0Bi4CbhOVfdqFofdWII9w4lITeBW4D7gUWAA0M97z7eqmXSWPRXYBdwIoKqHRSTWr/VnlYicD7wBPK6qSUH82EWkDe67aa6qG0WkgYi0i3QcqpqiqpNwZ+iPASO9k6IckY4lI+LEAKjqrbgkOzLSSTa0n6vqOqAs7oD7AXAoknGcChFpCLwKbAf2RWq9XnJtAbwCvAmsAloCvaLpxDs96RzXRuO+7/4iUiPLy7NxsGcuEamCO0DGqmp3b1pTYALQR1W/9Gm9x7W5AsnAamAnsBJYoaoDvfdjVTXZjzgyG6P3Oh9uu5RW1fhIxJZODFWBu4A9uG3WCFeSfVtVx/sVR3rxeCcYjwLVgD+AQap61O8YMiNNnGep6i7v+cNAHdwJwTcRjuMqoDUwD6gK/Aa8p6pbRaQYsCurpZvslnZ/86YNBQbiTsKXRSpGEbkDyKeqI7197SrgMuA/uNL0kUjEkRVpvu/uuJqufao6XURGAaWBW4BuwEFVfetky7QS7BkmzRnWJuBroLDXLpRXVb8C3sfdOcIXYTvhCFzCuBjXTlYVaAjUEZHJ3ryBJlcRaSciHYEiQH9glYhMCSVXv0rZaWK4VkS6AftxB+gywCSgK/AFEaiyThNPTaCYqo5Q1c5ALG6fQURaeSdNgQmL83rgORF5TEQqq+p9uNLQfV7pzDciUjAsjuZAF1w14X+BJUA5oIeI3I3rdxB49WdYvENE5D7v9/kOMBFXw5UQwXbYtcB5IlJLVQ+p6hjcftYcyHJJMBLCtt+NwB3AucBgERmrqrcDO4Bngdtxx91MLdQeZ8iDYzUOzYE+QGfv9QjcZcDuAi4ENuOqIf2MpQrwkff8UVwbcC7vdQ5gAS6RSIDb6zbgc+BFYD7QFMgPvO69jolADNcDy4Aq6bzXz/uh1ojgNrkFl9Tn4aoPY4ACwP+AFV48lYP6zsLiHOrFWQ5Yj6t9aOG9NwqXOHL5tO7KwL+A3EBhYDKwHDgvbJ4OuKT1FVAv6O0VFtdNwFygDfANcKs3/U7vN9nQh3WGjkvxQFugAu6E4zFcn4fGQHXvNzcZuDfo7XSCz5Ib+Cj0ewVy4vqW3Om9rgGUyPTygv5A9sjyDnAR8K2X1ObhqlvAtX0u85LHxd60bEsgaRMlcDbwNvA8MD0suXaLROLKRLzVwrbNncAML5nE4LrevwSU9zmGYt7BrraX2Ht7Ca4V0MT7/upGcJv0BxZ4zx/Dtcu9GfZ+D6BiQN9XI1wpMZe3rUYBpbz9ei7wBDA7LMkW8zGWc7zEWh93Ihna128l7OTD25fyBbG9wmNIE8+zgOBOuj/2tmes9/712b3PhyXXS4B1wL24Nt8EXG3WncBiXKm/prePPRWKKehHOse1vLiT8g5h0y4B/n1Kyw/6A9ojSztDDO7MvVfYtJnAGO/5SFwPx2ZAjmxcr4Q97+X9UHLiSoYrgHLee0NwZ/qZPsPzaTsVx5XKRuM6WXwS2h64E4CCaX9Y2b2dvNdx3jaaAHyIa396z0saOYDCPm+HtPHUw5UuhuNqHAoBG3Cl12zbX04x1r7A0tCBzdu/KgOzwubZgDsxyOv39vL2n0dxHeMq4kpg7+BOkKoGua0yiP0i3EnBJNwJySQgp/feMOBCH9ddG6/mw4tjO/AD0NZ7vziuieYi4DugTtDbK53vuynupLwgrslrA9DMe2+o93vJndXjRuAf0h4n3AFyAtW95xWBEl4CvTxsnrOBt7znOYB/484Qs/0g5B2YvwUqea8vxJUsPvMOfKuB2gFvs/q4oQFFvQS7AK/UAVyJqzYr5cN6w3+sXXBV+NW9eHoA53jvXeMd/OJ83g7h8RQCCnrPY3ClsUu81w/jShjFA/q+wktgjwILgZ7e6wregfo84FJcTUlZv7dX2LTyuCrOV7zfXzVcFedwv7+/TMTbkGOl+QLAYu95Wy85hLbhQOD70G82m9ZdGXei2iVsWjXgfCDRe30ncBho470uiGuSCPT4kMHnuQFX+/cWrhq7vbe/bQHG4E4Kap3SsoP+cPbI8Es/C9e1faiXMFYC+XDDcLaFdlRcz8aFoQMkrtSULQfLNAfpurjSaVnv9QW4dp5Q1V4PoqPtrhGuVF0d10nhVVybykvAGr9/4MC1wCIvkR4Bzg9tS2AQ7gTllH6spxjPCC8prMS1+ZbDddJ4CXjIS1q+VpVnMs7rcSXp93B9CC7zpg8DvvS+U19KPuHJB7gZ+C+u41JJXDX//d72qoSrMi4T8LaK8/azT8P2r6VeEsvt/RZ/AsZ6v9ls2+e9RLoaeMbbz4eFvTeEY7VprbxkFd5uHWgtSQafp6q3jUrhqofbeftaVe8YUut0fh+Bf0B7pPul58SdJXfHVTEewg1NCL1/E+6sdDTu7CpUreZb2ycuub+AO5t/BddO8SFhpemAt1np0Of3DpITvANRJe9H0xOvFJnN6w0/CSmBS+aFgMG4NtbYsPee9ju54jqaNMZVF7YJO/BejjvZGIRr/70JmOZX0spizJW9g1wF73UfXImiR9i286XZAXciuxbXdtgYV+PRH3dSO9Xbr87C1dT8m4BLrmnivtr7DtvixncTtr9VxXUyzLbt5iWbr4FO3uv+uERf33vdAjdm9HlcTdF53vTAOjqm8xlCx4hQ23El4OM08zwADMmO9dk42CglIsNx1Zwf4Kp5FFf6+VBVj3gXTvgdd1b4dXpj4LIpjouAu1X1AhHphKua+khVvxGRkbiq6Dv9Wn8mY2yCO3tWXImtIK7a5zVV3eDjesOHvoTaELvjSjnlcQeiIyJyGzAON1bSt7GmInIxrsr3BbzSDdBRVQd477fHHfw6qOpPIpJDAxiPmM744Jy46rmXgCXeNnsQ1wu8h6rO9CmOjrj2w2W45LkdeEHduMfiuJPc+t7fA7iDc5IfsWQy3rTbrSAuyQ3CdSoah7sYxq+4y5UO12wcJucNV/pCVUMXwP8GV41aGlfqG4qrUTsfWKqqM7Jr3dkl7CpTFYBf1V0QZzLwux4bu/8obtTOvae9wqDPKOyR4ZmW4Hq+Xuu9vgl4Dtc20BxXdZbtJVb+2jEmBtfAPzHN9L5EeIhJejHi2p1z4y5A8Ayup+l1uPGSL0Yonp64avoquNL9ao61efbEnc1X9DmGC4AfgUZh0+rjEleTsGlv4g3hSvtdB/DdVeRYk8NTuGEvobbqLrjSWTmf4ujo7SOhUnJZIBF4PWyes3C9mccTcK/XNNutLS6JlfReX4urjh2MawKoiE/NNbgetT/hOlLd703LietBfFtGMQf98LZZO+/5Ld53P847ZhTG1cbN8vbBVXh9X057vUF/cHuk7gC5gQLe81BVWRVcVVUJXKnsFuBl3IDnDj7HUw1vCAJugPgE4BPvdU3vdcSGmGQQ47Xej+R14AJvWhtcO/WPuOrzIj7H0AhXrTjce13CO/iM9Q7MiUSgGhY3hOQm73mc97cQrvPZE7iS/SBcBxhfklYmYgxPErfi2sSnebHl8bbZOG/fWkU6Y4ezKY5SuI55jbzXof28Be6SjNeHzVsUH4cEnULs1+NqSu7z9vHQsWKYtx+eH4EY2gJHOb6D2lVpE2w0PXDNDim4HvyvecewOrhe4m/jChLX4DpCZluhIfAPbo/UHeASXCn1Clz7anFcB4vHONbmkRfX8SLUs9iPoSYxuJ7Jy72dLa83PTduUP1073XQ4/8uw1WZ1wYex52J9g97vzr+tLlWxfVqbeMlsNLeD/Yz4FxvnkK4WoYLQwdAH7dDqJnnBeCR0DSOtTUVAe72DiRvEAW9OHFtwONw401rePtaaCB/A9wJkm8d5rxtMhvXcS83rs1tPi6xfwH8AjwY9HZKJ+52uA5f+XBXGvo/3GU3Q736hxKhDmu4mrT13vMquN7e7YPeRhnEGvqNhK6m9o73Ogeu4DKJsJqfbF130B/eHqk7QYx3kP4Tr9rKm94K10YU7+O60xui0BzXSecKjp3h3+MdiHwZKnGSGFviDS3xXt8B3OM9j8WVzv6HT2MkvfV0wLU1fQTMwd1RpQ6uWu5BL8kF0mnIS/hzQ/uJtz+FSrLX42okcgYRW/h+huvZ/Q2uqjrUIedsXKns+QjGcRuuSnAzruQ8BFftGirtp/bMD3J7pXldFHdCNxCY6017BzccJuI9wXHjRffjaiIuDnJbZeL7DiXZ7riS7AVh77+H12s929cd9If/Jz/gL8NgrsBdfeVR76ATujhCD9xFJHwtNeJKrK8Dj+AuSlDXS7K34YZ0zAjqoINry9zJsatUdcD18qwXNs9sfKq29g4mi9P8MB/AXQ+6Jq5qeKR3sM6W9pssxpfPi+cpwk7GcFePWhHEAdhbf3onb6HLIKZeEAVXmv0MV0Pje9sd7mpRTXG9q3OFTX8bV/MQaPthmmNDdaBm2Ot7OdYkMdQ7ZvhSnZ6JONv6lZyye3uGJdl+uCF093gJ93t8uniI9SKOAiJSDde2OgDXA/B9XI/Gf+F6BzbDdbl/XFW3ZtM6Q73pQn+H4togRnnrGowbBvA70BmXcJ/QCNzFJE2c8UB+Vf3cu2D+07hOTF/iBrPH4sbjxeAS3EWqujObYygKJOGu/TxdRHKr6kHvvQdxHb7q4aqPL8JVQf2anTFkMs6yuLawtri23wO4k7Meqro60vGkia0HrgS2RFVXicg1uIPbQxzrORynAd7RR0R64q7n3UtV1wcVRzgRuRV3MnkEd9ejYbiew3Vww/fOw+2X2wILkvTv5BOUjGLxbnSg3vGuJ65J4C3cEMj/8yWYoM8s/okPXCeLRrikUAVXCno27P38uOE5/wG24g7aF2RzDBXTrO9m4NKwaaGbuIeqhwO5vjCuM8xCjl21pieuo05LXG/JYbiS9US8NlCf4uiAa/M9y3sdXuqZDzRIOz2g7ZUHV73/AO6EqVpAceQNe34zrgPOSFwp9Rpv+hDcNWqbBrzNSnsxriEKxgWHxXUhxzoWPoJ32UjciUofXHV2oB0No+3B8SX/S3A1FNWBPKH3OVaSvQSfa5sC3yD/xId3YAn/0h/BVVNUCJsnD67kGhrELeF/T3P9HXHd6nPhSoOP4y5CMDlsnpK4tglfr5d7ghjDfyjDcW2eLb3Xl3tJNnSt0zz42PYaFscl3nqLeK9D1ZtTiKI7qgT98E5GnsMNfWkCTPCmj8BVV78WlmSvwOeOYJmIN48XcyDVrCeIqyGuJukRXHtxaH8L9IQkGh9pj4u4E/MvvJOQJXhDdELzZsdxNFNxBb1h/qkPXJvdm0Br7/WT3o6Q7mXYsmuH4NgFt6t7B8DZYcl7Pu4ycbG4trsvCf7C/eW9v8PSJNnuuB6UEe25mE6SvcL73gLdTtHy4Nj40q7e6zzeftbB27/icKXr1aEka490E4Tgmh2W4m5WEfqNDsHV6BSJVJI4Ex54Q6k4Vis43nt9M+6GKDG4XsMR3Wa+3+jZOKEbpav3ravqDhHZDPQRkSPqrob0GDBHRNqr6pbw/w/932nG0B7XiWMhrhPVtbihPzVxSbcjrofs27id9CpV3XG66z1VIlIPuENEJqnqK942vE9EHlLVD0XkCG7Qe8So6gzvRuBfiMgYXLt5oNspWohIKVyHuCGqukxE8uB6bApuH5utqkdF5P9w7eYfBRdtdAn9vkXkJlxi3YS7FOpo3MnldSJSEtd000dVdwcUalTxjgnFgY0i0kdVp4rIb8BOEXkPdyLSUVVTRORyXBPF9kjFZwk2AkQkl6oe8p43w+0QX6nq/SIyAhjstcvfLSI5cG2LWzJe4inF0BZ3XeNbcG3ADXEljXOAJiLyh6puBi4UkXy4IRR/ZGcMJ4nvuBMQ7/k3IvI1cJGIpKjqyyKiwDMicrOqTo1UfOG8JBuLGxbUQFXXBBFHFDqE64xzUERy4zqhNcddlKAokCAiVXDt5x3tpAREJK+q7veeN8d1SnsVl2TH4mpIduA6NcXiOqytCyba6OQVVgYD/xWRQao6TUT24cZUX+2d1A3ENVEsiGRs1ovYZyJSGHc3k2G4aoqpwHrcIPHp3hnXrbhOTy+r6hc+xdEI14azSERq4qqAD+AuE3YWrlQ7X1V/9mP9mYgvtQepd/3jEqr6jvf6Rtxl/z5Q1Znej2mu+tXzL5PCD44m9STpVtztvmrjxuUuxPUvCN3+az+wUKOkl26QRKQDriPTU7iTjuuAp/TYtZBvwCXWm4Pe188E3rW4P8BdZvN7XFNEWdzwvia4G5NE9GTYEmwEiMidHLuF1EhV/cEbplAXV202VUTuAGaqz8NgRCTGqy6pjhtesg935aHKuOQ/QbPxAuGZjOlCXGeOVbjOV+DG972pqhO9ed7EndXfp1F4EXHjiEh+3H5dHpgSVnPzFjBVVT8MMr5o4d1o4FHc9XyniEh53HjWRao6zJvnLFwtwDm432qyqqYEFXM0CR3HvOd9cH1XnvGGg72JGxGx0KsxPAtYFcRJSkykV/hPElbt+STuIvCdcLdHAjes5Bugi4hcpqpP+Z1cvVhSvL9rcb2Ec+Oq9b4HPgsguV6MO9Aswl0s4WJgL+5HMsBrNwF3d5h1uMvqmSilqntV9StV/SAsufbElcRWBhtddEjTVj1FRPKp6i+4EuxFXhs/qroL1wv2WlU9YsnVEZFzgY+9pixwpdRdAKo6CXdVtynecXWRqk4LqgbA2mB9EnYBh+a4WyG9ISLFgCdFZLuqLheRSbh2lUDaVFR1rRdDZ9xdRHZFcv3eBRw+Abp47SYVcNVluXDXBwV4SES64C6xd5m12505RKQ00AtXG9FLfbx14BkmbVv17SLSCtf55hfgThEprqojVfW3AOOMSuouVHIUmCAil+E6MiWFvf8/r3AzWkTmAPuDOjmxKmIficgluHtcDlTVBd6063DVocNVdUnQV6/xYgrkvqDeujvgkmpTVf1DRN7F3XPyVe/92ri7nMy1drszi9eLuA2w1r67Y07SVt0Jlyy64k4os/WqZGcyb7vFhGrZRORD3HWYN3h/v8edvIAbYrhfVQ8EEWuIJVifiLts3SfAUFVd6lVrFMTdYqobrjqoGbD3n171452IjMYNpi8D9FPVA6FagGCjMyb7naCt+m3cBfzn2r5/TPixQETKhoYxisiruBqSV3Ed6Arixl7fHQ0dwyzBZhMRqYW7bNkE73Uh3D0b9+OG5VTBjQmcqKr/EZFzVHVjYAFHGRFph7voRSmv233q9X6N+SeQKLwWcjRIk1yvx12sfzkwRlW/E5GXcBek6ezNk1NVDwcX8THWySkbiLtY/7u4TjoAqOrvuIs35MRdgvBC3LjJeO99S65hVHUu7mo/n4lICUuu5p9CREqLyM24YSUDLbkeLyy5dsU1OVyPu3jJNSLSVFWHAzEiEmp7DbTJLZx1cjpN3nCX6cAkVX3Tm5bHq/t/B0hR1WQRaYK7ctJdwUUb3bwLOOQEZopIAt6dL4KOyxif7cE1HXWx5Jo+EamBu/PSe14H0Z+Am4DeIhKrqh1FpIx3vIiaY4aVYE+DVy08DndZs99F5HwAr/2wEu7eqqXEXfLvZtyYt5mh4Tvmr1R1Cu56wymWXM0/gaoeUNWPLbkeI+6ykOH+wNUA9vNKrbuBZ3Cdmzp7TUrZcivP7GRtsKfI6yH5Ce6WctNx49py4q7alIi7w8oiVX3Um7+Uqv5qHXeMMSZjXmn1O+B54HtVfc2bnht3Rby2wGOq+pXXWSy3qiZluMAAWYI9DaGk6T2vjmt8j8Ml2HWqujr8iiPGGGNOTETKAeOBabhkuh13CcRPVXWfiAzHja++Q1UXBxfpyVkV8WkIS64x3pWR3sE1sJ+Lu8YvllyNMSbz1N10ZCnuhiSX4i4hORT4xOubsQp345JsvSGKHyzBZoOwyw/+iEuyuXHtAkUCDcwYY84gYf1T7sJ1Vp1v2ncAAAQOSURBVCoG/Iq71OYPwD24G5XM8i4vGdWsitgHIlIVUhOuMcaYTPKSbA7cdQQq4YY23qWqk70hkTv1DLkfriVYY4wxUcfr1/I58JKqPhx0PKfCqoiNMcZEHa9fy11ArIjkDTqeU2EJ1hhjTLRajOvsdEayKmJjjDFRS0Tyqur+oOM4FZZgjTHGGB9YFbExxhjjA0uwxhhjjA8swRpjjDE+sARrzD+QiLQSkene884ikuFtFEWksIhcdwrreEBERmR2epp5xopIjyysq6KIrM5qjMb4yRKsMX8jIhKb1f9R1amq+sQJZikMZDnBGvNPZwnWmDOAV0L7QUTeFZHvRWRSaPC9iGwSkSdFZAXQU0Tai8hXIrJCRCZ6t/RCRC72lrEC6Ba27EEi8qL3vKSIfCQiq7xHM+AJoLKIrBSRUd58t4vIMhH5RkQeDFvWPSKyTkQWAtUz8bmGestZJSIfprmgQDsRSfSW19GbP1ZERoWt+5rT3bbG+MUSrDFnjurAGFWtibsBdXipcpeqNgTmAvcC7bzXicCt3r00Xwc64a7tWiqDdYwGPlfVc3ED/NfgrqazQVXrq+rtItIeqAo0BuoD8SLSUkTicRdir4+7C0qjTHym/6lqI2993wNXhb1X0VtHB+AV7zNcBfyuqo285Q8VkXMysR5jIi4u6ACMMZn2i6p+6T0fB9wIPO29nuD9PQ+oBXzp3ZgkJ/AVUAPYGLoBhYiMA65OZx1tgCsAVDUZ+D2du0K19x5fe6/z4xJuAeCj0EUBRGRqJj5THRF5BFcNnR+YFfbeB96dqn4UkZ+8z9AeqBfWPlvIW/e6TKzLmIiyBGvMmSPtVWHCX+/z/gowR1X7hM8oIvWzMQ4BHlfVV9Os4+ZTWNZYoKuqrhKRQUCrsPfS+7wC3KCq4YkYEal4Cus2xldWRWzMmaOCiDT1nvcFFqYzz2LgfBGpAiAi+bxbfP0AVBSRyt58fdL5X4B5wLXe/8aKSCHgT1zpNGQWMDisbbesiJQAvgC6ikgeESmAq44+mQLANhHJAfRL815PEfn/du4eJYIgCMPwW6Zi4BUMDMRLeBNDxcATeAIPIIKxJoYugrmIuzjgD8qmhoq5WRlMBcvCwiStLrxP3Ex1R19XMTMrtecNYFq192s9EbEZEasD6ki/zoCVlscUOIiIN2AdOJlfkJmfwC5wERFP1Hg4M7/pR8KjesnpY0GNQ2AnIp6BB2ArM7/oR84vEXGcmTfAOXBX6y6Btczs6EfVj8A1MBlwpiPgHrilvwTMegfG9ay9OsMZ8Ap09VnOKU7i9E/5L2JpCdQI9Cozt/94K5IGsoOVJKkBO1hJkhqwg5UkqQEDVpKkBgxYSZIaMGAlSWrAgJUkqQEDVpKkBn4A0BblH2Y519YAAAAASUVORK5CYII=\n"
          },
          "metadata": {
            "needs_background": "light"
          }
        }
      ],
      "source": [
        "from torchmetrics import ConfusionMatrix\n",
        "from mlxtend.plotting import plot_confusion_matrix\n",
        "\n",
        "# Setup confusion matrix instance\n",
        "confmat = ConfusionMatrix(num_classes=len(class_names))\n",
        "\n",
        "# Create confusion matrix\n",
        "confmat_tensor = confmat(preds=y_pred_tensor,\n",
        "                         target=test_data.targets)\n",
        "\n",
        "# Plot the confusion matrix\n",
        "fig, ax = plot_confusion_matrix(\n",
        "    conf_mat=confmat_tensor.numpy(),\n",
        "    class_names=class_names,\n",
        "    figsize=(10, 7)\n",
        ");"
      ]
    },
    {
      "cell_type": "markdown",
      "metadata": {
        "id": "x0cQgbhUor_1"
      },
      "source": [
        "## TK - 11. Save and load best performing model\n",
        "\n",
        "See more: https://pytorch.org/tutorials/beginner/saving_loading_models.html"
      ]
    },
    {
      "cell_type": "code",
      "execution_count": 57,
      "metadata": {
        "id": "Ft6FR74for_1"
      },
      "outputs": [],
      "source": [
        "torch.save(model_2.state_dict(), \n",
        "           \"models/03_pytorch_computer_vision_model_2.pth\")"
      ]
    },
    {
      "cell_type": "code",
      "execution_count": 58,
      "metadata": {
        "id": "YuZq_b_Eor_1"
      },
      "outputs": [],
      "source": [
        "# Load in model state dict to new model instance (need class instance to load into)\n",
        "# Note: loading model will error if the shapes here aren't the same as the saved version\n",
        "loaded_model_2 = FashionMNISTModelV2(input_shape=1, \n",
        "                                    hidden_units=10, # try changing this to 128 and seeing what happens \n",
        "                                    output_shape=10) \n",
        "loaded_model_2.load_state_dict(torch.load(\"models/03_pytorch_computer_vision_model_2.pth\"))\n",
        "# Send model to GPU\n",
        "loaded_model_2 = loaded_model_2.to(device)"
      ]
    },
    {
      "cell_type": "code",
      "execution_count": 59,
      "metadata": {
        "id": "1aEyHtGgor_1"
      },
<<<<<<< HEAD
      "outputs": [
        {
          "data": {
            "text/plain": [
              "{'model_name': 'FashionMNISTModelV2',\n",
              " 'model_loss': 0.3278839588165283,\n",
              " 'model_acc': 87.879392971246}"
            ]
          },
          "execution_count": 59,
          "metadata": {},
          "output_type": "execute_result"
        }
      ],
=======
      "outputs": [],
>>>>>>> ced4c0c328dba7b3160641718ace34dce8665246
      "source": [
        "# Evaluate loaded model\n",
        "torch.manual_seed(42)\n",
        "\n",
        "loaded_model_2_results = eval_model(\n",
        "    model=loaded_model_2,\n",
        "    data_loader=test_dataloader,\n",
        "    loss_fn=loss_fn, \n",
        "    accuracy_fn=accuracy_fn\n",
        ")\n",
        "loaded_model_2_results"
      ]
    },
    {
      "cell_type": "code",
      "execution_count": 60,
      "metadata": {
        "id": "Ob0C-3Vkor_1"
      },
<<<<<<< HEAD
      "outputs": [
        {
          "data": {
            "text/plain": [
              "{'model_name': 'FashionMNISTModelV2',\n",
              " 'model_loss': 0.3278839588165283,\n",
              " 'model_acc': 87.879392971246}"
            ]
          },
          "execution_count": 60,
          "metadata": {},
          "output_type": "execute_result"
        }
      ],
=======
      "outputs": [],
>>>>>>> ced4c0c328dba7b3160641718ace34dce8665246
      "source": [
        "model_2_results"
      ]
    },
    {
      "cell_type": "code",
      "execution_count": 61,
      "metadata": {
        "id": "rEUVBjLtor_1"
      },
<<<<<<< HEAD
      "outputs": [
        {
          "data": {
            "text/plain": [
              "tensor(True)"
            ]
          },
          "execution_count": 61,
          "metadata": {},
          "output_type": "execute_result"
        }
      ],
=======
      "outputs": [],
>>>>>>> ced4c0c328dba7b3160641718ace34dce8665246
      "source": [
        "# Check to see if results are close to each other (if they are very far away, there may be an error)\n",
        "torch.isclose(torch.tensor(model_2_results[\"model_loss\"]), \n",
        "              torch.tensor(loaded_model_2_results[\"model_loss\"]),\n",
        "              rtol=0.001)"
      ]
    },
    {
      "cell_type": "markdown",
      "metadata": {
        "id": "1wkSpJHxor_1"
      },
      "source": [
        "## TK - Exercises\n",
        "* Lookup \"ways to prevent overfitting in machine learning\", write down 3 of the things you find and a sentence about each - there are lots of these, so don't worry too much about all of them, just pick 3 and start with those.\n",
        "* Spend 20-minutes reading and clicking through the CNN explainer website - https://poloclub.github.io/cnn-explainer/ \n",
        "* Train model 2 on a CPU device and see how long it takes compared to training on a GPU\n",
        "* Try passing \n",
        "\n",
        "## TK - Extra-curriculum\n",
        "* Spend 10-minutes clicking thorugh the different options of the PyTorch vision library, what different modules are available? - https://pytorch.org/vision/stable/index.html \n",
        "* Lookup \"most common convolutional neural networks\", what architectures do you find? Are any of them contained within the [`torchvision.models`](https://pytorch.org/vision/stable/models.html) library? What do you think you could do with these?\n",
        "* Timm library for computer vision\n"
      ]
    },
    {
      "cell_type": "markdown",
      "metadata": {
        "id": "HK_V0Fkjor_1"
      },
      "source": [
        ""
      ]
    }
  ],
  "metadata": {
    "interpreter": {
      "hash": "3fbe1355223f7b2ffc113ba3ade6a2b520cadace5d5ec3e828c83ce02eb221bf"
    },
    "kernelspec": {
      "display_name": "Python 3.9.7 64-bit (conda)",
      "name": "python3"
    },
    "language_info": {
      "codemirror_mode": {
        "name": "ipython",
        "version": 3
      },
      "file_extension": ".py",
      "mimetype": "text/x-python",
      "name": "python",
      "nbconvert_exporter": "python",
      "pygments_lexer": "ipython3",
      "version": "3.9.7"
    },
    "orig_nbformat": 4,
    "colab": {
      "name": "03_pytorch_computer_vision.ipynb",
      "provenance": [],
      "collapsed_sections": [],
      "include_colab_link": true
    },
    "accelerator": "GPU",
    "widgets": {
      "application/vnd.jupyter.widget-state+json": {
        "831fd220716f4d70b63497c3cfdcd6aa": {
          "model_module": "@jupyter-widgets/controls",
          "model_name": "HBoxModel",
          "model_module_version": "1.5.0",
          "state": {
            "_dom_classes": [],
            "_model_module": "@jupyter-widgets/controls",
            "_model_module_version": "1.5.0",
            "_model_name": "HBoxModel",
            "_view_count": null,
            "_view_module": "@jupyter-widgets/controls",
            "_view_module_version": "1.5.0",
            "_view_name": "HBoxView",
            "box_style": "",
            "children": [
              "IPY_MODEL_93659419e8e044a99ac2818f0592d4e4",
              "IPY_MODEL_9bcbc4fc5761407f85d66f5e4074cacc",
              "IPY_MODEL_cf1a76f82bce445b8935e669f9af8343"
            ],
            "layout": "IPY_MODEL_71edb6c986e14f44acdab77602206ce0"
          }
        },
        "93659419e8e044a99ac2818f0592d4e4": {
          "model_module": "@jupyter-widgets/controls",
          "model_name": "HTMLModel",
          "model_module_version": "1.5.0",
          "state": {
            "_dom_classes": [],
            "_model_module": "@jupyter-widgets/controls",
            "_model_module_version": "1.5.0",
            "_model_name": "HTMLModel",
            "_view_count": null,
            "_view_module": "@jupyter-widgets/controls",
            "_view_module_version": "1.5.0",
            "_view_name": "HTMLView",
            "description": "",
            "description_tooltip": null,
            "layout": "IPY_MODEL_114045473cf74fd6b0e086de14f4ab67",
            "placeholder": "​",
            "style": "IPY_MODEL_aeff3837f32743569c8805dc99113185",
            "value": ""
          }
        },
        "9bcbc4fc5761407f85d66f5e4074cacc": {
          "model_module": "@jupyter-widgets/controls",
          "model_name": "FloatProgressModel",
          "model_module_version": "1.5.0",
          "state": {
            "_dom_classes": [],
            "_model_module": "@jupyter-widgets/controls",
            "_model_module_version": "1.5.0",
            "_model_name": "FloatProgressModel",
            "_view_count": null,
            "_view_module": "@jupyter-widgets/controls",
            "_view_module_version": "1.5.0",
            "_view_name": "ProgressView",
            "bar_style": "success",
            "description": "",
            "description_tooltip": null,
            "layout": "IPY_MODEL_a18bbd36fd2841148b4493cc2976605f",
            "max": 26421880,
            "min": 0,
            "orientation": "horizontal",
            "style": "IPY_MODEL_84c3b8129cd24ba5b47e1ce6515ec949",
            "value": 26421880
          }
        },
        "cf1a76f82bce445b8935e669f9af8343": {
          "model_module": "@jupyter-widgets/controls",
          "model_name": "HTMLModel",
          "model_module_version": "1.5.0",
          "state": {
            "_dom_classes": [],
            "_model_module": "@jupyter-widgets/controls",
            "_model_module_version": "1.5.0",
            "_model_name": "HTMLModel",
            "_view_count": null,
            "_view_module": "@jupyter-widgets/controls",
            "_view_module_version": "1.5.0",
            "_view_name": "HTMLView",
            "description": "",
            "description_tooltip": null,
            "layout": "IPY_MODEL_da05835c9618499fae99efe42e96e78d",
            "placeholder": "​",
            "style": "IPY_MODEL_ef131b655ed84be2b4c4efdbfd4440f4",
            "value": " 26422272/? [00:02&lt;00:00, 17230103.67it/s]"
          }
        },
        "71edb6c986e14f44acdab77602206ce0": {
          "model_module": "@jupyter-widgets/base",
          "model_name": "LayoutModel",
          "model_module_version": "1.2.0",
          "state": {
            "_model_module": "@jupyter-widgets/base",
            "_model_module_version": "1.2.0",
            "_model_name": "LayoutModel",
            "_view_count": null,
            "_view_module": "@jupyter-widgets/base",
            "_view_module_version": "1.2.0",
            "_view_name": "LayoutView",
            "align_content": null,
            "align_items": null,
            "align_self": null,
            "border": null,
            "bottom": null,
            "display": null,
            "flex": null,
            "flex_flow": null,
            "grid_area": null,
            "grid_auto_columns": null,
            "grid_auto_flow": null,
            "grid_auto_rows": null,
            "grid_column": null,
            "grid_gap": null,
            "grid_row": null,
            "grid_template_areas": null,
            "grid_template_columns": null,
            "grid_template_rows": null,
            "height": null,
            "justify_content": null,
            "justify_items": null,
            "left": null,
            "margin": null,
            "max_height": null,
            "max_width": null,
            "min_height": null,
            "min_width": null,
            "object_fit": null,
            "object_position": null,
            "order": null,
            "overflow": null,
            "overflow_x": null,
            "overflow_y": null,
            "padding": null,
            "right": null,
            "top": null,
            "visibility": null,
            "width": null
          }
        },
        "114045473cf74fd6b0e086de14f4ab67": {
          "model_module": "@jupyter-widgets/base",
          "model_name": "LayoutModel",
          "model_module_version": "1.2.0",
          "state": {
            "_model_module": "@jupyter-widgets/base",
            "_model_module_version": "1.2.0",
            "_model_name": "LayoutModel",
            "_view_count": null,
            "_view_module": "@jupyter-widgets/base",
            "_view_module_version": "1.2.0",
            "_view_name": "LayoutView",
            "align_content": null,
            "align_items": null,
            "align_self": null,
            "border": null,
            "bottom": null,
            "display": null,
            "flex": null,
            "flex_flow": null,
            "grid_area": null,
            "grid_auto_columns": null,
            "grid_auto_flow": null,
            "grid_auto_rows": null,
            "grid_column": null,
            "grid_gap": null,
            "grid_row": null,
            "grid_template_areas": null,
            "grid_template_columns": null,
            "grid_template_rows": null,
            "height": null,
            "justify_content": null,
            "justify_items": null,
            "left": null,
            "margin": null,
            "max_height": null,
            "max_width": null,
            "min_height": null,
            "min_width": null,
            "object_fit": null,
            "object_position": null,
            "order": null,
            "overflow": null,
            "overflow_x": null,
            "overflow_y": null,
            "padding": null,
            "right": null,
            "top": null,
            "visibility": null,
            "width": null
          }
        },
        "aeff3837f32743569c8805dc99113185": {
          "model_module": "@jupyter-widgets/controls",
          "model_name": "DescriptionStyleModel",
          "model_module_version": "1.5.0",
          "state": {
            "_model_module": "@jupyter-widgets/controls",
            "_model_module_version": "1.5.0",
            "_model_name": "DescriptionStyleModel",
            "_view_count": null,
            "_view_module": "@jupyter-widgets/base",
            "_view_module_version": "1.2.0",
            "_view_name": "StyleView",
            "description_width": ""
          }
        },
        "a18bbd36fd2841148b4493cc2976605f": {
          "model_module": "@jupyter-widgets/base",
          "model_name": "LayoutModel",
          "model_module_version": "1.2.0",
          "state": {
            "_model_module": "@jupyter-widgets/base",
            "_model_module_version": "1.2.0",
            "_model_name": "LayoutModel",
            "_view_count": null,
            "_view_module": "@jupyter-widgets/base",
            "_view_module_version": "1.2.0",
            "_view_name": "LayoutView",
            "align_content": null,
            "align_items": null,
            "align_self": null,
            "border": null,
            "bottom": null,
            "display": null,
            "flex": null,
            "flex_flow": null,
            "grid_area": null,
            "grid_auto_columns": null,
            "grid_auto_flow": null,
            "grid_auto_rows": null,
            "grid_column": null,
            "grid_gap": null,
            "grid_row": null,
            "grid_template_areas": null,
            "grid_template_columns": null,
            "grid_template_rows": null,
            "height": null,
            "justify_content": null,
            "justify_items": null,
            "left": null,
            "margin": null,
            "max_height": null,
            "max_width": null,
            "min_height": null,
            "min_width": null,
            "object_fit": null,
            "object_position": null,
            "order": null,
            "overflow": null,
            "overflow_x": null,
            "overflow_y": null,
            "padding": null,
            "right": null,
            "top": null,
            "visibility": null,
            "width": null
          }
        },
        "84c3b8129cd24ba5b47e1ce6515ec949": {
          "model_module": "@jupyter-widgets/controls",
          "model_name": "ProgressStyleModel",
          "model_module_version": "1.5.0",
          "state": {
            "_model_module": "@jupyter-widgets/controls",
            "_model_module_version": "1.5.0",
            "_model_name": "ProgressStyleModel",
            "_view_count": null,
            "_view_module": "@jupyter-widgets/base",
            "_view_module_version": "1.2.0",
            "_view_name": "StyleView",
            "bar_color": null,
            "description_width": ""
          }
        },
        "da05835c9618499fae99efe42e96e78d": {
          "model_module": "@jupyter-widgets/base",
          "model_name": "LayoutModel",
          "model_module_version": "1.2.0",
          "state": {
            "_model_module": "@jupyter-widgets/base",
            "_model_module_version": "1.2.0",
            "_model_name": "LayoutModel",
            "_view_count": null,
            "_view_module": "@jupyter-widgets/base",
            "_view_module_version": "1.2.0",
            "_view_name": "LayoutView",
            "align_content": null,
            "align_items": null,
            "align_self": null,
            "border": null,
            "bottom": null,
            "display": null,
            "flex": null,
            "flex_flow": null,
            "grid_area": null,
            "grid_auto_columns": null,
            "grid_auto_flow": null,
            "grid_auto_rows": null,
            "grid_column": null,
            "grid_gap": null,
            "grid_row": null,
            "grid_template_areas": null,
            "grid_template_columns": null,
            "grid_template_rows": null,
            "height": null,
            "justify_content": null,
            "justify_items": null,
            "left": null,
            "margin": null,
            "max_height": null,
            "max_width": null,
            "min_height": null,
            "min_width": null,
            "object_fit": null,
            "object_position": null,
            "order": null,
            "overflow": null,
            "overflow_x": null,
            "overflow_y": null,
            "padding": null,
            "right": null,
            "top": null,
            "visibility": null,
            "width": null
          }
        },
        "ef131b655ed84be2b4c4efdbfd4440f4": {
          "model_module": "@jupyter-widgets/controls",
          "model_name": "DescriptionStyleModel",
          "model_module_version": "1.5.0",
          "state": {
            "_model_module": "@jupyter-widgets/controls",
            "_model_module_version": "1.5.0",
            "_model_name": "DescriptionStyleModel",
            "_view_count": null,
            "_view_module": "@jupyter-widgets/base",
            "_view_module_version": "1.2.0",
            "_view_name": "StyleView",
            "description_width": ""
          }
        },
        "60ef7fe613b74f7d9fb21829dbdb0eda": {
          "model_module": "@jupyter-widgets/controls",
          "model_name": "HBoxModel",
          "model_module_version": "1.5.0",
          "state": {
            "_dom_classes": [],
            "_model_module": "@jupyter-widgets/controls",
            "_model_module_version": "1.5.0",
            "_model_name": "HBoxModel",
            "_view_count": null,
            "_view_module": "@jupyter-widgets/controls",
            "_view_module_version": "1.5.0",
            "_view_name": "HBoxView",
            "box_style": "",
            "children": [
              "IPY_MODEL_e2416146e261439f817906471d997bfb",
              "IPY_MODEL_3850132e3c244add9e0c3c17b3d077f3",
              "IPY_MODEL_0b77a6b11b29479fb6226dc556f2973e"
            ],
            "layout": "IPY_MODEL_034c2cab1119490ba57cd028a25b3edc"
          }
        },
        "e2416146e261439f817906471d997bfb": {
          "model_module": "@jupyter-widgets/controls",
          "model_name": "HTMLModel",
          "model_module_version": "1.5.0",
          "state": {
            "_dom_classes": [],
            "_model_module": "@jupyter-widgets/controls",
            "_model_module_version": "1.5.0",
            "_model_name": "HTMLModel",
            "_view_count": null,
            "_view_module": "@jupyter-widgets/controls",
            "_view_module_version": "1.5.0",
            "_view_name": "HTMLView",
            "description": "",
            "description_tooltip": null,
            "layout": "IPY_MODEL_605c1d0776dd48d3a2ac7efa05c0752b",
            "placeholder": "​",
            "style": "IPY_MODEL_6151fb24e7eb4225bbcf79c36c6d4056",
            "value": ""
          }
        },
        "3850132e3c244add9e0c3c17b3d077f3": {
          "model_module": "@jupyter-widgets/controls",
          "model_name": "FloatProgressModel",
          "model_module_version": "1.5.0",
          "state": {
            "_dom_classes": [],
            "_model_module": "@jupyter-widgets/controls",
            "_model_module_version": "1.5.0",
            "_model_name": "FloatProgressModel",
            "_view_count": null,
            "_view_module": "@jupyter-widgets/controls",
            "_view_module_version": "1.5.0",
            "_view_name": "ProgressView",
            "bar_style": "success",
            "description": "",
            "description_tooltip": null,
            "layout": "IPY_MODEL_761d91144b83473899a2407d333bb7ba",
            "max": 29515,
            "min": 0,
            "orientation": "horizontal",
            "style": "IPY_MODEL_00f4896bbd7e42e5b608830aec7ea123",
            "value": 29515
          }
        },
        "0b77a6b11b29479fb6226dc556f2973e": {
          "model_module": "@jupyter-widgets/controls",
          "model_name": "HTMLModel",
          "model_module_version": "1.5.0",
          "state": {
            "_dom_classes": [],
            "_model_module": "@jupyter-widgets/controls",
            "_model_module_version": "1.5.0",
            "_model_name": "HTMLModel",
            "_view_count": null,
            "_view_module": "@jupyter-widgets/controls",
            "_view_module_version": "1.5.0",
            "_view_name": "HTMLView",
            "description": "",
            "description_tooltip": null,
            "layout": "IPY_MODEL_7f9d8f300d1d4cd1a32366f20b2a304f",
            "placeholder": "​",
            "style": "IPY_MODEL_1b7902fb48b3492eb8126bbab0aa645c",
            "value": " 29696/? [00:00&lt;00:00, 9096.35it/s]"
          }
        },
        "034c2cab1119490ba57cd028a25b3edc": {
          "model_module": "@jupyter-widgets/base",
          "model_name": "LayoutModel",
          "model_module_version": "1.2.0",
          "state": {
            "_model_module": "@jupyter-widgets/base",
            "_model_module_version": "1.2.0",
            "_model_name": "LayoutModel",
            "_view_count": null,
            "_view_module": "@jupyter-widgets/base",
            "_view_module_version": "1.2.0",
            "_view_name": "LayoutView",
            "align_content": null,
            "align_items": null,
            "align_self": null,
            "border": null,
            "bottom": null,
            "display": null,
            "flex": null,
            "flex_flow": null,
            "grid_area": null,
            "grid_auto_columns": null,
            "grid_auto_flow": null,
            "grid_auto_rows": null,
            "grid_column": null,
            "grid_gap": null,
            "grid_row": null,
            "grid_template_areas": null,
            "grid_template_columns": null,
            "grid_template_rows": null,
            "height": null,
            "justify_content": null,
            "justify_items": null,
            "left": null,
            "margin": null,
            "max_height": null,
            "max_width": null,
            "min_height": null,
            "min_width": null,
            "object_fit": null,
            "object_position": null,
            "order": null,
            "overflow": null,
            "overflow_x": null,
            "overflow_y": null,
            "padding": null,
            "right": null,
            "top": null,
            "visibility": null,
            "width": null
          }
        },
        "605c1d0776dd48d3a2ac7efa05c0752b": {
          "model_module": "@jupyter-widgets/base",
          "model_name": "LayoutModel",
          "model_module_version": "1.2.0",
          "state": {
            "_model_module": "@jupyter-widgets/base",
            "_model_module_version": "1.2.0",
            "_model_name": "LayoutModel",
            "_view_count": null,
            "_view_module": "@jupyter-widgets/base",
            "_view_module_version": "1.2.0",
            "_view_name": "LayoutView",
            "align_content": null,
            "align_items": null,
            "align_self": null,
            "border": null,
            "bottom": null,
            "display": null,
            "flex": null,
            "flex_flow": null,
            "grid_area": null,
            "grid_auto_columns": null,
            "grid_auto_flow": null,
            "grid_auto_rows": null,
            "grid_column": null,
            "grid_gap": null,
            "grid_row": null,
            "grid_template_areas": null,
            "grid_template_columns": null,
            "grid_template_rows": null,
            "height": null,
            "justify_content": null,
            "justify_items": null,
            "left": null,
            "margin": null,
            "max_height": null,
            "max_width": null,
            "min_height": null,
            "min_width": null,
            "object_fit": null,
            "object_position": null,
            "order": null,
            "overflow": null,
            "overflow_x": null,
            "overflow_y": null,
            "padding": null,
            "right": null,
            "top": null,
            "visibility": null,
            "width": null
          }
        },
        "6151fb24e7eb4225bbcf79c36c6d4056": {
          "model_module": "@jupyter-widgets/controls",
          "model_name": "DescriptionStyleModel",
          "model_module_version": "1.5.0",
          "state": {
            "_model_module": "@jupyter-widgets/controls",
            "_model_module_version": "1.5.0",
            "_model_name": "DescriptionStyleModel",
            "_view_count": null,
            "_view_module": "@jupyter-widgets/base",
            "_view_module_version": "1.2.0",
            "_view_name": "StyleView",
            "description_width": ""
          }
        },
        "761d91144b83473899a2407d333bb7ba": {
          "model_module": "@jupyter-widgets/base",
          "model_name": "LayoutModel",
          "model_module_version": "1.2.0",
          "state": {
            "_model_module": "@jupyter-widgets/base",
            "_model_module_version": "1.2.0",
            "_model_name": "LayoutModel",
            "_view_count": null,
            "_view_module": "@jupyter-widgets/base",
            "_view_module_version": "1.2.0",
            "_view_name": "LayoutView",
            "align_content": null,
            "align_items": null,
            "align_self": null,
            "border": null,
            "bottom": null,
            "display": null,
            "flex": null,
            "flex_flow": null,
            "grid_area": null,
            "grid_auto_columns": null,
            "grid_auto_flow": null,
            "grid_auto_rows": null,
            "grid_column": null,
            "grid_gap": null,
            "grid_row": null,
            "grid_template_areas": null,
            "grid_template_columns": null,
            "grid_template_rows": null,
            "height": null,
            "justify_content": null,
            "justify_items": null,
            "left": null,
            "margin": null,
            "max_height": null,
            "max_width": null,
            "min_height": null,
            "min_width": null,
            "object_fit": null,
            "object_position": null,
            "order": null,
            "overflow": null,
            "overflow_x": null,
            "overflow_y": null,
            "padding": null,
            "right": null,
            "top": null,
            "visibility": null,
            "width": null
          }
        },
        "00f4896bbd7e42e5b608830aec7ea123": {
          "model_module": "@jupyter-widgets/controls",
          "model_name": "ProgressStyleModel",
          "model_module_version": "1.5.0",
          "state": {
            "_model_module": "@jupyter-widgets/controls",
            "_model_module_version": "1.5.0",
            "_model_name": "ProgressStyleModel",
            "_view_count": null,
            "_view_module": "@jupyter-widgets/base",
            "_view_module_version": "1.2.0",
            "_view_name": "StyleView",
            "bar_color": null,
            "description_width": ""
          }
        },
        "7f9d8f300d1d4cd1a32366f20b2a304f": {
          "model_module": "@jupyter-widgets/base",
          "model_name": "LayoutModel",
          "model_module_version": "1.2.0",
          "state": {
            "_model_module": "@jupyter-widgets/base",
            "_model_module_version": "1.2.0",
            "_model_name": "LayoutModel",
            "_view_count": null,
            "_view_module": "@jupyter-widgets/base",
            "_view_module_version": "1.2.0",
            "_view_name": "LayoutView",
            "align_content": null,
            "align_items": null,
            "align_self": null,
            "border": null,
            "bottom": null,
            "display": null,
            "flex": null,
            "flex_flow": null,
            "grid_area": null,
            "grid_auto_columns": null,
            "grid_auto_flow": null,
            "grid_auto_rows": null,
            "grid_column": null,
            "grid_gap": null,
            "grid_row": null,
            "grid_template_areas": null,
            "grid_template_columns": null,
            "grid_template_rows": null,
            "height": null,
            "justify_content": null,
            "justify_items": null,
            "left": null,
            "margin": null,
            "max_height": null,
            "max_width": null,
            "min_height": null,
            "min_width": null,
            "object_fit": null,
            "object_position": null,
            "order": null,
            "overflow": null,
            "overflow_x": null,
            "overflow_y": null,
            "padding": null,
            "right": null,
            "top": null,
            "visibility": null,
            "width": null
          }
        },
        "1b7902fb48b3492eb8126bbab0aa645c": {
          "model_module": "@jupyter-widgets/controls",
          "model_name": "DescriptionStyleModel",
          "model_module_version": "1.5.0",
          "state": {
            "_model_module": "@jupyter-widgets/controls",
            "_model_module_version": "1.5.0",
            "_model_name": "DescriptionStyleModel",
            "_view_count": null,
            "_view_module": "@jupyter-widgets/base",
            "_view_module_version": "1.2.0",
            "_view_name": "StyleView",
            "description_width": ""
          }
        },
        "1f0f0270875b4095b08919063d9b1394": {
          "model_module": "@jupyter-widgets/controls",
          "model_name": "HBoxModel",
          "model_module_version": "1.5.0",
          "state": {
            "_dom_classes": [],
            "_model_module": "@jupyter-widgets/controls",
            "_model_module_version": "1.5.0",
            "_model_name": "HBoxModel",
            "_view_count": null,
            "_view_module": "@jupyter-widgets/controls",
            "_view_module_version": "1.5.0",
            "_view_name": "HBoxView",
            "box_style": "",
            "children": [
              "IPY_MODEL_58861a037e684feca8eb8e45fcf4dd2a",
              "IPY_MODEL_f68309fefd6e43c1abb2a47efd9db63c",
              "IPY_MODEL_21b290373aa04b158677831ab98cbfd6"
            ],
            "layout": "IPY_MODEL_e99b00538c374c65b30a3aeb5cee607c"
          }
        },
        "58861a037e684feca8eb8e45fcf4dd2a": {
          "model_module": "@jupyter-widgets/controls",
          "model_name": "HTMLModel",
          "model_module_version": "1.5.0",
          "state": {
            "_dom_classes": [],
            "_model_module": "@jupyter-widgets/controls",
            "_model_module_version": "1.5.0",
            "_model_name": "HTMLModel",
            "_view_count": null,
            "_view_module": "@jupyter-widgets/controls",
            "_view_module_version": "1.5.0",
            "_view_name": "HTMLView",
            "description": "",
            "description_tooltip": null,
            "layout": "IPY_MODEL_f2a0e2c5301245279bee8dcfef9535b7",
            "placeholder": "​",
            "style": "IPY_MODEL_70ace03ebc9f4d74b10c69402a5fad1b",
            "value": ""
          }
        },
        "f68309fefd6e43c1abb2a47efd9db63c": {
          "model_module": "@jupyter-widgets/controls",
          "model_name": "FloatProgressModel",
          "model_module_version": "1.5.0",
          "state": {
            "_dom_classes": [],
            "_model_module": "@jupyter-widgets/controls",
            "_model_module_version": "1.5.0",
            "_model_name": "FloatProgressModel",
            "_view_count": null,
            "_view_module": "@jupyter-widgets/controls",
            "_view_module_version": "1.5.0",
            "_view_name": "ProgressView",
            "bar_style": "success",
            "description": "",
            "description_tooltip": null,
            "layout": "IPY_MODEL_941c9a3670f549d5ba13a7010d21092d",
            "max": 4422102,
            "min": 0,
            "orientation": "horizontal",
            "style": "IPY_MODEL_f58c413ebe36432eb8532b4d04f55463",
            "value": 4422102
          }
        },
        "21b290373aa04b158677831ab98cbfd6": {
          "model_module": "@jupyter-widgets/controls",
          "model_name": "HTMLModel",
          "model_module_version": "1.5.0",
          "state": {
            "_dom_classes": [],
            "_model_module": "@jupyter-widgets/controls",
            "_model_module_version": "1.5.0",
            "_model_name": "HTMLModel",
            "_view_count": null,
            "_view_module": "@jupyter-widgets/controls",
            "_view_module_version": "1.5.0",
            "_view_name": "HTMLView",
            "description": "",
            "description_tooltip": null,
            "layout": "IPY_MODEL_c8730f879a17414c98ce9290435a4bb2",
            "placeholder": "​",
            "style": "IPY_MODEL_518f4b8bc51f40deb2c33fea005ef342",
            "value": " 4422656/? [00:01&lt;00:00, 6206711.03it/s]"
          }
        },
        "e99b00538c374c65b30a3aeb5cee607c": {
          "model_module": "@jupyter-widgets/base",
          "model_name": "LayoutModel",
          "model_module_version": "1.2.0",
          "state": {
            "_model_module": "@jupyter-widgets/base",
            "_model_module_version": "1.2.0",
            "_model_name": "LayoutModel",
            "_view_count": null,
            "_view_module": "@jupyter-widgets/base",
            "_view_module_version": "1.2.0",
            "_view_name": "LayoutView",
            "align_content": null,
            "align_items": null,
            "align_self": null,
            "border": null,
            "bottom": null,
            "display": null,
            "flex": null,
            "flex_flow": null,
            "grid_area": null,
            "grid_auto_columns": null,
            "grid_auto_flow": null,
            "grid_auto_rows": null,
            "grid_column": null,
            "grid_gap": null,
            "grid_row": null,
            "grid_template_areas": null,
            "grid_template_columns": null,
            "grid_template_rows": null,
            "height": null,
            "justify_content": null,
            "justify_items": null,
            "left": null,
            "margin": null,
            "max_height": null,
            "max_width": null,
            "min_height": null,
            "min_width": null,
            "object_fit": null,
            "object_position": null,
            "order": null,
            "overflow": null,
            "overflow_x": null,
            "overflow_y": null,
            "padding": null,
            "right": null,
            "top": null,
            "visibility": null,
            "width": null
          }
        },
        "f2a0e2c5301245279bee8dcfef9535b7": {
          "model_module": "@jupyter-widgets/base",
          "model_name": "LayoutModel",
          "model_module_version": "1.2.0",
          "state": {
            "_model_module": "@jupyter-widgets/base",
            "_model_module_version": "1.2.0",
            "_model_name": "LayoutModel",
            "_view_count": null,
            "_view_module": "@jupyter-widgets/base",
            "_view_module_version": "1.2.0",
            "_view_name": "LayoutView",
            "align_content": null,
            "align_items": null,
            "align_self": null,
            "border": null,
            "bottom": null,
            "display": null,
            "flex": null,
            "flex_flow": null,
            "grid_area": null,
            "grid_auto_columns": null,
            "grid_auto_flow": null,
            "grid_auto_rows": null,
            "grid_column": null,
            "grid_gap": null,
            "grid_row": null,
            "grid_template_areas": null,
            "grid_template_columns": null,
            "grid_template_rows": null,
            "height": null,
            "justify_content": null,
            "justify_items": null,
            "left": null,
            "margin": null,
            "max_height": null,
            "max_width": null,
            "min_height": null,
            "min_width": null,
            "object_fit": null,
            "object_position": null,
            "order": null,
            "overflow": null,
            "overflow_x": null,
            "overflow_y": null,
            "padding": null,
            "right": null,
            "top": null,
            "visibility": null,
            "width": null
          }
        },
        "70ace03ebc9f4d74b10c69402a5fad1b": {
          "model_module": "@jupyter-widgets/controls",
          "model_name": "DescriptionStyleModel",
          "model_module_version": "1.5.0",
          "state": {
            "_model_module": "@jupyter-widgets/controls",
            "_model_module_version": "1.5.0",
            "_model_name": "DescriptionStyleModel",
            "_view_count": null,
            "_view_module": "@jupyter-widgets/base",
            "_view_module_version": "1.2.0",
            "_view_name": "StyleView",
            "description_width": ""
          }
        },
        "941c9a3670f549d5ba13a7010d21092d": {
          "model_module": "@jupyter-widgets/base",
          "model_name": "LayoutModel",
          "model_module_version": "1.2.0",
          "state": {
            "_model_module": "@jupyter-widgets/base",
            "_model_module_version": "1.2.0",
            "_model_name": "LayoutModel",
            "_view_count": null,
            "_view_module": "@jupyter-widgets/base",
            "_view_module_version": "1.2.0",
            "_view_name": "LayoutView",
            "align_content": null,
            "align_items": null,
            "align_self": null,
            "border": null,
            "bottom": null,
            "display": null,
            "flex": null,
            "flex_flow": null,
            "grid_area": null,
            "grid_auto_columns": null,
            "grid_auto_flow": null,
            "grid_auto_rows": null,
            "grid_column": null,
            "grid_gap": null,
            "grid_row": null,
            "grid_template_areas": null,
            "grid_template_columns": null,
            "grid_template_rows": null,
            "height": null,
            "justify_content": null,
            "justify_items": null,
            "left": null,
            "margin": null,
            "max_height": null,
            "max_width": null,
            "min_height": null,
            "min_width": null,
            "object_fit": null,
            "object_position": null,
            "order": null,
            "overflow": null,
            "overflow_x": null,
            "overflow_y": null,
            "padding": null,
            "right": null,
            "top": null,
            "visibility": null,
            "width": null
          }
        },
        "f58c413ebe36432eb8532b4d04f55463": {
          "model_module": "@jupyter-widgets/controls",
          "model_name": "ProgressStyleModel",
          "model_module_version": "1.5.0",
          "state": {
            "_model_module": "@jupyter-widgets/controls",
            "_model_module_version": "1.5.0",
            "_model_name": "ProgressStyleModel",
            "_view_count": null,
            "_view_module": "@jupyter-widgets/base",
            "_view_module_version": "1.2.0",
            "_view_name": "StyleView",
            "bar_color": null,
            "description_width": ""
          }
        },
        "c8730f879a17414c98ce9290435a4bb2": {
          "model_module": "@jupyter-widgets/base",
          "model_name": "LayoutModel",
          "model_module_version": "1.2.0",
          "state": {
            "_model_module": "@jupyter-widgets/base",
            "_model_module_version": "1.2.0",
            "_model_name": "LayoutModel",
            "_view_count": null,
            "_view_module": "@jupyter-widgets/base",
            "_view_module_version": "1.2.0",
            "_view_name": "LayoutView",
            "align_content": null,
            "align_items": null,
            "align_self": null,
            "border": null,
            "bottom": null,
            "display": null,
            "flex": null,
            "flex_flow": null,
            "grid_area": null,
            "grid_auto_columns": null,
            "grid_auto_flow": null,
            "grid_auto_rows": null,
            "grid_column": null,
            "grid_gap": null,
            "grid_row": null,
            "grid_template_areas": null,
            "grid_template_columns": null,
            "grid_template_rows": null,
            "height": null,
            "justify_content": null,
            "justify_items": null,
            "left": null,
            "margin": null,
            "max_height": null,
            "max_width": null,
            "min_height": null,
            "min_width": null,
            "object_fit": null,
            "object_position": null,
            "order": null,
            "overflow": null,
            "overflow_x": null,
            "overflow_y": null,
            "padding": null,
            "right": null,
            "top": null,
            "visibility": null,
            "width": null
          }
        },
        "518f4b8bc51f40deb2c33fea005ef342": {
          "model_module": "@jupyter-widgets/controls",
          "model_name": "DescriptionStyleModel",
          "model_module_version": "1.5.0",
          "state": {
            "_model_module": "@jupyter-widgets/controls",
            "_model_module_version": "1.5.0",
            "_model_name": "DescriptionStyleModel",
            "_view_count": null,
            "_view_module": "@jupyter-widgets/base",
            "_view_module_version": "1.2.0",
            "_view_name": "StyleView",
            "description_width": ""
          }
        },
        "5f5f7f4171964152aaf4b991a344d2f0": {
          "model_module": "@jupyter-widgets/controls",
          "model_name": "HBoxModel",
          "model_module_version": "1.5.0",
          "state": {
            "_dom_classes": [],
            "_model_module": "@jupyter-widgets/controls",
            "_model_module_version": "1.5.0",
            "_model_name": "HBoxModel",
            "_view_count": null,
            "_view_module": "@jupyter-widgets/controls",
            "_view_module_version": "1.5.0",
            "_view_name": "HBoxView",
            "box_style": "",
            "children": [
              "IPY_MODEL_0eefae215ba74ba2a950eb1ddba316ca",
              "IPY_MODEL_fb8b888ddefb4f78b0262fb89e08f039",
              "IPY_MODEL_931c2fb964284083b420b69af2326b8d"
            ],
            "layout": "IPY_MODEL_dd703064802c479cbe7eb817299c66ca"
          }
        },
        "0eefae215ba74ba2a950eb1ddba316ca": {
          "model_module": "@jupyter-widgets/controls",
          "model_name": "HTMLModel",
          "model_module_version": "1.5.0",
          "state": {
            "_dom_classes": [],
            "_model_module": "@jupyter-widgets/controls",
            "_model_module_version": "1.5.0",
            "_model_name": "HTMLModel",
            "_view_count": null,
            "_view_module": "@jupyter-widgets/controls",
            "_view_module_version": "1.5.0",
            "_view_name": "HTMLView",
            "description": "",
            "description_tooltip": null,
            "layout": "IPY_MODEL_9e57b86e141048cb9d9edcff9bb47f73",
            "placeholder": "​",
            "style": "IPY_MODEL_852186889f154a22a9f8cc6bc8d7c80b",
            "value": ""
          }
        },
        "fb8b888ddefb4f78b0262fb89e08f039": {
          "model_module": "@jupyter-widgets/controls",
          "model_name": "FloatProgressModel",
          "model_module_version": "1.5.0",
          "state": {
            "_dom_classes": [],
            "_model_module": "@jupyter-widgets/controls",
            "_model_module_version": "1.5.0",
            "_model_name": "FloatProgressModel",
            "_view_count": null,
            "_view_module": "@jupyter-widgets/controls",
            "_view_module_version": "1.5.0",
            "_view_name": "ProgressView",
            "bar_style": "success",
            "description": "",
            "description_tooltip": null,
            "layout": "IPY_MODEL_9ec4659672f541d69062eebee3df429c",
            "max": 5148,
            "min": 0,
            "orientation": "horizontal",
            "style": "IPY_MODEL_d362e158a46947dc91238a0fc3c269dd",
            "value": 5148
          }
        },
        "931c2fb964284083b420b69af2326b8d": {
          "model_module": "@jupyter-widgets/controls",
          "model_name": "HTMLModel",
          "model_module_version": "1.5.0",
          "state": {
            "_dom_classes": [],
            "_model_module": "@jupyter-widgets/controls",
            "_model_module_version": "1.5.0",
            "_model_name": "HTMLModel",
            "_view_count": null,
            "_view_module": "@jupyter-widgets/controls",
            "_view_module_version": "1.5.0",
            "_view_name": "HTMLView",
            "description": "",
            "description_tooltip": null,
            "layout": "IPY_MODEL_1fc35119fb234853bb07c35b66434eb4",
            "placeholder": "​",
            "style": "IPY_MODEL_62da4b66edcc4a2f9f0cf72159b9c92c",
            "value": " 6144/? [00:00&lt;00:00, 79506.74it/s]"
          }
        },
        "dd703064802c479cbe7eb817299c66ca": {
          "model_module": "@jupyter-widgets/base",
          "model_name": "LayoutModel",
          "model_module_version": "1.2.0",
          "state": {
            "_model_module": "@jupyter-widgets/base",
            "_model_module_version": "1.2.0",
            "_model_name": "LayoutModel",
            "_view_count": null,
            "_view_module": "@jupyter-widgets/base",
            "_view_module_version": "1.2.0",
            "_view_name": "LayoutView",
            "align_content": null,
            "align_items": null,
            "align_self": null,
            "border": null,
            "bottom": null,
            "display": null,
            "flex": null,
            "flex_flow": null,
            "grid_area": null,
            "grid_auto_columns": null,
            "grid_auto_flow": null,
            "grid_auto_rows": null,
            "grid_column": null,
            "grid_gap": null,
            "grid_row": null,
            "grid_template_areas": null,
            "grid_template_columns": null,
            "grid_template_rows": null,
            "height": null,
            "justify_content": null,
            "justify_items": null,
            "left": null,
            "margin": null,
            "max_height": null,
            "max_width": null,
            "min_height": null,
            "min_width": null,
            "object_fit": null,
            "object_position": null,
            "order": null,
            "overflow": null,
            "overflow_x": null,
            "overflow_y": null,
            "padding": null,
            "right": null,
            "top": null,
            "visibility": null,
            "width": null
          }
        },
        "9e57b86e141048cb9d9edcff9bb47f73": {
          "model_module": "@jupyter-widgets/base",
          "model_name": "LayoutModel",
          "model_module_version": "1.2.0",
          "state": {
            "_model_module": "@jupyter-widgets/base",
            "_model_module_version": "1.2.0",
            "_model_name": "LayoutModel",
            "_view_count": null,
            "_view_module": "@jupyter-widgets/base",
            "_view_module_version": "1.2.0",
            "_view_name": "LayoutView",
            "align_content": null,
            "align_items": null,
            "align_self": null,
            "border": null,
            "bottom": null,
            "display": null,
            "flex": null,
            "flex_flow": null,
            "grid_area": null,
            "grid_auto_columns": null,
            "grid_auto_flow": null,
            "grid_auto_rows": null,
            "grid_column": null,
            "grid_gap": null,
            "grid_row": null,
            "grid_template_areas": null,
            "grid_template_columns": null,
            "grid_template_rows": null,
            "height": null,
            "justify_content": null,
            "justify_items": null,
            "left": null,
            "margin": null,
            "max_height": null,
            "max_width": null,
            "min_height": null,
            "min_width": null,
            "object_fit": null,
            "object_position": null,
            "order": null,
            "overflow": null,
            "overflow_x": null,
            "overflow_y": null,
            "padding": null,
            "right": null,
            "top": null,
            "visibility": null,
            "width": null
          }
        },
        "852186889f154a22a9f8cc6bc8d7c80b": {
          "model_module": "@jupyter-widgets/controls",
          "model_name": "DescriptionStyleModel",
          "model_module_version": "1.5.0",
          "state": {
            "_model_module": "@jupyter-widgets/controls",
            "_model_module_version": "1.5.0",
            "_model_name": "DescriptionStyleModel",
            "_view_count": null,
            "_view_module": "@jupyter-widgets/base",
            "_view_module_version": "1.2.0",
            "_view_name": "StyleView",
            "description_width": ""
          }
        },
        "9ec4659672f541d69062eebee3df429c": {
          "model_module": "@jupyter-widgets/base",
          "model_name": "LayoutModel",
          "model_module_version": "1.2.0",
          "state": {
            "_model_module": "@jupyter-widgets/base",
            "_model_module_version": "1.2.0",
            "_model_name": "LayoutModel",
            "_view_count": null,
            "_view_module": "@jupyter-widgets/base",
            "_view_module_version": "1.2.0",
            "_view_name": "LayoutView",
            "align_content": null,
            "align_items": null,
            "align_self": null,
            "border": null,
            "bottom": null,
            "display": null,
            "flex": null,
            "flex_flow": null,
            "grid_area": null,
            "grid_auto_columns": null,
            "grid_auto_flow": null,
            "grid_auto_rows": null,
            "grid_column": null,
            "grid_gap": null,
            "grid_row": null,
            "grid_template_areas": null,
            "grid_template_columns": null,
            "grid_template_rows": null,
            "height": null,
            "justify_content": null,
            "justify_items": null,
            "left": null,
            "margin": null,
            "max_height": null,
            "max_width": null,
            "min_height": null,
            "min_width": null,
            "object_fit": null,
            "object_position": null,
            "order": null,
            "overflow": null,
            "overflow_x": null,
            "overflow_y": null,
            "padding": null,
            "right": null,
            "top": null,
            "visibility": null,
            "width": null
          }
        },
        "d362e158a46947dc91238a0fc3c269dd": {
          "model_module": "@jupyter-widgets/controls",
          "model_name": "ProgressStyleModel",
          "model_module_version": "1.5.0",
          "state": {
            "_model_module": "@jupyter-widgets/controls",
            "_model_module_version": "1.5.0",
            "_model_name": "ProgressStyleModel",
            "_view_count": null,
            "_view_module": "@jupyter-widgets/base",
            "_view_module_version": "1.2.0",
            "_view_name": "StyleView",
            "bar_color": null,
            "description_width": ""
          }
        },
        "1fc35119fb234853bb07c35b66434eb4": {
          "model_module": "@jupyter-widgets/base",
          "model_name": "LayoutModel",
          "model_module_version": "1.2.0",
          "state": {
            "_model_module": "@jupyter-widgets/base",
            "_model_module_version": "1.2.0",
            "_model_name": "LayoutModel",
            "_view_count": null,
            "_view_module": "@jupyter-widgets/base",
            "_view_module_version": "1.2.0",
            "_view_name": "LayoutView",
            "align_content": null,
            "align_items": null,
            "align_self": null,
            "border": null,
            "bottom": null,
            "display": null,
            "flex": null,
            "flex_flow": null,
            "grid_area": null,
            "grid_auto_columns": null,
            "grid_auto_flow": null,
            "grid_auto_rows": null,
            "grid_column": null,
            "grid_gap": null,
            "grid_row": null,
            "grid_template_areas": null,
            "grid_template_columns": null,
            "grid_template_rows": null,
            "height": null,
            "justify_content": null,
            "justify_items": null,
            "left": null,
            "margin": null,
            "max_height": null,
            "max_width": null,
            "min_height": null,
            "min_width": null,
            "object_fit": null,
            "object_position": null,
            "order": null,
            "overflow": null,
            "overflow_x": null,
            "overflow_y": null,
            "padding": null,
            "right": null,
            "top": null,
            "visibility": null,
            "width": null
          }
        },
        "62da4b66edcc4a2f9f0cf72159b9c92c": {
          "model_module": "@jupyter-widgets/controls",
          "model_name": "DescriptionStyleModel",
          "model_module_version": "1.5.0",
          "state": {
            "_model_module": "@jupyter-widgets/controls",
            "_model_module_version": "1.5.0",
            "_model_name": "DescriptionStyleModel",
            "_view_count": null,
            "_view_module": "@jupyter-widgets/base",
            "_view_module_version": "1.2.0",
            "_view_name": "StyleView",
            "description_width": ""
          }
        }
      }
    }
  },
  "nbformat": 4,
  "nbformat_minor": 0
}