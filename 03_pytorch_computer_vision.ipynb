{
 "cells": [
  {
   "cell_type": "markdown",
   "metadata": {},
   "source": [
    "## 03. Computer Vision with PyTorch\n",
    "\n",
    "What we're going to cover:\n",
    "* Basic dataset\n",
    "    * PyTorch FashionMNIST - https://pytorch.org/vision/stable/datasets.html\n",
    "* Custom dataset \n",
    "    * (made from scratch)\n",
    "* Visualizing models"
   ]
  },
  {
   "cell_type": "code",
   "execution_count": null,
   "metadata": {},
   "outputs": [],
   "source": []
  }
 ],
 "metadata": {
  "language_info": {
   "name": "python"
  },
  "orig_nbformat": 4
 },
 "nbformat": 4,
 "nbformat_minor": 2
}
