{
 "cells": [
  {
   "cell_type": "markdown",
   "metadata": {},
   "source": [
    "# 01. PyTorch Workflow Fundamentals\n",
    "\n",
    "You: have some data + want it modelled.\n",
    "\n",
    "Let's do that with PyTorch.\n",
    "\n",
    "How about we start with a straight line?\n",
    "\n",
    "And we see if we can build a model with PyTorch to predict that straight line.\n",
    "\n",
    "## TK - What we're going to cover\n",
    "\n",
    "1. Data\n",
    "2. Load data\n",
    "3. Build model\n",
    "4. Fitting model to data (training)\n",
    "5. Making predictions (inference)\n",
    "6. Saving and loading model\n",
    "7. Putting it all together\n",
    "\n"
   ]
  },
  {
   "cell_type": "code",
   "execution_count": null,
   "metadata": {},
   "outputs": [],
   "source": []
  }
 ],
 "metadata": {
  "interpreter": {
   "hash": "3fbe1355223f7b2ffc113ba3ade6a2b520cadace5d5ec3e828c83ce02eb221bf"
  },
  "kernelspec": {
   "display_name": "Python 3.9.7 64-bit (conda)",
   "name": "python3"
  },
  "language_info": {
   "codemirror_mode": {
    "name": "ipython",
    "version": 3
   },
   "file_extension": ".py",
   "mimetype": "text/x-python",
   "name": "python",
   "nbconvert_exporter": "python",
   "pygments_lexer": "ipython3",
   "version": "3.9.7"
  },
  "orig_nbformat": 4
 },
 "nbformat": 4,
 "nbformat_minor": 2
}
