{
  "cells": [
    {
      "cell_type": "markdown",
      "metadata": {
        "id": "view-in-github",
        "colab_type": "text"
      },
      "source": [
        "<a href=\"https://colab.research.google.com/github/mrdbourke/pytorch-deep-learning/blob/main/01_pytorch_workflow.ipynb\" target=\"_parent\"><img src=\"https://colab.research.google.com/assets/colab-badge.svg\" alt=\"Open In Colab\"/></a>"
      ]
    },
    {
      "cell_type": "markdown",
      "metadata": {
        "id": "OgYkrRCRec0r"
      },
      "source": [
        "# 01. PyTorch Workflow Fundamentals\n",
        "\n",
        "The essence of machine learning and deep learning is to take some data from the past, build an algorithm (like a neural network) to discover patterns in it and use the discoverd patterns to predict the future.\n",
        "\n",
        "There are many ways to do this and many new ways are being discovered all the time.\n",
        "\n",
        "But let's start small.\n",
        "\n",
        "How about we start with a straight line?\n",
        "\n",
        "And we see if we can build a model with PyTorch to that straight line.\n",
        "\n"
      ]
    },
    {
      "cell_type": "markdown",
      "source": [
        "\n",
        "\n",
        "## What we're going to cover\n",
        "\n",
        "In this module we're going to cover a standard PyTorch workflow (it can be chopped and changed as necessary but it covers the main outline of steps).\n",
        "\n",
        "![a pytorch workflow flowchart](https://raw.githubusercontent.com/mrdbourke/pytorch-deep-learning/main/images/01_a_pytorch_workflow.png)\n",
        "\n",
        "For now, we'll use this workflow to predict a simple straight line but the workflow steps can be repeated and changed depending on the problem you're working on.\n",
        "\n",
        "Specifically, we're going to cover:\n",
        "\n",
        "| **Topic** | **Contents** |\n",
        "| ----- | ----- |\n",
        "| **1. Getting data ready** | Data can be almost anything but for to get started we're going to create a simple straight line |\n",
        "| **2. Building a model** | Here we'll create a model to learn patterns in the data, we'll also choose a **loss function**, **optimizer** and build a **training loop**. | \n",
        "| **3. Fitting the model to data (training)** | We've got data and a model, now let's let the model (try to) find patterns in the (**training**) data. |\n",
        "| **4. Making predictions and evaluating a model (inference)** | Our model's found patterns in the data, let's compare its findings to the actual (**testing**) data. |\n",
        "| **5. Saving and loading a model** | You may want to use your model elsewhere, or come back to it later, here we'll cover that. |\n",
        "| **6. Putting it all together** | Let's take all of the above and combine it. |\n",
        "\n"
      ],
      "metadata": {
        "id": "51Ug7Ug123Ip"
      }
    },
    {
      "cell_type": "markdown",
      "source": [
        "\n",
        "## Where can can you get help?\n",
        "\n",
        "All of the materials for this course [live on GitHub](https://github.com/mrdbourke/pytorch-deep-learning).\n",
        "\n",
        "And if you run into trouble, you can ask a question on the [Discussions page](https://github.com/mrdbourke/pytorch-deep-learning/discussions) there too.\n",
        "\n",
        "There's also the [PyTorch developer forums](https://discuss.pytorch.org/), a very helpful place for all things PyTorch. \n",
        "\n",
        "Let's start by putting what we're covering into a dictionary to reference later.\n"
      ],
      "metadata": {
        "id": "kKC3ugfM25e_"
      }
    },
    {
      "cell_type": "code",
      "execution_count": 100,
      "metadata": {
        "id": "nGM1dEsYec0u"
      },
      "outputs": [],
      "source": [
        "what_were_covering = {1: \"data (prepare and load)\",\n",
        "    2: \"build model\",\n",
        "    3: \"fitting the model to data (training)\",\n",
        "    4: \"making predictions and evaluating a model (inference)\",\n",
        "    5: \"saving and loading a model\",\n",
        "    6: \"putting it all together\"\n",
        "}"
      ]
    },
    {
      "cell_type": "markdown",
      "source": [
        "And now let's import what we'll need for this module.\n",
        "\n",
        "We're going to get `torch`, `torch.nn` (`nn` stands for neural network and this package contains the building blocks for creating neural networks in PyTorch) and `matplotlib`."
      ],
      "metadata": {
        "id": "L9EOt5cbod6l"
      }
    },
    {
      "cell_type": "code",
      "execution_count": 101,
      "metadata": {
        "id": "ZT_ikDC-ec0w",
        "colab": {
          "base_uri": "https://localhost:8080/",
          "height": 35
        },
        "outputId": "cc532d25-035f-4197-d84a-0c91a7098b46"
      },
      "outputs": [
        {
          "output_type": "execute_result",
          "data": {
            "application/vnd.google.colaboratory.intrinsic+json": {
              "type": "string"
            },
            "text/plain": [
              "'1.10.0+cu111'"
            ]
          },
          "metadata": {},
          "execution_count": 101
        }
      ],
      "source": [
        "import torch\n",
        "from torch import nn # nn contains all of PyTorch's building blocks for neural networks\n",
        "import matplotlib.pyplot as plt\n",
        "\n",
        "# Check PyTorch version\n",
        "torch.__version__"
      ]
    },
    {
      "cell_type": "markdown",
      "metadata": {
        "id": "ci_-geIdec0w"
      },
      "source": [
        "## TK - 1. Data (preparing and loading)\n",
        "\n",
        "I want to stress that \"data\" in machine learning can be almost anything you can imagine. A table of numbers (like a big Excel spreadsheet), images of any kind, videos (YouTube has lots of data!), audio files like songs or podcasts, protein structures, text and more.\n",
        "\n",
        "TK - Slide: Machine learning is a game of two parts:\n",
        "1. Turn your data, whatever it is, into numbers (a representation).\n",
        "2. Pick or build a model to learn the representation as best as possible.\n",
        "\n",
        "Sometimes one and two can be done at the same time.\n",
        "\n",
        "But what if you don't have data?\n",
        "\n",
        "Well, that's where we're at now.\n",
        "\n",
        "No data.\n",
        "\n",
        "But we can create some.\n",
        "\n",
        "Let's create our data as a straight line.\n",
        "\n",
        "We'll use [linear regression](https://en.wikipedia.org/wiki/Linear_regression) to create the data with known **parameters** (things that can be learned by a model) and then we'll use PyTorch to see if we can build model to estimate these parameters using [**gradient descent**](https://en.wikipedia.org/wiki/Gradient_descent).\n",
        "\n",
        "Don't worry if the terms above don't mean much now, we'll see them in action and I'll put extra resources below where you can learn more.\n",
        "\n"
      ]
    },
    {
      "cell_type": "code",
      "execution_count": 102,
      "metadata": {
        "id": "HmZWVNjGec0x",
        "outputId": "9d25f1ac-e821-4671-a1f5-343a3951542b",
        "colab": {
          "base_uri": "https://localhost:8080/"
        }
      },
      "outputs": [
        {
          "output_type": "execute_result",
          "data": {
            "text/plain": [
              "(tensor([[0.0000],\n",
              "         [0.0200],\n",
              "         [0.0400],\n",
              "         [0.0600],\n",
              "         [0.0800],\n",
              "         [0.1000],\n",
              "         [0.1200],\n",
              "         [0.1400],\n",
              "         [0.1600],\n",
              "         [0.1800]]), tensor([[0.3000],\n",
              "         [0.3140],\n",
              "         [0.3280],\n",
              "         [0.3420],\n",
              "         [0.3560],\n",
              "         [0.3700],\n",
              "         [0.3840],\n",
              "         [0.3980],\n",
              "         [0.4120],\n",
              "         [0.4260]]))"
            ]
          },
          "metadata": {},
          "execution_count": 102
        }
      ],
      "source": [
        "# Create *known* parameters\n",
        "weight = 0.7\n",
        "bias = 0.3\n",
        "\n",
        "# Create data\n",
        "start = 0\n",
        "end = 1\n",
        "step = 0.02\n",
        "X = torch.arange(start, end, step).unsqueeze(dim=1)\n",
        "y = weight * X + bias\n",
        "\n",
        "X[:10], y[:10]"
      ]
    },
    {
      "cell_type": "markdown",
      "source": [
        "Beautiful! Now we're going to move towards building a model that can learn the relationship between `X` (**features**) and `y` (**labels**). "
      ],
      "metadata": {
        "id": "dzNigr8dtW2Y"
      }
    },
    {
      "cell_type": "markdown",
      "source": [
        "### Split data into training and test sets \n",
        "\n",
        "We've got some data.\n",
        "\n",
        "But before we build a model we need to split it up.\n",
        "\n",
        "One of most important steps in a machine learning project is creating a training and test set (and when required, a validation set).\n",
        "\n",
        "Each split of the dataset serves a specific purpose:\n",
        "\n",
        "| Split | Purpose | Amount of total data | How often is it used? |\n",
        "| ----- | ----- | ----- | ----- |\n",
        "| **Training set** | The model learns from this data (like the course materials you study during the semester). | ~60-80% | Always |\n",
        "| **Validation set** | The model gets tuned on this data (like the practice exam you take before the final exam). | ~10-20% | Often but not always |\n",
        "| **Testing set** | The model gets evaluated on this data to test what it has learned (like the final exam you take at the end of the semester). | ~10-20% | Always |\n",
        "\n",
        "For now, we'll just use a training and test set, this means we'll have a dataset for our model to learn on as well as be evaluated on.\n",
        "\n",
        "We can create them by splitting our `X` and `y` tensors.\n",
        "\n",
        "> **Note:** When dealing with real-world data, this step is typically done right at the start of a project (the test set should always be kept separate from all other data). We want our model to learn on training data and then evaluate it on test data to get an indication of how well it **generalizes** to unseen examples.\n"
      ],
      "metadata": {
        "id": "YApM7diprjP0"
      }
    },
    {
      "cell_type": "code",
      "execution_count": 103,
      "metadata": {
        "id": "BpyB7JgHec0y",
        "outputId": "febfe47e-1d87-431d-fe4e-61f62f634e2a",
        "colab": {
          "base_uri": "https://localhost:8080/"
        }
      },
      "outputs": [
        {
          "output_type": "execute_result",
          "data": {
            "text/plain": [
              "(40, 40, 10, 10)"
            ]
          },
          "metadata": {},
          "execution_count": 103
        }
      ],
      "source": [
        "# Create train/test split\n",
        "train_split = int(0.8 * len(X)) # 80% of data used for training set, 20% for testing \n",
        "X_train, y_train = X[:train_split], y[:train_split]\n",
        "X_test, y_test = X[train_split:], y[train_split:]\n",
        "\n",
        "len(X_train), len(y_train), len(X_test), len(y_test)"
      ]
    },
    {
      "cell_type": "markdown",
      "source": [
        "Wonderful, we've got 40 samples for training (`X_train` & `y_train`) and 10 samples for testing (`X_test` & `y_test`).\n",
        "\n",
        "The model we create is going to try and learn the relationship between `X_train` & `y_train` and then we will evaluate what it learns on `X_test` and `y_test`.\n",
        "\n",
        "But right now our data is just numbers on a page.\n",
        "\n",
        "Let's create a function to visualize it."
      ],
      "metadata": {
        "id": "ua1y5hFjtLxC"
      }
    },
    {
      "cell_type": "code",
      "execution_count": 104,
      "metadata": {
        "id": "w9Ep0T-Dec0y"
      },
      "outputs": [],
      "source": [
        "def plot_predictions(train_data=X_train, \n",
        "                     train_labels=y_train, \n",
        "                     test_data=X_test, \n",
        "                     test_labels=y_test, \n",
        "                     predictions=None):\n",
        "  \"\"\"\n",
        "  Plots training data, test data and compares predictions.\n",
        "  \"\"\"\n",
        "  plt.figure(figsize=(10, 7))\n",
        "\n",
        "  # Plot training data in blue\n",
        "  plt.scatter(train_data, train_labels, c=\"b\", s=4, label=\"Training data\")\n",
        "  \n",
        "  # Plot test data in green\n",
        "  plt.scatter(test_data, test_labels, c=\"g\", s=4, label=\"Testing data\")\n",
        "\n",
        "  if predictions is not None:\n",
        "    # Plot the predictions in red (predictions were made on the test data)\n",
        "    plt.scatter(test_data, predictions, c=\"r\", s=4, label=\"Predictions\")\n",
        "\n",
        "  # Show the legend\n",
        "  plt.legend(prop={\"size\": 14});"
      ]
    },
    {
      "cell_type": "code",
      "execution_count": 105,
      "metadata": {
        "id": "xTaIwydGec0z",
        "outputId": "129f0b1e-a8d7-4938-d286-e9591856252b",
        "colab": {
          "base_uri": "https://localhost:8080/",
          "height": 428
        }
      },
      "outputs": [
        {
          "output_type": "display_data",
          "data": {
            "image/png": "[encoded data removed]",
            "text/plain": [
              "<Figure size 720x504 with 1 Axes>"
            ]
          },
          "metadata": {
            "needs_background": "light"
          }
        }
      ],
      "source": [
        "plot_predictions();"
      ]
    },
    {
      "cell_type": "markdown",
      "source": [
        "Epic!\n",
        "\n",
        "Now instead of just being numbers on a page, our data is a straight line.\n",
        "\n",
        "> **Note:** Now's a good time to introduce you to the data explorer's motto... \"visualize, visualize, visualize!\"\n",
        "> \n",
        "> Think of this whenever you're working with data and turning it into numbers, if you can visualize something, it can do wonders for understanding.\n",
        ">\n",
        "> Machines love numbers and we humans like numbers too but we also like to look at things."
      ],
      "metadata": {
        "id": "mdElzVUJuWRe"
      }
    },
    {
      "cell_type": "markdown",
      "metadata": {
        "id": "0eFsorRHec00"
      },
      "source": [
        "## TK - 2. Build model\n",
        "\n",
        "Now we've got some data, let's build a model to use the blue dots to predict the green dots.\n",
        "\n",
        "We're going to jump right in.\n",
        "\n",
        "We'll write the code first and then explain everything. \n",
        "\n",
        "Let's replicate a standard linear regression model using pure PyTorch."
      ]
    },
    {
      "cell_type": "code",
      "execution_count": 106,
      "metadata": {
        "id": "jhcUJBFuec00"
      },
      "outputs": [],
      "source": [
        "# Create a Linear Regression model class\n",
        "class LinearRegressionModel(nn.Module): # <- almost everything in PyTorch is a nn.Module (think of this as neural network lego blocks)\n",
        "    def __init__(self):\n",
        "        super().__init__() \n",
        "        self.weights = nn.Parameter(torch.randn(1, # <- start with random weights (this will get adjusted as the model learns)\n",
        "            requires_grad=True, # <- can we update this value with gradient descent?\n",
        "            dtype=torch.float # <- PyTorch loves float32 by default\n",
        "        ))\n",
        "\n",
        "        self.bias = nn.Parameter(torch.randn(1, # <- start with random bias (this will get adjusted as the model learns)\n",
        "            requires_grad=True, # <- can we update this value with gradient descent?\n",
        "            dtype=torch.float # <- PyTorch loves float32 by default\n",
        "        ))\n",
        "\n",
        "    # Forward defines the computation in the model\n",
        "    def forward(self, x): # <- \"x\" is the input data (e.g. training/testing features)\n",
        "        return self.weights * x + self.bias # <- this is the linear regression formula"
      ]
    },
    {
      "cell_type": "markdown",
      "source": [
        "Alright there's a fair bit going on above but let's break it down bit by bit.\n",
        "\n",
        "> **Resource:** We'll be using Python classes to create bits and pieces for building neural networks. If you're unfamiliar with Python class notation, I'd recommend reading [Real Python's Object Orientating programming in Python 3 guide](https://realpython.com/python3-object-oriented-programming/) a few times.\n",
        "\n"
      ],
      "metadata": {
        "id": "xhu5wxVO7s_q"
      }
    },
    {
      "cell_type": "markdown",
      "source": [
        "### PyTorch model building essentials\n",
        "\n",
        "PyTorch has four (give or take) essential modules you can use to create almost any kind of neural network you can imagine.\n",
        "\n",
        "They are [`torch.nn`](https://pytorch.org/docs/stable/nn.html), [`torch.optim`](https://pytorch.org/docs/stable/optim.html), [`torch.utils.data.Dataset`](https://pytorch.org/docs/stable/data.html#torch.utils.data.Dataset) and [`torch.utils.data.DataLoader`](https://pytorch.org/docs/stable/data.html). For now, we'll focus on the first two and get to the other two later (though you may be able to guess what they do).\n",
        "\n",
        "| PyTorch module | What does it do? |\n",
        "| ----- | ----- |\n",
        "| [`torch.nn`](https://pytorch.org/docs/stable/nn.html) | Contains all of the building blocks for computational graphs (essentially a series of computations executed in a particular way). |\n",
        "| [`torch.nn.Parameter`](https://pytorch.org/docs/stable/generated/torch.nn.parameter.Parameter.html#parameter) | Stores tensors that can be used with `nn.Module`. If `requires_grad=True` gradients (used for updating model parameters via <br/> [**gradient descent**](https://ml-cheatsheet.readthedocs.io/en/latest/gradient_descent.html))  are calculated automatically, this is often referred to as \"autograd\".  | \n",
        "| [`torch.nn.Module`](https://pytorch.org/docs/stable/generated/torch.nn.Module.html#torch.nn.Module) | The base class for all neural network modules, all the building blocks for neural networks are subclasses. </br> If you're building a neural network in PyTorch, your models should subclass `nn.Module`. Requires a `forward()` </br> method be implemented. | \n",
        "| [`torch.optim`](https://pytorch.org/docs/stable/optim.html) | Contains various optimization algorithms (these tell the model paramters stored in `nn.Parameter` how to best change </br> to improve gradient descent and in turn reduce the loss). | \n",
        "| `def forward()` | All `nn.Module` subclasses require a `forward()` method, this defines the computation that will take place on the data passed to the</br> particular `nn.Module` (e.g. the linear regression formula above). |\n",
        "| \n",
        "\n",
        "If the above sounds complex, think of like this, almost everything in a PyTorch neural network comes from `torch.nn`,\n",
        "* `nn.Module` contains the larger building blocks (layers)\n",
        "* `nn.Parameter` contains the smaller parameters like weights and biases (put these together to make `nn.Module`(s))\n",
        "* `foward()` tells the larger blocks how to make calculations on inputs (tensors full of data) within  `nn.Module`(s)\n",
        "* `torch.optim` contains optimization methods on how to improve the parameters within `nn.Parameter` to better represent input data \n",
        "\n",
        "TK - image: add the image from assets (01_linear_regression_model_pytorch) with annoations)\n"
      ],
      "metadata": {
        "id": "iRRq3a0Gvvnl"
      }
    },
    {
      "cell_type": "markdown",
      "source": [
        "\n",
        "### Checking the contents of a PyTorch model\n",
        "Now we've got these out of the way, let's create a model instance with the class we've made and check its parameters using [`.parameters()`](https://pytorch.org/docs/stable/generated/torch.nn.Module.html#torch.nn.Module.parameters). "
      ],
      "metadata": {
        "id": "HYt5sKsgufG7"
      }
    },
    {
      "cell_type": "code",
      "execution_count": 107,
      "metadata": {
        "id": "CsEKA3A_ec01",
        "outputId": "3c37a8d7-486a-4b2d-a78b-a9bb0f212b62",
        "colab": {
          "base_uri": "https://localhost:8080/"
        }
      },
      "outputs": [
        {
          "output_type": "execute_result",
          "data": {
            "text/plain": [
              "[Parameter containing:\n",
              " tensor([0.3367], requires_grad=True), Parameter containing:\n",
              " tensor([0.1288], requires_grad=True)]"
            ]
          },
          "metadata": {},
          "execution_count": 107
        }
      ],
      "source": [
        "# Set manual seed since nn.Parameter are randomly initialzied\n",
        "torch.manual_seed(42)\n",
        "\n",
        "# Create an instance of the model (this is a subclass of nn.Module that contains nn.Parameter(s))\n",
        "model_0 = LinearRegressionModel()\n",
        "\n",
        "# Check the nn.Parameter(s) within the nn.Module subclass we created\n",
        "list(model_0.parameters())"
      ]
    },
    {
      "cell_type": "markdown",
      "source": [
        "We can also get the state (what the model contains) of the model using [`.state_dict()`](https://pytorch.org/docs/stable/generated/torch.nn.Module.html#torch.nn.Module.state_dict)."
      ],
      "metadata": {
        "id": "CNOmcQdSq34e"
      }
    },
    {
      "cell_type": "code",
      "execution_count": 108,
      "metadata": {
        "id": "XC1N_1Qrec01",
        "outputId": "b8f01de4-74eb-49b3-f612-7b1abeab5c09",
        "colab": {
          "base_uri": "https://localhost:8080/"
        }
      },
      "outputs": [
        {
          "output_type": "execute_result",
          "data": {
            "text/plain": [
              "OrderedDict([('weights', tensor([0.3367])), ('bias', tensor([0.1288]))])"
            ]
          },
          "metadata": {},
          "execution_count": 108
        }
      ],
      "source": [
        "# List named parameters \n",
        "model_0.state_dict()"
      ]
    },
    {
      "cell_type": "markdown",
      "metadata": {
        "id": "tdTEPSwSec02"
      },
      "source": [
        "Notice how the values for `weights` and `bias` from `model_0.state_dict()` come out as random float tensors?\n",
        "\n",
        "This is becuase we initialized them above using `torch.randn()`.\n",
        "\n",
        "Essentially we want to start from random parameters and get the model to update them towards parameters that fit our data best (the hardcoded `weight` and `bias` values we set when creating our straight line data).\n",
        "\n",
        "> **Exercise:** Try changing the `torch.manual_seed()` value two cells above, see what happens to the weights and bias values. \n",
        "\n",
        "Because our model starts with random values, right now it'll have poor predictive power.\n",
        "\n"
      ]
    },
    {
      "cell_type": "markdown",
      "source": [
        "### Making predictions using `torch.inference_mode()` \n",
        "To check this we can pass it the test data `X_test` to see how closely it predicts `y_test`.\n",
        "\n",
        "When we pass data to our model, it'll go through the model's `forward()` method and produce a result using the computation we've defined. \n",
        "\n",
        "Let's make some predictions. "
      ],
      "metadata": {
        "id": "BDKdLN7nuheb"
      }
    },
    {
      "cell_type": "code",
      "execution_count": 109,
      "metadata": {
        "id": "-ITlZgU5ec02"
      },
      "outputs": [],
      "source": [
        "# Make predictions with model\n",
        "with torch.inference_mode(): \n",
        "    y_preds = model_0(X_test)\n",
        "\n",
        "# Note: in older PyTorch code you might also see torch.no_grad()\n",
        "# with torch.no_grad():\n",
        "#   y_preds = model_0(X_test)"
      ]
    },
    {
      "cell_type": "markdown",
      "source": [
        "Hmm?\n",
        "\n",
        "You probably noticed we used [`torch.inference_mode()`](https://pytorch.org/docs/stable/generated/torch.inference_mode.html) as a [context manager](https://realpython.com/python-with-statement/) (that's what the `with torch.inference_mode():` is) to make the predictions.\n",
        "\n",
        "As the name suggests, `torch.inference_mode()` is used when using a model for inference (making predictions).\n",
        "\n",
        "`torch.inference_mode()` turns off a bunch of things (like gradient tracking, which is necessary for training but not for inference) to make **forward-passes** (data going through the `forward()` method) faster.\n",
        "\n",
        "> **Note:** In older PyTorch code, you may also see `torch.no_grad()` being used for inference. While `torch.inference_mode()` and `torch.no_grad()` do similar things,\n",
        "`torch.inference_mode()` is newer, potentially faster and preferred. See this [Tweet from PyTorch](https://twitter.com/PyTorch/status/1437838231505096708?s=20) for more.\n",
        "\n",
        "We've made some predictions, let's see what they look like. "
      ],
      "metadata": {
        "id": "L_Bx5I1FsIS0"
      }
    },
    {
      "cell_type": "code",
      "execution_count": 110,
      "metadata": {
        "id": "k4xCScCvec02",
        "outputId": "df2d2f18-c893-4469-838a-559d71a506f6",
        "colab": {
          "base_uri": "https://localhost:8080/"
        }
      },
      "outputs": [
        {
          "output_type": "stream",
          "name": "stdout",
          "text": [
            "Number of testing samples: 10\n",
            "Number of predictions made: 10\n",
            "Predicted values:\n",
            "tensor([[0.3982],\n",
            "        [0.4049],\n",
            "        [0.4116],\n",
            "        [0.4184],\n",
            "        [0.4251],\n",
            "        [0.4318],\n",
            "        [0.4386],\n",
            "        [0.4453],\n",
            "        [0.4520],\n",
            "        [0.4588]])\n"
          ]
        }
      ],
      "source": [
        "# Check the predictions\n",
        "print(f\"Number of testing samples: {len(X_test)}\") \n",
        "print(f\"Number of predictions made: {len(y_preds)}\")\n",
        "print(f\"Predicted values:\\n{y_preds}\")"
      ]
    },
    {
      "cell_type": "markdown",
      "source": [
        "Notice how there's one prediction value per testing sample.\n",
        "\n",
        "This is because of the kind of data we're using. For our straight line, one `X` value maps to one `y` value. \n",
        "\n",
        "However, machine learning models are very flexible. You could have 100 `X` values mapping to one, two, three or 10 `y` values. It all depends on what you're working on.\n",
        "\n",
        "Our predictions are still numbers on a page, let's visualize them with our `plot_predictions()` function we created above."
      ],
      "metadata": {
        "id": "FnSwGbQEupZs"
      }
    },
    {
      "cell_type": "code",
      "execution_count": 111,
      "metadata": {
        "id": "pwjxLWZTec02",
        "outputId": "10d52b00-dddd-448f-a227-88c344ea2432",
        "colab": {
          "base_uri": "https://localhost:8080/",
          "height": 428
        }
      },
      "outputs": [
        {
          "output_type": "display_data",
          "data": {
            "image/png": "[encoded data removed]",
            "text/plain": [
              "<Figure size 720x504 with 1 Axes>"
            ]
          },
          "metadata": {
            "needs_background": "light"
          }
        }
      ],
      "source": [
        "plot_predictions(predictions=y_preds)"
      ]
    },
    {
      "cell_type": "markdown",
      "source": [
        "Woah! Those predictions look pretty bad...\n",
        "\n",
        "This make sense though when you remember our model is just using random parameter values to make predictions.\n",
        "\n",
        "It hasn't even looked at the blue dots to try to predict the green dots.\n",
        "\n",
        "Time to change that."
      ],
      "metadata": {
        "id": "lxt8WUzdv1qS"
      }
    },
    {
      "cell_type": "markdown",
      "metadata": {
        "id": "ZZpa-fXLec03"
      },
      "source": [
        "## 3. Train model\n",
        "\n",
        "Right now our model is making predictions using random parameters to make calculations, it's basically guessing (randomly).\n",
        "\n",
        "To fix that, we can update its internal parameters (I also refer to *parameters* as patterns), the `weights` and `bias` values we set randomly using `nn.Parameter()` and `torch.randn()` to be something that better represents the data.\n",
        "\n",
        "We could hard code this (since we know the default values `weight=0.7` and `bias=0.3`) but where's the fun in that?\n",
        "\n",
        "Much of the time you won't know what the ideal parameters are for a model.\n",
        "\n",
        "Instead, it's much more fun to write code to see if the model can try and figure them out itself.\n",
        "\n"
      ]
    },
    {
      "cell_type": "markdown",
      "source": [
        "### Creating a loss function and optimizer in PyTorch\n",
        "\n",
        "For our model to update its parameters on its own, we'll need to add a few more things to our recipe.\n",
        "\n",
        "And that's a **loss function** as well as an **optimizer**.\n",
        "\n",
        "The rolls of these are: \n",
        "\n",
        "| Function | What does it do? | Where does it live in PyTorch? | Common values |\n",
        "| ----- | ----- | ----- | ----- |\n",
        "| **Loss function** | Measures how wrong your models predictions (e.g. `y_preds`) are compared to</br> the truth labels (e.g. `y_test`). Lower the better. | PyTorch has plenty of built-in loss functions in [`torch.nn`](https://pytorch.org/docs/stable/nn.html#loss-functions). | Mean absolute error (MAE) for regression problems ([`torch.nn.L1Loss()`](https://pytorch.org/docs/stable/generated/torch.nn.L1Loss.html)).</br>Binary cross entropy for binary classification problems ([`torch.nn.BCELoss()`](https://pytorch.org/docs/stable/generated/torch.nn.BCELoss.html)).  |\n",
        "| **Optimizer** | Tells your model how to update its internal parameters to best lower the loss. | You can find various optimization function implementations in [`torch.optim`](https://pytorch.org/docs/stable/optim.html). | Stochastic gradient descent ([`torch.optim.SGD()`](https://pytorch.org/docs/stable/generated/torch.optim.SGD.html#torch.optim.SGD)).</br>Adam optimizer ([`torch.optim.Adam()`](https://pytorch.org/docs/stable/generated/torch.optim.Adam.html#torch.optim.Adam)). | \n",
        "\n",
        "Let's create a loss function and an optimizer we can use to help improve our model.\n",
        "\n",
        "Depending on what kind of problem you're working on will depend on what loss function and what optimizer you use.\n",
        "\n",
        "However, there are some common values, that are known to work well such as the SGD (stochastic gradient descent) or Adam optimizer. And the MAE (mean absolute error) loss function for regression problems (predicting a number) or binary cross entropy loss function for classification problems (predicting one thing or another). \n",
        "\n",
        "For our problem, since we're predicting a number, let's use MAE (which is under `torch.nn.L1Loss()`) in PyTorch as our loss function. \n",
        "\n",
        "And we'll use SGD, `torch.optim.SGD(params, lr)` where:\n",
        "\n",
        "* `params` is the target model parameters you'd like to optimize (e.g. the `weights` and `bias` values we randomly set before).\n",
        "* `lr` is the **learning rate** you'd like the optimizer to update the parameters at, higher means the optimizer will try larger updates (these can sometimes be too large and the optimizer will fail to work), lower means the optimizer will try smaller updates (these can sometimes be too small and the optimizer will take too long to find the ideal values). The learning rate is considered a **hyperparamter** (because it's set by a machine learning engineer). Common starting values for the learning rate are `0.01`, `0.001`, `0.0001`, however, these can also be adjusted over time (this is called [learning rate scheduling](https://pytorch.org/docs/stable/optim.html#how-to-adjust-learning-rate)). \n",
        "\n",
        "Woah, that's a lot, let's see it in code.\n",
        "\n",
        "* TK: image - loss function (show graphic for loss function, MAE is distance between the dot points)"
      ],
      "metadata": {
        "id": "aD8pnhJUyZUT"
      }
    },
    {
      "cell_type": "code",
      "execution_count": 112,
      "metadata": {
        "id": "P3T7hpNPec03"
      },
      "outputs": [],
      "source": [
        "# Create the loss function\n",
        "loss_fn = nn.L1Loss() # MAE loss is same as L1Loss\n",
        "\n",
        "# Create the optimizer\n",
        "optimizer = torch.optim.SGD(params=model_0.parameters(), # parameters of target model to optimize\n",
        "                            lr=0.01) # learning rate (how much the optimizer should change parameters at each step, higher=more (less stable), lower=less (might take a long time))"
      ]
    },
    {
      "cell_type": "markdown",
      "source": [
        "### Creating a training loop in PyTorch\n",
        "\n",
        "Woohoo! Now we've got a loss function and an optimizer, it's now time to create a **training loop** (and **testing loop**).\n",
        "\n",
        "The training loop involves the model going through the training data and learning the relationships between the `features` and `labels`.\n",
        "\n",
        "The testing loop involves going through the testing data and evaluating how good the patterns are that the model learned on the training data (the model never see's the testing data during training).\n",
        "\n",
        "Each of these is called a \"loop\" because we want our model to look (loop through) at each sample in each dataset.\n",
        "\n",
        "To create these we're going to write a Python `for` loop in the theme of the [PyTorch optimization loop song](https://twitter.com/mrdbourke/status/1450977868406673410?s=20).\n",
        "\n",
        "* TK - Image: PyTorch optimization loop song\n",
        "\n",
        "There will be a fair bit of code but nothing we can't handle.\n",
        "\n",
        "Specifically for the training loop, we'll follow the following steps:\n",
        "\n",
        "| Number | Step name | What does it do? | Code example |\n",
        "| ----- | ----- | ----- | ----- |\n",
        "| 1 | Forward pass | The model goes through all of the training data once, performing its `forward()` function calculations. | `model(x_train)` |\n",
        "| 2 | Calculate the loss | The model's outputs (predictions) are compared to the ground truth and evaluated to see how wrong they are. | `loss = loss_fn(y_pred, y_train)` | \n",
        "| 3 | Zero gradients | The optimizers gradients are set to zero (they are accumulated by default) so they can be recalculated for the specific training step. | `optimizer.zero_grad()` |\n",
        "| 4 | Perform backpropagation on the loss | Computes the gradients for every parameter to be updated (each parameter with `requires_grad=True`). This is known as **backpropagation**, hence \"backwards\".  | `loss.backward()` |\n",
        "| 5 | Update the optimizer (gradient descent) | Update the parameters with `requires_grad=True` with respect to the loss gradients in order to improve them. | `optimizer.step()` |\n",
        "\n",
        "> **Note:** The above is just one example of how the steps could be ordered or described. With experience you'll find making PyTorch training loops can be quite flexible.\n",
        ">\n",
        "> And on the ordering of things, the above is a good default order but you may see slightly different orders, the only rule of thumb is to zero gradients (`optimizer.zero_grad`) *before* stepping them (`optimizer.step()`) and calculate the loss (`loss = ...`) *before* performing backpropagation on it (`loss.backward()`). Though there are exceptions to these, they are beyond the scope of the course.\n",
        "\n",
        "And a typical testing loop may contain the following steps:\n",
        "\n",
        "| Number | Step name | What does it do? | Code example |\n",
        "| ----- | ----- | ----- | ----- |\n",
        "| 1 | Forward pass | The model goes through all of the training data once, performing its `forward()` function calculations. | `model(x_test)` |\n",
        "| 2 | Calculate the loss | The model's outputs (predictions) are compared to the ground truth and evaluated to see how wrong they are. | `loss = loss_fn(y_pred, y_test)` | \n",
        "| 3 | Calulate evaluation metrics (optional) | Alongisde the loss value you may want to calculate other evaluation metrics such as accuracy on the test set. | Custom functions |\n",
        "\n",
        "Notice the testing loop doesn't contain performing backpropagation (`loss.backward()`) or stepping the optimizer (`optimizer.step()`), this is because no parameters in the model are being changed during testing, they've already been calculated. For testing, we're only interested in the output of the forward pass through the model.\n",
        "\n",
        "Let's put all of the above together and train our model for 100 **epochs** (forward passes through the data) and we'll evaluate it every 10 epochs.\n"
      ],
      "metadata": {
        "id": "aFcKCsPcRfnA"
      }
    },
    {
      "cell_type": "code",
      "execution_count": 116,
      "metadata": {
        "id": "k1DfhyJ7ec03",
        "outputId": "f8ab850c-1da0-474e-f2f0-13272d2b27a3",
        "colab": {
          "base_uri": "https://localhost:8080/"
        }
      },
      "outputs": [
        {
          "output_type": "stream",
          "name": "stdout",
          "text": [
            "Epoch: 0 | MAE Train Loss: 0.024458957836031914 | MAE Test Loss: 0.05646304413676262 \n",
            "Epoch: 10 | MAE Train Loss: 0.021020207554101944 | MAE Test Loss: 0.04819049686193466 \n",
            "Epoch: 20 | MAE Train Loss: 0.01758546568453312 | MAE Test Loss: 0.04060482233762741 \n",
            "Epoch: 30 | MAE Train Loss: 0.014155393466353416 | MAE Test Loss: 0.03233227878808975 \n",
            "Epoch: 40 | MAE Train Loss: 0.010716589167714119 | MAE Test Loss: 0.024059748277068138 \n",
            "Epoch: 50 | MAE Train Loss: 0.0072835334576666355 | MAE Test Loss: 0.016474086791276932 \n",
            "Epoch: 60 | MAE Train Loss: 0.0038517764769494534 | MAE Test Loss: 0.008201557211577892 \n",
            "Epoch: 70 | MAE Train Loss: 0.008932482451200485 | MAE Test Loss: 0.005023092031478882 \n",
            "Epoch: 80 | MAE Train Loss: 0.008932482451200485 | MAE Test Loss: 0.005023092031478882 \n",
            "Epoch: 90 | MAE Train Loss: 0.008932482451200485 | MAE Test Loss: 0.005023092031478882 \n"
          ]
        }
      ],
      "source": [
        "torch.manual_seed(42)\n",
        "\n",
        "# Set the number of epochs (how many times the model will pass over the training data)\n",
        "epochs = 100\n",
        "\n",
        "# Create empty loss lists to track values\n",
        "train_loss_values = []\n",
        "test_loss_values = []\n",
        "epoch_count = []\n",
        "\n",
        "for epoch in range(epochs):\n",
        "    ### Training\n",
        "\n",
        "    # Put model in training mode (this is the default state of a model)\n",
        "    model_0.train()\n",
        "\n",
        "    # 1. Forward pass on train data using the forward() method inside \n",
        "    y_pred = model_0(X_train)\n",
        "    # print(y_pred)\n",
        "\n",
        "    # 2. Calculate the loss (how different)\n",
        "    loss = loss_fn(y_pred, y_train)\n",
        "\n",
        "    # 3. Zero grad of the optimizer\n",
        "    optimizer.zero_grad()\n",
        "\n",
        "    # 4. Loss backwards\n",
        "    loss.backward()\n",
        "\n",
        "    # 5. Progress the optimizer\n",
        "    optimizer.step()\n",
        "\n",
        "    ### Testing\n",
        "\n",
        "    # Put the model in evaluation mode\n",
        "    model_0.eval()\n",
        "\n",
        "    with torch.inference_mode():\n",
        "      # 1. Forward pass on test data\n",
        "      test_pred = model_0(X_test)\n",
        "\n",
        "    # 2. Caculate loss on test data\n",
        "    test_loss = loss_fn(test_pred, y_test.type(torch.float)) # predictions come in torch.float datatype, so comparisons need to be done with tensors of the same type\n",
        "\n",
        "    # Print out what's happening\n",
        "    if epoch % 10 == 0:\n",
        "        epoch_count.append(epoch)\n",
        "        train_loss_values.append(loss)\n",
        "        test_loss_values.append(test_loss)\n",
        "        print(f\"Epoch: {epoch} | MAE Train Loss: {loss} | MAE Test Loss: {test_loss} \")"
      ]
    },
    {
      "cell_type": "markdown",
      "source": [
        "Oh would you look at that! Looks like our loss is going down with every epoch, let's plot it to find out."
      ],
      "metadata": {
        "id": "1krgBqXBdYHc"
      }
    },
    {
      "cell_type": "code",
      "source": [
        "# Plot the loss curves\n",
        "plt.plot(epoch_count, train_loss_values, label=\"Train loss\")\n",
        "plt.plot(epoch_count, test_loss_values, label=\"Test loss\")\n",
        "plt.title(\"Training and test loss curves\")\n",
        "plt.ylabel(\"Loss\")\n",
        "plt.xlabel(\"Epochs\")\n",
        "plt.legend();"
      ],
      "metadata": {
        "colab": {
          "base_uri": "https://localhost:8080/",
          "height": 295
        },
        "id": "FPXfvPLkau72",
        "outputId": "7517559e-b9e4-48ab-cb84-c477303ee699"
      },
      "execution_count": 117,
      "outputs": [
        {
          "output_type": "display_data",
          "data": {
            "image/png": "[encoded data removed]",
            "text/plain": [
              "<Figure size 432x288 with 1 Axes>"
            ]
          },
          "metadata": {
            "needs_background": "light"
          }
        }
      ]
    },
    {
      "cell_type": "markdown",
      "metadata": {
        "id": "lmqQE8Kpec04"
      },
      "source": [
        "Nice! The **loss curves** show the loss going down over time. Remember, loss is the measure of how *wrong* your model is, so the lower the better.\n",
        "\n",
        "But why did the loss go down?\n",
        "\n",
        "Well, thanks to our loss function and optimizer, the model's internal parameters (`weights` and `bias`) were updated to better reflect the underlying patterns in the data.\n",
        "\n",
        "Let's inspect our model's [`.state_dict()`](https://pytorch.org/tutorials/recipes/recipes/what_is_state_dict.html) to see see how close our model gets to the original values we set for weights and bias.\n",
        "\n"
      ]
    },
    {
      "cell_type": "code",
      "execution_count": 118,
      "metadata": {
        "id": "Ci0W7kn5ec04",
        "outputId": "9aa8b008-a822-46b3-9152-b1cea037543a",
        "colab": {
          "base_uri": "https://localhost:8080/"
        }
      },
      "outputs": [
        {
          "output_type": "stream",
          "name": "stdout",
          "text": [
            "The model learned the following values for weights and bias:\n",
            "OrderedDict([('weights', tensor([0.6990])), ('bias', tensor([0.3093]))])\n",
            "\n",
            "And the original values for weights and bias are:\n",
            "weights: 0.7, bias: 0.3\n"
          ]
        }
      ],
      "source": [
        "# Find our model's learned parameters\n",
        "print(\"The model learned the following values for weights and bias:\")\n",
        "print(model_0.state_dict())\n",
        "print(\"\\nAnd the original values for weights and bias are:\")\n",
        "print(f\"weights: {weight}, bias: {bias}\")"
      ]
    },
    {
      "cell_type": "markdown",
      "source": [
        "Wow! How cool is that?\n",
        "\n",
        "Our model got very close to calculate the exact original values for `weight` and `bias` (and it would probably get even closer if we trained it for longer).\n",
        "\n",
        "> **Exercise:** Try changing the `epochs` value above to 200, what happens to the loss curves and the weights and bias parameter values of the model?\n",
        "\n",
        "It'd likely never guess them *perfectly* (especially when using more complicated datasets) but that's okay, often you can do very cool things with a close approximation.\n",
        "\n",
        "This is the whole idea of machine learning and deep learning, **there are some ideal values that describe our data** and rather than figuring them out by hand, **we can train a model to figure them out programmatically**."
      ],
      "metadata": {
        "id": "BZyBa9rMelBv"
      }
    },
    {
      "cell_type": "markdown",
      "metadata": {
        "id": "c-VBDFd2ec05"
      },
      "source": [
        "## TK - 4. Making predictions with a trained PyTorch model (inference)\n",
        "\n",
        "Once you've trained a model, you'll likely want to make predictions with it.\n",
        "\n",
        "We've already seen a glimpse of this in the training and testing code above, the steps to do it outside of the training/testing loop are similar.\n",
        "\n",
        "There are three things to remember when making predictions (also called performing inference) with a PyTorch model:\n",
        "\n",
        "1. Set the model in evaluation mode (`model.eval()`).\n",
        "2. Make the predictions using the inference mode context manager (`with torch.inference_mode(): ...`).\n",
        "3. All predictions should be made with objects on the same device (e.g. data and model on GPU only or data and model on CPU only).\n",
        "\n",
        "The first two items make sure all helpful calculations and settings PyTorch uses behind the scenes during training but aren't necessary for inference are turned off (this results in faster computation). And the third ensures that you won't run into cross-device errors."
      ]
    },
    {
      "cell_type": "code",
      "execution_count": 124,
      "metadata": {
        "id": "xKKxSBVuec05",
        "outputId": "98263e99-e825-4bbc-9c99-2879a9889032",
        "colab": {
          "base_uri": "https://localhost:8080/"
        }
      },
      "outputs": [
        {
          "output_type": "execute_result",
          "data": {
            "text/plain": [
              "tensor([[0.8685],\n",
              "        [0.8825],\n",
              "        [0.8965],\n",
              "        [0.9105],\n",
              "        [0.9245],\n",
              "        [0.9384],\n",
              "        [0.9524],\n",
              "        [0.9664],\n",
              "        [0.9804],\n",
              "        [0.9944]])"
            ]
          },
          "metadata": {},
          "execution_count": 124
        }
      ],
      "source": [
        "# 1. Set the model in evaluation mode\n",
        "model_0.eval()\n",
        "\n",
        "# 2. Setup the inference mode context manager\n",
        "with torch.inference_mode():\n",
        "  # 3. Make sure the calculations are done with the model and data on the same device\n",
        "  # in our case, we haven't setup device-agnostic code yet so our data and model are\n",
        "  # on the CPU by default.\n",
        "  # model_0.to(device)\n",
        "  # X_test = X_test.to(device)\n",
        "  y_preds = model_0(X_test)\n",
        "y_preds"
      ]
    },
    {
      "cell_type": "markdown",
      "source": [
        "Nice! We've made some predictions with our trained model, now how do they look?"
      ],
      "metadata": {
        "id": "Cn21JvzmjbBO"
      }
    },
    {
      "cell_type": "code",
      "execution_count": 125,
      "metadata": {
        "id": "b_kBqpCfec05",
        "outputId": "a470e2f3-3e0f-4231-c41f-2782bf78a83c",
        "colab": {
          "base_uri": "https://localhost:8080/",
          "height": 428
        }
      },
      "outputs": [
        {
          "output_type": "display_data",
          "data": {
            "image/png": "[encoded data removed]",
            "text/plain": [
              "<Figure size 720x504 with 1 Axes>"
            ]
          },
          "metadata": {
            "needs_background": "light"
          }
        }
      ],
      "source": [
        "plot_predictions(predictions=y_preds)"
      ]
    },
    {
      "cell_type": "markdown",
      "source": [
        "Woohoo! Those red dots are looking far closer than they were before!\n",
        "\n",
        "Let's get onto saving an reloading a model in PyTorch."
      ],
      "metadata": {
        "id": "fEHGrjLgji6E"
      }
    },
    {
      "cell_type": "markdown",
      "metadata": {
        "id": "8NRng9aEec05"
      },
      "source": [
        "## TK 5. Saving and loading a PyTorch model\n",
        "\n",
        "If you've trained a PyTorch model, chances are you'll want to save it and export it somewhere.\n",
        "\n",
        "As in, you might train it on Google Colab or your local machine with a GPU but you'd like to now export it to some sort of application where others can use it. \n",
        "\n",
        "Or maybe you'd like to save your progress on a model and come back and load it back later.\n",
        "\n",
        "For saving and loading models in PyTorch, there are three main methods you should be aware of (all of below have been taken from the [PyTorch saving and loading models guide](https://pytorch.org/tutorials/beginner/saving_loading_models.html#saving-loading-model-for-inference)):\n",
        "\n",
        "| PyTorch method | What does it do? | \n",
        "| ----- | ----- |\n",
        "| [`torch.save`](https://pytorch.org/docs/stable/torch.html?highlight=save#torch.save) | Saves a serialzed object to disk using Python's [`pickle`](https://docs.python.org/3/library/pickle.html) utility. Models, tensors and various other Python objects like dictionaries can be saved using `torch.save`.  | \n",
        "| [`torch.load`](https://pytorch.org/docs/stable/torch.html?highlight=torch%20load#torch.load) | Uses `pickle`'s unpickling features to deserialize and load pickled Python object files (like models, tensors or dictionaries) into memory. You can also set which device to load the object to (CPU, GPU etc). |\n",
        "| [`torch.nn.Module.load_state_dict`](https://pytorch.org/docs/stable/generated/torch.nn.Module.html?highlight=load_state_dict#torch.nn.Module.load_state_dict)| Loads a model's parameter dictionary (`model.state_dict()`) using a saved `state_dict()` object. | \n",
        "\n",
        "> **Note:** As stated in [Python's `pickle` documentation](https://docs.python.org/3/library/pickle.html), the `pickle` module **is not secure**. That means you should only ever unpickle (load) data you trust. That goes for loading PyTorch models as well. Only ever use saved PyTorch models from sources you trust.\n",
        "\n",
        "\n",
        "* TK - `path_to_my_model.pth`, it's common to use `.pt` or `.pth` as a file extension when saving PyTorch models.\n"
      ]
    },
    {
      "cell_type": "markdown",
      "metadata": {
        "id": "SdAGcH2aec05"
      },
      "source": [
        "### Saving a PyTorch model's `state_dict()`\n",
        "\n",
        "The [recommended way](https://pytorch.org/tutorials/beginner/saving_loading_models.html#saving-loading-model-for-inference) for saving and loading a model for inference (making preditions) is by saving and loading a model's `state_dict()`.\n",
        "\n",
        "Let's see how we can do that in a few steps:\n",
        "\n",
        "1. We'll create a directory for saving models to called `models` using Python's `pathlib` module.\n",
        "2. We'll create a file path to save the model to.\n",
        "3. We'll call `torch.save(obj, f)` where `obj` is the target model's `state_dict()` and `f` is the filename of where to save the model.\n",
        "\n",
        "> **Note:** It's common convention for PyTorch saved models or objects to end with `.pt` or `.pth`, like `saved_model_01.pth`.\n"
      ]
    },
    {
      "cell_type": "code",
      "source": [
        "from pathlib import Path\n",
        "\n",
        "# 1. Create models directory \n",
        "MODEL_PATH = Path(\"models\")\n",
        "MODEL_PATH.mkdir(parents=True, exist_ok=True)\n",
        "\n",
        "# 2. Create model save path \n",
        "MODEL_NAME = \"01_pytorch_workflow_model_0.pth\"\n",
        "MODEL_SAVE_PATH = MODEL_PATH / MODEL_NAME\n",
        "\n",
        "# 3. Save the model state dict \n",
        "print(f\"Saving model to: {MODEL_SAVE_PATH}\")\n",
        "torch.save(obj=model_0.state_dict(), # only saving the state_dict() only saves the models learned parameters\n",
        "           f=MODEL_SAVE_PATH) "
      ],
      "metadata": {
        "colab": {
          "base_uri": "https://localhost:8080/"
        },
        "id": "qsQhY2S2jv90",
        "outputId": "75c1e5f7-2b19-4d41-d741-ee5012a42c2d"
      },
      "execution_count": 137,
      "outputs": [
        {
          "output_type": "stream",
          "name": "stdout",
          "text": [
            "Saving model to: models/01_pytorch_workflow_model_0.pth\n"
          ]
        }
      ]
    },
    {
      "cell_type": "code",
      "execution_count": 138,
      "metadata": {
        "id": "mpQc45zwec06",
        "outputId": "7463ed04-cba6-481a-ed20-596cf7c4cfac",
        "colab": {
          "base_uri": "https://localhost:8080/"
        }
      },
      "outputs": [
        {
          "output_type": "stream",
          "name": "stdout",
          "text": [
            "-rw-r--r-- 1 root root 1063 Jan 26 02:27 models/01_pytorch_workflow_model_0.pth\n"
          ]
        }
      ],
      "source": [
        "# Check the saved file path\n",
        "!ls -l models/01_pytorch_workflow_model_0.pth"
      ]
    },
    {
      "cell_type": "markdown",
      "metadata": {
        "id": "jFQpRoH5ec06"
      },
      "source": [
        "### Loading a saved PyTorch model's `state_dict()`\n",
        "\n",
        "Since we've now got a saved model `state_dict()` at `models/01_pytorch_workflow_model_0.pth` we can now load it in using `torch.nn.Module.load_state_dict(torch.load(f))` where `f` is the filepath of our saved model `state_dict()`.\n",
        "\n",
        "Why call `torch.load()` inside `torch.nn.Module.load_state_dict()`? \n",
        "\n",
        "Because we only saved the model's `state_dict()` which is a dictionary of learned parameters and not the *entire* model, we first have to load the `state_dict()` with `torch.load()` and then pass that `state_dict()` to a new instance of our model (which is a subclass of `nn.Module`).\n",
        "\n",
        "Why not save the entire model?\n",
        "\n",
        "[Saving the entire model](https://pytorch.org/tutorials/beginner/saving_loading_models.html#save-load-entire-model) rather than just the `state_dict()` is more intuitive, however, to quote the PyTorch documentation (italics mine):\n",
        "\n",
        "> The disadvantage of this approach *(saving the whole model)* is that the serialized data is bound to the specific classes and the exact directory structure used when the model is saved...\n",
        ">\n",
        "> Because of this, your code can break in various ways when used in other projects or after refactors.\n",
        "\n",
        "So instead, we're using the flexible method of saving and loading just the `state_dict()`, which again is basically a dictionary of model parameters.\n",
        "\n",
        "Let's test it out by created another instance of `LinearRegressionModel()`, which is a subclass of `torch.nn.Module` and will hence have the in-built method `load_state_dit()`."
      ]
    },
    {
      "cell_type": "code",
      "execution_count": 139,
      "metadata": {
        "id": "1xnh3cFDec06",
        "outputId": "4efbdbb8-18c6-48c7-b14a-9f4f5a2afa3e",
        "colab": {
          "base_uri": "https://localhost:8080/"
        }
      },
      "outputs": [
        {
          "output_type": "execute_result",
          "data": {
            "text/plain": [
              "<All keys matched successfully>"
            ]
          },
          "metadata": {},
          "execution_count": 139
        }
      ],
      "source": [
        "# Instantiate a new instance of our model (this will be instantiated with random weights)\n",
        "loaded_model_0 = LinearRegressionModel()\n",
        "\n",
        "# Load the state_dict of our saved model (this will update the new instance of our model with trained weights)\n",
        "loaded_model_0.load_state_dict(torch.load(f=MODEL_SAVE_PATH))"
      ]
    },
    {
      "cell_type": "markdown",
      "source": [
        "Excellent! It looks like things matched up.\n",
        "\n",
        "Now to test our loaded model, let's perform inference with it (make predictions) on the test data.\n",
        "\n",
        "Remember the rules for performing inference with PyTorch models?\n",
        "\n",
        "If not, here's a refresher:\n",
        "\n",
        "<details>\n",
        "    <summary>PyTorch inference rules</summary>\n",
        "    <ol>\n",
        "      <li> Set the model in evaluation mode (<code>model.eval()</code>). </li>\n",
        "      <li> Make the predictions using the inference mode context manager (<code>with torch.inference_mode(): ...</code>). </li>\n",
        "      <li> All predictions should be made with objects on the same device (e.g. data and model on GPU only or data and model on CPU only).</li>\n",
        "    </ol> \n",
        "</details>\n",
        "\n"
      ],
      "metadata": {
        "id": "vK8PRtY7Qgpz"
      }
    },
    {
      "cell_type": "code",
      "execution_count": 140,
      "metadata": {
        "id": "Ps-AuJqkec06"
      },
      "outputs": [],
      "source": [
        "# 1. Put the loaded model into evaluation mode\n",
        "loaded_model_0.eval()\n",
        "\n",
        "# 2. Use the inference mode context manager to make predictions\n",
        "with torch.inference_mode():\n",
        "    loaded_model_preds = loaded_model_0(X_test) # perform a forward pass on the test data with the loaded model"
      ]
    },
    {
      "cell_type": "markdown",
      "source": [
        "Now we've made some predictions with the loaded model, let's see if they're the same as the previous predictions."
      ],
      "metadata": {
        "id": "e81XpN8WSSqn"
      }
    },
    {
      "cell_type": "code",
      "execution_count": 141,
      "metadata": {
        "id": "il9gqj6Nec06",
        "outputId": "a4c6053a-eee8-47f0-d312-31fe0814b506",
        "colab": {
          "base_uri": "https://localhost:8080/"
        }
      },
      "outputs": [
        {
          "output_type": "execute_result",
          "data": {
            "text/plain": [
              "tensor([[True],\n",
              "        [True],\n",
              "        [True],\n",
              "        [True],\n",
              "        [True],\n",
              "        [True],\n",
              "        [True],\n",
              "        [True],\n",
              "        [True],\n",
              "        [True]])"
            ]
          },
          "metadata": {},
          "execution_count": 141
        }
      ],
      "source": [
        "# Compare previous model predictions with loaded model predictions (these should be the same)\n",
        "y_preds == loaded_model_preds"
      ]
    },
    {
      "cell_type": "markdown",
      "source": [
        "Nice! \n",
        "\n",
        "It looks like the loaded model predictions are the same as the previous model predictions (predictions made prior to saving). This indicates our model is saving and loading as expected.\n",
        "\n",
        "> **Note:** There are more methods to save and load PyTorch models but I'll leave these for extra-curriculum and further reading. See the [PyTorch guide for saving and loading models](https://pytorch.org/tutorials/beginner/saving_loading_models.html#saving-and-loading-models) for more. "
      ],
      "metadata": {
        "id": "9Y4ZcxxfNcVu"
      }
    },
    {
      "cell_type": "markdown",
      "metadata": {
        "id": "FeAITvLXec06"
      },
      "source": [
        "## TK -  6. Putting it all together \n",
        "\n",
        "UPTOHERE: we've covered a fair bit of ground so far... but once you've had some practice, you'll be performing the above steps like the back of your hand.\n",
        "\n",
        "* TK - speaking of practice... let's put everything we've done so far together, except this time we'll make our code device agnostic (so if there's a GPU available, it'll use it and if not, it will default to the CPU)\n",
        "* TK - the entire script should be able to run from below this point (e.g. import all the things necessary...)\n",
        "\n",
        "TODO:\n",
        "* replicate the above but running on GPU (create data etc)\n",
        "* device agnostic code (put model on GPU + data on GPU)\n",
        "    * won't see much speed up for smaller models but larger models yes"
      ]
    },
    {
      "cell_type": "code",
      "execution_count": null,
      "metadata": {
        "id": "sx2Zpb5sec06",
        "outputId": "f0e30c14-7f27-4fd1-b7ac-a4ec9d80de9a"
      },
      "outputs": [
        {
          "data": {
            "text/plain": [
              "'cuda'"
            ]
          },
          "execution_count": 48,
          "metadata": {},
          "output_type": "execute_result"
        }
      ],
      "source": [
        "# Setup device agnostic code\n",
        "device = \"cuda\" if torch.cuda.is_available() else \"cpu\"\n",
        "device"
      ]
    },
    {
      "cell_type": "code",
      "execution_count": null,
      "metadata": {
        "id": "vBDxSz1-ec07",
        "outputId": "3386dc8e-27ee-47bd-d8d0-b4334cfb75c5"
      },
      "outputs": [
        {
          "data": {
            "text/plain": [
              "device(type='cpu')"
            ]
          },
          "execution_count": 49,
          "metadata": {},
          "output_type": "execute_result"
        }
      ],
      "source": [
        "# Check which device model is on\n",
        "next(model_0.parameters()).device"
      ]
    },
    {
      "cell_type": "markdown",
      "metadata": {
        "id": "DmilLp3Vec07"
      },
      "source": [
        "### TK - Data"
      ]
    },
    {
      "cell_type": "code",
      "execution_count": null,
      "metadata": {
        "id": "fJqgDWUfec07",
        "outputId": "457013dd-c5b1-47ab-cb44-fc7319f05e5e"
      },
      "outputs": [
        {
          "data": {
            "text/plain": [
              "(tensor([[0.0000],\n",
              "         [0.0200],\n",
              "         [0.0400],\n",
              "         [0.0600],\n",
              "         [0.0800],\n",
              "         [0.1000],\n",
              "         [0.1200],\n",
              "         [0.1400],\n",
              "         [0.1600],\n",
              "         [0.1800]]),\n",
              " tensor([[0.3000],\n",
              "         [0.3140],\n",
              "         [0.3280],\n",
              "         [0.3420],\n",
              "         [0.3560],\n",
              "         [0.3700],\n",
              "         [0.3840],\n",
              "         [0.3980],\n",
              "         [0.4120],\n",
              "         [0.4260]]))"
            ]
          },
          "execution_count": 64,
          "metadata": {},
          "output_type": "execute_result"
        }
      ],
      "source": [
        "weight = 0.7\n",
        "bias = 0.3\n",
        "start = 0\n",
        "end = 1\n",
        "step = 0.02\n",
        "\n",
        "X = torch.arange(start, end, step).unsqueeze(dim=1) # without unsqueeze, errors will happen later on (shapes within linear layers)\n",
        "y = weight * X + bias \n",
        "X[:10], y[:10]"
      ]
    },
    {
      "cell_type": "code",
      "execution_count": null,
      "metadata": {
        "id": "lQoo65evec07",
        "outputId": "4ab4bfb1-a335-4ac8-d3e8-4b5bf0f1b947"
      },
      "outputs": [
        {
          "data": {
            "text/plain": [
              "(40, 40, 10, 10)"
            ]
          },
          "execution_count": 65,
          "metadata": {},
          "output_type": "execute_result"
        }
      ],
      "source": [
        "# Split data\n",
        "train_split = int(0.8 * len(X))\n",
        "X_train, y_train = X[:train_split], y[:train_split]\n",
        "X_test, y_test = X[train_split:], y[train_split:]\n",
        "\n",
        "len(X_train), len(y_train), len(X_test), len(y_test)"
      ]
    },
    {
      "cell_type": "code",
      "execution_count": null,
      "metadata": {
        "id": "gxhc0zCdec07",
        "outputId": "2878b756-7782-408a-f355-d6f2d62f9479"
      },
      "outputs": [
        {
          "data": {
            "image/png": "[encoded data removed]",
            "text/plain": [
              "<Figure size 720x504 with 1 Axes>"
            ]
          },
          "metadata": {
            "needs_background": "light"
          },
          "output_type": "display_data"
        }
      ],
      "source": [
        "plot_predictions(X_train, y_train, X_test, y_test)"
      ]
    },
    {
      "cell_type": "markdown",
      "metadata": {
        "id": "X0ycBrxIec07"
      },
      "source": [
        "### TK - Building a model\n",
        "\n",
        "* This time use `nn.Linear()`"
      ]
    },
    {
      "cell_type": "code",
      "execution_count": null,
      "metadata": {
        "id": "6iOwqtFqec08",
        "outputId": "806c416f-f74d-48bf-9ddf-e0bccfedbeee"
      },
      "outputs": [
        {
          "data": {
            "text/plain": [
              "(LinearRegressionModelV2(\n",
              "   (linear_layer): Linear(in_features=1, out_features=1, bias=True)\n",
              " ),\n",
              " OrderedDict([('linear_layer.weight', tensor([[0.7645]])),\n",
              "              ('linear_layer.bias', tensor([0.8300]))]))"
            ]
          },
          "execution_count": 67,
          "metadata": {},
          "output_type": "execute_result"
        }
      ],
      "source": [
        "class LinearRegressionModelV2(nn.Module):\n",
        "    def __init__(self):\n",
        "        super().__init__()\n",
        "        self.linear_layer = nn.Linear(in_features=1, \n",
        "                                      out_features=1)\n",
        "    \n",
        "    def forward(self, x):\n",
        "        return self.linear_layer(x)\n",
        "\n",
        "torch.manual_seed(42)\n",
        "model_1 = LinearRegressionModelV2()\n",
        "model_1, model_1.state_dict()"
      ]
    },
    {
      "cell_type": "markdown",
      "metadata": {
        "id": "jwTeP_vkec08"
      },
      "source": [
        "### TK - Training"
      ]
    },
    {
      "cell_type": "code",
      "execution_count": null,
      "metadata": {
        "id": "HhCvYNpAec08",
        "outputId": "dc5fac09-283f-420a-e078-8f5199a3e0dc"
      },
      "outputs": [
        {
          "data": {
            "text/plain": [
              "device(type='cpu')"
            ]
          },
          "execution_count": 68,
          "metadata": {},
          "output_type": "execute_result"
        }
      ],
      "source": [
        "# Check model device\n",
        "next(model_1.parameters()).device"
      ]
    },
    {
      "cell_type": "code",
      "execution_count": null,
      "metadata": {
        "id": "JfTYec5Rec08",
        "outputId": "56140502-0d8f-4f87-9666-cc16cc761df7"
      },
      "outputs": [
        {
          "data": {
            "text/plain": [
              "device(type='cuda', index=0)"
            ]
          },
          "execution_count": 69,
          "metadata": {},
          "output_type": "execute_result"
        }
      ],
      "source": [
        "device = \"cuda\" if torch.cuda.is_available() else \"cpu\"\n",
        "model_1.to(device)\n",
        "next(model_1.parameters()).device"
      ]
    },
    {
      "cell_type": "markdown",
      "metadata": {
        "id": "vPFOV3wUec09"
      },
      "source": [
        "If model is on GPU, data has to be on GPU... "
      ]
    },
    {
      "cell_type": "code",
      "execution_count": null,
      "metadata": {
        "id": "ZRgqFKrNec09"
      },
      "outputs": [],
      "source": [
        "loss_fn = nn.L1Loss()\n",
        "optimizer = torch.optim.SGD(params=model_1.parameters(), lr=0.01)"
      ]
    },
    {
      "cell_type": "code",
      "execution_count": null,
      "metadata": {
        "id": "JDOHzX8lec09",
        "outputId": "4283c850-d88e-4ac3-a4b1-0ce6ed5ea651"
      },
      "outputs": [
        {
          "name": "stdout",
          "output_type": "stream",
          "text": [
            "Epoch: 0 | Train loss: 0.5551779866218567 | Test loss: 0.5739762187004089\n",
            "Epoch: 100 | Train loss: 0.006215683650225401 | Test loss: 0.014086711220443249\n",
            "Epoch: 200 | Train loss: 0.0012645035749301314 | Test loss: 0.013801801018416882\n",
            "Epoch: 300 | Train loss: 0.0012645035749301314 | Test loss: 0.013801801018416882\n",
            "Epoch: 400 | Train loss: 0.0012645035749301314 | Test loss: 0.013801801018416882\n",
            "Epoch: 500 | Train loss: 0.0012645035749301314 | Test loss: 0.013801801018416882\n",
            "Epoch: 600 | Train loss: 0.0012645035749301314 | Test loss: 0.013801801018416882\n",
            "Epoch: 700 | Train loss: 0.0012645035749301314 | Test loss: 0.013801801018416882\n",
            "Epoch: 800 | Train loss: 0.0012645035749301314 | Test loss: 0.013801801018416882\n",
            "Epoch: 900 | Train loss: 0.0012645035749301314 | Test loss: 0.013801801018416882\n"
          ]
        }
      ],
      "source": [
        "torch.manual_seed(42)\n",
        "epochs = 1000\n",
        "for epoch in range(epochs):\n",
        "    # Without this, error will happen (not all model/data on device)\n",
        "    X_train = X_train.to(device)\n",
        "    X_test = X_test.to(device)\n",
        "    y_train = y_train.to(device)\n",
        "    y_test = y_test.to(device)\n",
        "\n",
        "    # Training\n",
        "    model_1.train() # train mode is on by default after construction\n",
        "    # 1. Forward pass\n",
        "    y_pred = model_1(X_train)\n",
        "\n",
        "    # 2. Calculate loss\n",
        "    loss = loss_fn(y_pred, y_train)\n",
        "\n",
        "    # 3. Zero grad optimizer\n",
        "    optimizer.zero_grad()\n",
        "\n",
        "    # 4. Loss backward\n",
        "    loss.backward()\n",
        "\n",
        "    # 5. Step the optimizer\n",
        "    optimizer.step()\n",
        "\n",
        "    # Testing\n",
        "    model_1.eval()\n",
        "    # 1. Forward pass\n",
        "    with torch.inference_mode():\n",
        "        test_pred = model_1(X_test)\n",
        "    \n",
        "        # 2. Calculate the loss\n",
        "        test_loss = loss_fn(test_pred, y_test)\n",
        "\n",
        "    if epoch % 100 == 0:\n",
        "        print(f\"Epoch: {epoch} | Train loss: {loss} | Test loss: {test_loss}\")"
      ]
    },
    {
      "cell_type": "code",
      "execution_count": null,
      "metadata": {
        "id": "TP_tFn5rec09",
        "outputId": "ac97c58d-78d1-4a27-965f-573051fe85e6"
      },
      "outputs": [
        {
          "data": {
            "text/plain": [
              "OrderedDict([('linear_layer.weight', tensor([[0.6968]], device='cuda:0')),\n",
              "             ('linear_layer.bias', tensor([0.3025], device='cuda:0'))])"
            ]
          },
          "execution_count": 72,
          "metadata": {},
          "output_type": "execute_result"
        }
      ],
      "source": [
        "model_1.state_dict()"
      ]
    },
    {
      "cell_type": "code",
      "execution_count": null,
      "metadata": {
        "id": "x7_KtN2cec09",
        "outputId": "d77ec4f5-6f4c-4460-bb66-a1fd8df541f0"
      },
      "outputs": [
        {
          "data": {
            "text/plain": [
              "(0.7, 0.3)"
            ]
          },
          "execution_count": 73,
          "metadata": {},
          "output_type": "execute_result"
        }
      ],
      "source": [
        "weight, bias"
      ]
    },
    {
      "cell_type": "markdown",
      "metadata": {
        "id": "mBR1qvqhec09"
      },
      "source": [
        "### TK - Making predictions"
      ]
    },
    {
      "cell_type": "code",
      "execution_count": null,
      "metadata": {
        "id": "ksqG5N5Iec09",
        "outputId": "a765ef8e-b2fa-4f20-a117-26d3d0b1d3ed"
      },
      "outputs": [
        {
          "data": {
            "text/plain": [
              "tensor([[0.8600],\n",
              "        [0.8739],\n",
              "        [0.8878],\n",
              "        [0.9018],\n",
              "        [0.9157],\n",
              "        [0.9296],\n",
              "        [0.9436],\n",
              "        [0.9575],\n",
              "        [0.9714],\n",
              "        [0.9854]], device='cuda:0')"
            ]
          },
          "execution_count": 75,
          "metadata": {},
          "output_type": "execute_result"
        }
      ],
      "source": [
        "model_1.eval()\n",
        "with torch.inference_mode():\n",
        "    y_preds = model_1(X_test)\n",
        "y_preds"
      ]
    },
    {
      "cell_type": "code",
      "execution_count": null,
      "metadata": {
        "id": "Z4dmfr2bec09",
        "outputId": "addbd03e-78b2-4836-9e21-39d055640a1a"
      },
      "outputs": [
        {
          "data": {
            "image/png": "[encoded data removed]",
            "text/plain": [
              "<Figure size 720x504 with 1 Axes>"
            ]
          },
          "metadata": {
            "needs_background": "light"
          },
          "output_type": "display_data"
        }
      ],
      "source": [
        "# plot_predictions(predictions=y_preds) # -> won't work... data not on CPU\n",
        "plot_predictions(predictions=y_preds.cpu())"
      ]
    },
    {
      "cell_type": "markdown",
      "metadata": {
        "id": "DxZa-5-Tec0-"
      },
      "source": [
        "TK - you're going to get different values whether the model was computed on CPU and or GPU"
      ]
    },
    {
      "cell_type": "markdown",
      "metadata": {
        "id": "K8jCHl1gec0-"
      },
      "source": [
        "### TK - Saving and loading a model"
      ]
    },
    {
      "cell_type": "code",
      "execution_count": null,
      "metadata": {
        "id": "T3E3mC1xec0-"
      },
      "outputs": [],
      "source": [
        "# Save model\n",
        "os.makedirs(\"models\", exist_ok=True)\n",
        "save_path = \"models/01_pytorch_workflow_model_1.pth\"\n",
        "torch.save(model_1.state_dict(), save_path)"
      ]
    },
    {
      "cell_type": "code",
      "execution_count": null,
      "metadata": {
        "id": "jMnVHzf1ec0-",
        "outputId": "20b5597b-fc77-4e54-efac-42a36ee1f625"
      },
      "outputs": [
        {
          "data": {
            "text/plain": [
              "(LinearRegressionModelV2(\n",
              "   (linear_layer): Linear(in_features=1, out_features=1, bias=True)\n",
              " ),\n",
              " device(type='cuda', index=0))"
            ]
          },
          "execution_count": 80,
          "metadata": {},
          "output_type": "execute_result"
        }
      ],
      "source": [
        "# Load model (if your data is on GPU, model will have to be on GPU to make predictions)\n",
        "loaded_model_1 = LinearRegressionModelV2()\n",
        "loaded_model_1.load_state_dict(torch.load(save_path))\n",
        "loaded_model_1.to(device)\n",
        "loaded_model_1, next(loaded_model_1.parameters()).device"
      ]
    },
    {
      "cell_type": "code",
      "execution_count": null,
      "metadata": {
        "id": "fYODT7ONec0_",
        "outputId": "ea11d227-1145-41b0-d23b-26d9e056e2dc"
      },
      "outputs": [
        {
          "data": {
            "text/plain": [
              "tensor([[True],\n",
              "        [True],\n",
              "        [True],\n",
              "        [True],\n",
              "        [True],\n",
              "        [True],\n",
              "        [True],\n",
              "        [True],\n",
              "        [True],\n",
              "        [True]], device='cuda:0')"
            ]
          },
          "execution_count": 81,
          "metadata": {},
          "output_type": "execute_result"
        }
      ],
      "source": [
        "# Evaluate loaded model\n",
        "loaded_model_1.eval()\n",
        "with torch.inference_mode():\n",
        "    loaded_model_1_preds = loaded_model_1(X_test)\n",
        "y_preds == loaded_model_1_preds"
      ]
    },
    {
      "cell_type": "markdown",
      "metadata": {
        "id": "o6rf3hTWec0_"
      },
      "source": [
        "## Exercises\n",
        "\n",
        "\n",
        "\n",
        "## Extra-curriculum\n",
        "* Read \"What is nn.module, really?\" https://pytorch.org/tutorials/beginner/nn_tutorial.html\n",
        "* Read/watch up on gradient descent - https://en.wikipedia.org/wiki/Gradient_descent + https://towardsdatascience.com/gradient-descent-algorithm-a-deep-dive-cf04e8115f21\n",
        "* Spend 10-minutes reading the loading and saving documentation on PyTorch website - https://pytorch.org/tutorials/beginner/saving_loading_models.html"
      ]
    }
  ],
  "metadata": {
    "interpreter": {
      "hash": "3fbe1355223f7b2ffc113ba3ade6a2b520cadace5d5ec3e828c83ce02eb221bf"
    },
    "kernelspec": {
      "display_name": "Python 3.9.7 64-bit (conda)",
      "name": "python3"
    },
    "language_info": {
      "codemirror_mode": {
        "name": "ipython",
        "version": 3
      },
      "file_extension": ".py",
      "mimetype": "text/x-python",
      "name": "python",
      "nbconvert_exporter": "python",
      "pygments_lexer": "ipython3",
      "version": "3.9.7"
    },
    "orig_nbformat": 4,
    "colab": {
      "name": "01_pytorch_workflow.ipynb",
      "provenance": [],
      "collapsed_sections": [],
      "toc_visible": true,
      "include_colab_link": true
    }
  },
  "nbformat": 4,
  "nbformat_minor": 0
}